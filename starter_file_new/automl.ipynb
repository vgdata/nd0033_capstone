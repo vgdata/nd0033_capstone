{
 "cells": [
  {
   "cell_type": "markdown",
   "metadata": {},
   "source": [
    "## Automated ML\n",
    "\n",
    "Import dependencies. "
   ]
  },
  {
   "cell_type": "code",
   "execution_count": 1,
   "metadata": {
    "gather": {
     "logged": 1609140734398
    },
    "jupyter": {
     "outputs_hidden": false,
     "source_hidden": false
    },
    "nteract": {
     "transient": {
      "deleting": false
     }
    }
   },
   "outputs": [
    {
     "name": "stdout",
     "output_type": "stream",
     "text": [
      "Collecting package metadata (repodata.json): done\n",
      "Solving environment: failed\n",
      "\n",
      "PackagesNotFoundError: The following packages are missing from the target environment:\n",
      "  - xgboost\n",
      "\n",
      "\n",
      "\n",
      "Note: you may need to restart the kernel to use updated packages.\n",
      "Collecting xgboost==0.90\n",
      "  Downloading xgboost-0.90-py2.py3-none-manylinux1_x86_64.whl (142.8 MB)\n",
      "\u001b[K     |████████████████████████████████| 142.8 MB 25 kB/s s eta 0:00:01B 6.3 MB/s eta 0:00:16\n",
      "\u001b[?25hRequirement already satisfied: scipy in /anaconda/envs/azureml_py36/lib/python3.6/site-packages (from xgboost==0.90) (1.4.1)\n",
      "Requirement already satisfied: numpy in /anaconda/envs/azureml_py36/lib/python3.6/site-packages (from xgboost==0.90) (1.18.5)\n",
      "Installing collected packages: xgboost\n",
      "  Attempting uninstall: xgboost\n",
      "    Found existing installation: xgboost 1.3.3\n",
      "    Uninstalling xgboost-1.3.3:\n",
      "      Successfully uninstalled xgboost-1.3.3\n",
      "Successfully installed xgboost-0.90\n",
      "Note: you may need to restart the kernel to use updated packages.\n"
     ]
    }
   ],
   "source": [
    "import os\n",
    "import pandas as pd\n",
    "import numpy as np\n",
    "import json\n",
    "import requests\n",
    "import joblib\n",
    "from sklearn.metrics import confusion_matrix\n",
    "import itertools\n",
    "\n",
    "from azureml.core import Dataset, Workspace, Experiment\n",
    "from azureml.core.compute import ComputeTarget, AmlCompute\n",
    "from azureml.core.compute_target import ComputeTargetException\n",
    "from azureml.widgets import RunDetails\n",
    "from azureml.train.automl import AutoMLConfig\n",
    "\n",
    "from azureml.core.model import InferenceConfig\n",
    "from azureml.core.webservice import AciWebservice, Webservice\n",
    "from azureml.core.model import Model\n",
    "from azureml.core.environment import Environment\n",
    "\n",
    "%conda remove xgboost\n",
    "%pip install xgboost==0.90\n",
    "import xgboost\n",
    "#print(xgboost._version_)\n"
   ]
  },
  {
   "cell_type": "code",
   "execution_count": 2,
   "metadata": {},
   "outputs": [
    {
     "name": "stdout",
     "output_type": "stream",
     "text": [
      "0.90\n"
     ]
    }
   ],
   "source": [
    "print(xgboost.__version__)"
   ]
  },
  {
   "cell_type": "markdown",
   "metadata": {},
   "source": [
    "## Dataset\n",
    "\n",
    "### Overview\n",
    "\n",
    "**Dataset:** Davide Chicco, Giuseppe Jurman: \"Machine learning can predict survival of patients with heart failure from serum creatinine and ejection fraction alone\". BMC Medical Informatics and Decision Making 20, 16 (2020)\n",
    "\n",
    "Heart failure is a common event caused by CVDs and this dataset contains 12 features that can be used to predict mortality by heart failure.\n",
    "\n",
    "**12 clinical features:**\n",
    "\n",
    "- age: age of the patient (years)\n",
    "- anaemia: decrease of red blood cells or hemoglobin (boolean)\n",
    "- high blood pressure: if the patient has hypertension (boolean)\n",
    "- creatinine phosphokinase (CPK): level of the CPK enzyme in the blood (mcg/L)\n",
    "- diabetes: if the patient has diabetes (boolean)\n",
    "- ejection fraction: percentage of blood leaving the heart at each contraction (percentage)\n",
    "- platelets: platelets in the blood (kiloplatelets/mL)\n",
    "- sex: woman or man (binary)\n",
    "- serum creatinine: level of serum creatinine in the blood (mg/dL)\n",
    "- serum sodium: level of serum sodium in the blood (mEq/L)\n",
    "- smoking: if the patient smokes or not (boolean)\n",
    "- time: follow-up period (days)\n",
    "\n",
    "In this project, Azure AutoML will be used to make prediction on the death event based on patient's 12 clinical features. "
   ]
  },
  {
   "cell_type": "markdown",
   "metadata": {},
   "source": [
    "## Workspace setup"
   ]
  },
  {
   "cell_type": "code",
   "execution_count": 3,
   "metadata": {
    "gather": {
     "logged": 1609140774503
    },
    "jupyter": {
     "outputs_hidden": false,
     "source_hidden": false
    },
    "nteract": {
     "transient": {
      "deleting": false
     }
    }
   },
   "outputs": [],
   "source": [
    "ws = Workspace.from_config()\n",
    "\n",
    "experiment_name = 'automl-experiment'\n",
    "\n",
    "experiment = Experiment(ws, experiment_name)"
   ]
  },
  {
   "cell_type": "code",
   "execution_count": 4,
   "metadata": {
    "gather": {
     "logged": 1609063666153
    },
    "scrolled": true
   },
   "outputs": [],
   "source": [
    "dataset = Dataset.get_by_name(ws, 'heart-disease-kaggle')"
   ]
  },
  {
   "cell_type": "code",
   "execution_count": 5,
   "metadata": {
    "gather": {
     "logged": 1609063680104
    },
    "nteract": {
     "transient": {
      "deleting": false
     }
    }
   },
   "outputs": [
    {
     "data": {
      "text/html": [
       "<div>\n",
       "<style scoped>\n",
       "    .dataframe tbody tr th:only-of-type {\n",
       "        vertical-align: middle;\n",
       "    }\n",
       "\n",
       "    .dataframe tbody tr th {\n",
       "        vertical-align: top;\n",
       "    }\n",
       "\n",
       "    .dataframe thead th {\n",
       "        text-align: right;\n",
       "    }\n",
       "</style>\n",
       "<table border=\"1\" class=\"dataframe\">\n",
       "  <thead>\n",
       "    <tr style=\"text-align: right;\">\n",
       "      <th></th>\n",
       "      <th>age</th>\n",
       "      <th>anaemia</th>\n",
       "      <th>creatinine_phosphokinase</th>\n",
       "      <th>diabetes</th>\n",
       "      <th>ejection_fraction</th>\n",
       "      <th>high_blood_pressure</th>\n",
       "      <th>platelets</th>\n",
       "      <th>serum_creatinine</th>\n",
       "      <th>serum_sodium</th>\n",
       "      <th>sex</th>\n",
       "      <th>smoking</th>\n",
       "      <th>time</th>\n",
       "      <th>DEATH_EVENT</th>\n",
       "    </tr>\n",
       "  </thead>\n",
       "  <tbody>\n",
       "    <tr>\n",
       "      <th>0</th>\n",
       "      <td>75.0</td>\n",
       "      <td>0</td>\n",
       "      <td>582</td>\n",
       "      <td>0</td>\n",
       "      <td>20</td>\n",
       "      <td>1</td>\n",
       "      <td>265000.00</td>\n",
       "      <td>1.9</td>\n",
       "      <td>130</td>\n",
       "      <td>1</td>\n",
       "      <td>0</td>\n",
       "      <td>4</td>\n",
       "      <td>1</td>\n",
       "    </tr>\n",
       "    <tr>\n",
       "      <th>1</th>\n",
       "      <td>55.0</td>\n",
       "      <td>0</td>\n",
       "      <td>7861</td>\n",
       "      <td>0</td>\n",
       "      <td>38</td>\n",
       "      <td>0</td>\n",
       "      <td>263358.03</td>\n",
       "      <td>1.1</td>\n",
       "      <td>136</td>\n",
       "      <td>1</td>\n",
       "      <td>0</td>\n",
       "      <td>6</td>\n",
       "      <td>1</td>\n",
       "    </tr>\n",
       "    <tr>\n",
       "      <th>2</th>\n",
       "      <td>65.0</td>\n",
       "      <td>0</td>\n",
       "      <td>146</td>\n",
       "      <td>0</td>\n",
       "      <td>20</td>\n",
       "      <td>0</td>\n",
       "      <td>162000.00</td>\n",
       "      <td>1.3</td>\n",
       "      <td>129</td>\n",
       "      <td>1</td>\n",
       "      <td>1</td>\n",
       "      <td>7</td>\n",
       "      <td>1</td>\n",
       "    </tr>\n",
       "    <tr>\n",
       "      <th>3</th>\n",
       "      <td>50.0</td>\n",
       "      <td>1</td>\n",
       "      <td>111</td>\n",
       "      <td>0</td>\n",
       "      <td>20</td>\n",
       "      <td>0</td>\n",
       "      <td>210000.00</td>\n",
       "      <td>1.9</td>\n",
       "      <td>137</td>\n",
       "      <td>1</td>\n",
       "      <td>0</td>\n",
       "      <td>7</td>\n",
       "      <td>1</td>\n",
       "    </tr>\n",
       "    <tr>\n",
       "      <th>4</th>\n",
       "      <td>65.0</td>\n",
       "      <td>1</td>\n",
       "      <td>160</td>\n",
       "      <td>1</td>\n",
       "      <td>20</td>\n",
       "      <td>0</td>\n",
       "      <td>327000.00</td>\n",
       "      <td>2.7</td>\n",
       "      <td>116</td>\n",
       "      <td>0</td>\n",
       "      <td>0</td>\n",
       "      <td>8</td>\n",
       "      <td>1</td>\n",
       "    </tr>\n",
       "  </tbody>\n",
       "</table>\n",
       "</div>"
      ],
      "text/plain": [
       "    age  anaemia  creatinine_phosphokinase  diabetes  ejection_fraction  \\\n",
       "0  75.0        0                       582         0                 20   \n",
       "1  55.0        0                      7861         0                 38   \n",
       "2  65.0        0                       146         0                 20   \n",
       "3  50.0        1                       111         0                 20   \n",
       "4  65.0        1                       160         1                 20   \n",
       "\n",
       "   high_blood_pressure  platelets  serum_creatinine  serum_sodium  sex  \\\n",
       "0                    1  265000.00               1.9           130    1   \n",
       "1                    0  263358.03               1.1           136    1   \n",
       "2                    0  162000.00               1.3           129    1   \n",
       "3                    0  210000.00               1.9           137    1   \n",
       "4                    0  327000.00               2.7           116    0   \n",
       "\n",
       "   smoking  time  DEATH_EVENT  \n",
       "0        0     4            1  \n",
       "1        0     6            1  \n",
       "2        1     7            1  \n",
       "3        0     7            1  \n",
       "4        0     8            1  "
      ]
     },
     "execution_count": 5,
     "metadata": {},
     "output_type": "execute_result"
    }
   ],
   "source": [
    "dataset.take(5).to_pandas_dataframe()"
   ]
  },
  {
   "cell_type": "code",
   "execution_count": 7,
   "metadata": {
    "gather": {
     "logged": 1609063684361
    }
   },
   "outputs": [],
   "source": [
    "data_train, data_test = dataset.random_split(0.9)"
   ]
  },
  {
   "cell_type": "markdown",
   "metadata": {},
   "source": [
    "## Config Compute Cluster"
   ]
  },
  {
   "cell_type": "code",
   "execution_count": 8,
   "metadata": {
    "gather": {
     "logged": 1609065223998
    }
   },
   "outputs": [
    {
     "name": "stdout",
     "output_type": "stream",
     "text": [
      "Creating......\n",
      "SucceededProvisioning operation finished, operation \"Succeeded\"\n",
      "Succeeded\n",
      "AmlCompute wait for completion finished\n",
      "\n",
      "Minimum number of nodes requested have been provisioned\n"
     ]
    }
   ],
   "source": [
    "cpu_cluster_name = \"cpu-cluster\"\n",
    "\n",
    "# Verify that cluster does not exist already\n",
    "try:\n",
    "    compute_target = ComputeTarget(workspace=ws, name=cpu_cluster_name)\n",
    "    print('Found existing cluster, use it.')\n",
    "except ComputeTargetException:\n",
    "    compute_config = AmlCompute.provisioning_configuration(vm_size='STANDARD_D12_V2',\n",
    "                                                           max_nodes=5)\n",
    "    compute_target = ComputeTarget.create(ws, cpu_cluster_name, compute_config)\n",
    "\n",
    "compute_target.wait_for_completion(show_output=True)"
   ]
  },
  {
   "cell_type": "markdown",
   "metadata": {},
   "source": [
    "## AutoML Configuration"
   ]
  },
  {
   "cell_type": "code",
   "execution_count": 9,
   "metadata": {
    "gather": {
     "logged": 1609065227571
    },
    "jupyter": {
     "outputs_hidden": false,
     "source_hidden": false
    },
    "nteract": {
     "transient": {
      "deleting": false
     }
    }
   },
   "outputs": [],
   "source": [
    "automl_settings = {\n",
    "    \"experiment_timeout_minutes\": 30,\n",
    "    \"max_concurrent_iterations\": 4,\n",
    "    \"primary_metric\" : 'accuracy',\n",
    "    \"n_cross_validations\": 5\n",
    "}\n",
    "automl_config = AutoMLConfig(compute_target=compute_target,\n",
    "                             task = \"classification\",\n",
    "                             training_data=data_train,\n",
    "                             label_column_name=\"DEATH_EVENT\", \n",
    "                             enable_early_stopping= True,\n",
    "                             featurization= 'auto',\n",
    "                             **automl_settings\n",
    "                            )"
   ]
  },
  {
   "cell_type": "markdown",
   "metadata": {},
   "source": [
    "AutoML typically performs cross validation, data balance check, cardinality check in prior to machine learning process with a variety of algorithms. "
   ]
  },
  {
   "cell_type": "code",
   "execution_count": 10,
   "metadata": {
    "gather": {
     "logged": 1609057253934
    }
   },
   "outputs": [
    {
     "name": "stdout",
     "output_type": "stream",
     "text": [
      "Running on remote.\n",
      "No run_configuration provided, running on cpu-cluster with default configuration\n",
      "Running on remote compute: cpu-cluster\n",
      "Parent Run ID: AutoML_4d9955d1-6df0-4f9c-adef-883d4a0758ec\n",
      "\n",
      "Current status: FeaturesGeneration. Generating features for the dataset.\n",
      "Current status: DatasetCrossValidationSplit. Generating individually featurized CV splits.\n",
      "Current status: ModelSelection. Beginning model selection.\n",
      "\n",
      "****************************************************************************************************\n",
      "DATA GUARDRAILS: \n",
      "\n",
      "TYPE:         Class balancing detection\n",
      "STATUS:       PASSED\n",
      "DESCRIPTION:  Your inputs were analyzed, and all classes are balanced in your training data.\n",
      "              Learn more about imbalanced data: https://aka.ms/AutomatedMLImbalancedData\n",
      "\n",
      "****************************************************************************************************\n",
      "\n",
      "TYPE:         Missing feature values imputation\n",
      "STATUS:       PASSED\n",
      "DESCRIPTION:  No feature missing values were detected in the training data.\n",
      "              Learn more about missing value imputation: https://aka.ms/AutomatedMLFeaturization\n",
      "\n",
      "****************************************************************************************************\n",
      "\n",
      "TYPE:         High cardinality feature detection\n",
      "STATUS:       PASSED\n",
      "DESCRIPTION:  Your inputs were analyzed, and no high cardinality features were detected.\n",
      "              Learn more about high cardinality feature handling: https://aka.ms/AutomatedMLFeaturization\n",
      "\n",
      "****************************************************************************************************\n",
      "\n",
      "****************************************************************************************************\n",
      "ITERATION: The iteration being evaluated.\n",
      "PIPELINE: A summary description of the pipeline being evaluated.\n",
      "DURATION: Time taken for the current iteration.\n",
      "METRIC: The result of computing score on the fitted pipeline.\n",
      "BEST: The best observed score thus far.\n",
      "****************************************************************************************************\n",
      "\n",
      " ITERATION   PIPELINE                                       DURATION      METRIC      BEST\n",
      "         1   MaxAbsScaler XGBoostClassifier                 0:00:52       0.8181    0.8181\n",
      "         2   MinMaxScaler RandomForest                      0:02:42       0.8372    0.8372\n",
      "         0   MaxAbsScaler LightGBM                          0:02:40       0.8143    0.8372\n",
      "         3   MinMaxScaler RandomForest                      0:02:47       0.8105    0.8372\n",
      "         5   MinMaxScaler LightGBM                          0:00:43       0.8334    0.8372\n",
      "         4   MinMaxScaler RandomForest                      0:00:48       0.8181    0.8372\n",
      "         6   MinMaxScaler SVM                               0:00:47       0.7272    0.8372\n",
      "         7   MinMaxScaler SVM                               0:00:50       0.7273    0.8372\n",
      "         8   SparseNormalizer XGBoostClassifier             0:00:49       0.8107    0.8372\n",
      "         9   SparseNormalizer XGBoostClassifier             0:00:49       0.7918    0.8372\n",
      "        10   MaxAbsScaler GradientBoosting                  0:00:52       0.8524    0.8524\n",
      "        11   SparseNormalizer XGBoostClassifier             0:00:45       0.8067    0.8524\n",
      "        12   MaxAbsScaler ExtremeRandomTrees                0:00:46       0.8335    0.8524\n",
      "        13   MaxAbsScaler LightGBM                          0:00:48       0.8523    0.8524\n",
      "        15   MaxAbsScaler LightGBM                          0:00:49       0.8448    0.8524\n",
      "        16   StandardScalerWrapper RandomForest             0:00:48       0.8372    0.8524\n",
      "        17   SparseNormalizer XGBoostClassifier             0:00:47       0.8220    0.8524\n",
      "        18   StandardScalerWrapper XGBoostClassifier        0:00:50       0.8033    0.8524\n",
      "        19   StandardScalerWrapper LightGBM                 0:00:49       0.8484    0.8524\n",
      "        20   StandardScalerWrapper LightGBM                 0:01:00       0.8561    0.8561\n",
      "        14   MaxAbsScaler LightGBM                          0:04:50          nan    0.8561\n",
      "        22   RobustScaler KNN                               0:00:55       0.6325    0.8561\n",
      "        23   StandardScalerWrapper RandomForest             0:03:30       0.8522    0.8561\n",
      "        24   MinMaxScaler LightGBM                          0:00:59       0.7880    0.8561\n",
      "        25   RobustScaler LightGBM                          0:03:21       0.8295    0.8561\n",
      "        26   SparseNormalizer XGBoostClassifier             0:04:44          nan    0.8561\n",
      "        28   StandardScalerWrapper RandomForest             0:05:01       0.8256    0.8561\n",
      "        29   MaxAbsScaler RandomForest                      0:06:48       0.8181    0.8561\n",
      "        21   RobustScaler RandomForest                      0:15:59       0.8332    0.8561\n",
      "        27   StandardScalerWrapper LightGBM                 0:10:49       0.8334    0.8561\n",
      "        31   StandardScalerWrapper LightGBM                 0:00:46       0.8408    0.8561\n",
      "        32   StandardScalerWrapper ExtremeRandomTrees       0:00:54       0.7427    0.8561\n",
      "        30   StandardScalerWrapper LightGBM                 0:04:33       0.8108    0.8561\n",
      "        33   MinMaxScaler RandomForest                      0:01:39       0.8523    0.8561\n",
      "        34   RobustScaler GradientBoosting                  0:00:33       0.8524    0.8561\n",
      "        35                                                  0:00:24          nan    0.8561\n",
      "        36    VotingEnsemble                                0:05:17       0.8674    0.8674\n",
      "        37    StackEnsemble                                 0:05:27       0.8598    0.8674\n"
     ]
    }
   ],
   "source": [
    "remote_run = experiment.submit(automl_config, show_output = True)"
   ]
  },
  {
   "cell_type": "markdown",
   "metadata": {},
   "source": [
    "## Run Details"
   ]
  },
  {
   "cell_type": "code",
   "execution_count": 11,
   "metadata": {
    "gather": {
     "logged": 1609064958780
    },
    "scrolled": true
   },
   "outputs": [
    {
     "data": {
      "text/html": [
       "<table style=\"width:100%\"><tr><th>Experiment</th><th>Id</th><th>Type</th><th>Status</th><th>Details Page</th><th>Docs Page</th></tr><tr><td>automl-experiment</td><td>AutoML_4d9955d1-6df0-4f9c-adef-883d4a0758ec</td><td>automl</td><td>Completed</td><td><a href=\"https://ml.azure.com/experiments/automl-experiment/runs/AutoML_4d9955d1-6df0-4f9c-adef-883d4a0758ec?wsid=/subscriptions/d7f39349-a66b-446e-aba6-0053c2cf1c11/resourcegroups/aml-quickstarts-141302/workspaces/quick-starts-ws-141302\" target=\"_blank\" rel=\"noopener\">Link to Azure Machine Learning studio</a></td><td><a href=\"https://docs.microsoft.com/en-us/python/api/overview/azure/ml/intro?view=azure-ml-py\" target=\"_blank\" rel=\"noopener\">Link to Documentation</a></td></tr></table>"
      ],
      "text/plain": [
       "Run(Experiment: automl-experiment,\n",
       "Id: AutoML_4d9955d1-6df0-4f9c-adef-883d4a0758ec,\n",
       "Type: automl,\n",
       "Status: Completed)"
      ]
     },
     "execution_count": 11,
     "metadata": {},
     "output_type": "execute_result"
    }
   ],
   "source": [
    "remote_run"
   ]
  },
  {
   "cell_type": "code",
   "execution_count": 12,
   "metadata": {
    "gather": {
     "logged": 1609057313573
    },
    "scrolled": true
   },
   "outputs": [
    {
     "data": {
      "application/vnd.jupyter.widget-view+json": {
       "model_id": "0710f60a36194a77b47b0e68c96e244c",
       "version_major": 2,
       "version_minor": 0
      },
      "text/plain": [
       "_AutoMLWidget(widget_settings={'childWidgetDisplay': 'popup', 'send_telemetry': False, 'log_level': 'INFO', 's…"
      ]
     },
     "metadata": {},
     "output_type": "display_data"
    },
    {
     "data": {
      "application/aml.mini.widget.v1": "{\"status\": \"Completed\", \"workbench_run_details_uri\": \"https://ml.azure.com/experiments/automl-experiment/runs/AutoML_4d9955d1-6df0-4f9c-adef-883d4a0758ec?wsid=/subscriptions/d7f39349-a66b-446e-aba6-0053c2cf1c11/resourcegroups/aml-quickstarts-141302/workspaces/quick-starts-ws-141302\", \"run_id\": \"AutoML_4d9955d1-6df0-4f9c-adef-883d4a0758ec\", \"run_properties\": {\"run_id\": \"AutoML_4d9955d1-6df0-4f9c-adef-883d4a0758ec\", \"created_utc\": \"2021-03-24T21:48:09.124277Z\", \"properties\": {\"num_iterations\": \"1000\", \"training_type\": \"TrainFull\", \"acquisition_function\": \"EI\", \"primary_metric\": \"accuracy\", \"train_split\": \"0\", \"acquisition_parameter\": \"0\", \"num_cross_validation\": \"5\", \"target\": \"cpu-cluster\", \"AMLSettingsJsonString\": \"{\\\"path\\\":null,\\\"name\\\":\\\"automl-experiment\\\",\\\"subscription_id\\\":\\\"d7f39349-a66b-446e-aba6-0053c2cf1c11\\\",\\\"resource_group\\\":\\\"aml-quickstarts-141302\\\",\\\"workspace_name\\\":\\\"quick-starts-ws-141302\\\",\\\"region\\\":\\\"southcentralus\\\",\\\"compute_target\\\":\\\"cpu-cluster\\\",\\\"spark_service\\\":null,\\\"azure_service\\\":\\\"remote\\\",\\\"many_models\\\":false,\\\"pipeline_fetch_max_batch_size\\\":1,\\\"enable_batch_run\\\":false,\\\"iterations\\\":1000,\\\"primary_metric\\\":\\\"accuracy\\\",\\\"task_type\\\":\\\"classification\\\",\\\"data_script\\\":null,\\\"validation_size\\\":0.0,\\\"n_cross_validations\\\":5,\\\"y_min\\\":null,\\\"y_max\\\":null,\\\"num_classes\\\":null,\\\"featurization\\\":\\\"auto\\\",\\\"_ignore_package_version_incompatibilities\\\":false,\\\"is_timeseries\\\":false,\\\"max_cores_per_iteration\\\":1,\\\"max_concurrent_iterations\\\":4,\\\"iteration_timeout_minutes\\\":null,\\\"mem_in_mb\\\":null,\\\"enforce_time_on_windows\\\":false,\\\"experiment_timeout_minutes\\\":30,\\\"experiment_exit_score\\\":null,\\\"whitelist_models\\\":null,\\\"blacklist_algos\\\":[\\\"TensorFlowLinearClassifier\\\",\\\"TensorFlowDNN\\\"],\\\"supported_models\\\":[\\\"BernoulliNaiveBayes\\\",\\\"ExtremeRandomTrees\\\",\\\"LinearSVM\\\",\\\"LogisticRegression\\\",\\\"TensorFlowDNN\\\",\\\"SGD\\\",\\\"KNN\\\",\\\"LightGBM\\\",\\\"TensorFlowLinearClassifier\\\",\\\"DecisionTree\\\",\\\"MultinomialNaiveBayes\\\",\\\"RandomForest\\\",\\\"AveragedPerceptronClassifier\\\",\\\"XGBoostClassifier\\\",\\\"SVM\\\",\\\"GradientBoosting\\\"],\\\"private_models\\\":[],\\\"auto_blacklist\\\":true,\\\"blacklist_samples_reached\\\":false,\\\"exclude_nan_labels\\\":true,\\\"verbosity\\\":20,\\\"_debug_log\\\":\\\"azureml_automl.log\\\",\\\"show_warnings\\\":false,\\\"model_explainability\\\":true,\\\"service_url\\\":null,\\\"sdk_url\\\":null,\\\"sdk_packages\\\":null,\\\"enable_onnx_compatible_models\\\":false,\\\"enable_split_onnx_featurizer_estimator_models\\\":false,\\\"vm_type\\\":\\\"STANDARD_D12_V2\\\",\\\"telemetry_verbosity\\\":20,\\\"send_telemetry\\\":true,\\\"enable_dnn\\\":false,\\\"scenario\\\":\\\"SDK-1.13.0\\\",\\\"environment_label\\\":null,\\\"save_mlflow\\\":false,\\\"force_text_dnn\\\":false,\\\"enable_feature_sweeping\\\":true,\\\"enable_early_stopping\\\":true,\\\"early_stopping_n_iters\\\":10,\\\"metrics\\\":null,\\\"enable_metric_confidence\\\":false,\\\"enable_ensembling\\\":true,\\\"enable_stack_ensembling\\\":true,\\\"ensemble_iterations\\\":15,\\\"enable_tf\\\":false,\\\"enable_subsampling\\\":null,\\\"subsample_seed\\\":null,\\\"enable_nimbusml\\\":false,\\\"enable_streaming\\\":false,\\\"force_streaming\\\":false,\\\"track_child_runs\\\":true,\\\"allowed_private_models\\\":[],\\\"label_column_name\\\":\\\"DEATH_EVENT\\\",\\\"weight_column_name\\\":null,\\\"cv_split_column_names\\\":null,\\\"enable_local_managed\\\":false,\\\"_local_managed_run_id\\\":null,\\\"cost_mode\\\":1,\\\"lag_length\\\":0,\\\"metric_operation\\\":\\\"maximize\\\",\\\"preprocess\\\":true}\", \"DataPrepJsonString\": \"{\\\\\\\"training_data\\\\\\\": \\\\\\\"{\\\\\\\\\\\\\\\"blocks\\\\\\\\\\\\\\\": [{\\\\\\\\\\\\\\\"id\\\\\\\\\\\\\\\": \\\\\\\\\\\\\\\"2b7ed215-cc8e-430f-8664-9e2c7a1fd7a2\\\\\\\\\\\\\\\", \\\\\\\\\\\\\\\"type\\\\\\\\\\\\\\\": \\\\\\\\\\\\\\\"Microsoft.DPrep.GetDatastoreFilesBlock\\\\\\\\\\\\\\\", \\\\\\\\\\\\\\\"arguments\\\\\\\\\\\\\\\": {\\\\\\\\\\\\\\\"datastores\\\\\\\\\\\\\\\": [{\\\\\\\\\\\\\\\"datastoreName\\\\\\\\\\\\\\\": \\\\\\\\\\\\\\\"workspaceblobstore\\\\\\\\\\\\\\\", \\\\\\\\\\\\\\\"path\\\\\\\\\\\\\\\": \\\\\\\\\\\\\\\"UI/03-24-2021_092435_UTC/heart-disease-kaggle.csv\\\\\\\\\\\\\\\", \\\\\\\\\\\\\\\"resourceGroup\\\\\\\\\\\\\\\": \\\\\\\\\\\\\\\"aml-quickstarts-141302\\\\\\\\\\\\\\\", \\\\\\\\\\\\\\\"subscription\\\\\\\\\\\\\\\": \\\\\\\\\\\\\\\"d7f39349-a66b-446e-aba6-0053c2cf1c11\\\\\\\\\\\\\\\", \\\\\\\\\\\\\\\"workspaceName\\\\\\\\\\\\\\\": \\\\\\\\\\\\\\\"quick-starts-ws-141302\\\\\\\\\\\\\\\"}]}, \\\\\\\\\\\\\\\"localData\\\\\\\\\\\\\\\": {}, \\\\\\\\\\\\\\\"isEnabled\\\\\\\\\\\\\\\": true, \\\\\\\\\\\\\\\"name\\\\\\\\\\\\\\\": null, \\\\\\\\\\\\\\\"annotation\\\\\\\\\\\\\\\": null}, {\\\\\\\\\\\\\\\"id\\\\\\\\\\\\\\\": \\\\\\\\\\\\\\\"8b05a7b2-5ddc-41e3-8119-2119bd18e32b\\\\\\\\\\\\\\\", \\\\\\\\\\\\\\\"type\\\\\\\\\\\\\\\": \\\\\\\\\\\\\\\"Microsoft.DPrep.ParseDelimitedBlock\\\\\\\\\\\\\\\", \\\\\\\\\\\\\\\"arguments\\\\\\\\\\\\\\\": {\\\\\\\\\\\\\\\"columnHeadersMode\\\\\\\\\\\\\\\": 3, \\\\\\\\\\\\\\\"fileEncoding\\\\\\\\\\\\\\\": 0, \\\\\\\\\\\\\\\"handleQuotedLineBreaks\\\\\\\\\\\\\\\": false, \\\\\\\\\\\\\\\"preview\\\\\\\\\\\\\\\": false, \\\\\\\\\\\\\\\"separator\\\\\\\\\\\\\\\": \\\\\\\\\\\\\\\",\\\\\\\\\\\\\\\", \\\\\\\\\\\\\\\"skipRows\\\\\\\\\\\\\\\": 0, \\\\\\\\\\\\\\\"skipRowsMode\\\\\\\\\\\\\\\": 0}, \\\\\\\\\\\\\\\"localData\\\\\\\\\\\\\\\": {}, \\\\\\\\\\\\\\\"isEnabled\\\\\\\\\\\\\\\": true, \\\\\\\\\\\\\\\"name\\\\\\\\\\\\\\\": null, \\\\\\\\\\\\\\\"annotation\\\\\\\\\\\\\\\": null}, {\\\\\\\\\\\\\\\"id\\\\\\\\\\\\\\\": \\\\\\\\\\\\\\\"3d333836-78ac-4fb6-a34b-410c1b2f6aa3\\\\\\\\\\\\\\\", \\\\\\\\\\\\\\\"type\\\\\\\\\\\\\\\": \\\\\\\\\\\\\\\"Microsoft.DPrep.DropColumnsBlock\\\\\\\\\\\\\\\", \\\\\\\\\\\\\\\"arguments\\\\\\\\\\\\\\\": {\\\\\\\\\\\\\\\"columns\\\\\\\\\\\\\\\": {\\\\\\\\\\\\\\\"type\\\\\\\\\\\\\\\": 0, \\\\\\\\\\\\\\\"details\\\\\\\\\\\\\\\": {\\\\\\\\\\\\\\\"selectedColumns\\\\\\\\\\\\\\\": [\\\\\\\\\\\\\\\"Path\\\\\\\\\\\\\\\"]}}}, \\\\\\\\\\\\\\\"localData\\\\\\\\\\\\\\\": {}, \\\\\\\\\\\\\\\"isEnabled\\\\\\\\\\\\\\\": true, \\\\\\\\\\\\\\\"name\\\\\\\\\\\\\\\": null, \\\\\\\\\\\\\\\"annotation\\\\\\\\\\\\\\\": null}, {\\\\\\\\\\\\\\\"id\\\\\\\\\\\\\\\": \\\\\\\\\\\\\\\"0edf4ed1-b559-4a89-9002-eac96a264aa4\\\\\\\\\\\\\\\", \\\\\\\\\\\\\\\"type\\\\\\\\\\\\\\\": \\\\\\\\\\\\\\\"Microsoft.DPrep.SetColumnTypesBlock\\\\\\\\\\\\\\\", \\\\\\\\\\\\\\\"arguments\\\\\\\\\\\\\\\": {\\\\\\\\\\\\\\\"columnConversion\\\\\\\\\\\\\\\": [{\\\\\\\\\\\\\\\"column\\\\\\\\\\\\\\\": {\\\\\\\\\\\\\\\"type\\\\\\\\\\\\\\\": 2, \\\\\\\\\\\\\\\"details\\\\\\\\\\\\\\\": {\\\\\\\\\\\\\\\"selectedColumn\\\\\\\\\\\\\\\": \\\\\\\\\\\\\\\"Path\\\\\\\\\\\\\\\"}}, \\\\\\\\\\\\\\\"typeProperty\\\\\\\\\\\\\\\": 0}, {\\\\\\\\\\\\\\\"column\\\\\\\\\\\\\\\": {\\\\\\\\\\\\\\\"type\\\\\\\\\\\\\\\": 2, \\\\\\\\\\\\\\\"details\\\\\\\\\\\\\\\": {\\\\\\\\\\\\\\\"selectedColumn\\\\\\\\\\\\\\\": \\\\\\\\\\\\\\\"age\\\\\\\\\\\\\\\"}}, \\\\\\\\\\\\\\\"typeProperty\\\\\\\\\\\\\\\": 3}, {\\\\\\\\\\\\\\\"column\\\\\\\\\\\\\\\": {\\\\\\\\\\\\\\\"type\\\\\\\\\\\\\\\": 2, \\\\\\\\\\\\\\\"details\\\\\\\\\\\\\\\": {\\\\\\\\\\\\\\\"selectedColumn\\\\\\\\\\\\\\\": \\\\\\\\\\\\\\\"anaemia\\\\\\\\\\\\\\\"}}, \\\\\\\\\\\\\\\"typeProperty\\\\\\\\\\\\\\\": 2}, {\\\\\\\\\\\\\\\"column\\\\\\\\\\\\\\\": {\\\\\\\\\\\\\\\"type\\\\\\\\\\\\\\\": 2, \\\\\\\\\\\\\\\"details\\\\\\\\\\\\\\\": {\\\\\\\\\\\\\\\"selectedColumn\\\\\\\\\\\\\\\": \\\\\\\\\\\\\\\"creatinine_phosphokinase\\\\\\\\\\\\\\\"}}, \\\\\\\\\\\\\\\"typeProperty\\\\\\\\\\\\\\\": 2}, {\\\\\\\\\\\\\\\"column\\\\\\\\\\\\\\\": {\\\\\\\\\\\\\\\"type\\\\\\\\\\\\\\\": 2, \\\\\\\\\\\\\\\"details\\\\\\\\\\\\\\\": {\\\\\\\\\\\\\\\"selectedColumn\\\\\\\\\\\\\\\": \\\\\\\\\\\\\\\"diabetes\\\\\\\\\\\\\\\"}}, \\\\\\\\\\\\\\\"typeProperty\\\\\\\\\\\\\\\": 2}, {\\\\\\\\\\\\\\\"column\\\\\\\\\\\\\\\": {\\\\\\\\\\\\\\\"type\\\\\\\\\\\\\\\": 2, \\\\\\\\\\\\\\\"details\\\\\\\\\\\\\\\": {\\\\\\\\\\\\\\\"selectedColumn\\\\\\\\\\\\\\\": \\\\\\\\\\\\\\\"ejection_fraction\\\\\\\\\\\\\\\"}}, \\\\\\\\\\\\\\\"typeProperty\\\\\\\\\\\\\\\": 2}, {\\\\\\\\\\\\\\\"column\\\\\\\\\\\\\\\": {\\\\\\\\\\\\\\\"type\\\\\\\\\\\\\\\": 2, \\\\\\\\\\\\\\\"details\\\\\\\\\\\\\\\": {\\\\\\\\\\\\\\\"selectedColumn\\\\\\\\\\\\\\\": \\\\\\\\\\\\\\\"high_blood_pressure\\\\\\\\\\\\\\\"}}, \\\\\\\\\\\\\\\"typeProperty\\\\\\\\\\\\\\\": 2}, {\\\\\\\\\\\\\\\"column\\\\\\\\\\\\\\\": {\\\\\\\\\\\\\\\"type\\\\\\\\\\\\\\\": 2, \\\\\\\\\\\\\\\"details\\\\\\\\\\\\\\\": {\\\\\\\\\\\\\\\"selectedColumn\\\\\\\\\\\\\\\": \\\\\\\\\\\\\\\"platelets\\\\\\\\\\\\\\\"}}, \\\\\\\\\\\\\\\"typeProperty\\\\\\\\\\\\\\\": 3}, {\\\\\\\\\\\\\\\"column\\\\\\\\\\\\\\\": {\\\\\\\\\\\\\\\"type\\\\\\\\\\\\\\\": 2, \\\\\\\\\\\\\\\"details\\\\\\\\\\\\\\\": {\\\\\\\\\\\\\\\"selectedColumn\\\\\\\\\\\\\\\": \\\\\\\\\\\\\\\"serum_creatinine\\\\\\\\\\\\\\\"}}, \\\\\\\\\\\\\\\"typeProperty\\\\\\\\\\\\\\\": 3}, {\\\\\\\\\\\\\\\"column\\\\\\\\\\\\\\\": {\\\\\\\\\\\\\\\"type\\\\\\\\\\\\\\\": 2, \\\\\\\\\\\\\\\"details\\\\\\\\\\\\\\\": {\\\\\\\\\\\\\\\"selectedColumn\\\\\\\\\\\\\\\": \\\\\\\\\\\\\\\"serum_sodium\\\\\\\\\\\\\\\"}}, \\\\\\\\\\\\\\\"typeProperty\\\\\\\\\\\\\\\": 2}, {\\\\\\\\\\\\\\\"column\\\\\\\\\\\\\\\": {\\\\\\\\\\\\\\\"type\\\\\\\\\\\\\\\": 2, \\\\\\\\\\\\\\\"details\\\\\\\\\\\\\\\": {\\\\\\\\\\\\\\\"selectedColumn\\\\\\\\\\\\\\\": \\\\\\\\\\\\\\\"sex\\\\\\\\\\\\\\\"}}, \\\\\\\\\\\\\\\"typeProperty\\\\\\\\\\\\\\\": 2}, {\\\\\\\\\\\\\\\"column\\\\\\\\\\\\\\\": {\\\\\\\\\\\\\\\"type\\\\\\\\\\\\\\\": 2, \\\\\\\\\\\\\\\"details\\\\\\\\\\\\\\\": {\\\\\\\\\\\\\\\"selectedColumn\\\\\\\\\\\\\\\": \\\\\\\\\\\\\\\"smoking\\\\\\\\\\\\\\\"}}, \\\\\\\\\\\\\\\"typeProperty\\\\\\\\\\\\\\\": 2}, {\\\\\\\\\\\\\\\"column\\\\\\\\\\\\\\\": {\\\\\\\\\\\\\\\"type\\\\\\\\\\\\\\\": 2, \\\\\\\\\\\\\\\"details\\\\\\\\\\\\\\\": {\\\\\\\\\\\\\\\"selectedColumn\\\\\\\\\\\\\\\": \\\\\\\\\\\\\\\"time\\\\\\\\\\\\\\\"}}, \\\\\\\\\\\\\\\"typeProperty\\\\\\\\\\\\\\\": 2}, {\\\\\\\\\\\\\\\"column\\\\\\\\\\\\\\\": {\\\\\\\\\\\\\\\"type\\\\\\\\\\\\\\\": 2, \\\\\\\\\\\\\\\"details\\\\\\\\\\\\\\\": {\\\\\\\\\\\\\\\"selectedColumn\\\\\\\\\\\\\\\": \\\\\\\\\\\\\\\"DEATH_EVENT\\\\\\\\\\\\\\\"}}, \\\\\\\\\\\\\\\"typeProperty\\\\\\\\\\\\\\\": 2}]}, \\\\\\\\\\\\\\\"localData\\\\\\\\\\\\\\\": {}, \\\\\\\\\\\\\\\"isEnabled\\\\\\\\\\\\\\\": true, \\\\\\\\\\\\\\\"name\\\\\\\\\\\\\\\": null, \\\\\\\\\\\\\\\"annotation\\\\\\\\\\\\\\\": null}, {\\\\\\\\\\\\\\\"id\\\\\\\\\\\\\\\": \\\\\\\\\\\\\\\"b806e5a0-1c8f-4282-95f9-710627a82de6\\\\\\\\\\\\\\\", \\\\\\\\\\\\\\\"type\\\\\\\\\\\\\\\": \\\\\\\\\\\\\\\"Microsoft.DPrep.TakeSampleBlock\\\\\\\\\\\\\\\", \\\\\\\\\\\\\\\"arguments\\\\\\\\\\\\\\\": {\\\\\\\\\\\\\\\"probability\\\\\\\\\\\\\\\": 0.9, \\\\\\\\\\\\\\\"probabilityLowerBound\\\\\\\\\\\\\\\": 0.0, \\\\\\\\\\\\\\\"seed\\\\\\\\\\\\\\\": 2704367022}, \\\\\\\\\\\\\\\"localData\\\\\\\\\\\\\\\": {}, \\\\\\\\\\\\\\\"isEnabled\\\\\\\\\\\\\\\": true, \\\\\\\\\\\\\\\"name\\\\\\\\\\\\\\\": null, \\\\\\\\\\\\\\\"annotation\\\\\\\\\\\\\\\": null}], \\\\\\\\\\\\\\\"inspectors\\\\\\\\\\\\\\\": [], \\\\\\\\\\\\\\\"meta\\\\\\\\\\\\\\\": {\\\\\\\\\\\\\\\"savedDatasetId\\\\\\\\\\\\\\\": \\\\\\\\\\\\\\\"c903b753-dc6d-4c6a-8081-76db89b53ddb\\\\\\\\\\\\\\\", \\\\\\\\\\\\\\\"datasetType\\\\\\\\\\\\\\\": \\\\\\\\\\\\\\\"tabular\\\\\\\\\\\\\\\", \\\\\\\\\\\\\\\"subscriptionId\\\\\\\\\\\\\\\": \\\\\\\\\\\\\\\"d7f39349-a66b-446e-aba6-0053c2cf1c11\\\\\\\\\\\\\\\", \\\\\\\\\\\\\\\"workspaceId\\\\\\\\\\\\\\\": \\\\\\\\\\\\\\\"9fb9c829-cbcf-4cf9-9386-8f6b6a22f255\\\\\\\\\\\\\\\", \\\\\\\\\\\\\\\"workspaceLocation\\\\\\\\\\\\\\\": \\\\\\\\\\\\\\\"southcentralus\\\\\\\\\\\\\\\", \\\\\\\\\\\\\\\"partition_keys\\\\\\\\\\\\\\\": \\\\\\\\\\\\\\\"true\\\\\\\\\\\\\\\"}}\\\\\\\", \\\\\\\"activities\\\\\\\": 0}\", \"EnableSubsampling\": null, \"runTemplate\": \"AutoML\", \"azureml.runsource\": \"automl\", \"display_task_type\": \"classification\", \"dependencies_versions\": \"{\\\"azureml-widgets\\\": \\\"1.24.0\\\", \\\"azureml-train\\\": \\\"1.24.0\\\", \\\"azureml-train-restclients-hyperdrive\\\": \\\"1.24.0\\\", \\\"azureml-train-core\\\": \\\"1.24.0\\\", \\\"azureml-train-automl\\\": \\\"1.24.0\\\", \\\"azureml-train-automl-runtime\\\": \\\"1.24.0\\\", \\\"azureml-train-automl-client\\\": \\\"1.24.0\\\", \\\"azureml-tensorboard\\\": \\\"1.24.0\\\", \\\"azureml-telemetry\\\": \\\"1.24.0\\\", \\\"azureml-sdk\\\": \\\"1.24.0\\\", \\\"azureml-samples\\\": \\\"0+unknown\\\", \\\"azureml-pipeline\\\": \\\"1.24.0\\\", \\\"azureml-pipeline-steps\\\": \\\"1.24.0\\\", \\\"azureml-pipeline-core\\\": \\\"1.24.0\\\", \\\"azureml-opendatasets\\\": \\\"1.24.0\\\", \\\"azureml-model-management-sdk\\\": \\\"1.0.1b6.post1\\\", \\\"azureml-mlflow\\\": \\\"1.24.0\\\", \\\"azureml-interpret\\\": \\\"1.24.0\\\", \\\"azureml-explain-model\\\": \\\"1.24.0\\\", \\\"azureml-defaults\\\": \\\"1.24.0\\\", \\\"azureml-dataset-runtime\\\": \\\"1.24.0\\\", \\\"azureml-dataprep\\\": \\\"2.11.1\\\", \\\"azureml-dataprep-rslex\\\": \\\"1.9.0\\\", \\\"azureml-dataprep-native\\\": \\\"30.0.0\\\", \\\"azureml-datadrift\\\": \\\"1.24.0\\\", \\\"azureml-core\\\": \\\"1.24.0\\\", \\\"azureml-contrib-services\\\": \\\"1.24.0\\\", \\\"azureml-contrib-server\\\": \\\"1.24.0\\\", \\\"azureml-contrib-reinforcementlearning\\\": \\\"1.24.0\\\", \\\"azureml-contrib-pipeline-steps\\\": \\\"1.24.0\\\", \\\"azureml-contrib-notebook\\\": \\\"1.24.0\\\", \\\"azureml-contrib-gbdt\\\": \\\"1.24.0\\\", \\\"azureml-contrib-fairness\\\": \\\"1.24.0\\\", \\\"azureml-contrib-dataset\\\": \\\"1.24.0\\\", \\\"azureml-cli-common\\\": \\\"1.24.0\\\", \\\"azureml-automl-runtime\\\": \\\"1.24.0\\\", \\\"azureml-automl-dnn-nlp\\\": \\\"1.24.0\\\", \\\"azureml-automl-core\\\": \\\"1.24.0\\\", \\\"azureml-accel-models\\\": \\\"1.24.0\\\"}\", \"_aml_system_scenario_identification\": \"Remote.Parent\", \"ClientType\": \"SDK\", \"environment_cpu_name\": \"AzureML-AutoML\", \"environment_cpu_label\": \"prod\", \"environment_gpu_name\": \"AzureML-AutoML-GPU\", \"environment_gpu_label\": \"prod\", \"root_attribution\": \"automl\", \"attribution\": \"AutoML\", \"Orchestrator\": \"AutoML\", \"CancelUri\": \"https://southcentralus.experiments.azureml.net/jasmine/v1.0/subscriptions/d7f39349-a66b-446e-aba6-0053c2cf1c11/resourceGroups/aml-quickstarts-141302/providers/Microsoft.MachineLearningServices/workspaces/quick-starts-ws-141302/experimentids/d16c00a3-34d7-4dae-befb-71c3bf3035be/cancel/AutoML_4d9955d1-6df0-4f9c-adef-883d4a0758ec\", \"ClientSdkVersion\": \"1.24.0\", \"snapshotId\": \"00000000-0000-0000-0000-000000000000\", \"SetupRunId\": \"AutoML_4d9955d1-6df0-4f9c-adef-883d4a0758ec_setup\", \"SetupRunContainerId\": \"dcid.AutoML_4d9955d1-6df0-4f9c-adef-883d4a0758ec_setup\", \"FeaturizationRunJsonPath\": \"featurizer_container.json\", \"FeaturizationRunId\": \"AutoML_4d9955d1-6df0-4f9c-adef-883d4a0758ec_featurize\", \"ProblemInfoJsonString\": \"{\\\"dataset_num_categorical\\\": 0, \\\"is_sparse\\\": false, \\\"subsampling\\\": false, \\\"dataset_classes\\\": 2, \\\"dataset_features\\\": 12, \\\"dataset_samples\\\": 264, \\\"single_frequency_class_detected\\\": false}\", \"ModelExplainRunId\": \"AutoML_4d9955d1-6df0-4f9c-adef-883d4a0758ec_ModelExplain\"}, \"tags\": {\"model_explain_run\": \"best_run\", \"_aml_system_azureml.automlComponent\": \"AutoML\", \"pipeline_id\": \"\", \"score\": \"\", \"predicted_cost\": \"\", \"fit_time\": \"\", \"training_percent\": \"\", \"iteration\": \"\", \"run_preprocessor\": \"\", \"run_algorithm\": \"\", \"dynamic_whitelisting_iterations\": \"<25>;<30>;<35>;\", \"automl_best_child_run_id\": \"AutoML_4d9955d1-6df0-4f9c-adef-883d4a0758ec_36\", \"model_explain_best_run_child_id\": \"AutoML_4d9955d1-6df0-4f9c-adef-883d4a0758ec_36\"}, \"end_time_utc\": \"2021-03-24T22:38:27.020385Z\", \"status\": \"Completed\", \"log_files\": {}, \"log_groups\": [], \"run_duration\": \"0:50:17\", \"run_number\": \"1\", \"run_queued_details\": {\"status\": \"Completed\", \"details\": null}}, \"child_runs\": [{\"run_id\": \"AutoML_4d9955d1-6df0-4f9c-adef-883d4a0758ec_1\", \"run_number\": 5, \"metric\": null, \"status\": \"Completed\", \"run_type\": \"azureml.scriptrun\", \"training_percent\": \"100\", \"start_time\": \"2021-03-24T22:02:37.542856Z\", \"end_time\": \"2021-03-24T22:03:29.727118Z\", \"created_time\": \"2021-03-24T22:02:28.828521Z\", \"created_time_dt\": \"2021-03-24T22:02:28.828521Z\", \"duration\": \"0:01:00\", \"iteration\": \"1\", \"goal\": \"accuracy_max\", \"run_name\": \"MaxAbsScaler, XGBoostClassifier\", \"run_properties\": \"copy=True\", \"primary_metric\": 0.81806967, \"best_metric\": 0.81806967}, {\"run_id\": \"AutoML_4d9955d1-6df0-4f9c-adef-883d4a0758ec_2\", \"run_number\": 6, \"metric\": null, \"status\": \"Completed\", \"run_type\": \"azureml.scriptrun\", \"training_percent\": \"100\", \"start_time\": \"2021-03-24T22:02:46.725174Z\", \"end_time\": \"2021-03-24T22:05:28.327432Z\", \"created_time\": \"2021-03-24T22:02:28.83232Z\", \"created_time_dt\": \"2021-03-24T22:02:28.83232Z\", \"duration\": \"0:02:59\", \"iteration\": \"2\", \"goal\": \"accuracy_max\", \"run_name\": \"MinMaxScaler, RandomForest\", \"run_properties\": \"copy=True, feature_range=(0, 1\", \"primary_metric\": 0.8371553, \"best_metric\": 0.8371553}, {\"run_id\": \"AutoML_4d9955d1-6df0-4f9c-adef-883d4a0758ec_3\", \"run_number\": 7, \"metric\": null, \"status\": \"Completed\", \"run_type\": \"azureml.scriptrun\", \"training_percent\": \"100\", \"start_time\": \"2021-03-24T22:02:48.071476Z\", \"end_time\": \"2021-03-24T22:05:34.583598Z\", \"created_time\": \"2021-03-24T22:02:28.978135Z\", \"created_time_dt\": \"2021-03-24T22:02:28.978135Z\", \"duration\": \"0:03:05\", \"iteration\": \"3\", \"goal\": \"accuracy_max\", \"run_name\": \"MinMaxScaler, RandomForest\", \"run_properties\": \"copy=True, feature_range=(0, 1\", \"primary_metric\": 0.8105225, \"best_metric\": 0.8371553}, {\"run_id\": \"AutoML_4d9955d1-6df0-4f9c-adef-883d4a0758ec_0\", \"run_number\": 8, \"metric\": null, \"status\": \"Completed\", \"run_type\": \"azureml.scriptrun\", \"training_percent\": \"100\", \"start_time\": \"2021-03-24T22:02:49.298092Z\", \"end_time\": \"2021-03-24T22:05:29.040283Z\", \"created_time\": \"2021-03-24T22:02:28.994687Z\", \"created_time_dt\": \"2021-03-24T22:02:28.994687Z\", \"duration\": \"0:03:00\", \"iteration\": \"0\", \"goal\": \"accuracy_max\", \"run_name\": \"MaxAbsScaler, LightGBM\", \"run_properties\": \"copy=True\", \"primary_metric\": 0.81429608, \"best_metric\": 0.81429608}, {\"run_id\": \"AutoML_4d9955d1-6df0-4f9c-adef-883d4a0758ec_4\", \"run_number\": 9, \"metric\": null, \"status\": \"Completed\", \"run_type\": \"azureml.scriptrun\", \"training_percent\": \"100\", \"start_time\": \"2021-03-24T22:05:42.476749Z\", \"end_time\": \"2021-03-24T22:06:30.394676Z\", \"created_time\": \"2021-03-24T22:03:33.164669Z\", \"created_time_dt\": \"2021-03-24T22:03:33.164669Z\", \"duration\": \"0:02:57\", \"iteration\": \"4\", \"goal\": \"accuracy_max\", \"run_name\": \"MinMaxScaler, RandomForest\", \"run_properties\": \"copy=True, feature_range=(0, 1\", \"primary_metric\": 0.81814224, \"best_metric\": 0.8371553}, {\"run_id\": \"AutoML_4d9955d1-6df0-4f9c-adef-883d4a0758ec_5\", \"run_number\": 10, \"metric\": null, \"status\": \"Completed\", \"run_type\": \"azureml.scriptrun\", \"training_percent\": \"100\", \"start_time\": \"2021-03-24T22:05:45.349849Z\", \"end_time\": \"2021-03-24T22:06:27.994623Z\", \"created_time\": \"2021-03-24T22:05:31.646598Z\", \"created_time_dt\": \"2021-03-24T22:05:31.646598Z\", \"duration\": \"0:00:56\", \"iteration\": \"5\", \"goal\": \"accuracy_max\", \"run_name\": \"MinMaxScaler, LightGBM\", \"run_properties\": \"copy=True, feature_range=(0, 1\", \"primary_metric\": 0.83338171, \"best_metric\": 0.8371553}, {\"run_id\": \"AutoML_4d9955d1-6df0-4f9c-adef-883d4a0758ec_6\", \"run_number\": 11, \"metric\": null, \"status\": \"Completed\", \"run_type\": \"azureml.scriptrun\", \"training_percent\": \"100\", \"start_time\": \"2021-03-24T22:06:43.888149Z\", \"end_time\": \"2021-03-24T22:07:30.598533Z\", \"created_time\": \"2021-03-24T22:05:37.812624Z\", \"created_time_dt\": \"2021-03-24T22:05:37.812624Z\", \"duration\": \"0:01:52\", \"iteration\": \"6\", \"goal\": \"accuracy_max\", \"run_name\": \"MinMaxScaler, SVM\", \"run_properties\": \"copy=True, feature_range=(0, 1\", \"primary_metric\": 0.72721335, \"best_metric\": 0.8371553}, {\"run_id\": \"AutoML_4d9955d1-6df0-4f9c-adef-883d4a0758ec_7\", \"run_number\": 12, \"metric\": null, \"status\": \"Completed\", \"run_type\": \"azureml.scriptrun\", \"training_percent\": \"100\", \"start_time\": \"2021-03-24T22:06:45.67644Z\", \"end_time\": \"2021-03-24T22:07:36.013687Z\", \"created_time\": \"2021-03-24T22:05:37.923611Z\", \"created_time_dt\": \"2021-03-24T22:05:37.923611Z\", \"duration\": \"0:01:58\", \"iteration\": \"7\", \"goal\": \"accuracy_max\", \"run_name\": \"MinMaxScaler, SVM\", \"run_properties\": \"copy=True, feature_range=(0, 1\", \"primary_metric\": 0.72728592, \"best_metric\": 0.8371553}, {\"run_id\": \"AutoML_4d9955d1-6df0-4f9c-adef-883d4a0758ec_8\", \"run_number\": 13, \"metric\": null, \"status\": \"Completed\", \"run_type\": \"azureml.scriptrun\", \"training_percent\": \"100\", \"start_time\": \"2021-03-24T22:06:54.517215Z\", \"end_time\": \"2021-03-24T22:07:43.951214Z\", \"created_time\": \"2021-03-24T22:06:30.53562Z\", \"created_time_dt\": \"2021-03-24T22:06:30.53562Z\", \"duration\": \"0:01:13\", \"iteration\": \"8\", \"goal\": \"accuracy_max\", \"run_name\": \"SparseNormalizer, XGBoostClassifier\", \"run_properties\": \"<azureml.automl.runtime.shared.model_wrappers.SparseNormalizer object at 0x7fee2041d358\", \"primary_metric\": 0.8107402, \"best_metric\": 0.8371553}, {\"run_id\": \"AutoML_4d9955d1-6df0-4f9c-adef-883d4a0758ec_9\", \"run_number\": 14, \"metric\": null, \"status\": \"Completed\", \"run_type\": \"azureml.scriptrun\", \"training_percent\": \"100\", \"start_time\": \"2021-03-24T22:07:48.251681Z\", \"end_time\": \"2021-03-24T22:08:37.219602Z\", \"created_time\": \"2021-03-24T22:06:35.068963Z\", \"created_time_dt\": \"2021-03-24T22:06:35.068963Z\", \"duration\": \"0:02:02\", \"iteration\": \"9\", \"goal\": \"accuracy_max\", \"run_name\": \"SparseNormalizer, XGBoostClassifier\", \"run_properties\": \"<azureml.automl.runtime.shared.model_wrappers.SparseNormalizer object at 0x7f90738c2240\", \"primary_metric\": 0.79179971, \"best_metric\": 0.8371553}, {\"run_id\": \"AutoML_4d9955d1-6df0-4f9c-adef-883d4a0758ec_10\", \"run_number\": 15, \"metric\": null, \"status\": \"Completed\", \"run_type\": \"azureml.scriptrun\", \"training_percent\": \"100\", \"start_time\": \"2021-03-24T22:08:02.714936Z\", \"end_time\": \"2021-03-24T22:08:54.391805Z\", \"created_time\": \"2021-03-24T22:07:33.816296Z\", \"created_time_dt\": \"2021-03-24T22:07:33.816296Z\", \"duration\": \"0:01:20\", \"iteration\": \"10\", \"goal\": \"accuracy_max\", \"run_name\": \"MaxAbsScaler, GradientBoosting\", \"run_properties\": \"copy=True\", \"primary_metric\": 0.85239478, \"best_metric\": 0.85239478}, {\"run_id\": \"AutoML_4d9955d1-6df0-4f9c-adef-883d4a0758ec_11\", \"run_number\": 16, \"metric\": null, \"status\": \"Completed\", \"run_type\": \"azureml.scriptrun\", \"training_percent\": \"100\", \"start_time\": \"2021-03-24T22:08:54.086315Z\", \"end_time\": \"2021-03-24T22:09:39.011277Z\", \"created_time\": \"2021-03-24T22:07:43.803318Z\", \"created_time_dt\": \"2021-03-24T22:07:43.803318Z\", \"duration\": \"0:01:55\", \"iteration\": \"11\", \"goal\": \"accuracy_max\", \"run_name\": \"SparseNormalizer, XGBoostClassifier\", \"run_properties\": \"<azureml.automl.runtime.shared.model_wrappers.SparseNormalizer object at 0x7fdf51281828\", \"primary_metric\": 0.80674891, \"best_metric\": 0.85239478}, {\"run_id\": \"AutoML_4d9955d1-6df0-4f9c-adef-883d4a0758ec_12\", \"run_number\": 17, \"metric\": null, \"status\": \"Completed\", \"run_type\": \"azureml.scriptrun\", \"training_percent\": \"100\", \"start_time\": \"2021-03-24T22:08:51.427438Z\", \"end_time\": \"2021-03-24T22:09:37.788805Z\", \"created_time\": \"2021-03-24T22:07:48.491039Z\", \"created_time_dt\": \"2021-03-24T22:07:48.491039Z\", \"duration\": \"0:01:49\", \"iteration\": \"12\", \"goal\": \"accuracy_max\", \"run_name\": \"MaxAbsScaler, ExtremeRandomTrees\", \"run_properties\": \"copy=True\", \"primary_metric\": 0.83345428, \"best_metric\": 0.85239478}, {\"run_id\": \"AutoML_4d9955d1-6df0-4f9c-adef-883d4a0758ec_13\", \"run_number\": 18, \"metric\": null, \"status\": \"Completed\", \"run_type\": \"azureml.scriptrun\", \"training_percent\": \"100\", \"start_time\": \"2021-03-24T22:09:10.147223Z\", \"end_time\": \"2021-03-24T22:09:58.264096Z\", \"created_time\": \"2021-03-24T22:08:39.876311Z\", \"created_time_dt\": \"2021-03-24T22:08:39.876311Z\", \"duration\": \"0:01:18\", \"iteration\": \"13\", \"goal\": \"accuracy_max\", \"run_name\": \"MaxAbsScaler, LightGBM\", \"run_properties\": \"copy=True\", \"primary_metric\": 0.85232221, \"best_metric\": 0.85239478}, {\"run_id\": \"AutoML_4d9955d1-6df0-4f9c-adef-883d4a0758ec_14\", \"run_number\": 19, \"metric\": null, \"status\": \"Completed\", \"run_type\": \"azureml.scriptrun\", \"training_percent\": \"100\", \"start_time\": \"2021-03-24T22:09:30.067821Z\", \"end_time\": \"2021-03-24T22:14:20.460731Z\", \"created_time\": \"2021-03-24T22:08:56.756724Z\", \"created_time_dt\": \"2021-03-24T22:08:56.756724Z\", \"duration\": \"0:05:23\", \"iteration\": \"14\", \"goal\": \"accuracy_max\", \"run_name\": \"MaxAbsScaler, LightGBM\", \"run_properties\": \"copy=True\"}, {\"run_id\": \"AutoML_4d9955d1-6df0-4f9c-adef-883d4a0758ec_15\", \"run_number\": 20, \"metric\": null, \"status\": \"Completed\", \"run_type\": \"azureml.scriptrun\", \"training_percent\": \"100\", \"start_time\": \"2021-03-24T22:10:13.618592Z\", \"end_time\": \"2021-03-24T22:11:03.072838Z\", \"created_time\": \"2021-03-24T22:09:40.027354Z\", \"created_time_dt\": \"2021-03-24T22:09:40.027354Z\", \"duration\": \"0:01:23\", \"iteration\": \"15\", \"goal\": \"accuracy_max\", \"run_name\": \"MaxAbsScaler, LightGBM\", \"run_properties\": \"copy=True\", \"primary_metric\": 0.84477504, \"best_metric\": 0.85239478}, {\"run_id\": \"AutoML_4d9955d1-6df0-4f9c-adef-883d4a0758ec_16\", \"run_number\": 21, \"metric\": null, \"status\": \"Completed\", \"run_type\": \"azureml.scriptrun\", \"training_percent\": \"100\", \"start_time\": \"2021-03-24T22:10:54.724975Z\", \"end_time\": \"2021-03-24T22:11:42.561647Z\", \"created_time\": \"2021-03-24T22:09:44.602652Z\", \"created_time_dt\": \"2021-03-24T22:09:44.602652Z\", \"duration\": \"0:01:57\", \"iteration\": \"16\", \"goal\": \"accuracy_max\", \"run_name\": \"StandardScalerWrapper, RandomForest\", \"run_properties\": \"<azureml.automl.runtime.shared.model_wrappers.StandardScalerWrapper object at 0x7ff1c470a7f0\", \"primary_metric\": 0.8371553, \"best_metric\": 0.85239478}, {\"run_id\": \"AutoML_4d9955d1-6df0-4f9c-adef-883d4a0758ec_17\", \"run_number\": 22, \"metric\": null, \"status\": \"Completed\", \"run_type\": \"azureml.scriptrun\", \"training_percent\": \"100\", \"start_time\": \"2021-03-24T22:11:07.578329Z\", \"end_time\": \"2021-03-24T22:11:54.857086Z\", \"created_time\": \"2021-03-24T22:10:01.297424Z\", \"created_time_dt\": \"2021-03-24T22:10:01.297424Z\", \"duration\": \"0:01:53\", \"iteration\": \"17\", \"goal\": \"accuracy_max\", \"run_name\": \"SparseNormalizer, XGBoostClassifier\", \"run_properties\": \"<azureml.automl.runtime.shared.model_wrappers.SparseNormalizer object at 0x7fecb9506320\", \"primary_metric\": 0.82198839, \"best_metric\": 0.85239478}, {\"run_id\": \"AutoML_4d9955d1-6df0-4f9c-adef-883d4a0758ec_18\", \"run_number\": 23, \"metric\": null, \"status\": \"Completed\", \"run_type\": \"azureml.scriptrun\", \"training_percent\": \"100\", \"start_time\": \"2021-03-24T22:12:10.41067Z\", \"end_time\": \"2021-03-24T22:13:00.434577Z\", \"created_time\": \"2021-03-24T22:11:06.60642Z\", \"created_time_dt\": \"2021-03-24T22:11:06.60642Z\", \"duration\": \"0:01:53\", \"iteration\": \"18\", \"goal\": \"accuracy_max\", \"run_name\": \"StandardScalerWrapper, XGBoostClassifier\", \"run_properties\": \"<azureml.automl.runtime.shared.model_wrappers.StandardScalerWrapper object at 0x7f65bf6be6d8\", \"primary_metric\": 0.8032656, \"best_metric\": 0.85239478}, {\"run_id\": \"AutoML_4d9955d1-6df0-4f9c-adef-883d4a0758ec_19\", \"run_number\": 24, \"metric\": null, \"status\": \"Completed\", \"run_type\": \"azureml.scriptrun\", \"training_percent\": \"100\", \"start_time\": \"2021-03-24T22:12:25.058529Z\", \"end_time\": \"2021-03-24T22:13:13.846447Z\", \"created_time\": \"2021-03-24T22:11:45.029382Z\", \"created_time_dt\": \"2021-03-24T22:11:45.029382Z\", \"duration\": \"0:01:28\", \"iteration\": \"19\", \"goal\": \"accuracy_max\", \"run_name\": \"StandardScalerWrapper, LightGBM\", \"run_properties\": \"<azureml.automl.runtime.shared.model_wrappers.StandardScalerWrapper object at 0x7fad1c4e9e10\", \"primary_metric\": 0.84840348, \"best_metric\": 0.85239478}, {\"run_id\": \"AutoML_4d9955d1-6df0-4f9c-adef-883d4a0758ec_20\", \"run_number\": 25, \"metric\": null, \"status\": \"Completed\", \"run_type\": \"azureml.scriptrun\", \"training_percent\": \"100\", \"start_time\": \"2021-03-24T22:13:06.501318Z\", \"end_time\": \"2021-03-24T22:14:06.931619Z\", \"created_time\": \"2021-03-24T22:11:57.118263Z\", \"created_time_dt\": \"2021-03-24T22:11:57.118263Z\", \"duration\": \"0:02:09\", \"iteration\": \"20\", \"goal\": \"accuracy_max\", \"run_name\": \"StandardScalerWrapper, LightGBM\", \"run_properties\": \"<azureml.automl.runtime.shared.model_wrappers.StandardScalerWrapper object at 0x7fd264626828\", \"primary_metric\": 0.85609579, \"best_metric\": 0.85609579}, {\"run_id\": \"AutoML_4d9955d1-6df0-4f9c-adef-883d4a0758ec_21\", \"run_number\": 26, \"metric\": null, \"status\": \"Completed\", \"run_type\": \"azureml.scriptrun\", \"training_percent\": \"100\", \"start_time\": \"2021-03-24T22:14:22.219378Z\", \"end_time\": \"2021-03-24T22:30:21.479026Z\", \"created_time\": \"2021-03-24T22:13:04.516847Z\", \"created_time_dt\": \"2021-03-24T22:13:04.516847Z\", \"duration\": \"0:17:16\", \"iteration\": \"21\", \"goal\": \"accuracy_max\", \"run_name\": \"RobustScaler, RandomForest\", \"run_properties\": \"copy=True, quantile_range=[25, 75], with_centering=True,\\n             with_scaling=True\", \"primary_metric\": 0.83323657, \"best_metric\": 0.85609579}, {\"run_id\": \"AutoML_4d9955d1-6df0-4f9c-adef-883d4a0758ec_22\", \"run_number\": 27, \"metric\": null, \"status\": \"Completed\", \"run_type\": \"azureml.scriptrun\", \"training_percent\": \"100\", \"start_time\": \"2021-03-24T22:14:38.362936Z\", \"end_time\": \"2021-03-24T22:15:33.779565Z\", \"created_time\": \"2021-03-24T22:13:16.885205Z\", \"created_time_dt\": \"2021-03-24T22:13:16.885205Z\", \"duration\": \"0:02:16\", \"iteration\": \"22\", \"goal\": \"accuracy_max\", \"run_name\": \"RobustScaler, KNN\", \"run_properties\": \"copy=True, quantile_range=[25, 75], with_centering=True,\\n             with_scaling=False\", \"primary_metric\": 0.63251089, \"best_metric\": 0.85609579}, {\"run_id\": \"AutoML_4d9955d1-6df0-4f9c-adef-883d4a0758ec_23\", \"run_number\": 28, \"metric\": null, \"status\": \"Completed\", \"run_type\": \"azureml.scriptrun\", \"training_percent\": \"100\", \"start_time\": \"2021-03-24T22:15:49.724178Z\", \"end_time\": \"2021-03-24T22:19:19.841776Z\", \"created_time\": \"2021-03-24T22:14:09.534891Z\", \"created_time_dt\": \"2021-03-24T22:14:09.534891Z\", \"duration\": \"0:05:10\", \"iteration\": \"23\", \"goal\": \"accuracy_max\", \"run_name\": \"StandardScalerWrapper, RandomForest\", \"run_properties\": \"<azureml.automl.runtime.shared.model_wrappers.StandardScalerWrapper object at 0x7f8d4fe90470\", \"primary_metric\": 0.85224964, \"best_metric\": 0.85609579}, {\"run_id\": \"AutoML_4d9955d1-6df0-4f9c-adef-883d4a0758ec_24\", \"run_number\": 29, \"metric\": null, \"status\": \"Completed\", \"run_type\": \"azureml.scriptrun\", \"training_percent\": \"100\", \"start_time\": \"2021-03-24T22:17:04.806535Z\", \"end_time\": \"2021-03-24T22:18:03.444645Z\", \"created_time\": \"2021-03-24T22:14:23.702081Z\", \"created_time_dt\": \"2021-03-24T22:14:23.702081Z\", \"duration\": \"0:03:39\", \"iteration\": \"24\", \"goal\": \"accuracy_max\", \"run_name\": \"MinMaxScaler, LightGBM\", \"run_properties\": \"copy=True, feature_range=(0, 1\", \"primary_metric\": 0.78795356, \"best_metric\": 0.85609579}, {\"run_id\": \"AutoML_4d9955d1-6df0-4f9c-adef-883d4a0758ec_25\", \"run_number\": 30, \"metric\": null, \"status\": \"Completed\", \"run_type\": \"azureml.scriptrun\", \"training_percent\": \"100\", \"start_time\": \"2021-03-24T22:18:20.946937Z\", \"end_time\": \"2021-03-24T22:21:41.587568Z\", \"created_time\": \"2021-03-24T22:15:37.633846Z\", \"created_time_dt\": \"2021-03-24T22:15:37.633846Z\", \"duration\": \"0:06:03\", \"iteration\": \"25\", \"goal\": \"accuracy_max\", \"run_name\": \"RobustScaler, LightGBM\", \"run_properties\": \"copy=True, quantile_range=[10, 90], with_centering=False,\\n             with_scaling=True\", \"primary_metric\": 0.82953556, \"best_metric\": 0.85609579}, {\"run_id\": \"AutoML_4d9955d1-6df0-4f9c-adef-883d4a0758ec_26\", \"run_number\": 31, \"metric\": null, \"status\": \"Completed\", \"run_type\": \"azureml.scriptrun\", \"training_percent\": \"100\", \"start_time\": \"2021-03-24T22:18:27.954747Z\", \"end_time\": \"2021-03-24T22:23:11.691146Z\", \"created_time\": \"2021-03-24T22:18:06.674053Z\", \"created_time_dt\": \"2021-03-24T22:18:06.674053Z\", \"duration\": \"0:05:05\", \"iteration\": \"26\", \"goal\": \"accuracy_max\", \"run_name\": \"SparseNormalizer, XGBoostClassifier\", \"run_properties\": \"<azureml.automl.runtime.shared.model_wrappers.SparseNormalizer object at 0x7f6555a785c0\", \"primary_metric\": 0.80674891, \"best_metric\": 0.85609579}, {\"run_id\": \"AutoML_4d9955d1-6df0-4f9c-adef-883d4a0758ec_27\", \"run_number\": 32, \"metric\": null, \"status\": \"Completed\", \"run_type\": \"azureml.scriptrun\", \"training_percent\": \"100\", \"start_time\": \"2021-03-24T22:19:33.027944Z\", \"end_time\": \"2021-03-24T22:30:22.082213Z\", \"created_time\": \"2021-03-24T22:19:22.370669Z\", \"created_time_dt\": \"2021-03-24T22:19:22.370669Z\", \"duration\": \"0:10:59\", \"iteration\": \"27\", \"goal\": \"accuracy_max\", \"run_name\": \"StandardScalerWrapper, LightGBM\", \"run_properties\": \"<azureml.automl.runtime.shared.model_wrappers.StandardScalerWrapper object at 0x7faaee0e5198\", \"primary_metric\": 0.83338171, \"best_metric\": 0.85609579}, {\"run_id\": \"AutoML_4d9955d1-6df0-4f9c-adef-883d4a0758ec_28\", \"run_number\": 33, \"metric\": null, \"status\": \"Completed\", \"run_type\": \"azureml.scriptrun\", \"training_percent\": \"100\", \"start_time\": \"2021-03-24T22:22:04.548422Z\", \"end_time\": \"2021-03-24T22:27:05.598404Z\", \"created_time\": \"2021-03-24T22:21:44.328088Z\", \"created_time_dt\": \"2021-03-24T22:21:44.328088Z\", \"duration\": \"0:05:21\", \"iteration\": \"28\", \"goal\": \"accuracy_max\", \"run_name\": \"StandardScalerWrapper, RandomForest\", \"run_properties\": \"<azureml.automl.runtime.shared.model_wrappers.StandardScalerWrapper object at 0x7f12b8bb6b00\", \"primary_metric\": 0.82561684, \"best_metric\": 0.85609579}, {\"run_id\": \"AutoML_4d9955d1-6df0-4f9c-adef-883d4a0758ec_29\", \"run_number\": 34, \"metric\": null, \"status\": \"Completed\", \"run_type\": \"azureml.scriptrun\", \"training_percent\": \"100\", \"start_time\": \"2021-03-24T22:23:27.127578Z\", \"end_time\": \"2021-03-24T22:30:15.374185Z\", \"created_time\": \"2021-03-24T22:23:14.275418Z\", \"created_time_dt\": \"2021-03-24T22:23:14.275418Z\", \"duration\": \"0:07:01\", \"iteration\": \"29\", \"goal\": \"accuracy_max\", \"run_name\": \"MaxAbsScaler, RandomForest\", \"run_properties\": \"copy=True\", \"primary_metric\": 0.81806967, \"best_metric\": 0.85609579}, {\"run_id\": \"AutoML_4d9955d1-6df0-4f9c-adef-883d4a0758ec_30\", \"run_number\": 35, \"metric\": null, \"status\": \"Completed\", \"run_type\": \"azureml.scriptrun\", \"training_percent\": \"100\", \"start_time\": \"2021-03-24T22:27:31.254487Z\", \"end_time\": \"2021-03-24T22:32:04.428582Z\", \"created_time\": \"2021-03-24T22:27:09.572863Z\", \"created_time_dt\": \"2021-03-24T22:27:09.572863Z\", \"duration\": \"0:04:54\", \"iteration\": \"30\", \"goal\": \"accuracy_max\", \"run_name\": \"StandardScalerWrapper, LightGBM\", \"run_properties\": \"<azureml.automl.runtime.shared.model_wrappers.StandardScalerWrapper object at 0x7fc09fc09b38\", \"primary_metric\": 0.81081277, \"best_metric\": 0.85609579}, {\"run_id\": \"AutoML_4d9955d1-6df0-4f9c-adef-883d4a0758ec_31\", \"run_number\": 36, \"metric\": null, \"status\": \"Completed\", \"run_type\": \"azureml.scriptrun\", \"training_percent\": \"100\", \"start_time\": \"2021-03-24T22:30:29.235074Z\", \"end_time\": \"2021-03-24T22:31:15.649349Z\", \"created_time\": \"2021-03-24T22:30:19.510228Z\", \"created_time_dt\": \"2021-03-24T22:30:19.510228Z\", \"duration\": \"0:00:56\", \"iteration\": \"31\", \"goal\": \"accuracy_max\", \"run_name\": \"StandardScalerWrapper, LightGBM\", \"run_properties\": \"<azureml.automl.runtime.shared.model_wrappers.StandardScalerWrapper object at 0x7fc266e29748\", \"primary_metric\": 0.84078374, \"best_metric\": 0.85609579}, {\"run_id\": \"AutoML_4d9955d1-6df0-4f9c-adef-883d4a0758ec_32\", \"run_number\": 37, \"metric\": null, \"status\": \"Completed\", \"run_type\": \"azureml.scriptrun\", \"training_percent\": \"100\", \"start_time\": \"2021-03-24T22:30:38.645826Z\", \"end_time\": \"2021-03-24T22:31:33.108336Z\", \"created_time\": \"2021-03-24T22:30:25.939281Z\", \"created_time_dt\": \"2021-03-24T22:30:25.939281Z\", \"duration\": \"0:01:07\", \"iteration\": \"32\", \"goal\": \"accuracy_max\", \"run_name\": \"StandardScalerWrapper, ExtremeRandomTrees\", \"run_properties\": \"<azureml.automl.runtime.shared.model_wrappers.StandardScalerWrapper object at 0x7f82e0a21a20\", \"primary_metric\": 0.74274311, \"best_metric\": 0.85609579}, {\"run_id\": \"AutoML_4d9955d1-6df0-4f9c-adef-883d4a0758ec_33\", \"run_number\": 38, \"metric\": null, \"status\": \"Canceled\", \"run_type\": \"azureml.scriptrun\", \"training_percent\": \"100\", \"start_time\": \"2021-03-24T22:30:36.542057Z\", \"end_time\": \"2021-03-24T22:32:15.793783Z\", \"created_time\": \"2021-03-24T22:30:25.968249Z\", \"created_time_dt\": \"2021-03-24T22:30:25.968249Z\", \"duration\": \"0:01:49\", \"iteration\": \"33\", \"goal\": \"accuracy_max\", \"run_name\": \"MinMaxScaler, RandomForest\", \"run_properties\": \"copy=True, feature_range=(0, 1\", \"primary_metric\": 0.85232221, \"best_metric\": 0.85609579}, {\"run_id\": \"AutoML_4d9955d1-6df0-4f9c-adef-883d4a0758ec_34\", \"run_number\": 39, \"metric\": null, \"status\": \"Canceled\", \"run_type\": \"azureml.scriptrun\", \"training_percent\": \"100\", \"start_time\": \"2021-03-24T22:31:39.38456Z\", \"end_time\": \"2021-03-24T22:32:12.692571Z\", \"created_time\": \"2021-03-24T22:31:17.379387Z\", \"created_time_dt\": \"2021-03-24T22:31:17.379387Z\", \"duration\": \"0:00:55\", \"iteration\": \"34\", \"goal\": \"accuracy_max\", \"run_name\": \"RobustScaler, GradientBoosting\", \"run_properties\": \"copy=True, quantile_range=[25, 75], with_centering=True,\\n             with_scaling=True\", \"primary_metric\": 0.85239478, \"best_metric\": 0.85609579}, {\"run_id\": \"AutoML_4d9955d1-6df0-4f9c-adef-883d4a0758ec_35\", \"run_number\": 40, \"metric\": null, \"status\": \"Canceled\", \"run_type\": \"azureml.scriptrun\", \"training_percent\": \"100\", \"start_time\": \"2021-03-24T22:31:50.269134Z\", \"end_time\": \"2021-03-24T22:32:14.145009Z\", \"created_time\": \"2021-03-24T22:31:36.007881Z\", \"created_time_dt\": \"2021-03-24T22:31:36.007881Z\", \"duration\": \"0:00:38\", \"iteration\": \"35\", \"goal\": null, \"run_name\": \"Canceled\", \"run_properties\": null}, {\"run_id\": \"AutoML_4d9955d1-6df0-4f9c-adef-883d4a0758ec_36\", \"run_number\": 41, \"metric\": null, \"status\": \"Completed\", \"run_type\": \"azureml.scriptrun\", \"training_percent\": \"100\", \"start_time\": \"2021-03-24T22:32:26.378268Z\", \"end_time\": \"2021-03-24T22:37:43.292902Z\", \"created_time\": \"2021-03-24T22:32:16.503558Z\", \"created_time_dt\": \"2021-03-24T22:32:16.503558Z\", \"duration\": \"0:05:26\", \"iteration\": \"36\", \"goal\": \"accuracy_max\", \"run_name\": \"VotingEnsemble\", \"run_properties\": \"classification_labels=None,\\n                              estimators=[('20',\\n                                           Pipeline(memory=None,\\n                                                    steps=[('standardscalerwrapper',\\n                                                            <azureml.automl.runtime.shared.model_wrappers.StandardScalerWrapper object at 0x7f99202904e0>\", \"primary_metric\": 0.86741655, \"best_metric\": 0.86741655}, {\"run_id\": \"AutoML_4d9955d1-6df0-4f9c-adef-883d4a0758ec_37\", \"run_number\": 42, \"metric\": null, \"status\": \"Completed\", \"run_type\": \"azureml.scriptrun\", \"training_percent\": \"100\", \"start_time\": \"2021-03-24T22:32:24.929651Z\", \"end_time\": \"2021-03-24T22:37:51.628363Z\", \"created_time\": \"2021-03-24T22:32:16.577293Z\", \"created_time_dt\": \"2021-03-24T22:32:16.577293Z\", \"duration\": \"0:05:35\", \"iteration\": \"37\", \"goal\": \"accuracy_max\", \"run_name\": \"StackEnsemble\", \"run_properties\": \"base_learners=[('20',\\n                                        Pipeline(memory=None,\\n                                                 steps=[('standardscalerwrapper',\\n                                                         <azureml.automl.runtime.shared.model_wrappers.StandardScalerWrapper object at 0x7f24e8307cc0>\", \"primary_metric\": 0.85979681, \"best_metric\": 0.86741655}], \"children_metrics\": {\"categories\": [0], \"series\": {\"AUC_macro\": [{\"categories\": [\"0\", \"1\", \"2\", \"3\", \"4\", \"5\", \"6\", \"7\", \"8\", \"9\", \"10\", \"11\", \"12\", \"13\", \"15\", \"16\", \"17\", \"18\", \"19\", \"20\", \"21\", \"22\", \"23\", \"24\", \"25\", \"26\", \"27\", \"28\", \"29\", \"30\", \"31\", \"32\", \"33\", \"34\", \"36\", \"37\"], \"mode\": \"markers\", \"name\": \"AUC_macro\", \"stepped\": false, \"type\": \"scatter\", \"data\": [0.853036438681235, 0.8406365545098577, 0.8923900952566111, 0.8919495961079672, 0.8939302611497182, 0.8874415384257013, 0.7249903810130054, 0.7260139816361536, 0.8422236421942305, 0.8321595798722494, 0.9008139909090135, 0.8254220712433382, 0.8898342306803846, 0.902349468632274, 0.9018918594891445, 0.8968187126015179, 0.8576494822354552, 0.9012876577786081, 0.9038330289042958, 0.899270868451864, 0.903173311619013, 0.47344673600555953, 0.9063274260287834, 0.8601237469133396, 0.8860101289196312, 0.8540332895672262, 0.9013741481026549, 0.9047735165178604, 0.8843577561201995, 0.9044175105193206, 0.8874273644635636, 0.870651360698872, 0.906266407773195, 0.9064491771120732, 0.9037046791956295, 0.9028069615286809]}, {\"categories\": [\"0\", \"1\", \"2\", \"3\", \"4\", \"5\", \"6\", \"7\", \"8\", \"9\", \"10\", \"11\", \"12\", \"13\", \"15\", \"16\", \"17\", \"18\", \"19\", \"20\", \"21\", \"22\", \"23\", \"24\", \"25\", \"26\", \"27\", \"28\", \"29\", \"30\", \"31\", \"32\", \"33\", \"34\", \"36\", \"37\"], \"mode\": \"lines\", \"name\": \"AUC_macro_max\", \"stepped\": true, \"type\": \"scatter\", \"data\": [0.853036438681235, 0.853036438681235, 0.8923900952566111, 0.8923900952566111, 0.8939302611497182, 0.8939302611497182, 0.8939302611497182, 0.8939302611497182, 0.8939302611497182, 0.8939302611497182, 0.9008139909090135, 0.9008139909090135, 0.9008139909090135, 0.902349468632274, 0.902349468632274, 0.902349468632274, 0.902349468632274, 0.902349468632274, 0.9038330289042958, 0.9038330289042958, 0.9038330289042958, 0.9038330289042958, 0.9063274260287834, 0.9063274260287834, 0.9063274260287834, 0.9063274260287834, 0.9063274260287834, 0.9063274260287834, 0.9063274260287834, 0.9063274260287834, 0.9063274260287834, 0.9063274260287834, 0.9063274260287834, 0.9064491771120732, 0.9064491771120732, 0.9064491771120732]}], \"f1_score_macro\": [{\"categories\": [\"0\", \"1\", \"2\", \"3\", \"4\", \"5\", \"6\", \"7\", \"8\", \"9\", \"10\", \"11\", \"12\", \"13\", \"15\", \"16\", \"17\", \"18\", \"19\", \"20\", \"21\", \"22\", \"23\", \"24\", \"25\", \"26\", \"27\", \"28\", \"29\", \"30\", \"31\", \"32\", \"33\", \"34\", \"36\", \"37\"], \"mode\": \"markers\", \"name\": \"f1_score_macro\", \"stepped\": false, \"type\": \"scatter\", \"data\": [0.7793127462995201, 0.7792071279572946, 0.7960026042234789, 0.7557805873870079, 0.7795547017346356, 0.7854179797528845, 0.624507281655493, 0.6211449657325118, 0.7719156845906141, 0.7407418262809982, 0.8149163665663757, 0.7667018279631639, 0.7805044049136699, 0.8076803028922189, 0.7982433200704186, 0.7873480381371619, 0.7857931477072079, 0.7318997572668694, 0.8152701388855002, 0.8131447259603559, 0.7929378621034968, 0.482978028460595, 0.8122994962704804, 0.6998642142506826, 0.7877343348818759, 0.7603150994763899, 0.7854329079137823, 0.798953037623472, 0.7909663468180661, 0.744109265894381, 0.7996473573007534, 0.5914200908787149, 0.8099604021752864, 0.8123600842671225, 0.8317703379442225, 0.8239781182718653]}, {\"categories\": [\"0\", \"1\", \"2\", \"3\", \"4\", \"5\", \"6\", \"7\", \"8\", \"9\", \"10\", \"11\", \"12\", \"13\", \"15\", \"16\", \"17\", \"18\", \"19\", \"20\", \"21\", \"22\", \"23\", \"24\", \"25\", \"26\", \"27\", \"28\", \"29\", \"30\", \"31\", \"32\", \"33\", \"34\", \"36\", \"37\"], \"mode\": \"lines\", \"name\": \"f1_score_macro_max\", \"stepped\": true, \"type\": \"scatter\", \"data\": [0.7793127462995201, 0.7793127462995201, 0.7960026042234789, 0.7960026042234789, 0.7960026042234789, 0.7960026042234789, 0.7960026042234789, 0.7960026042234789, 0.7960026042234789, 0.7960026042234789, 0.8149163665663757, 0.8149163665663757, 0.8149163665663757, 0.8149163665663757, 0.8149163665663757, 0.8149163665663757, 0.8149163665663757, 0.8149163665663757, 0.8152701388855002, 0.8152701388855002, 0.8152701388855002, 0.8152701388855002, 0.8152701388855002, 0.8152701388855002, 0.8152701388855002, 0.8152701388855002, 0.8152701388855002, 0.8152701388855002, 0.8152701388855002, 0.8152701388855002, 0.8152701388855002, 0.8152701388855002, 0.8152701388855002, 0.8152701388855002, 0.8317703379442225, 0.8317703379442225]}], \"norm_macro_recall\": [{\"categories\": [\"0\", \"1\", \"2\", \"3\", \"4\", \"5\", \"6\", \"7\", \"8\", \"9\", \"10\", \"11\", \"12\", \"13\", \"15\", \"16\", \"17\", \"18\", \"19\", \"20\", \"21\", \"22\", \"23\", \"24\", \"25\", \"26\", \"27\", \"28\", \"29\", \"30\", \"31\", \"32\", \"33\", \"34\", \"36\", \"37\"], \"mode\": \"markers\", \"name\": \"norm_macro_recall\", \"stepped\": false, \"type\": \"scatter\", \"data\": [0.557634531428649, 0.5479870746635453, 0.5737474740415915, 0.48707426851544494, 0.5485143288084464, 0.5404836960425197, 0.26185280044103576, 0.2559810055692409, 0.534155321449439, 0.4640733406321641, 0.6039474251238957, 0.532598598275069, 0.5218829634417869, 0.5791119011707248, 0.56149651655534, 0.5375446801035038, 0.5645545888487066, 0.43916458960576604, 0.6190366659484308, 0.5907547583135819, 0.5690353372118078, 0.043417079652373756, 0.5969901601666308, 0.36955875461757814, 0.5573347008935243, 0.5044754751519458, 0.5374836960425197, 0.6240863766157883, 0.6128418589889177, 0.44797723191840844, 0.5735226244343892, 0.21208019105077924, 0.5879040795805502, 0.5994757265345502, 0.6305259283200461, 0.6240112763053939]}, {\"categories\": [\"0\", \"1\", \"2\", \"3\", \"4\", \"5\", \"6\", \"7\", \"8\", \"9\", \"10\", \"11\", \"12\", \"13\", \"15\", \"16\", \"17\", \"18\", \"19\", \"20\", \"21\", \"22\", \"23\", \"24\", \"25\", \"26\", \"27\", \"28\", \"29\", \"30\", \"31\", \"32\", \"33\", \"34\", \"36\", \"37\"], \"mode\": \"lines\", \"name\": \"norm_macro_recall_max\", \"stepped\": true, \"type\": \"scatter\", \"data\": [0.557634531428649, 0.557634531428649, 0.5737474740415915, 0.5737474740415915, 0.5737474740415915, 0.5737474740415915, 0.5737474740415915, 0.5737474740415915, 0.5737474740415915, 0.5737474740415915, 0.6039474251238957, 0.6039474251238957, 0.6039474251238957, 0.6039474251238957, 0.6039474251238957, 0.6039474251238957, 0.6039474251238957, 0.6039474251238957, 0.6190366659484308, 0.6190366659484308, 0.6190366659484308, 0.6190366659484308, 0.6190366659484308, 0.6190366659484308, 0.6190366659484308, 0.6190366659484308, 0.6190366659484308, 0.6240863766157883, 0.6240863766157883, 0.6240863766157883, 0.6240863766157883, 0.6240863766157883, 0.6240863766157883, 0.6240863766157883, 0.6305259283200461, 0.6305259283200461]}], \"f1_score_micro\": [{\"categories\": [\"0\", \"1\", \"2\", \"3\", \"4\", \"5\", \"6\", \"7\", \"8\", \"9\", \"10\", \"11\", \"12\", \"13\", \"15\", \"16\", \"17\", \"18\", \"19\", \"20\", \"21\", \"22\", \"23\", \"24\", \"25\", \"26\", \"27\", \"28\", \"29\", \"30\", \"31\", \"32\", \"33\", \"34\", \"36\", \"37\"], \"mode\": \"markers\", \"name\": \"f1_score_micro\", \"stepped\": false, \"type\": \"scatter\", \"data\": [0.8142960812772134, 0.8180696661828737, 0.837155297532656, 0.810522496371553, 0.8181422351233673, 0.8333817126269956, 0.7272133526850508, 0.7272859216255443, 0.8107402031930334, 0.791799709724238, 0.8523947750362844, 0.8067489114658926, 0.8334542815674892, 0.8523222060957909, 0.8447750362844705, 0.837155297532656, 0.8219883889695211, 0.803265602322206, 0.8484034833091437, 0.8560957910014515, 0.8332365747460087, 0.6325108853410739, 0.8522496371552976, 0.7879535558780842, 0.8295355587808417, 0.8067489114658926, 0.8333817126269956, 0.8256168359941946, 0.8180696661828737, 0.8108127721335269, 0.8407837445573296, 0.7427431059506532, 0.8523222060957909, 0.8523947750362846, 0.8674165457184326, 0.8597968069666184]}, {\"categories\": [\"0\", \"1\", \"2\", \"3\", \"4\", \"5\", \"6\", \"7\", \"8\", \"9\", \"10\", \"11\", \"12\", \"13\", \"15\", \"16\", \"17\", \"18\", \"19\", \"20\", \"21\", \"22\", \"23\", \"24\", \"25\", \"26\", \"27\", \"28\", \"29\", \"30\", \"31\", \"32\", \"33\", \"34\", \"36\", \"37\"], \"mode\": \"lines\", \"name\": \"f1_score_micro_max\", \"stepped\": true, \"type\": \"scatter\", \"data\": [0.8142960812772134, 0.8180696661828737, 0.837155297532656, 0.837155297532656, 0.837155297532656, 0.837155297532656, 0.837155297532656, 0.837155297532656, 0.837155297532656, 0.837155297532656, 0.8523947750362844, 0.8523947750362844, 0.8523947750362844, 0.8523947750362844, 0.8523947750362844, 0.8523947750362844, 0.8523947750362844, 0.8523947750362844, 0.8523947750362844, 0.8560957910014515, 0.8560957910014515, 0.8560957910014515, 0.8560957910014515, 0.8560957910014515, 0.8560957910014515, 0.8560957910014515, 0.8560957910014515, 0.8560957910014515, 0.8560957910014515, 0.8560957910014515, 0.8560957910014515, 0.8560957910014515, 0.8560957910014515, 0.8560957910014515, 0.8674165457184326, 0.8674165457184326]}], \"accuracy\": [{\"categories\": [\"0\", \"1\", \"2\", \"3\", \"4\", \"5\", \"6\", \"7\", \"8\", \"9\", \"10\", \"11\", \"12\", \"13\", \"15\", \"16\", \"17\", \"18\", \"19\", \"20\", \"21\", \"22\", \"23\", \"24\", \"25\", \"26\", \"27\", \"28\", \"29\", \"30\", \"31\", \"32\", \"33\", \"34\", \"36\", \"37\"], \"mode\": \"markers\", \"name\": \"accuracy\", \"stepped\": false, \"type\": \"scatter\", \"data\": [0.8142960812772134, 0.8180696661828737, 0.837155297532656, 0.810522496371553, 0.8181422351233673, 0.8333817126269956, 0.7272133526850508, 0.7272859216255443, 0.8107402031930334, 0.7917997097242381, 0.8523947750362844, 0.8067489114658926, 0.833454281567489, 0.8523222060957909, 0.8447750362844705, 0.837155297532656, 0.8219883889695211, 0.8032656023222062, 0.8484034833091437, 0.8560957910014515, 0.8332365747460087, 0.6325108853410739, 0.8522496371552976, 0.7879535558780842, 0.8295355587808417, 0.8067489114658926, 0.8333817126269956, 0.8256168359941946, 0.8180696661828737, 0.8108127721335269, 0.8407837445573294, 0.7427431059506532, 0.8523222060957909, 0.8523947750362844, 0.8674165457184326, 0.8597968069666182]}, {\"categories\": [\"0\", \"1\", \"2\", \"3\", \"4\", \"5\", \"6\", \"7\", \"8\", \"9\", \"10\", \"11\", \"12\", \"13\", \"15\", \"16\", \"17\", \"18\", \"19\", \"20\", \"21\", \"22\", \"23\", \"24\", \"25\", \"26\", \"27\", \"28\", \"29\", \"30\", \"31\", \"32\", \"33\", \"34\", \"36\", \"37\"], \"mode\": \"lines\", \"name\": \"accuracy_max\", \"stepped\": true, \"type\": \"scatter\", \"data\": [0.8142960812772134, 0.8180696661828737, 0.837155297532656, 0.837155297532656, 0.837155297532656, 0.837155297532656, 0.837155297532656, 0.837155297532656, 0.837155297532656, 0.837155297532656, 0.8523947750362844, 0.8523947750362844, 0.8523947750362844, 0.8523947750362844, 0.8523947750362844, 0.8523947750362844, 0.8523947750362844, 0.8523947750362844, 0.8523947750362844, 0.8560957910014515, 0.8560957910014515, 0.8560957910014515, 0.8560957910014515, 0.8560957910014515, 0.8560957910014515, 0.8560957910014515, 0.8560957910014515, 0.8560957910014515, 0.8560957910014515, 0.8560957910014515, 0.8560957910014515, 0.8560957910014515, 0.8560957910014515, 0.8560957910014515, 0.8674165457184326, 0.8674165457184326]}], \"recall_score_macro\": [{\"categories\": [\"0\", \"1\", \"2\", \"3\", \"4\", \"5\", \"6\", \"7\", \"8\", \"9\", \"10\", \"11\", \"12\", \"13\", \"15\", \"16\", \"17\", \"18\", \"19\", \"20\", \"21\", \"22\", \"23\", \"24\", \"25\", \"26\", \"27\", \"28\", \"29\", \"30\", \"31\", \"32\", \"33\", \"34\", \"36\", \"37\"], \"mode\": \"markers\", \"name\": \"recall_score_macro\", \"stepped\": false, \"type\": \"scatter\", \"data\": [0.7788172657143246, 0.7739935373317727, 0.7868737370207958, 0.7435371342577225, 0.7742571644042232, 0.7702418480212598, 0.6309264002205178, 0.6279905027846204, 0.7670776607247195, 0.7320366703160821, 0.8019737125619478, 0.7662992991375346, 0.7609414817208935, 0.7895559505853624, 0.78074825827767, 0.7687723400517519, 0.7822772944243532, 0.719582294802883, 0.8095183329742154, 0.795377379156791, 0.7845176686059039, 0.5078745134921606, 0.7984950800833154, 0.6847793773087891, 0.7786673504467622, 0.7522377375759729, 0.7687418480212598, 0.8120431883078941, 0.806420929494459, 0.7239886159592042, 0.7867613122171945, 0.6060400955253896, 0.7939520397902751, 0.7997378632672751, 0.815262964160023, 0.812005638152697]}, {\"categories\": [\"0\", \"1\", \"2\", \"3\", \"4\", \"5\", \"6\", \"7\", \"8\", \"9\", \"10\", \"11\", \"12\", \"13\", \"15\", \"16\", \"17\", \"18\", \"19\", \"20\", \"21\", \"22\", \"23\", \"24\", \"25\", \"26\", \"27\", \"28\", \"29\", \"30\", \"31\", \"32\", \"33\", \"34\", \"36\", \"37\"], \"mode\": \"lines\", \"name\": \"recall_score_macro_max\", \"stepped\": true, \"type\": \"scatter\", \"data\": [0.7788172657143246, 0.7788172657143246, 0.7868737370207958, 0.7868737370207958, 0.7868737370207958, 0.7868737370207958, 0.7868737370207958, 0.7868737370207958, 0.7868737370207958, 0.7868737370207958, 0.8019737125619478, 0.8019737125619478, 0.8019737125619478, 0.8019737125619478, 0.8019737125619478, 0.8019737125619478, 0.8019737125619478, 0.8019737125619478, 0.8095183329742154, 0.8095183329742154, 0.8095183329742154, 0.8095183329742154, 0.8095183329742154, 0.8095183329742154, 0.8095183329742154, 0.8095183329742154, 0.8095183329742154, 0.8120431883078941, 0.8120431883078941, 0.8120431883078941, 0.8120431883078941, 0.8120431883078941, 0.8120431883078941, 0.8120431883078941, 0.815262964160023, 0.815262964160023]}], \"matthews_correlation\": [{\"categories\": [\"0\", \"1\", \"2\", \"3\", \"4\", \"5\", \"6\", \"7\", \"8\", \"9\", \"10\", \"11\", \"12\", \"13\", \"15\", \"16\", \"17\", \"18\", \"19\", \"20\", \"21\", \"22\", \"23\", \"24\", \"25\", \"26\", \"27\", \"28\", \"29\", \"30\", \"31\", \"32\", \"33\", \"34\", \"36\", \"37\"], \"mode\": \"markers\", \"name\": \"matthews_correlation\", \"stepped\": false, \"type\": \"scatter\", \"data\": [0.5622664058320236, 0.5644306862485002, 0.595300138290529, 0.5311731208621788, 0.5696404600249906, 0.5916079660626636, 0.3170210253373712, 0.3171720971891613, 0.5474468272725853, 0.4891475693017114, 0.6411457939811458, 0.5433247510342456, 0.5958893012196274, 0.6337555298449029, 0.6204355663872283, 0.5923427707785129, 0.5754755969125446, 0.5041100801795443, 0.6385307751595409, 0.6437168468550453, 0.5972147111541348, 0.020097887784276125, 0.6375261127980651, 0.4648581401456994, 0.5880742474721684, 0.5337053489981153, 0.5945166210372691, 0.6055279425673659, 0.5934261480794539, 0.5421528801903044, 0.6147133245429053, 0.35998714087021877, 0.6380771988499204, 0.6371495105351895, 0.6743992112284115, 0.6613212692889034]}, {\"categories\": [\"0\", \"1\", \"2\", \"3\", \"4\", \"5\", \"6\", \"7\", \"8\", \"9\", \"10\", \"11\", \"12\", \"13\", \"15\", \"16\", \"17\", \"18\", \"19\", \"20\", \"21\", \"22\", \"23\", \"24\", \"25\", \"26\", \"27\", \"28\", \"29\", \"30\", \"31\", \"32\", \"33\", \"34\", \"36\", \"37\"], \"mode\": \"lines\", \"name\": \"matthews_correlation_max\", \"stepped\": true, \"type\": \"scatter\", \"data\": [0.5622664058320236, 0.5644306862485002, 0.595300138290529, 0.595300138290529, 0.595300138290529, 0.595300138290529, 0.595300138290529, 0.595300138290529, 0.595300138290529, 0.595300138290529, 0.6411457939811458, 0.6411457939811458, 0.6411457939811458, 0.6411457939811458, 0.6411457939811458, 0.6411457939811458, 0.6411457939811458, 0.6411457939811458, 0.6411457939811458, 0.6437168468550453, 0.6437168468550453, 0.6437168468550453, 0.6437168468550453, 0.6437168468550453, 0.6437168468550453, 0.6437168468550453, 0.6437168468550453, 0.6437168468550453, 0.6437168468550453, 0.6437168468550453, 0.6437168468550453, 0.6437168468550453, 0.6437168468550453, 0.6437168468550453, 0.6743992112284115, 0.6743992112284115]}], \"precision_score_macro\": [{\"categories\": [\"0\", \"1\", \"2\", \"3\", \"4\", \"5\", \"6\", \"7\", \"8\", \"9\", \"10\", \"11\", \"12\", \"13\", \"15\", \"16\", \"17\", \"18\", \"19\", \"20\", \"21\", \"22\", \"23\", \"24\", \"25\", \"26\", \"27\", \"28\", \"29\", \"30\", \"31\", \"32\", \"33\", \"34\", \"36\", \"37\"], \"mode\": \"markers\", \"name\": \"precision_score_macro\", \"stepped\": false, \"type\": \"scatter\", \"data\": [0.7839463627507106, 0.7914803166452717, 0.8089679804356003, 0.7916824384964629, 0.7975881631695585, 0.8257216281780236, 0.7004664931830673, 0.7044943588037623, 0.780727465102465, 0.7579443117857751, 0.8416148226272526, 0.777879579141189, 0.8428472796723554, 0.8482483436123477, 0.8453736756699998, 0.8271272580049776, 0.7935917170785591, 0.7923688294909226, 0.8306628560938906, 0.8517334054834056, 0.8150847384100363, 0.5133196707176442, 0.8418178297406884, 0.7989851664851665, 0.8112306264552736, 0.7833972289143691, 0.8307348207348207, 0.7940866018413468, 0.7876724052091699, 0.8308859415004758, 0.8313851250607888, 0.8249038461538462, 0.8478997729912363, 0.839737074519683, 0.8613725708063423, 0.8523068335393917]}, {\"categories\": [\"0\", \"1\", \"2\", \"3\", \"4\", \"5\", \"6\", \"7\", \"8\", \"9\", \"10\", \"11\", \"12\", \"13\", \"15\", \"16\", \"17\", \"18\", \"19\", \"20\", \"21\", \"22\", \"23\", \"24\", \"25\", \"26\", \"27\", \"28\", \"29\", \"30\", \"31\", \"32\", \"33\", \"34\", \"36\", \"37\"], \"mode\": \"lines\", \"name\": \"precision_score_macro_max\", \"stepped\": true, \"type\": \"scatter\", \"data\": [0.7839463627507106, 0.7914803166452717, 0.8089679804356003, 0.8089679804356003, 0.8089679804356003, 0.8257216281780236, 0.8257216281780236, 0.8257216281780236, 0.8257216281780236, 0.8257216281780236, 0.8416148226272526, 0.8416148226272526, 0.8428472796723554, 0.8482483436123477, 0.8482483436123477, 0.8482483436123477, 0.8482483436123477, 0.8482483436123477, 0.8482483436123477, 0.8517334054834056, 0.8517334054834056, 0.8517334054834056, 0.8517334054834056, 0.8517334054834056, 0.8517334054834056, 0.8517334054834056, 0.8517334054834056, 0.8517334054834056, 0.8517334054834056, 0.8517334054834056, 0.8517334054834056, 0.8517334054834056, 0.8517334054834056, 0.8517334054834056, 0.8613725708063423, 0.8613725708063423]}], \"balanced_accuracy\": [{\"categories\": [\"0\", \"1\", \"2\", \"3\", \"4\", \"5\", \"6\", \"7\", \"8\", \"9\", \"10\", \"11\", \"12\", \"13\", \"15\", \"16\", \"17\", \"18\", \"19\", \"20\", \"21\", \"22\", \"23\", \"24\", \"25\", \"26\", \"27\", \"28\", \"29\", \"30\", \"31\", \"32\", \"33\", \"34\", \"36\", \"37\"], \"mode\": \"markers\", \"name\": \"balanced_accuracy\", \"stepped\": false, \"type\": \"scatter\", \"data\": [0.7788172657143246, 0.7739935373317727, 0.7868737370207958, 0.7435371342577225, 0.7742571644042232, 0.7702418480212598, 0.6309264002205178, 0.6279905027846204, 0.7670776607247195, 0.7320366703160821, 0.8019737125619478, 0.7662992991375346, 0.7609414817208935, 0.7895559505853624, 0.78074825827767, 0.7687723400517519, 0.7822772944243532, 0.719582294802883, 0.8095183329742154, 0.795377379156791, 0.7845176686059039, 0.5078745134921606, 0.7984950800833154, 0.6847793773087891, 0.7786673504467622, 0.7522377375759729, 0.7687418480212598, 0.8120431883078941, 0.806420929494459, 0.7239886159592042, 0.7867613122171945, 0.6060400955253896, 0.7939520397902751, 0.7997378632672751, 0.815262964160023, 0.812005638152697]}, {\"categories\": [\"0\", \"1\", \"2\", \"3\", \"4\", \"5\", \"6\", \"7\", \"8\", \"9\", \"10\", \"11\", \"12\", \"13\", \"15\", \"16\", \"17\", \"18\", \"19\", \"20\", \"21\", \"22\", \"23\", \"24\", \"25\", \"26\", \"27\", \"28\", \"29\", \"30\", \"31\", \"32\", \"33\", \"34\", \"36\", \"37\"], \"mode\": \"lines\", \"name\": \"balanced_accuracy_max\", \"stepped\": true, \"type\": \"scatter\", \"data\": [0.7788172657143246, 0.7788172657143246, 0.7868737370207958, 0.7868737370207958, 0.7868737370207958, 0.7868737370207958, 0.7868737370207958, 0.7868737370207958, 0.7868737370207958, 0.7868737370207958, 0.8019737125619478, 0.8019737125619478, 0.8019737125619478, 0.8019737125619478, 0.8019737125619478, 0.8019737125619478, 0.8019737125619478, 0.8019737125619478, 0.8095183329742154, 0.8095183329742154, 0.8095183329742154, 0.8095183329742154, 0.8095183329742154, 0.8095183329742154, 0.8095183329742154, 0.8095183329742154, 0.8095183329742154, 0.8120431883078941, 0.8120431883078941, 0.8120431883078941, 0.8120431883078941, 0.8120431883078941, 0.8120431883078941, 0.8120431883078941, 0.815262964160023, 0.815262964160023]}], \"AUC_micro\": [{\"categories\": [\"0\", \"1\", \"2\", \"3\", \"4\", \"5\", \"6\", \"7\", \"8\", \"9\", \"10\", \"11\", \"12\", \"13\", \"15\", \"16\", \"17\", \"18\", \"19\", \"20\", \"21\", \"22\", \"23\", \"24\", \"25\", \"26\", \"27\", \"28\", \"29\", \"30\", \"31\", \"32\", \"33\", \"34\", \"36\", \"37\"], \"mode\": \"markers\", \"name\": \"AUC_micro\", \"stepped\": false, \"type\": \"scatter\", \"data\": [0.880288501035345, 0.8771287503607382, 0.9118541206308548, 0.9050915432432944, 0.9122405581383592, 0.9037843543892098, 0.7819489631804786, 0.7786589122874278, 0.8804951750607198, 0.8718661856121808, 0.9178404262714309, 0.8641531288904429, 0.89503231898315, 0.9117200155459733, 0.9128370927344692, 0.9115361443879667, 0.890227391457298, 0.9023499855704719, 0.9176703790226259, 0.9134315734926408, 0.9226329254446295, 0.6453766001504041, 0.9195271011815361, 0.8752111766700862, 0.9059597637349096, 0.8900283008335421, 0.9107916544665182, 0.9148065126674405, 0.8967674434035992, 0.8939802273335286, 0.9101087270207131, 0.8511608660665949, 0.9165671257433313, 0.9199059026249102, 0.9195243363996959, 0.9181625628527073]}, {\"categories\": [\"0\", \"1\", \"2\", \"3\", \"4\", \"5\", \"6\", \"7\", \"8\", \"9\", \"10\", \"11\", \"12\", \"13\", \"15\", \"16\", \"17\", \"18\", \"19\", \"20\", \"21\", \"22\", \"23\", \"24\", \"25\", \"26\", \"27\", \"28\", \"29\", \"30\", \"31\", \"32\", \"33\", \"34\", \"36\", \"37\"], \"mode\": \"lines\", \"name\": \"AUC_micro_max\", \"stepped\": true, \"type\": \"scatter\", \"data\": [0.880288501035345, 0.880288501035345, 0.9118541206308548, 0.9118541206308548, 0.9122405581383592, 0.9122405581383592, 0.9122405581383592, 0.9122405581383592, 0.9122405581383592, 0.9122405581383592, 0.9178404262714309, 0.9178404262714309, 0.9178404262714309, 0.9178404262714309, 0.9178404262714309, 0.9178404262714309, 0.9178404262714309, 0.9178404262714309, 0.9178404262714309, 0.9178404262714309, 0.9226329254446295, 0.9226329254446295, 0.9226329254446295, 0.9226329254446295, 0.9226329254446295, 0.9226329254446295, 0.9226329254446295, 0.9226329254446295, 0.9226329254446295, 0.9226329254446295, 0.9226329254446295, 0.9226329254446295, 0.9226329254446295, 0.9226329254446295, 0.9226329254446295, 0.9226329254446295]}], \"AUC_weighted\": [{\"categories\": [\"0\", \"1\", \"2\", \"3\", \"4\", \"5\", \"6\", \"7\", \"8\", \"9\", \"10\", \"11\", \"12\", \"13\", \"15\", \"16\", \"17\", \"18\", \"19\", \"20\", \"21\", \"22\", \"23\", \"24\", \"25\", \"26\", \"27\", \"28\", \"29\", \"30\", \"31\", \"32\", \"33\", \"34\", \"36\", \"37\"], \"mode\": \"markers\", \"name\": \"AUC_weighted\", \"stepped\": false, \"type\": \"scatter\", \"data\": [0.8530364386812351, 0.8406365545098577, 0.8923900952566111, 0.8919495961079672, 0.8939302611497182, 0.8874415384257013, 0.7249903810130054, 0.7260139816361536, 0.8422236421942305, 0.8321595798722494, 0.9008139909090135, 0.8254220712433382, 0.8898342306803846, 0.902349468632274, 0.9018918594891445, 0.8968187126015179, 0.8576494822354551, 0.9012876577786081, 0.9038330289042958, 0.899270868451864, 0.903173311619013, 0.47344673600555953, 0.9063274260287834, 0.8601237469133396, 0.8860101289196312, 0.8540332895672262, 0.9013741481026549, 0.9047735165178603, 0.8843577561201995, 0.9044175105193206, 0.8874273644635636, 0.870651360698872, 0.906266407773195, 0.9064491771120732, 0.9037046791956292, 0.9028069615286809]}, {\"categories\": [\"0\", \"1\", \"2\", \"3\", \"4\", \"5\", \"6\", \"7\", \"8\", \"9\", \"10\", \"11\", \"12\", \"13\", \"15\", \"16\", \"17\", \"18\", \"19\", \"20\", \"21\", \"22\", \"23\", \"24\", \"25\", \"26\", \"27\", \"28\", \"29\", \"30\", \"31\", \"32\", \"33\", \"34\", \"36\", \"37\"], \"mode\": \"lines\", \"name\": \"AUC_weighted_max\", \"stepped\": true, \"type\": \"scatter\", \"data\": [0.8530364386812351, 0.8530364386812351, 0.8923900952566111, 0.8923900952566111, 0.8939302611497182, 0.8939302611497182, 0.8939302611497182, 0.8939302611497182, 0.8939302611497182, 0.8939302611497182, 0.9008139909090135, 0.9008139909090135, 0.9008139909090135, 0.902349468632274, 0.902349468632274, 0.902349468632274, 0.902349468632274, 0.902349468632274, 0.9038330289042958, 0.9038330289042958, 0.9038330289042958, 0.9038330289042958, 0.9063274260287834, 0.9063274260287834, 0.9063274260287834, 0.9063274260287834, 0.9063274260287834, 0.9063274260287834, 0.9063274260287834, 0.9063274260287834, 0.9063274260287834, 0.9063274260287834, 0.9063274260287834, 0.9064491771120732, 0.9064491771120732, 0.9064491771120732]}], \"precision_score_weighted\": [{\"categories\": [\"0\", \"1\", \"2\", \"3\", \"4\", \"5\", \"6\", \"7\", \"8\", \"9\", \"10\", \"11\", \"12\", \"13\", \"15\", \"16\", \"17\", \"18\", \"19\", \"20\", \"21\", \"22\", \"23\", \"24\", \"25\", \"26\", \"27\", \"28\", \"29\", \"30\", \"31\", \"32\", \"33\", \"34\", \"36\", \"37\"], \"mode\": \"markers\", \"name\": \"precision_score_weighted\", \"stepped\": false, \"type\": \"scatter\", \"data\": [0.8172885512902945, 0.8199137312820797, 0.8340087540454109, 0.8101055555887585, 0.8245013688980342, 0.8371091107225377, 0.7302120673663646, 0.7291495249678281, 0.81108553141572, 0.7877869589759834, 0.853574096539402, 0.8122187158208538, 0.842270695062442, 0.8540780633168122, 0.8494606103232906, 0.8354929277937388, 0.8235495652303001, 0.8003983940831242, 0.8524434379224555, 0.8580577336709412, 0.8371683491029802, 0.5922568886942066, 0.8543257699787628, 0.7967956936824862, 0.8322294540056789, 0.8097309926043129, 0.8382280193600948, 0.838335088190969, 0.8346106413933828, 0.8248950881817274, 0.8452786453462157, 0.7998382317368166, 0.8562571693531197, 0.8526845590832466, 0.8683534130463084, 0.8638906500249194]}, {\"categories\": [\"0\", \"1\", \"2\", \"3\", \"4\", \"5\", \"6\", \"7\", \"8\", \"9\", \"10\", \"11\", \"12\", \"13\", \"15\", \"16\", \"17\", \"18\", \"19\", \"20\", \"21\", \"22\", \"23\", \"24\", \"25\", \"26\", \"27\", \"28\", \"29\", \"30\", \"31\", \"32\", \"33\", \"34\", \"36\", \"37\"], \"mode\": \"lines\", \"name\": \"precision_score_weighted_max\", \"stepped\": true, \"type\": \"scatter\", \"data\": [0.8172885512902945, 0.8199137312820797, 0.8340087540454109, 0.8340087540454109, 0.8340087540454109, 0.8371091107225377, 0.8371091107225377, 0.8371091107225377, 0.8371091107225377, 0.8371091107225377, 0.853574096539402, 0.853574096539402, 0.853574096539402, 0.8540780633168122, 0.8540780633168122, 0.8540780633168122, 0.8540780633168122, 0.8540780633168122, 0.8540780633168122, 0.8580577336709412, 0.8580577336709412, 0.8580577336709412, 0.8580577336709412, 0.8580577336709412, 0.8580577336709412, 0.8580577336709412, 0.8580577336709412, 0.8580577336709412, 0.8580577336709412, 0.8580577336709412, 0.8580577336709412, 0.8580577336709412, 0.8580577336709412, 0.8580577336709412, 0.8683534130463084, 0.8683534130463084]}], \"weighted_accuracy\": [{\"categories\": [\"0\", \"1\", \"2\", \"3\", \"4\", \"5\", \"6\", \"7\", \"8\", \"9\", \"10\", \"11\", \"12\", \"13\", \"15\", \"16\", \"17\", \"18\", \"19\", \"20\", \"21\", \"22\", \"23\", \"24\", \"25\", \"26\", \"27\", \"28\", \"29\", \"30\", \"31\", \"32\", \"33\", \"34\", \"36\", \"37\"], \"mode\": \"markers\", \"name\": \"weighted_accuracy\", \"stepped\": false, \"type\": \"scatter\", \"data\": [0.8383201133723196, 0.8479427827703676, 0.8699074337611403, 0.8562516960514908, 0.8477930502545187, 0.8762047524987107, 0.794271381885247, 0.7963118634205774, 0.8396079402135594, 0.8317829812029072, 0.8865228921208852, 0.8334105702341134, 0.8828279024618328, 0.89440892896225, 0.8883916083088602, 0.88279160830886, 0.8485077075266843, 0.8606974396622992, 0.8743936031133627, 0.89680399365625, 0.8661901138120658, 0.7171238468742182, 0.8884602487575723, 0.8562039610282641, 0.8643727951535786, 0.8437918083300439, 0.8771784654584011, 0.8341137135359992, 0.8247358091930475, 0.8696748793153807, 0.8762324010495336, 0.8354639004156944, 0.8919580704532647, 0.8883409722722468, 0.9021381374764863, 0.8920507650901784]}, {\"categories\": [\"0\", \"1\", \"2\", \"3\", \"4\", \"5\", \"6\", \"7\", \"8\", \"9\", \"10\", \"11\", \"12\", \"13\", \"15\", \"16\", \"17\", \"18\", \"19\", \"20\", \"21\", \"22\", \"23\", \"24\", \"25\", \"26\", \"27\", \"28\", \"29\", \"30\", \"31\", \"32\", \"33\", \"34\", \"36\", \"37\"], \"mode\": \"lines\", \"name\": \"weighted_accuracy_max\", \"stepped\": true, \"type\": \"scatter\", \"data\": [0.8383201133723196, 0.8479427827703676, 0.8699074337611403, 0.8699074337611403, 0.8699074337611403, 0.8762047524987107, 0.8762047524987107, 0.8762047524987107, 0.8762047524987107, 0.8762047524987107, 0.8865228921208852, 0.8865228921208852, 0.8865228921208852, 0.89440892896225, 0.89440892896225, 0.89440892896225, 0.89440892896225, 0.89440892896225, 0.89440892896225, 0.89680399365625, 0.89680399365625, 0.89680399365625, 0.89680399365625, 0.89680399365625, 0.89680399365625, 0.89680399365625, 0.89680399365625, 0.89680399365625, 0.89680399365625, 0.89680399365625, 0.89680399365625, 0.89680399365625, 0.89680399365625, 0.89680399365625, 0.9021381374764863, 0.9021381374764863]}], \"f1_score_weighted\": [{\"categories\": [\"0\", \"1\", \"2\", \"3\", \"4\", \"5\", \"6\", \"7\", \"8\", \"9\", \"10\", \"11\", \"12\", \"13\", \"15\", \"16\", \"17\", \"18\", \"19\", \"20\", \"21\", \"22\", \"23\", \"24\", \"25\", \"26\", \"27\", \"28\", \"29\", \"30\", \"31\", \"32\", \"33\", \"34\", \"36\", \"37\"], \"mode\": \"markers\", \"name\": \"f1_score_weighted\", \"stepped\": false, \"type\": \"scatter\", \"data\": [0.8142792639724217, 0.8164330227093416, 0.8342143724493649, 0.8018091992756616, 0.8168205014368797, 0.8262492626432124, 0.6975441369373643, 0.6937297552107559, 0.8092512549716255, 0.7863790961783812, 0.848170329042949, 0.8049671845531201, 0.8224838555970896, 0.8454648869930736, 0.8367906010765778, 0.8289811200358527, 0.820992256655203, 0.7845174492711411, 0.8471313750750091, 0.8496541277075643, 0.8303726422210562, 0.5877337847219535, 0.8477713944126976, 0.7647324169808815, 0.8252488871406285, 0.8023621295635903, 0.8256027238466664, 0.8286984349408926, 0.8211376819584597, 0.7939194712729262, 0.8363924861219767, 0.6826365159696968, 0.8463763440841401, 0.8471949624418429, 0.8633266212137445, 0.8562639425022048]}, {\"categories\": [\"0\", \"1\", \"2\", \"3\", \"4\", \"5\", \"6\", \"7\", \"8\", \"9\", \"10\", \"11\", \"12\", \"13\", \"15\", \"16\", \"17\", \"18\", \"19\", \"20\", \"21\", \"22\", \"23\", \"24\", \"25\", \"26\", \"27\", \"28\", \"29\", \"30\", \"31\", \"32\", \"33\", \"34\", \"36\", \"37\"], \"mode\": \"lines\", \"name\": \"f1_score_weighted_max\", \"stepped\": true, \"type\": \"scatter\", \"data\": [0.8142792639724217, 0.8164330227093416, 0.8342143724493649, 0.8342143724493649, 0.8342143724493649, 0.8342143724493649, 0.8342143724493649, 0.8342143724493649, 0.8342143724493649, 0.8342143724493649, 0.848170329042949, 0.848170329042949, 0.848170329042949, 0.848170329042949, 0.848170329042949, 0.848170329042949, 0.848170329042949, 0.848170329042949, 0.848170329042949, 0.8496541277075643, 0.8496541277075643, 0.8496541277075643, 0.8496541277075643, 0.8496541277075643, 0.8496541277075643, 0.8496541277075643, 0.8496541277075643, 0.8496541277075643, 0.8496541277075643, 0.8496541277075643, 0.8496541277075643, 0.8496541277075643, 0.8496541277075643, 0.8496541277075643, 0.8633266212137445, 0.8633266212137445]}], \"precision_score_micro\": [{\"categories\": [\"0\", \"1\", \"2\", \"3\", \"4\", \"5\", \"6\", \"7\", \"8\", \"9\", \"10\", \"11\", \"12\", \"13\", \"15\", \"16\", \"17\", \"18\", \"19\", \"20\", \"21\", \"22\", \"23\", \"24\", \"25\", \"26\", \"27\", \"28\", \"29\", \"30\", \"31\", \"32\", \"33\", \"34\", \"36\", \"37\"], \"mode\": \"markers\", \"name\": \"precision_score_micro\", \"stepped\": false, \"type\": \"scatter\", \"data\": [0.8142960812772134, 0.8180696661828737, 0.837155297532656, 0.810522496371553, 0.8181422351233673, 0.8333817126269956, 0.7272133526850508, 0.7272859216255443, 0.8107402031930334, 0.7917997097242381, 0.8523947750362844, 0.8067489114658926, 0.833454281567489, 0.8523222060957909, 0.8447750362844705, 0.837155297532656, 0.8219883889695211, 0.8032656023222062, 0.8484034833091437, 0.8560957910014515, 0.8332365747460087, 0.6325108853410739, 0.8522496371552976, 0.7879535558780842, 0.8295355587808417, 0.8067489114658926, 0.8333817126269956, 0.8256168359941946, 0.8180696661828737, 0.8108127721335269, 0.8407837445573294, 0.7427431059506532, 0.8523222060957909, 0.8523947750362844, 0.8674165457184326, 0.8597968069666182]}, {\"categories\": [\"0\", \"1\", \"2\", \"3\", \"4\", \"5\", \"6\", \"7\", \"8\", \"9\", \"10\", \"11\", \"12\", \"13\", \"15\", \"16\", \"17\", \"18\", \"19\", \"20\", \"21\", \"22\", \"23\", \"24\", \"25\", \"26\", \"27\", \"28\", \"29\", \"30\", \"31\", \"32\", \"33\", \"34\", \"36\", \"37\"], \"mode\": \"lines\", \"name\": \"precision_score_micro_max\", \"stepped\": true, \"type\": \"scatter\", \"data\": [0.8142960812772134, 0.8180696661828737, 0.837155297532656, 0.837155297532656, 0.837155297532656, 0.837155297532656, 0.837155297532656, 0.837155297532656, 0.837155297532656, 0.837155297532656, 0.8523947750362844, 0.8523947750362844, 0.8523947750362844, 0.8523947750362844, 0.8523947750362844, 0.8523947750362844, 0.8523947750362844, 0.8523947750362844, 0.8523947750362844, 0.8560957910014515, 0.8560957910014515, 0.8560957910014515, 0.8560957910014515, 0.8560957910014515, 0.8560957910014515, 0.8560957910014515, 0.8560957910014515, 0.8560957910014515, 0.8560957910014515, 0.8560957910014515, 0.8560957910014515, 0.8560957910014515, 0.8560957910014515, 0.8560957910014515, 0.8674165457184326, 0.8674165457184326]}], \"average_precision_score_weighted\": [{\"categories\": [\"0\", \"1\", \"2\", \"3\", \"4\", \"5\", \"6\", \"7\", \"8\", \"9\", \"10\", \"11\", \"12\", \"13\", \"15\", \"16\", \"17\", \"18\", \"19\", \"20\", \"21\", \"22\", \"23\", \"24\", \"25\", \"26\", \"27\", \"28\", \"29\", \"30\", \"31\", \"32\", \"33\", \"34\", \"36\", \"37\"], \"mode\": \"markers\", \"name\": \"average_precision_score_weighted\", \"stepped\": false, \"type\": \"scatter\", \"data\": [0.8745924674256582, 0.8634243796653835, 0.9015979458535941, 0.8938407695141437, 0.9092304846820385, 0.8937782444971137, 0.7573428468346126, 0.7556361324969962, 0.8633855376835478, 0.8532979017733412, 0.9113846316706651, 0.8376628744679253, 0.905505337667617, 0.9152533446868283, 0.9121853229625879, 0.9103523743765501, 0.8774594444831421, 0.9067629594769139, 0.917519774106944, 0.9122508047275784, 0.9100975934423025, 0.5971092504509042, 0.9198214191747869, 0.8832240665086809, 0.8966796664711623, 0.8840869240121286, 0.9147311522165318, 0.9171453295938484, 0.8973568064471069, 0.9189272309772658, 0.9038740922235553, 0.8909761100439697, 0.9174182583082459, 0.9176542434598419, 0.9155386520214981, 0.9159948352319625]}, {\"categories\": [\"0\", \"1\", \"2\", \"3\", \"4\", \"5\", \"6\", \"7\", \"8\", \"9\", \"10\", \"11\", \"12\", \"13\", \"15\", \"16\", \"17\", \"18\", \"19\", \"20\", \"21\", \"22\", \"23\", \"24\", \"25\", \"26\", \"27\", \"28\", \"29\", \"30\", \"31\", \"32\", \"33\", \"34\", \"36\", \"37\"], \"mode\": \"lines\", \"name\": \"average_precision_score_weighted_max\", \"stepped\": true, \"type\": \"scatter\", \"data\": [0.8745924674256582, 0.8745924674256582, 0.9015979458535941, 0.9015979458535941, 0.9092304846820385, 0.9092304846820385, 0.9092304846820385, 0.9092304846820385, 0.9092304846820385, 0.9092304846820385, 0.9113846316706651, 0.9113846316706651, 0.9113846316706651, 0.9152533446868283, 0.9152533446868283, 0.9152533446868283, 0.9152533446868283, 0.9152533446868283, 0.917519774106944, 0.917519774106944, 0.917519774106944, 0.917519774106944, 0.9198214191747869, 0.9198214191747869, 0.9198214191747869, 0.9198214191747869, 0.9198214191747869, 0.9198214191747869, 0.9198214191747869, 0.9198214191747869, 0.9198214191747869, 0.9198214191747869, 0.9198214191747869, 0.9198214191747869, 0.9198214191747869, 0.9198214191747869]}], \"recall_score_micro\": [{\"categories\": [\"0\", \"1\", \"2\", \"3\", \"4\", \"5\", \"6\", \"7\", \"8\", \"9\", \"10\", \"11\", \"12\", \"13\", \"15\", \"16\", \"17\", \"18\", \"19\", \"20\", \"21\", \"22\", \"23\", \"24\", \"25\", \"26\", \"27\", \"28\", \"29\", \"30\", \"31\", \"32\", \"33\", \"34\", \"36\", \"37\"], \"mode\": \"markers\", \"name\": \"recall_score_micro\", \"stepped\": false, \"type\": \"scatter\", \"data\": [0.8142960812772134, 0.8180696661828737, 0.837155297532656, 0.810522496371553, 0.8181422351233673, 0.8333817126269956, 0.7272133526850508, 0.7272859216255443, 0.8107402031930334, 0.7917997097242381, 0.8523947750362844, 0.8067489114658926, 0.833454281567489, 0.8523222060957909, 0.8447750362844705, 0.837155297532656, 0.8219883889695211, 0.8032656023222062, 0.8484034833091437, 0.8560957910014515, 0.8332365747460087, 0.6325108853410739, 0.8522496371552976, 0.7879535558780842, 0.8295355587808417, 0.8067489114658926, 0.8333817126269956, 0.8256168359941946, 0.8180696661828737, 0.8108127721335269, 0.8407837445573294, 0.7427431059506532, 0.8523222060957909, 0.8523947750362844, 0.8674165457184326, 0.8597968069666182]}, {\"categories\": [\"0\", \"1\", \"2\", \"3\", \"4\", \"5\", \"6\", \"7\", \"8\", \"9\", \"10\", \"11\", \"12\", \"13\", \"15\", \"16\", \"17\", \"18\", \"19\", \"20\", \"21\", \"22\", \"23\", \"24\", \"25\", \"26\", \"27\", \"28\", \"29\", \"30\", \"31\", \"32\", \"33\", \"34\", \"36\", \"37\"], \"mode\": \"lines\", \"name\": \"recall_score_micro_max\", \"stepped\": true, \"type\": \"scatter\", \"data\": [0.8142960812772134, 0.8180696661828737, 0.837155297532656, 0.837155297532656, 0.837155297532656, 0.837155297532656, 0.837155297532656, 0.837155297532656, 0.837155297532656, 0.837155297532656, 0.8523947750362844, 0.8523947750362844, 0.8523947750362844, 0.8523947750362844, 0.8523947750362844, 0.8523947750362844, 0.8523947750362844, 0.8523947750362844, 0.8523947750362844, 0.8560957910014515, 0.8560957910014515, 0.8560957910014515, 0.8560957910014515, 0.8560957910014515, 0.8560957910014515, 0.8560957910014515, 0.8560957910014515, 0.8560957910014515, 0.8560957910014515, 0.8560957910014515, 0.8560957910014515, 0.8560957910014515, 0.8560957910014515, 0.8560957910014515, 0.8674165457184326, 0.8674165457184326]}], \"recall_score_weighted\": [{\"categories\": [\"0\", \"1\", \"2\", \"3\", \"4\", \"5\", \"6\", \"7\", \"8\", \"9\", \"10\", \"11\", \"12\", \"13\", \"15\", \"16\", \"17\", \"18\", \"19\", \"20\", \"21\", \"22\", \"23\", \"24\", \"25\", \"26\", \"27\", \"28\", \"29\", \"30\", \"31\", \"32\", \"33\", \"34\", \"36\", \"37\"], \"mode\": \"markers\", \"name\": \"recall_score_weighted\", \"stepped\": false, \"type\": \"scatter\", \"data\": [0.8142960812772134, 0.8180696661828737, 0.837155297532656, 0.810522496371553, 0.8181422351233673, 0.8333817126269956, 0.7272133526850508, 0.7272859216255443, 0.8107402031930334, 0.7917997097242381, 0.8523947750362844, 0.8067489114658926, 0.833454281567489, 0.8523222060957909, 0.8447750362844705, 0.837155297532656, 0.8219883889695211, 0.8032656023222062, 0.8484034833091437, 0.8560957910014515, 0.8332365747460087, 0.6325108853410739, 0.8522496371552976, 0.7879535558780842, 0.8295355587808417, 0.8067489114658926, 0.8333817126269956, 0.8256168359941946, 0.8180696661828737, 0.8108127721335269, 0.8407837445573294, 0.7427431059506532, 0.8523222060957909, 0.8523947750362844, 0.8674165457184326, 0.8597968069666182]}, {\"categories\": [\"0\", \"1\", \"2\", \"3\", \"4\", \"5\", \"6\", \"7\", \"8\", \"9\", \"10\", \"11\", \"12\", \"13\", \"15\", \"16\", \"17\", \"18\", \"19\", \"20\", \"21\", \"22\", \"23\", \"24\", \"25\", \"26\", \"27\", \"28\", \"29\", \"30\", \"31\", \"32\", \"33\", \"34\", \"36\", \"37\"], \"mode\": \"lines\", \"name\": \"recall_score_weighted_max\", \"stepped\": true, \"type\": \"scatter\", \"data\": [0.8142960812772134, 0.8180696661828737, 0.837155297532656, 0.837155297532656, 0.837155297532656, 0.837155297532656, 0.837155297532656, 0.837155297532656, 0.837155297532656, 0.837155297532656, 0.8523947750362844, 0.8523947750362844, 0.8523947750362844, 0.8523947750362844, 0.8523947750362844, 0.8523947750362844, 0.8523947750362844, 0.8523947750362844, 0.8523947750362844, 0.8560957910014515, 0.8560957910014515, 0.8560957910014515, 0.8560957910014515, 0.8560957910014515, 0.8560957910014515, 0.8560957910014515, 0.8560957910014515, 0.8560957910014515, 0.8560957910014515, 0.8560957910014515, 0.8560957910014515, 0.8560957910014515, 0.8560957910014515, 0.8560957910014515, 0.8674165457184326, 0.8674165457184326]}], \"average_precision_score_micro\": [{\"categories\": [\"0\", \"1\", \"2\", \"3\", \"4\", \"5\", \"6\", \"7\", \"8\", \"9\", \"10\", \"11\", \"12\", \"13\", \"15\", \"16\", \"17\", \"18\", \"19\", \"20\", \"21\", \"22\", \"23\", \"24\", \"25\", \"26\", \"27\", \"28\", \"29\", \"30\", \"31\", \"32\", \"33\", \"34\", \"36\", \"37\"], \"mode\": \"markers\", \"name\": \"average_precision_score_micro\", \"stepped\": false, \"type\": \"scatter\", \"data\": [0.8799897275256466, 0.8727216962728861, 0.9120928296667952, 0.9030033395743468, 0.9152083737086988, 0.8983224753006613, 0.771034763613646, 0.7636247548785768, 0.8736234635122557, 0.8690266459346645, 0.9175557612295501, 0.853295321392699, 0.8969276777009485, 0.9104156369925374, 0.9109453799825438, 0.9158328043006007, 0.8865765452423909, 0.9032845299940021, 0.9186657559444523, 0.9126601994509533, 0.9237644201830173, 0.6306194700172656, 0.9217985885697496, 0.8791239476623641, 0.9049230524435566, 0.8878257524468796, 0.9123572792713048, 0.9150692210190243, 0.8970542039925758, 0.8976769127649442, 0.9099783690854742, 0.860238636490562, 0.9155389650454925, 0.9211236868388134, 0.9184970172062823, 0.9191105267169076]}, {\"categories\": [\"0\", \"1\", \"2\", \"3\", \"4\", \"5\", \"6\", \"7\", \"8\", \"9\", \"10\", \"11\", \"12\", \"13\", \"15\", \"16\", \"17\", \"18\", \"19\", \"20\", \"21\", \"22\", \"23\", \"24\", \"25\", \"26\", \"27\", \"28\", \"29\", \"30\", \"31\", \"32\", \"33\", \"34\", \"36\", \"37\"], \"mode\": \"lines\", \"name\": \"average_precision_score_micro_max\", \"stepped\": true, \"type\": \"scatter\", \"data\": [0.8799897275256466, 0.8799897275256466, 0.9120928296667952, 0.9120928296667952, 0.9152083737086988, 0.9152083737086988, 0.9152083737086988, 0.9152083737086988, 0.9152083737086988, 0.9152083737086988, 0.9175557612295501, 0.9175557612295501, 0.9175557612295501, 0.9175557612295501, 0.9175557612295501, 0.9175557612295501, 0.9175557612295501, 0.9175557612295501, 0.9186657559444523, 0.9186657559444523, 0.9237644201830173, 0.9237644201830173, 0.9237644201830173, 0.9237644201830173, 0.9237644201830173, 0.9237644201830173, 0.9237644201830173, 0.9237644201830173, 0.9237644201830173, 0.9237644201830173, 0.9237644201830173, 0.9237644201830173, 0.9237644201830173, 0.9237644201830173, 0.9237644201830173, 0.9237644201830173]}], \"average_precision_score_macro\": [{\"categories\": [\"0\", \"1\", \"2\", \"3\", \"4\", \"5\", \"6\", \"7\", \"8\", \"9\", \"10\", \"11\", \"12\", \"13\", \"15\", \"16\", \"17\", \"18\", \"19\", \"20\", \"21\", \"22\", \"23\", \"24\", \"25\", \"26\", \"27\", \"28\", \"29\", \"30\", \"31\", \"32\", \"33\", \"34\", \"36\", \"37\"], \"mode\": \"markers\", \"name\": \"average_precision_score_macro\", \"stepped\": false, \"type\": \"scatter\", \"data\": [0.8417636042364782, 0.8281871181554926, 0.8710010887284488, 0.8563470961496694, 0.8802106044472089, 0.8637508160096301, 0.7014943810597366, 0.699007153697967, 0.8272062791259209, 0.8099276121012444, 0.8845737717660864, 0.7857557179916708, 0.8753048494360354, 0.8903850003879615, 0.8874566458077282, 0.8779916018834731, 0.8454787996234596, 0.8786925406281305, 0.8936589192710098, 0.886202763483524, 0.8803262499052776, 0.5281066579841962, 0.8940713744834804, 0.847029303167383, 0.8670335852616041, 0.8555237665900348, 0.8875181831275956, 0.8916273435193052, 0.861680481182775, 0.8945567828990078, 0.8763570617397859, 0.8576118982331675, 0.8924374145209676, 0.8918181512107488, 0.8905840775852634, 0.8904730213910526]}, {\"categories\": [\"0\", \"1\", \"2\", \"3\", \"4\", \"5\", \"6\", \"7\", \"8\", \"9\", \"10\", \"11\", \"12\", \"13\", \"15\", \"16\", \"17\", \"18\", \"19\", \"20\", \"21\", \"22\", \"23\", \"24\", \"25\", \"26\", \"27\", \"28\", \"29\", \"30\", \"31\", \"32\", \"33\", \"34\", \"36\", \"37\"], \"mode\": \"lines\", \"name\": \"average_precision_score_macro_max\", \"stepped\": true, \"type\": \"scatter\", \"data\": [0.8417636042364782, 0.8417636042364782, 0.8710010887284488, 0.8710010887284488, 0.8802106044472089, 0.8802106044472089, 0.8802106044472089, 0.8802106044472089, 0.8802106044472089, 0.8802106044472089, 0.8845737717660864, 0.8845737717660864, 0.8845737717660864, 0.8903850003879615, 0.8903850003879615, 0.8903850003879615, 0.8903850003879615, 0.8903850003879615, 0.8936589192710098, 0.8936589192710098, 0.8936589192710098, 0.8936589192710098, 0.8940713744834804, 0.8940713744834804, 0.8940713744834804, 0.8940713744834804, 0.8940713744834804, 0.8940713744834804, 0.8940713744834804, 0.8945567828990078, 0.8945567828990078, 0.8945567828990078, 0.8945567828990078, 0.8945567828990078, 0.8945567828990078, 0.8945567828990078]}], \"log_loss\": [{\"categories\": [\"0\", \"1\", \"2\", \"3\", \"4\", \"5\", \"6\", \"7\", \"8\", \"9\", \"10\", \"11\", \"12\", \"13\", \"15\", \"16\", \"17\", \"18\", \"19\", \"20\", \"21\", \"22\", \"23\", \"24\", \"25\", \"26\", \"27\", \"28\", \"29\", \"30\", \"31\", \"32\", \"33\", \"34\", \"36\", \"37\"], \"mode\": \"markers\", \"name\": \"log_loss\", \"stepped\": false, \"type\": \"scatter\", \"data\": [0.5607357121392431, 0.4947972758759054, 0.3803588614764441, 0.40819809691883685, 0.3933833748285241, 0.4236389213695745, 0.5756803855918378, 0.5838759213737567, 0.4304832442489544, 0.48063335199830703, 0.3681590279846555, 0.501162066062086, 0.431794110874309, 0.416012387253301, 0.4217571266526912, 0.39619384105854155, 0.4218976690552748, 0.4957678883413272, 0.3686519336622281, 0.3909449621693272, 0.36452114004378433, 0.7364848669031051, 0.37589613666917854, 0.4622777369350741, 0.38965108172448043, 0.43407899344875067, 0.41758806639648194, 0.4650915246696063, 0.4605046300952987, 0.4566299980312503, 0.38000536734998985, 0.5079863799310405, 0.3931952888460969, 0.368603661799078, 0.3742178467666218, 0.37856056648140324]}, {\"categories\": [\"0\", \"1\", \"2\", \"3\", \"4\", \"5\", \"6\", \"7\", \"8\", \"9\", \"10\", \"11\", \"12\", \"13\", \"15\", \"16\", \"17\", \"18\", \"19\", \"20\", \"21\", \"22\", \"23\", \"24\", \"25\", \"26\", \"27\", \"28\", \"29\", \"30\", \"31\", \"32\", \"33\", \"34\", \"36\", \"37\"], \"mode\": \"lines\", \"name\": \"log_loss_min\", \"stepped\": true, \"type\": \"scatter\", \"data\": [0.5607357121392431, 0.4947972758759054, 0.3803588614764441, 0.3803588614764441, 0.3803588614764441, 0.3803588614764441, 0.3803588614764441, 0.3803588614764441, 0.3803588614764441, 0.3803588614764441, 0.3681590279846555, 0.3681590279846555, 0.3681590279846555, 0.3681590279846555, 0.3681590279846555, 0.3681590279846555, 0.3681590279846555, 0.3681590279846555, 0.3681590279846555, 0.3681590279846555, 0.36452114004378433, 0.36452114004378433, 0.36452114004378433, 0.36452114004378433, 0.36452114004378433, 0.36452114004378433, 0.36452114004378433, 0.36452114004378433, 0.36452114004378433, 0.36452114004378433, 0.36452114004378433, 0.36452114004378433, 0.36452114004378433, 0.36452114004378433, 0.36452114004378433, 0.36452114004378433]}]}, \"metricName\": null, \"primaryMetricName\": \"accuracy\", \"showLegend\": false}, \"run_metrics\": [{\"name\": \"experiment_status\", \"run_id\": \"AutoML_4d9955d1-6df0-4f9c-adef-883d4a0758ec\", \"categories\": [0, 1, 2, 3, 4, 5, 6, 7, 8, 9, 10, 11, 12, 13], \"series\": [{\"data\": [\"DatasetEvaluation\", \"FeaturesGeneration\", \"DatasetFeaturization\", \"DatasetFeaturizationCompleted\", \"DatasetCrossValidationSplit\", \"ModelSelection\", \"BestRunExplainModel\", \"ModelExplanationDataSetSetup\", \"PickSurrogateModel\", \"EngineeredFeatureExplanations\", \"EngineeredFeatureExplanations\", \"RawFeaturesExplanations\", \"RawFeaturesExplanations\", \"BestRunExplainModel\"]}]}, {\"name\": \"experiment_status_description\", \"run_id\": \"AutoML_4d9955d1-6df0-4f9c-adef-883d4a0758ec\", \"categories\": [0, 1, 2, 3, 4, 5, 6, 7, 8, 9, 10, 11, 12, 13], \"series\": [{\"data\": [\"Gathering dataset statistics.\", \"Generating features for the dataset.\", \"Beginning to fit featurizers and featurize the dataset.\", \"Completed fit featurizers and featurizing the dataset.\", \"Generating individually featurized CV splits.\", \"Beginning model selection.\", \"Best run model explanations started\", \"Model explanations data setup completed\", \"Choosing LightGBM as the surrogate model for explanations\", \"Computation of engineered features started\", \"Computation of engineered features completed\", \"Computation of raw features started\", \"Computation of raw features completed\", \"Best run model explanations completed\"]}]}, {\"name\": \"average_precision_score_macro\", \"run_id\": \"AutoML_4d9955d1-6df0-4f9c-adef-883d4a0758ec\", \"categories\": [0], \"series\": [{\"data\": [0.8905840775852634]}]}, {\"name\": \"AUC_macro\", \"run_id\": \"AutoML_4d9955d1-6df0-4f9c-adef-883d4a0758ec\", \"categories\": [0], \"series\": [{\"data\": [0.9037046791956295]}]}, {\"name\": \"average_precision_score_micro\", \"run_id\": \"AutoML_4d9955d1-6df0-4f9c-adef-883d4a0758ec\", \"categories\": [0], \"series\": [{\"data\": [0.9184970172062823]}]}, {\"name\": \"AUC_weighted\", \"run_id\": \"AutoML_4d9955d1-6df0-4f9c-adef-883d4a0758ec\", \"categories\": [0], \"series\": [{\"data\": [0.9037046791956292]}]}, {\"name\": \"recall_score_weighted\", \"run_id\": \"AutoML_4d9955d1-6df0-4f9c-adef-883d4a0758ec\", \"categories\": [0], \"series\": [{\"data\": [0.8674165457184326]}]}, {\"name\": \"f1_score_weighted\", \"run_id\": \"AutoML_4d9955d1-6df0-4f9c-adef-883d4a0758ec\", \"categories\": [0], \"series\": [{\"data\": [0.8633266212137445]}]}, {\"name\": \"recall_score_micro\", \"run_id\": \"AutoML_4d9955d1-6df0-4f9c-adef-883d4a0758ec\", \"categories\": [0], \"series\": [{\"data\": [0.8674165457184326]}]}, {\"name\": \"f1_score_micro\", \"run_id\": \"AutoML_4d9955d1-6df0-4f9c-adef-883d4a0758ec\", \"categories\": [0], \"series\": [{\"data\": [0.8674165457184326]}]}, {\"name\": \"weighted_accuracy\", \"run_id\": \"AutoML_4d9955d1-6df0-4f9c-adef-883d4a0758ec\", \"categories\": [0], \"series\": [{\"data\": [0.9021381374764863]}]}, {\"name\": \"precision_score_micro\", \"run_id\": \"AutoML_4d9955d1-6df0-4f9c-adef-883d4a0758ec\", \"categories\": [0], \"series\": [{\"data\": [0.8674165457184326]}]}, {\"name\": \"precision_score_weighted\", \"run_id\": \"AutoML_4d9955d1-6df0-4f9c-adef-883d4a0758ec\", \"categories\": [0], \"series\": [{\"data\": [0.8683534130463084]}]}, {\"name\": \"matthews_correlation\", \"run_id\": \"AutoML_4d9955d1-6df0-4f9c-adef-883d4a0758ec\", \"categories\": [0], \"series\": [{\"data\": [0.6743992112284115]}]}, {\"name\": \"AUC_micro\", \"run_id\": \"AutoML_4d9955d1-6df0-4f9c-adef-883d4a0758ec\", \"categories\": [0], \"series\": [{\"data\": [0.9195243363996959]}]}, {\"name\": \"recall_score_macro\", \"run_id\": \"AutoML_4d9955d1-6df0-4f9c-adef-883d4a0758ec\", \"categories\": [0], \"series\": [{\"data\": [0.815262964160023]}]}, {\"name\": \"balanced_accuracy\", \"run_id\": \"AutoML_4d9955d1-6df0-4f9c-adef-883d4a0758ec\", \"categories\": [0], \"series\": [{\"data\": [0.815262964160023]}]}, {\"name\": \"norm_macro_recall\", \"run_id\": \"AutoML_4d9955d1-6df0-4f9c-adef-883d4a0758ec\", \"categories\": [0], \"series\": [{\"data\": [0.6305259283200461]}]}, {\"name\": \"average_precision_score_weighted\", \"run_id\": \"AutoML_4d9955d1-6df0-4f9c-adef-883d4a0758ec\", \"categories\": [0], \"series\": [{\"data\": [0.9155386520214981]}]}, {\"name\": \"f1_score_macro\", \"run_id\": \"AutoML_4d9955d1-6df0-4f9c-adef-883d4a0758ec\", \"categories\": [0], \"series\": [{\"data\": [0.8317703379442225]}]}, {\"name\": \"precision_score_macro\", \"run_id\": \"AutoML_4d9955d1-6df0-4f9c-adef-883d4a0758ec\", \"categories\": [0], \"series\": [{\"data\": [0.8613725708063423]}]}, {\"name\": \"log_loss\", \"run_id\": \"AutoML_4d9955d1-6df0-4f9c-adef-883d4a0758ec\", \"categories\": [0], \"series\": [{\"data\": [0.3742178467666218]}]}, {\"name\": \"accuracy\", \"run_id\": \"AutoML_4d9955d1-6df0-4f9c-adef-883d4a0758ec\", \"categories\": [0], \"series\": [{\"data\": [0.8674165457184326]}]}], \"run_logs\": \"\\nRun is completed.\", \"graph\": {}, \"widget_settings\": {\"childWidgetDisplay\": \"popup\", \"send_telemetry\": false, \"log_level\": \"INFO\", \"sdk_version\": \"1.24.0\"}, \"loading\": false}"
     },
     "metadata": {},
     "output_type": "display_data"
    }
   ],
   "source": [
    "RunDetails(remote_run).show()"
   ]
  },
  {
   "cell_type": "code",
   "execution_count": 13,
   "metadata": {
    "gather": {
     "logged": 1609057322041
    }
   },
   "outputs": [
    {
     "data": {
      "text/plain": [
       "{'runId': 'AutoML_4d9955d1-6df0-4f9c-adef-883d4a0758ec',\n",
       " 'target': 'cpu-cluster',\n",
       " 'status': 'Completed',\n",
       " 'startTimeUtc': '2021-03-24T21:48:25.782499Z',\n",
       " 'endTimeUtc': '2021-03-24T22:38:27.020385Z',\n",
       " 'properties': {'num_iterations': '1000',\n",
       "  'training_type': 'TrainFull',\n",
       "  'acquisition_function': 'EI',\n",
       "  'primary_metric': 'accuracy',\n",
       "  'train_split': '0',\n",
       "  'acquisition_parameter': '0',\n",
       "  'num_cross_validation': '5',\n",
       "  'target': 'cpu-cluster',\n",
       "  'AMLSettingsJsonString': '{\"path\":null,\"name\":\"automl-experiment\",\"subscription_id\":\"d7f39349-a66b-446e-aba6-0053c2cf1c11\",\"resource_group\":\"aml-quickstarts-141302\",\"workspace_name\":\"quick-starts-ws-141302\",\"region\":\"southcentralus\",\"compute_target\":\"cpu-cluster\",\"spark_service\":null,\"azure_service\":\"remote\",\"many_models\":false,\"pipeline_fetch_max_batch_size\":1,\"enable_batch_run\":false,\"iterations\":1000,\"primary_metric\":\"accuracy\",\"task_type\":\"classification\",\"data_script\":null,\"validation_size\":0.0,\"n_cross_validations\":5,\"y_min\":null,\"y_max\":null,\"num_classes\":null,\"featurization\":\"auto\",\"_ignore_package_version_incompatibilities\":false,\"is_timeseries\":false,\"max_cores_per_iteration\":1,\"max_concurrent_iterations\":4,\"iteration_timeout_minutes\":null,\"mem_in_mb\":null,\"enforce_time_on_windows\":false,\"experiment_timeout_minutes\":30,\"experiment_exit_score\":null,\"whitelist_models\":null,\"blacklist_algos\":[\"TensorFlowLinearClassifier\",\"TensorFlowDNN\"],\"supported_models\":[\"BernoulliNaiveBayes\",\"ExtremeRandomTrees\",\"LinearSVM\",\"LogisticRegression\",\"TensorFlowDNN\",\"SGD\",\"KNN\",\"LightGBM\",\"TensorFlowLinearClassifier\",\"DecisionTree\",\"MultinomialNaiveBayes\",\"RandomForest\",\"AveragedPerceptronClassifier\",\"XGBoostClassifier\",\"SVM\",\"GradientBoosting\"],\"private_models\":[],\"auto_blacklist\":true,\"blacklist_samples_reached\":false,\"exclude_nan_labels\":true,\"verbosity\":20,\"_debug_log\":\"azureml_automl.log\",\"show_warnings\":false,\"model_explainability\":true,\"service_url\":null,\"sdk_url\":null,\"sdk_packages\":null,\"enable_onnx_compatible_models\":false,\"enable_split_onnx_featurizer_estimator_models\":false,\"vm_type\":\"STANDARD_D12_V2\",\"telemetry_verbosity\":20,\"send_telemetry\":true,\"enable_dnn\":false,\"scenario\":\"SDK-1.13.0\",\"environment_label\":null,\"save_mlflow\":false,\"force_text_dnn\":false,\"enable_feature_sweeping\":true,\"enable_early_stopping\":true,\"early_stopping_n_iters\":10,\"metrics\":null,\"enable_metric_confidence\":false,\"enable_ensembling\":true,\"enable_stack_ensembling\":true,\"ensemble_iterations\":15,\"enable_tf\":false,\"enable_subsampling\":null,\"subsample_seed\":null,\"enable_nimbusml\":false,\"enable_streaming\":false,\"force_streaming\":false,\"track_child_runs\":true,\"allowed_private_models\":[],\"label_column_name\":\"DEATH_EVENT\",\"weight_column_name\":null,\"cv_split_column_names\":null,\"enable_local_managed\":false,\"_local_managed_run_id\":null,\"cost_mode\":1,\"lag_length\":0,\"metric_operation\":\"maximize\",\"preprocess\":true}',\n",
       "  'DataPrepJsonString': '{\\\\\"training_data\\\\\": \\\\\"{\\\\\\\\\\\\\"blocks\\\\\\\\\\\\\": [{\\\\\\\\\\\\\"id\\\\\\\\\\\\\": \\\\\\\\\\\\\"2b7ed215-cc8e-430f-8664-9e2c7a1fd7a2\\\\\\\\\\\\\", \\\\\\\\\\\\\"type\\\\\\\\\\\\\": \\\\\\\\\\\\\"Microsoft.DPrep.GetDatastoreFilesBlock\\\\\\\\\\\\\", \\\\\\\\\\\\\"arguments\\\\\\\\\\\\\": {\\\\\\\\\\\\\"datastores\\\\\\\\\\\\\": [{\\\\\\\\\\\\\"datastoreName\\\\\\\\\\\\\": \\\\\\\\\\\\\"workspaceblobstore\\\\\\\\\\\\\", \\\\\\\\\\\\\"path\\\\\\\\\\\\\": \\\\\\\\\\\\\"UI/03-24-2021_092435_UTC/heart-disease-kaggle.csv\\\\\\\\\\\\\", \\\\\\\\\\\\\"resourceGroup\\\\\\\\\\\\\": \\\\\\\\\\\\\"aml-quickstarts-141302\\\\\\\\\\\\\", \\\\\\\\\\\\\"subscription\\\\\\\\\\\\\": \\\\\\\\\\\\\"d7f39349-a66b-446e-aba6-0053c2cf1c11\\\\\\\\\\\\\", \\\\\\\\\\\\\"workspaceName\\\\\\\\\\\\\": \\\\\\\\\\\\\"quick-starts-ws-141302\\\\\\\\\\\\\"}]}, \\\\\\\\\\\\\"localData\\\\\\\\\\\\\": {}, \\\\\\\\\\\\\"isEnabled\\\\\\\\\\\\\": true, \\\\\\\\\\\\\"name\\\\\\\\\\\\\": null, \\\\\\\\\\\\\"annotation\\\\\\\\\\\\\": null}, {\\\\\\\\\\\\\"id\\\\\\\\\\\\\": \\\\\\\\\\\\\"8b05a7b2-5ddc-41e3-8119-2119bd18e32b\\\\\\\\\\\\\", \\\\\\\\\\\\\"type\\\\\\\\\\\\\": \\\\\\\\\\\\\"Microsoft.DPrep.ParseDelimitedBlock\\\\\\\\\\\\\", \\\\\\\\\\\\\"arguments\\\\\\\\\\\\\": {\\\\\\\\\\\\\"columnHeadersMode\\\\\\\\\\\\\": 3, \\\\\\\\\\\\\"fileEncoding\\\\\\\\\\\\\": 0, \\\\\\\\\\\\\"handleQuotedLineBreaks\\\\\\\\\\\\\": false, \\\\\\\\\\\\\"preview\\\\\\\\\\\\\": false, \\\\\\\\\\\\\"separator\\\\\\\\\\\\\": \\\\\\\\\\\\\",\\\\\\\\\\\\\", \\\\\\\\\\\\\"skipRows\\\\\\\\\\\\\": 0, \\\\\\\\\\\\\"skipRowsMode\\\\\\\\\\\\\": 0}, \\\\\\\\\\\\\"localData\\\\\\\\\\\\\": {}, \\\\\\\\\\\\\"isEnabled\\\\\\\\\\\\\": true, \\\\\\\\\\\\\"name\\\\\\\\\\\\\": null, \\\\\\\\\\\\\"annotation\\\\\\\\\\\\\": null}, {\\\\\\\\\\\\\"id\\\\\\\\\\\\\": \\\\\\\\\\\\\"3d333836-78ac-4fb6-a34b-410c1b2f6aa3\\\\\\\\\\\\\", \\\\\\\\\\\\\"type\\\\\\\\\\\\\": \\\\\\\\\\\\\"Microsoft.DPrep.DropColumnsBlock\\\\\\\\\\\\\", \\\\\\\\\\\\\"arguments\\\\\\\\\\\\\": {\\\\\\\\\\\\\"columns\\\\\\\\\\\\\": {\\\\\\\\\\\\\"type\\\\\\\\\\\\\": 0, \\\\\\\\\\\\\"details\\\\\\\\\\\\\": {\\\\\\\\\\\\\"selectedColumns\\\\\\\\\\\\\": [\\\\\\\\\\\\\"Path\\\\\\\\\\\\\"]}}}, \\\\\\\\\\\\\"localData\\\\\\\\\\\\\": {}, \\\\\\\\\\\\\"isEnabled\\\\\\\\\\\\\": true, \\\\\\\\\\\\\"name\\\\\\\\\\\\\": null, \\\\\\\\\\\\\"annotation\\\\\\\\\\\\\": null}, {\\\\\\\\\\\\\"id\\\\\\\\\\\\\": \\\\\\\\\\\\\"0edf4ed1-b559-4a89-9002-eac96a264aa4\\\\\\\\\\\\\", \\\\\\\\\\\\\"type\\\\\\\\\\\\\": \\\\\\\\\\\\\"Microsoft.DPrep.SetColumnTypesBlock\\\\\\\\\\\\\", \\\\\\\\\\\\\"arguments\\\\\\\\\\\\\": {\\\\\\\\\\\\\"columnConversion\\\\\\\\\\\\\": [{\\\\\\\\\\\\\"column\\\\\\\\\\\\\": {\\\\\\\\\\\\\"type\\\\\\\\\\\\\": 2, \\\\\\\\\\\\\"details\\\\\\\\\\\\\": {\\\\\\\\\\\\\"selectedColumn\\\\\\\\\\\\\": \\\\\\\\\\\\\"Path\\\\\\\\\\\\\"}}, \\\\\\\\\\\\\"typeProperty\\\\\\\\\\\\\": 0}, {\\\\\\\\\\\\\"column\\\\\\\\\\\\\": {\\\\\\\\\\\\\"type\\\\\\\\\\\\\": 2, \\\\\\\\\\\\\"details\\\\\\\\\\\\\": {\\\\\\\\\\\\\"selectedColumn\\\\\\\\\\\\\": \\\\\\\\\\\\\"age\\\\\\\\\\\\\"}}, \\\\\\\\\\\\\"typeProperty\\\\\\\\\\\\\": 3}, {\\\\\\\\\\\\\"column\\\\\\\\\\\\\": {\\\\\\\\\\\\\"type\\\\\\\\\\\\\": 2, \\\\\\\\\\\\\"details\\\\\\\\\\\\\": {\\\\\\\\\\\\\"selectedColumn\\\\\\\\\\\\\": \\\\\\\\\\\\\"anaemia\\\\\\\\\\\\\"}}, \\\\\\\\\\\\\"typeProperty\\\\\\\\\\\\\": 2}, {\\\\\\\\\\\\\"column\\\\\\\\\\\\\": {\\\\\\\\\\\\\"type\\\\\\\\\\\\\": 2, \\\\\\\\\\\\\"details\\\\\\\\\\\\\": {\\\\\\\\\\\\\"selectedColumn\\\\\\\\\\\\\": \\\\\\\\\\\\\"creatinine_phosphokinase\\\\\\\\\\\\\"}}, \\\\\\\\\\\\\"typeProperty\\\\\\\\\\\\\": 2}, {\\\\\\\\\\\\\"column\\\\\\\\\\\\\": {\\\\\\\\\\\\\"type\\\\\\\\\\\\\": 2, \\\\\\\\\\\\\"details\\\\\\\\\\\\\": {\\\\\\\\\\\\\"selectedColumn\\\\\\\\\\\\\": \\\\\\\\\\\\\"diabetes\\\\\\\\\\\\\"}}, \\\\\\\\\\\\\"typeProperty\\\\\\\\\\\\\": 2}, {\\\\\\\\\\\\\"column\\\\\\\\\\\\\": {\\\\\\\\\\\\\"type\\\\\\\\\\\\\": 2, \\\\\\\\\\\\\"details\\\\\\\\\\\\\": {\\\\\\\\\\\\\"selectedColumn\\\\\\\\\\\\\": \\\\\\\\\\\\\"ejection_fraction\\\\\\\\\\\\\"}}, \\\\\\\\\\\\\"typeProperty\\\\\\\\\\\\\": 2}, {\\\\\\\\\\\\\"column\\\\\\\\\\\\\": {\\\\\\\\\\\\\"type\\\\\\\\\\\\\": 2, \\\\\\\\\\\\\"details\\\\\\\\\\\\\": {\\\\\\\\\\\\\"selectedColumn\\\\\\\\\\\\\": \\\\\\\\\\\\\"high_blood_pressure\\\\\\\\\\\\\"}}, \\\\\\\\\\\\\"typeProperty\\\\\\\\\\\\\": 2}, {\\\\\\\\\\\\\"column\\\\\\\\\\\\\": {\\\\\\\\\\\\\"type\\\\\\\\\\\\\": 2, \\\\\\\\\\\\\"details\\\\\\\\\\\\\": {\\\\\\\\\\\\\"selectedColumn\\\\\\\\\\\\\": \\\\\\\\\\\\\"platelets\\\\\\\\\\\\\"}}, \\\\\\\\\\\\\"typeProperty\\\\\\\\\\\\\": 3}, {\\\\\\\\\\\\\"column\\\\\\\\\\\\\": {\\\\\\\\\\\\\"type\\\\\\\\\\\\\": 2, \\\\\\\\\\\\\"details\\\\\\\\\\\\\": {\\\\\\\\\\\\\"selectedColumn\\\\\\\\\\\\\": \\\\\\\\\\\\\"serum_creatinine\\\\\\\\\\\\\"}}, \\\\\\\\\\\\\"typeProperty\\\\\\\\\\\\\": 3}, {\\\\\\\\\\\\\"column\\\\\\\\\\\\\": {\\\\\\\\\\\\\"type\\\\\\\\\\\\\": 2, \\\\\\\\\\\\\"details\\\\\\\\\\\\\": {\\\\\\\\\\\\\"selectedColumn\\\\\\\\\\\\\": \\\\\\\\\\\\\"serum_sodium\\\\\\\\\\\\\"}}, \\\\\\\\\\\\\"typeProperty\\\\\\\\\\\\\": 2}, {\\\\\\\\\\\\\"column\\\\\\\\\\\\\": {\\\\\\\\\\\\\"type\\\\\\\\\\\\\": 2, \\\\\\\\\\\\\"details\\\\\\\\\\\\\": {\\\\\\\\\\\\\"selectedColumn\\\\\\\\\\\\\": \\\\\\\\\\\\\"sex\\\\\\\\\\\\\"}}, \\\\\\\\\\\\\"typeProperty\\\\\\\\\\\\\": 2}, {\\\\\\\\\\\\\"column\\\\\\\\\\\\\": {\\\\\\\\\\\\\"type\\\\\\\\\\\\\": 2, \\\\\\\\\\\\\"details\\\\\\\\\\\\\": {\\\\\\\\\\\\\"selectedColumn\\\\\\\\\\\\\": \\\\\\\\\\\\\"smoking\\\\\\\\\\\\\"}}, \\\\\\\\\\\\\"typeProperty\\\\\\\\\\\\\": 2}, {\\\\\\\\\\\\\"column\\\\\\\\\\\\\": {\\\\\\\\\\\\\"type\\\\\\\\\\\\\": 2, \\\\\\\\\\\\\"details\\\\\\\\\\\\\": {\\\\\\\\\\\\\"selectedColumn\\\\\\\\\\\\\": \\\\\\\\\\\\\"time\\\\\\\\\\\\\"}}, \\\\\\\\\\\\\"typeProperty\\\\\\\\\\\\\": 2}, {\\\\\\\\\\\\\"column\\\\\\\\\\\\\": {\\\\\\\\\\\\\"type\\\\\\\\\\\\\": 2, \\\\\\\\\\\\\"details\\\\\\\\\\\\\": {\\\\\\\\\\\\\"selectedColumn\\\\\\\\\\\\\": \\\\\\\\\\\\\"DEATH_EVENT\\\\\\\\\\\\\"}}, \\\\\\\\\\\\\"typeProperty\\\\\\\\\\\\\": 2}]}, \\\\\\\\\\\\\"localData\\\\\\\\\\\\\": {}, \\\\\\\\\\\\\"isEnabled\\\\\\\\\\\\\": true, \\\\\\\\\\\\\"name\\\\\\\\\\\\\": null, \\\\\\\\\\\\\"annotation\\\\\\\\\\\\\": null}, {\\\\\\\\\\\\\"id\\\\\\\\\\\\\": \\\\\\\\\\\\\"b806e5a0-1c8f-4282-95f9-710627a82de6\\\\\\\\\\\\\", \\\\\\\\\\\\\"type\\\\\\\\\\\\\": \\\\\\\\\\\\\"Microsoft.DPrep.TakeSampleBlock\\\\\\\\\\\\\", \\\\\\\\\\\\\"arguments\\\\\\\\\\\\\": {\\\\\\\\\\\\\"probability\\\\\\\\\\\\\": 0.9, \\\\\\\\\\\\\"probabilityLowerBound\\\\\\\\\\\\\": 0.0, \\\\\\\\\\\\\"seed\\\\\\\\\\\\\": 2704367022}, \\\\\\\\\\\\\"localData\\\\\\\\\\\\\": {}, \\\\\\\\\\\\\"isEnabled\\\\\\\\\\\\\": true, \\\\\\\\\\\\\"name\\\\\\\\\\\\\": null, \\\\\\\\\\\\\"annotation\\\\\\\\\\\\\": null}], \\\\\\\\\\\\\"inspectors\\\\\\\\\\\\\": [], \\\\\\\\\\\\\"meta\\\\\\\\\\\\\": {\\\\\\\\\\\\\"savedDatasetId\\\\\\\\\\\\\": \\\\\\\\\\\\\"c903b753-dc6d-4c6a-8081-76db89b53ddb\\\\\\\\\\\\\", \\\\\\\\\\\\\"datasetType\\\\\\\\\\\\\": \\\\\\\\\\\\\"tabular\\\\\\\\\\\\\", \\\\\\\\\\\\\"subscriptionId\\\\\\\\\\\\\": \\\\\\\\\\\\\"d7f39349-a66b-446e-aba6-0053c2cf1c11\\\\\\\\\\\\\", \\\\\\\\\\\\\"workspaceId\\\\\\\\\\\\\": \\\\\\\\\\\\\"9fb9c829-cbcf-4cf9-9386-8f6b6a22f255\\\\\\\\\\\\\", \\\\\\\\\\\\\"workspaceLocation\\\\\\\\\\\\\": \\\\\\\\\\\\\"southcentralus\\\\\\\\\\\\\", \\\\\\\\\\\\\"partition_keys\\\\\\\\\\\\\": \\\\\\\\\\\\\"true\\\\\\\\\\\\\"}}\\\\\", \\\\\"activities\\\\\": 0}',\n",
       "  'EnableSubsampling': None,\n",
       "  'runTemplate': 'AutoML',\n",
       "  'azureml.runsource': 'automl',\n",
       "  'display_task_type': 'classification',\n",
       "  'dependencies_versions': '{\"azureml-widgets\": \"1.24.0\", \"azureml-train\": \"1.24.0\", \"azureml-train-restclients-hyperdrive\": \"1.24.0\", \"azureml-train-core\": \"1.24.0\", \"azureml-train-automl\": \"1.24.0\", \"azureml-train-automl-runtime\": \"1.24.0\", \"azureml-train-automl-client\": \"1.24.0\", \"azureml-tensorboard\": \"1.24.0\", \"azureml-telemetry\": \"1.24.0\", \"azureml-sdk\": \"1.24.0\", \"azureml-samples\": \"0+unknown\", \"azureml-pipeline\": \"1.24.0\", \"azureml-pipeline-steps\": \"1.24.0\", \"azureml-pipeline-core\": \"1.24.0\", \"azureml-opendatasets\": \"1.24.0\", \"azureml-model-management-sdk\": \"1.0.1b6.post1\", \"azureml-mlflow\": \"1.24.0\", \"azureml-interpret\": \"1.24.0\", \"azureml-explain-model\": \"1.24.0\", \"azureml-defaults\": \"1.24.0\", \"azureml-dataset-runtime\": \"1.24.0\", \"azureml-dataprep\": \"2.11.1\", \"azureml-dataprep-rslex\": \"1.9.0\", \"azureml-dataprep-native\": \"30.0.0\", \"azureml-datadrift\": \"1.24.0\", \"azureml-core\": \"1.24.0\", \"azureml-contrib-services\": \"1.24.0\", \"azureml-contrib-server\": \"1.24.0\", \"azureml-contrib-reinforcementlearning\": \"1.24.0\", \"azureml-contrib-pipeline-steps\": \"1.24.0\", \"azureml-contrib-notebook\": \"1.24.0\", \"azureml-contrib-gbdt\": \"1.24.0\", \"azureml-contrib-fairness\": \"1.24.0\", \"azureml-contrib-dataset\": \"1.24.0\", \"azureml-cli-common\": \"1.24.0\", \"azureml-automl-runtime\": \"1.24.0\", \"azureml-automl-dnn-nlp\": \"1.24.0\", \"azureml-automl-core\": \"1.24.0\", \"azureml-accel-models\": \"1.24.0\"}',\n",
       "  '_aml_system_scenario_identification': 'Remote.Parent',\n",
       "  'ClientType': 'SDK',\n",
       "  'environment_cpu_name': 'AzureML-AutoML',\n",
       "  'environment_cpu_label': 'prod',\n",
       "  'environment_gpu_name': 'AzureML-AutoML-GPU',\n",
       "  'environment_gpu_label': 'prod',\n",
       "  'root_attribution': 'automl',\n",
       "  'attribution': 'AutoML',\n",
       "  'Orchestrator': 'AutoML',\n",
       "  'CancelUri': 'https://southcentralus.experiments.azureml.net/jasmine/v1.0/subscriptions/d7f39349-a66b-446e-aba6-0053c2cf1c11/resourceGroups/aml-quickstarts-141302/providers/Microsoft.MachineLearningServices/workspaces/quick-starts-ws-141302/experimentids/d16c00a3-34d7-4dae-befb-71c3bf3035be/cancel/AutoML_4d9955d1-6df0-4f9c-adef-883d4a0758ec',\n",
       "  'ClientSdkVersion': '1.24.0',\n",
       "  'snapshotId': '00000000-0000-0000-0000-000000000000',\n",
       "  'SetupRunId': 'AutoML_4d9955d1-6df0-4f9c-adef-883d4a0758ec_setup',\n",
       "  'SetupRunContainerId': 'dcid.AutoML_4d9955d1-6df0-4f9c-adef-883d4a0758ec_setup',\n",
       "  'FeaturizationRunJsonPath': 'featurizer_container.json',\n",
       "  'FeaturizationRunId': 'AutoML_4d9955d1-6df0-4f9c-adef-883d4a0758ec_featurize',\n",
       "  'ProblemInfoJsonString': '{\"dataset_num_categorical\": 0, \"is_sparse\": false, \"subsampling\": false, \"dataset_classes\": 2, \"dataset_features\": 12, \"dataset_samples\": 264, \"single_frequency_class_detected\": false}',\n",
       "  'ModelExplainRunId': 'AutoML_4d9955d1-6df0-4f9c-adef-883d4a0758ec_ModelExplain'},\n",
       " 'inputDatasets': [{'dataset': {'id': 'c903b753-dc6d-4c6a-8081-76db89b53ddb'}, 'consumptionDetails': {'type': 'RunInput', 'inputName': 'training_data', 'mechanism': 'Direct'}}],\n",
       " 'outputDatasets': [],\n",
       " 'logFiles': {},\n",
       " 'submittedBy': 'ODL_User 141302'}"
      ]
     },
     "execution_count": 13,
     "metadata": {},
     "output_type": "execute_result"
    }
   ],
   "source": [
    "remote_run.wait_for_completion()"
   ]
  },
  {
   "cell_type": "markdown",
   "metadata": {},
   "source": [
    "## Best Model "
   ]
  },
  {
   "cell_type": "code",
   "execution_count": 14,
   "metadata": {
    "gather": {
     "logged": 1609057494229
    }
   },
   "outputs": [],
   "source": [
    "best_run, fitted_model = remote_run.get_output()\n",
    "best_run_metrics = best_run.get_metrics()"
   ]
  },
  {
   "cell_type": "code",
   "execution_count": 15,
   "metadata": {
    "gather": {
     "logged": 1609057496313
    }
   },
   "outputs": [
    {
     "data": {
      "text/html": [
       "<table style=\"width:100%\"><tr><th>Experiment</th><th>Id</th><th>Type</th><th>Status</th><th>Details Page</th><th>Docs Page</th></tr><tr><td>automl-experiment</td><td>AutoML_4d9955d1-6df0-4f9c-adef-883d4a0758ec_36</td><td>azureml.scriptrun</td><td>Completed</td><td><a href=\"https://ml.azure.com/experiments/automl-experiment/runs/AutoML_4d9955d1-6df0-4f9c-adef-883d4a0758ec_36?wsid=/subscriptions/d7f39349-a66b-446e-aba6-0053c2cf1c11/resourcegroups/aml-quickstarts-141302/workspaces/quick-starts-ws-141302\" target=\"_blank\" rel=\"noopener\">Link to Azure Machine Learning studio</a></td><td><a href=\"https://docs.microsoft.com/en-us/python/api/azureml-core/azureml.core.run.Run?view=azure-ml-py\" target=\"_blank\" rel=\"noopener\">Link to Documentation</a></td></tr></table>"
      ],
      "text/plain": [
       "Run(Experiment: automl-experiment,\n",
       "Id: AutoML_4d9955d1-6df0-4f9c-adef-883d4a0758ec_36,\n",
       "Type: azureml.scriptrun,\n",
       "Status: Completed)"
      ]
     },
     "execution_count": 15,
     "metadata": {},
     "output_type": "execute_result"
    }
   ],
   "source": [
    "best_run"
   ]
  },
  {
   "cell_type": "code",
   "execution_count": 16,
   "metadata": {
    "gather": {
     "logged": 1609057496796
    }
   },
   "outputs": [
    {
     "data": {
      "text/plain": [
       "Pipeline(memory=None,\n",
       "         steps=[('datatransformer',\n",
       "                 DataTransformer(enable_dnn=None, enable_feature_sweeping=None,\n",
       "                                 feature_sweeping_config=None,\n",
       "                                 feature_sweeping_timeout=None,\n",
       "                                 featurization_config=None, force_text_dnn=None,\n",
       "                                 is_cross_validation=None,\n",
       "                                 is_onnx_compatible=None, logger=None,\n",
       "                                 observer=None, task=None, working_dir=None)),\n",
       "                ('prefittedsoftvotingclassifier',...\n",
       "                                                                                                random_state=None,\n",
       "                                                                                                reg_alpha=0.47368421052631576,\n",
       "                                                                                                reg_lambda=0.15789473684210525,\n",
       "                                                                                                silent=True,\n",
       "                                                                                                subsample=1,\n",
       "                                                                                                subsample_for_bin=200000,\n",
       "                                                                                                subsample_freq=0,\n",
       "                                                                                                verbose=-10))],\n",
       "                                                                     verbose=False))],\n",
       "                                               flatten_transform=None,\n",
       "                                               weights=[0.14285714285714285,\n",
       "                                                        0.14285714285714285,\n",
       "                                                        0.14285714285714285,\n",
       "                                                        0.14285714285714285,\n",
       "                                                        0.14285714285714285,\n",
       "                                                        0.14285714285714285,\n",
       "                                                        0.14285714285714285]))],\n",
       "         verbose=False)"
      ]
     },
     "execution_count": 16,
     "metadata": {},
     "output_type": "execute_result"
    }
   ],
   "source": [
    "fitted_model"
   ]
  },
  {
   "cell_type": "code",
   "execution_count": 17,
   "metadata": {
    "nteract": {
     "transient": {
      "deleting": false
     }
    }
   },
   "outputs": [
    {
     "name": "stdout",
     "output_type": "stream",
     "text": [
      "Best Run Id:  AutoML_4d9955d1-6df0-4f9c-adef-883d4a0758ec_36\n",
      "\n",
      " Accuracy: 0.8674165457184326\n",
      "PreFittedSoftVotingClassifier(classification_labels=None,\n",
      "                              estimators=[('20',\n",
      "                                           Pipeline(memory=None,\n",
      "                                                    steps=[('standardscalerwrapper',\n",
      "                                                            <azureml.automl.runtime.shared.model_wrappers.StandardScalerWrapper object at 0x7f53049a1be0>),\n",
      "                                                           ('lightgbmclassifier',\n",
      "                                                            LightGBMClassifier(boosting_type='gbdt',\n",
      "                                                                               class_weight=None,\n",
      "                                                                               colsample_bytree=0.6933333333333332,\n",
      "                                                                               importance_typ...\n",
      "                                                                               random_state=None,\n",
      "                                                                               reg_alpha=0.47368421052631576,\n",
      "                                                                               reg_lambda=0.15789473684210525,\n",
      "                                                                               silent=True,\n",
      "                                                                               subsample=1,\n",
      "                                                                               subsample_for_bin=200000,\n",
      "                                                                               subsample_freq=0,\n",
      "                                                                               verbose=-10))],\n",
      "                                                    verbose=False))],\n",
      "                              flatten_transform=None,\n",
      "                              weights=[0.14285714285714285, 0.14285714285714285,\n",
      "                                       0.14285714285714285, 0.14285714285714285,\n",
      "                                       0.14285714285714285, 0.14285714285714285,\n",
      "                                       0.14285714285714285])\n",
      "{'_aml_system_azureml.automlComponent': 'AutoML', '_aml_system_ComputeTargetStatus': '{\"AllocationState\":\"resizing\",\"PreparingNodeCount\":0,\"RunningNodeCount\":4,\"CurrentNodeCount\":4}', 'mlflow.source.type': 'JOB', 'mlflow.source.name': 'automl_driver.py', 'ensembled_iterations': '[20, 34, 10, 33, 13, 19, 31]', 'ensembled_algorithms': \"['LightGBM', 'GradientBoosting', 'GradientBoosting', 'RandomForest', 'LightGBM', 'LightGBM', 'LightGBM']\", 'ensemble_weights': '[0.14285714285714285, 0.14285714285714285, 0.14285714285714285, 0.14285714285714285, 0.14285714285714285, 0.14285714285714285, 0.14285714285714285]', 'best_individual_pipeline_score': '0.8560957910014515', 'best_individual_iteration': '20', '_aml_system_automl_is_child_run_end_telemetry_event_logged': 'True', 'model_explain_run_id': 'AutoML_4d9955d1-6df0-4f9c-adef-883d4a0758ec_ModelExplain', 'model_explanation': 'True'}\n"
     ]
    }
   ],
   "source": [
    "print('Best Run Id: ', best_run.id)\n",
    "print('\\n Accuracy:', best_run_metrics['accuracy'])\n",
    "print(fitted_model._final_estimator)\n",
    "print(best_run.get_tags())"
   ]
  },
  {
   "cell_type": "code",
   "execution_count": 18,
   "metadata": {
    "gather": {
     "logged": 1609058285285
    }
   },
   "outputs": [
    {
     "data": {
      "text/plain": [
       "'AutoML4d9955d1636'"
      ]
     },
     "execution_count": 18,
     "metadata": {},
     "output_type": "execute_result"
    }
   ],
   "source": [
    "os.makedirs('./outputs', exist_ok=True)\n",
    "\n",
    "joblib.dump(fitted_model, filename='outputs/automl.joblib')\n",
    "\n",
    "model_name = best_run.properties['model_name']\n",
    "model_name"
   ]
  },
  {
   "cell_type": "code",
   "execution_count": 19,
   "metadata": {
    "gather": {
     "logged": 1609061282639
    },
    "nteract": {
     "transient": {
      "deleting": false
     }
    }
   },
   "outputs": [],
   "source": [
    "from azureml.automl.core.shared import constants\n",
    "env = best_run.get_environment()\n",
    "\n",
    "script_file = 'score.py'\n",
    "\n",
    "best_run.download_file('outputs/scoring_file_v_1_0_0.py', script_file)\n",
    "\n",
    "best_run.download_file(constants.CONDA_ENV_FILE_PATH, 'env.yml')"
   ]
  },
  {
   "cell_type": "markdown",
   "metadata": {},
   "source": [
    "## Model Deployment"
   ]
  },
  {
   "cell_type": "code",
   "execution_count": 20,
   "metadata": {
    "gather": {
     "logged": 1609057825294
    }
   },
   "outputs": [],
   "source": [
    "#Register the fitted model\n",
    "model = remote_run.register_model(model_name = model_name,\n",
    "                                  description = 'AutoML model')"
   ]
  },
  {
   "cell_type": "code",
   "execution_count": 22,
   "metadata": {
    "gather": {
     "logged": 1609058832201
    }
   },
   "outputs": [
    {
     "name": "stdout",
     "output_type": "stream",
     "text": [
      "automl-heart-disease\n"
     ]
    }
   ],
   "source": [
    "inference_config = InferenceConfig(entry_script = script_file, environment = env)\n",
    "\n",
    "aci_config = AciWebservice.deploy_configuration(cpu_cores = 1, memory_gb = 1, enable_app_insights = True, auth_enabled = True)\n",
    "#description = 'predcition if the person is likely to die'\n",
    "aci_service_name = 'automl-heart-disease'\n",
    "print(aci_service_name)"
   ]
  },
  {
   "cell_type": "code",
   "execution_count": 23,
   "metadata": {
    "gather": {
     "logged": 1609059066228
    }
   },
   "outputs": [
    {
     "name": "stdout",
     "output_type": "stream",
     "text": [
      "Tips: You can try get_logs(): https://aka.ms/debugimage#dockerlog or local deployment: https://aka.ms/debugimage#debug-locally to debug if deployment takes longer than 10 minutes.\n",
      "Running\n",
      "2021-03-24 23:01:53+00:00 Creating Container Registry if not exists.\n",
      "2021-03-24 23:01:54+00:00 Use the existing image.\n",
      "2021-03-24 23:01:55+00:00 Generating deployment configuration.\n",
      "2021-03-24 23:01:56+00:00 Submitting deployment to compute..\n",
      "2021-03-24 23:01:59+00:00 Checking the status of deployment automl-heart-disease..\n",
      "2021-03-24 23:02:49+00:00 Checking the status of inference endpoint automl-heart-disease.\n",
      "Succeeded\n",
      "ACI service creation operation finished, operation \"Succeeded\"\n",
      "State: Healthy\n",
      "Scoring URI: http://332fefcb-8ec5-44d5-98cf-36b8099e3115.southcentralus.azurecontainer.io/score\n",
      "Keys: G9YZdyl67xwpiAa6c8GEoB0sYAQxrPmL\n",
      "Swagger URI: http://332fefcb-8ec5-44d5-98cf-36b8099e3115.southcentralus.azurecontainer.io/swagger.json\n"
     ]
    }
   ],
   "source": [
    "service = Model.deploy(ws, aci_service_name, [model], inference_config, aci_config)\n",
    "service.wait_for_deployment(True)\n",
    "print(\"State: \" + service.state)\n",
    "print(\"Scoring URI: \" + service.scoring_uri)\n",
    "print(\"Keys: \" + service.get_keys()[0])\n",
    "print(\"Swagger URI: \" + service.swagger_uri)"
   ]
  },
  {
   "cell_type": "markdown",
   "metadata": {},
   "source": [
    "## Testing using 2 different methods"
   ]
  },
  {
   "cell_type": "code",
   "execution_count": 24,
   "metadata": {
    "nteract": {
     "transient": {
      "deleting": false
     }
    }
   },
   "outputs": [
    {
     "name": "stdout",
     "output_type": "stream",
     "text": [
      "{\"result\": [1, 1]}\n"
     ]
    }
   ],
   "source": [
    "%run endpoint.py"
   ]
  },
  {
   "cell_type": "code",
   "execution_count": 25,
   "metadata": {
    "gather": {
     "logged": 1609062759579
    },
    "nteract": {
     "transient": {
      "deleting": false
     }
    }
   },
   "outputs": [
    {
     "name": "stdout",
     "output_type": "stream",
     "text": [
      "{\"data\": [{\"age\": 65.0, \"anaemia\": 0, \"creatinine_phosphokinase\": 326, \"diabetes\": 0, \"ejection_fraction\": 38, \"high_blood_pressure\": 0, \"platelets\": 294000.0, \"serum_creatinine\": 1.7, \"serum_sodium\": 139, \"sex\": 0, \"smoking\": 0, \"time\": 220}, {\"age\": 60.0, \"anaemia\": 1, \"creatinine_phosphokinase\": 95, \"diabetes\": 0, \"ejection_fraction\": 60, \"high_blood_pressure\": 0, \"platelets\": 337000.0, \"serum_creatinine\": 1.0, \"serum_sodium\": 138, \"sex\": 1, \"smoking\": 1, \"time\": 146}, {\"age\": 42.0, \"anaemia\": 1, \"creatinine_phosphokinase\": 250, \"diabetes\": 1, \"ejection_fraction\": 15, \"high_blood_pressure\": 0, \"platelets\": 213000.0, \"serum_creatinine\": 1.3, \"serum_sodium\": 136, \"sex\": 0, \"smoking\": 0, \"time\": 65}]}\n"
     ]
    }
   ],
   "source": [
    "data_test = data_test.to_pandas_dataframe().dropna()\n",
    "data_sample = data_test.sample(3)\n",
    "y_true = data_sample.pop('DEATH_EVENT')\n",
    "sample_json = json.dumps({'data':data_sample.to_dict(orient='records')})\n",
    "print(sample_json)"
   ]
  },
  {
   "cell_type": "code",
   "execution_count": 26,
   "metadata": {
    "gather": {
     "logged": 1609062767514
    },
    "nteract": {
     "transient": {
      "deleting": false
     }
    }
   },
   "outputs": [
    {
     "name": "stdout",
     "output_type": "stream",
     "text": [
      "Prediction:  {\"result\": [0, 0, 1]}\n",
      "True Values:  [0 0 1]\n"
     ]
    }
   ],
   "source": [
    "output = service.run(sample_json)\n",
    "print('Prediction: ', output)\n",
    "print('True Values: ', y_true.values)"
   ]
  },
  {
   "cell_type": "code",
   "execution_count": 27,
   "metadata": {
    "gather": {
     "logged": 1609062829772
    }
   },
   "outputs": [
    {
     "data": {
      "text/plain": [
       "'2021-03-24T23:02:47,013990800+00:00 - gunicorn/run \\n2021-03-24T23:02:47,033371000+00:00 - iot-server/run \\n2021-03-24T23:02:47,024359600+00:00 - rsyslog/run \\n2021-03-24T23:02:47,057951800+00:00 - nginx/run \\n/usr/sbin/nginx: /azureml-envs/azureml_2b14f450572e78de640d54eaabed5e4d/lib/libcrypto.so.1.0.0: no version information available (required by /usr/sbin/nginx)\\n/usr/sbin/nginx: /azureml-envs/azureml_2b14f450572e78de640d54eaabed5e4d/lib/libcrypto.so.1.0.0: no version information available (required by /usr/sbin/nginx)\\n/usr/sbin/nginx: /azureml-envs/azureml_2b14f450572e78de640d54eaabed5e4d/lib/libssl.so.1.0.0: no version information available (required by /usr/sbin/nginx)\\n/usr/sbin/nginx: /azureml-envs/azureml_2b14f450572e78de640d54eaabed5e4d/lib/libssl.so.1.0.0: no version information available (required by /usr/sbin/nginx)\\n/usr/sbin/nginx: /azureml-envs/azureml_2b14f450572e78de640d54eaabed5e4d/lib/libssl.so.1.0.0: no version information available (required by /usr/sbin/nginx)\\nrsyslogd: /azureml-envs/azureml_2b14f450572e78de640d54eaabed5e4d/lib/libuuid.so.1: no version information available (required by rsyslogd)\\nEdgeHubConnectionString and IOTEDGE_IOTHUBHOSTNAME are not set. Exiting...\\n2021-03-24T23:02:48,972573500+00:00 - iot-server/finish 1 0\\n2021-03-24T23:02:48,980183600+00:00 - Exit code 1 is normal. Not restarting iot-server.\\nStarting gunicorn 19.9.0\\nListening at: http://127.0.0.1:31311 (67)\\nUsing worker: sync\\nworker timeout is set to 300\\nBooting worker with pid: 99\\nSPARK_HOME not set. Skipping PySpark Initialization.\\nGenerating new fontManager, this may take some time...\\nInitializing logger\\n2021-03-24 23:02:54,009 | root | INFO | Starting up app insights client\\n2021-03-24 23:02:54,010 | root | INFO | Starting up request id generator\\n2021-03-24 23:02:54,010 | root | INFO | Starting up app insight hooks\\n2021-03-24 23:02:54,010 | root | INFO | Invoking user\\'s init function\\n2021-03-24 23:03:03,965 | azureml.core | WARNING | Failure while loading azureml_run_type_providers. Failed to load entrypoint automl = azureml.train.automl.run:AutoMLRun._from_run_dto with exception (cryptography 3.2 (/azureml-envs/azureml_2b14f450572e78de640d54eaabed5e4d/lib/python3.6/site-packages), Requirement.parse(\\'cryptography<4.0.0,>=3.3.1; extra == \"crypto\"\\'), {\\'PyJWT\\'}).\\nFailure while loading azureml_run_type_providers. Failed to load entrypoint automl = azureml.train.automl.run:AutoMLRun._from_run_dto with exception (cryptography 3.2 (/azureml-envs/azureml_2b14f450572e78de640d54eaabed5e4d/lib/python3.6/site-packages), Requirement.parse(\\'cryptography<4.0.0,>=3.3.1; extra == \"crypto\"\\'), {\\'PyJWT\\'}).\\n2021-03-24 23:03:05,259 | root | INFO | Users\\'s init has completed successfully\\n2021-03-24 23:03:05,288 | root | INFO | Skipping middleware: dbg_model_info as it\\'s not enabled.\\n2021-03-24 23:03:05,288 | root | INFO | Skipping middleware: dbg_resource_usage as it\\'s not enabled.\\n2021-03-24 23:03:05,290 | root | INFO | Scoring timeout is found from os.environ: 60000 ms\\n2021-03-24 23:03:06,059 | root | INFO | 200\\n127.0.0.1 - - [24/Mar/2021:23:03:06 +0000] \"GET /swagger.json HTTP/1.0\" 200 2852 \"-\" \"Go-http-client/1.1\"\\n2021-03-24 23:03:11,238 | root | INFO | 200\\n127.0.0.1 - - [24/Mar/2021:23:03:11 +0000] \"GET /swagger.json HTTP/1.0\" 200 2852 \"-\" \"Go-http-client/1.1\"\\n2021-03-24 23:11:24,897 | root | INFO | Validation Request Content-Type\\n2021-03-24 23:11:24,898 | root | INFO | Scoring Timer is set to 60.0 seconds\\n2021-03-24 23:11:25,096 | root | INFO | 200\\n127.0.0.1 - - [24/Mar/2021:23:11:25 +0000] \"POST /score HTTP/1.0\" 200 22 \"-\" \"python-requests/2.25.1\"\\n2021-03-24 23:11:52,809 | root | INFO | Validation Request Content-Type\\n2021-03-24 23:11:52,809 | root | INFO | Scoring Timer is set to 60.0 seconds\\n2021-03-24 23:11:52,966 | root | INFO | 200\\n127.0.0.1 - - [24/Mar/2021:23:11:52 +0000] \"POST /score HTTP/1.0\" 200 25 \"-\" \"python-requests/2.25.1\"\\n'"
      ]
     },
     "execution_count": 27,
     "metadata": {},
     "output_type": "execute_result"
    }
   ],
   "source": [
    "service.get_logs()"
   ]
  },
  {
   "cell_type": "code",
   "execution_count": 29,
   "metadata": {},
   "outputs": [],
   "source": [
    "service.delete()"
   ]
  },
  {
   "cell_type": "code",
   "execution_count": null,
   "metadata": {},
   "outputs": [],
   "source": []
  },
  {
   "cell_type": "code",
   "execution_count": null,
   "metadata": {},
   "outputs": [],
   "source": []
  },
  {
   "cell_type": "code",
   "execution_count": null,
   "metadata": {},
   "outputs": [],
   "source": []
  }
 ],
 "metadata": {
  "kernel_info": {
   "name": "python3"
  },
  "kernelspec": {
   "display_name": "Python 3",
   "language": "python",
   "name": "python3"
  },
  "language_info": {
   "codemirror_mode": {
    "name": "ipython",
    "version": 3
   },
   "file_extension": ".py",
   "mimetype": "text/x-python",
   "name": "python",
   "nbconvert_exporter": "python",
   "pygments_lexer": "ipython3",
   "version": "3.6.9"
  },
  "microsoft": {
   "host": {
    "AzureML": {
     "notebookHasBeenCompleted": true
    }
   }
  },
  "nteract": {
   "version": "nteract-front-end@1.0.0"
  }
 },
 "nbformat": 4,
 "nbformat_minor": 4
}
