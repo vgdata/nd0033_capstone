{
 "cells": [
  {
   "cell_type": "markdown",
   "metadata": {},
   "source": [
    "## Automated ML\n",
    "\n",
    "Import dependencies. "
   ]
  },
  {
   "cell_type": "code",
   "execution_count": 1,
   "metadata": {
    "gather": {
     "logged": 1609140734398
    },
    "jupyter": {
     "outputs_hidden": false,
     "source_hidden": false
    },
    "nteract": {
     "transient": {
      "deleting": false
     }
    }
   },
   "outputs": [
    {
     "name": "stdout",
     "output_type": "stream",
     "text": [
      "Collecting package metadata (repodata.json): done\n",
      "Solving environment: failed\n",
      "\n",
      "PackagesNotFoundError: The following packages are missing from the target environment:\n",
      "  - xgboost\n",
      "\n",
      "\n",
      "\n",
      "Note: you may need to restart the kernel to use updated packages.\n",
      "Requirement already satisfied: xgboost==0.90 in /anaconda/envs/azureml_py36/lib/python3.6/site-packages (0.90)\n",
      "Requirement already satisfied: numpy in /anaconda/envs/azureml_py36/lib/python3.6/site-packages (from xgboost==0.90) (1.18.5)\n",
      "Requirement already satisfied: scipy in /anaconda/envs/azureml_py36/lib/python3.6/site-packages (from xgboost==0.90) (1.5.2)\n",
      "Note: you may need to restart the kernel to use updated packages.\n"
     ]
    }
   ],
   "source": [
    "import os\n",
    "import pandas as pd\n",
    "import numpy as np\n",
    "import json\n",
    "import requests\n",
    "import joblib\n",
    "from sklearn.metrics import confusion_matrix\n",
    "import itertools\n",
    "\n",
    "from azureml.core import Dataset, Workspace, Experiment\n",
    "from azureml.core.compute import ComputeTarget, AmlCompute\n",
    "from azureml.core.compute_target import ComputeTargetException\n",
    "from azureml.widgets import RunDetails\n",
    "from azureml.train.automl import AutoMLConfig\n",
    "\n",
    "from azureml.core.model import InferenceConfig\n",
    "from azureml.core.webservice import AciWebservice, Webservice\n",
    "from azureml.core.model import Model\n",
    "from azureml.core.environment import Environment\n",
    "\n",
    "%conda remove xgboost\n",
    "%pip install xgboost==0.90\n",
    "import xgboost\n",
    "#print(xgboost._version_)\n"
   ]
  },
  {
   "cell_type": "code",
   "execution_count": 2,
   "metadata": {},
   "outputs": [
    {
     "name": "stdout",
     "output_type": "stream",
     "text": [
      "0.90\n"
     ]
    }
   ],
   "source": [
    "print(xgboost.__version__)"
   ]
  },
  {
   "cell_type": "markdown",
   "metadata": {},
   "source": [
    "## Dataset\n",
    "\n",
    "### Overview\n",
    "\n",
    "**Dataset:** Davide Chicco, Giuseppe Jurman: \"Machine learning can predict survival of patients with heart failure from serum creatinine and ejection fraction alone\". BMC Medical Informatics and Decision Making 20, 16 (2020)\n",
    "\n",
    "Heart failure is a common event caused by CVDs and this dataset contains 12 features that can be used to predict mortality by heart failure.\n",
    "\n",
    "**12 clinical features:**\n",
    "\n",
    "- age: age of the patient (years)\n",
    "- anaemia: decrease of red blood cells or hemoglobin (boolean)\n",
    "- high blood pressure: if the patient has hypertension (boolean)\n",
    "- creatinine phosphokinase (CPK): level of the CPK enzyme in the blood (mcg/L)\n",
    "- diabetes: if the patient has diabetes (boolean)\n",
    "- ejection fraction: percentage of blood leaving the heart at each contraction (percentage)\n",
    "- platelets: platelets in the blood (kiloplatelets/mL)\n",
    "- sex: woman or man (binary)\n",
    "- serum creatinine: level of serum creatinine in the blood (mg/dL)\n",
    "- serum sodium: level of serum sodium in the blood (mEq/L)\n",
    "- smoking: if the patient smokes or not (boolean)\n",
    "- time: follow-up period (days)\n",
    "\n",
    "In this project, Azure AutoML will be used to make prediction on the death event based on patient's 12 clinical features. "
   ]
  },
  {
   "cell_type": "markdown",
   "metadata": {},
   "source": [
    "## Workspace setup"
   ]
  },
  {
   "cell_type": "code",
   "execution_count": 4,
   "metadata": {
    "gather": {
     "logged": 1609140774503
    },
    "jupyter": {
     "outputs_hidden": false,
     "source_hidden": false
    },
    "nteract": {
     "transient": {
      "deleting": false
     }
    }
   },
   "outputs": [],
   "source": [
    "ws = Workspace.from_config()\n",
    "\n",
    "experiment_name = 'automl-experiment'\n",
    "\n",
    "experiment = Experiment(ws, experiment_name)"
   ]
  },
  {
   "cell_type": "code",
   "execution_count": 5,
   "metadata": {
    "gather": {
     "logged": 1609063666153
    },
    "scrolled": true
   },
   "outputs": [],
   "source": [
    "dataset = Dataset.get_by_name(ws, 'heart-disease-kaggle.csv')"
   ]
  },
  {
   "cell_type": "code",
   "execution_count": 6,
   "metadata": {
    "gather": {
     "logged": 1609063680104
    },
    "nteract": {
     "transient": {
      "deleting": false
     }
    }
   },
   "outputs": [
    {
     "data": {
      "text/html": [
       "<div>\n",
       "<style scoped>\n",
       "    .dataframe tbody tr th:only-of-type {\n",
       "        vertical-align: middle;\n",
       "    }\n",
       "\n",
       "    .dataframe tbody tr th {\n",
       "        vertical-align: top;\n",
       "    }\n",
       "\n",
       "    .dataframe thead th {\n",
       "        text-align: right;\n",
       "    }\n",
       "</style>\n",
       "<table border=\"1\" class=\"dataframe\">\n",
       "  <thead>\n",
       "    <tr style=\"text-align: right;\">\n",
       "      <th></th>\n",
       "      <th>age</th>\n",
       "      <th>anaemia</th>\n",
       "      <th>creatinine_phosphokinase</th>\n",
       "      <th>diabetes</th>\n",
       "      <th>ejection_fraction</th>\n",
       "      <th>high_blood_pressure</th>\n",
       "      <th>platelets</th>\n",
       "      <th>serum_creatinine</th>\n",
       "      <th>serum_sodium</th>\n",
       "      <th>sex</th>\n",
       "      <th>smoking</th>\n",
       "      <th>time</th>\n",
       "      <th>DEATH_EVENT</th>\n",
       "    </tr>\n",
       "  </thead>\n",
       "  <tbody>\n",
       "    <tr>\n",
       "      <th>0</th>\n",
       "      <td>75.0</td>\n",
       "      <td>0</td>\n",
       "      <td>582</td>\n",
       "      <td>0</td>\n",
       "      <td>20</td>\n",
       "      <td>1</td>\n",
       "      <td>265000.00</td>\n",
       "      <td>1.9</td>\n",
       "      <td>130</td>\n",
       "      <td>1</td>\n",
       "      <td>0</td>\n",
       "      <td>4</td>\n",
       "      <td>1</td>\n",
       "    </tr>\n",
       "    <tr>\n",
       "      <th>1</th>\n",
       "      <td>55.0</td>\n",
       "      <td>0</td>\n",
       "      <td>7861</td>\n",
       "      <td>0</td>\n",
       "      <td>38</td>\n",
       "      <td>0</td>\n",
       "      <td>263358.03</td>\n",
       "      <td>1.1</td>\n",
       "      <td>136</td>\n",
       "      <td>1</td>\n",
       "      <td>0</td>\n",
       "      <td>6</td>\n",
       "      <td>1</td>\n",
       "    </tr>\n",
       "    <tr>\n",
       "      <th>2</th>\n",
       "      <td>65.0</td>\n",
       "      <td>0</td>\n",
       "      <td>146</td>\n",
       "      <td>0</td>\n",
       "      <td>20</td>\n",
       "      <td>0</td>\n",
       "      <td>162000.00</td>\n",
       "      <td>1.3</td>\n",
       "      <td>129</td>\n",
       "      <td>1</td>\n",
       "      <td>1</td>\n",
       "      <td>7</td>\n",
       "      <td>1</td>\n",
       "    </tr>\n",
       "    <tr>\n",
       "      <th>3</th>\n",
       "      <td>50.0</td>\n",
       "      <td>1</td>\n",
       "      <td>111</td>\n",
       "      <td>0</td>\n",
       "      <td>20</td>\n",
       "      <td>0</td>\n",
       "      <td>210000.00</td>\n",
       "      <td>1.9</td>\n",
       "      <td>137</td>\n",
       "      <td>1</td>\n",
       "      <td>0</td>\n",
       "      <td>7</td>\n",
       "      <td>1</td>\n",
       "    </tr>\n",
       "    <tr>\n",
       "      <th>4</th>\n",
       "      <td>65.0</td>\n",
       "      <td>1</td>\n",
       "      <td>160</td>\n",
       "      <td>1</td>\n",
       "      <td>20</td>\n",
       "      <td>0</td>\n",
       "      <td>327000.00</td>\n",
       "      <td>2.7</td>\n",
       "      <td>116</td>\n",
       "      <td>0</td>\n",
       "      <td>0</td>\n",
       "      <td>8</td>\n",
       "      <td>1</td>\n",
       "    </tr>\n",
       "  </tbody>\n",
       "</table>\n",
       "</div>"
      ],
      "text/plain": [
       "    age  anaemia  creatinine_phosphokinase  diabetes  ejection_fraction  \\\n",
       "0  75.0        0                       582         0                 20   \n",
       "1  55.0        0                      7861         0                 38   \n",
       "2  65.0        0                       146         0                 20   \n",
       "3  50.0        1                       111         0                 20   \n",
       "4  65.0        1                       160         1                 20   \n",
       "\n",
       "   high_blood_pressure  platelets  serum_creatinine  serum_sodium  sex  \\\n",
       "0                    1  265000.00               1.9           130    1   \n",
       "1                    0  263358.03               1.1           136    1   \n",
       "2                    0  162000.00               1.3           129    1   \n",
       "3                    0  210000.00               1.9           137    1   \n",
       "4                    0  327000.00               2.7           116    0   \n",
       "\n",
       "   smoking  time  DEATH_EVENT  \n",
       "0        0     4            1  \n",
       "1        0     6            1  \n",
       "2        1     7            1  \n",
       "3        0     7            1  \n",
       "4        0     8            1  "
      ]
     },
     "execution_count": 6,
     "metadata": {},
     "output_type": "execute_result"
    }
   ],
   "source": [
    "dataset.take(5).to_pandas_dataframe()"
   ]
  },
  {
   "cell_type": "code",
   "execution_count": 8,
   "metadata": {
    "gather": {
     "logged": 1609063684361
    }
   },
   "outputs": [],
   "source": [
    "data_train, data_test = dataset.random_split(0.9)"
   ]
  },
  {
   "cell_type": "markdown",
   "metadata": {},
   "source": [
    "## Config Compute Cluster"
   ]
  },
  {
   "cell_type": "code",
   "execution_count": 9,
   "metadata": {
    "gather": {
     "logged": 1609065223998
    }
   },
   "outputs": [
    {
     "name": "stdout",
     "output_type": "stream",
     "text": [
      "Creating\n",
      "Succeeded\n",
      "AmlCompute wait for completion finished\n",
      "\n",
      "Minimum number of nodes requested have been provisioned\n"
     ]
    }
   ],
   "source": [
    "cpu_cluster_name = \"cpu-cluster\"\n",
    "\n",
    "# Verify that cluster does not exist already\n",
    "try:\n",
    "    compute_target = ComputeTarget(workspace=ws, name=cpu_cluster_name)\n",
    "    print('Found existing cluster, use it.')\n",
    "except ComputeTargetException:\n",
    "    compute_config = AmlCompute.provisioning_configuration(vm_size='STANDARD_D12_V2',\n",
    "                                                           max_nodes=5)\n",
    "    compute_target = ComputeTarget.create(ws, cpu_cluster_name, compute_config)\n",
    "\n",
    "compute_target.wait_for_completion(show_output=True)"
   ]
  },
  {
   "cell_type": "markdown",
   "metadata": {},
   "source": [
    "## AutoML Configuration"
   ]
  },
  {
   "cell_type": "code",
   "execution_count": 10,
   "metadata": {
    "gather": {
     "logged": 1609065227571
    },
    "jupyter": {
     "outputs_hidden": false,
     "source_hidden": false
    },
    "nteract": {
     "transient": {
      "deleting": false
     }
    }
   },
   "outputs": [],
   "source": [
    "automl_settings = {\n",
    "    \"experiment_timeout_minutes\": 30,\n",
    "    \"max_concurrent_iterations\": 4,\n",
    "    \"primary_metric\" : 'accuracy',\n",
    "    \"n_cross_validations\": 5\n",
    "}\n",
    "automl_config = AutoMLConfig(compute_target=compute_target,\n",
    "                             task = \"classification\",\n",
    "                             training_data=data_train,\n",
    "                             label_column_name=\"DEATH_EVENT\", \n",
    "                             enable_early_stopping= True,\n",
    "                             featurization= 'auto',\n",
    "                             **automl_settings\n",
    "                            )"
   ]
  },
  {
   "cell_type": "markdown",
   "metadata": {},
   "source": [
    "AutoML typically performs cross validation, data balance check, cardinality check in prior to machine learning process with a variety of algorithms. "
   ]
  },
  {
   "cell_type": "code",
   "execution_count": 11,
   "metadata": {
    "gather": {
     "logged": 1609057253934
    }
   },
   "outputs": [
    {
     "name": "stdout",
     "output_type": "stream",
     "text": [
      "Running on remote.\n",
      "No run_configuration provided, running on cpu-cluster with default configuration\n",
      "Running on remote compute: cpu-cluster\n",
      "Parent Run ID: AutoML_b48ee273-85c3-4a8f-ada1-31a8ebc61c6c\n",
      "\n",
      "Current status: FeaturesGeneration. Generating features for the dataset.\n",
      "Current status: DatasetCrossValidationSplit. Generating individually featurized CV splits.\n",
      "Current status: ModelSelection. Beginning model selection.\n",
      "\n",
      "****************************************************************************************************\n",
      "DATA GUARDRAILS: \n",
      "\n",
      "TYPE:         Class balancing detection\n",
      "STATUS:       PASSED\n",
      "DESCRIPTION:  Your inputs were analyzed, and all classes are balanced in your training data.\n",
      "              Learn more about imbalanced data: https://aka.ms/AutomatedMLImbalancedData\n",
      "\n",
      "****************************************************************************************************\n",
      "\n",
      "TYPE:         Missing feature values imputation\n",
      "STATUS:       PASSED\n",
      "DESCRIPTION:  No feature missing values were detected in the training data.\n",
      "              Learn more about missing value imputation: https://aka.ms/AutomatedMLFeaturization\n",
      "\n",
      "****************************************************************************************************\n",
      "\n",
      "TYPE:         High cardinality feature detection\n",
      "STATUS:       PASSED\n",
      "DESCRIPTION:  Your inputs were analyzed, and no high cardinality features were detected.\n",
      "              Learn more about high cardinality feature handling: https://aka.ms/AutomatedMLFeaturization\n",
      "\n",
      "****************************************************************************************************\n",
      "\n",
      "****************************************************************************************************\n",
      "ITERATION: The iteration being evaluated.\n",
      "PIPELINE: A summary description of the pipeline being evaluated.\n",
      "DURATION: Time taken for the current iteration.\n",
      "METRIC: The result of computing score on the fitted pipeline.\n",
      "BEST: The best observed score thus far.\n",
      "****************************************************************************************************\n",
      "\n",
      " ITERATION   PIPELINE                                       DURATION      METRIC      BEST\n",
      "         2   MinMaxScaler RandomForest                      0:00:59       0.8466    0.8466\n",
      "         0   MaxAbsScaler LightGBM                          0:00:48       0.8128    0.8466\n",
      "         1   MaxAbsScaler XGBoostClassifier                 0:00:47       0.8162    0.8466\n",
      "         3   MinMaxScaler RandomForest                      0:00:51       0.8502    0.8502\n",
      "         7   MinMaxScaler SVM                               0:01:04       0.6927    0.8502\n",
      "         4   MinMaxScaler RandomForest                      0:02:53       0.8318    0.8502\n",
      "         6   SparseNormalizer XGBoostClassifier             0:02:59       0.8242    0.8502\n",
      "         5   RobustScaler KNN                               0:03:01       0.7190    0.8502\n",
      "         8   MaxAbsScaler GradientBoosting                  0:00:58       0.8427    0.8502\n",
      "         9   SparseNormalizer XGBoostClassifier             0:00:56       0.8166    0.8502\n",
      "        10   SparseNormalizer GradientBoosting              0:00:53       0.8467    0.8502\n",
      "        11   RobustScaler GradientBoosting                  0:00:53       0.8429    0.8502\n",
      "        12   SparseNormalizer LightGBM                      0:00:50       0.7152    0.8502\n",
      "        13   StandardScalerWrapper XGBoostClassifier        0:00:55       0.8279    0.8502\n",
      "        14   StandardScalerWrapper ExtremeRandomTrees       0:00:46       0.8467    0.8502\n",
      "        15   SparseNormalizer XGBoostClassifier             0:00:53       0.8241    0.8502\n",
      "        16   RobustScaler ExtremeRandomTrees                0:00:52       0.8466    0.8502\n",
      "        17   SparseNormalizer XGBoostClassifier             0:00:51       0.8204    0.8502\n",
      "        18   RobustScaler ExtremeRandomTrees                0:00:53       0.8542    0.8542\n",
      "        19   StandardScalerWrapper GradientBoosting         0:00:53       0.8277    0.8542\n",
      "        20   RobustScaler RandomForest                      0:00:56       0.8467    0.8542\n",
      "        21   StandardScalerWrapper RandomForest             0:00:51       0.8504    0.8542\n",
      "        22   StandardScalerWrapper LightGBM                 0:00:52       0.8201    0.8542\n",
      "        23   RobustScaler LightGBM                          0:00:51       0.8126    0.8542\n",
      "        24   RobustScaler RandomForest                      0:01:02       0.8579    0.8579\n",
      "        25   TruncatedSVDWrapper ExtremeRandomTrees         0:00:48       0.3981    0.8579\n",
      "        26   SparseNormalizer ExtremeRandomTrees            0:00:50       0.8051    0.8579\n",
      "        27   StandardScalerWrapper RandomForest             0:00:55       0.8465    0.8579\n",
      "        28   StandardScalerWrapper ExtremeRandomTrees       0:00:47       0.8240    0.8579\n",
      "        29   MaxAbsScaler LightGBM                          0:00:51       0.8428    0.8579\n",
      "        30   SparseNormalizer RandomForest                  0:00:55       0.7151    0.8579\n",
      "        31   RobustScaler LightGBM                          0:00:55       0.8428    0.8579\n",
      "        32   StandardScalerWrapper ExtremeRandomTrees       0:00:50       0.7151    0.8579\n",
      "        33   StandardScalerWrapper LightGBM                 0:00:45       0.8240    0.8579\n",
      "        34   SparseNormalizer XGBoostClassifier             0:00:51       0.8015    0.8579\n",
      "        35   SparseNormalizer RandomForest                  0:00:48       0.8051    0.8579\n",
      "        36   MaxAbsScaler LightGBM                          0:00:53       0.8315    0.8579\n",
      "        37   MaxAbsScaler LightGBM                          0:00:47       0.8352    0.8579\n",
      "        38   StandardScalerWrapper RandomForest             0:00:37       0.8579    0.8579\n",
      "        39   SparseNormalizer RandomForest                  0:00:28          nan    0.8579\n",
      "        40                                                  0:00:17          nan    0.8579\n",
      "        41    VotingEnsemble                                0:01:18       0.8729    0.8729\n",
      "        42    StackEnsemble                                 0:01:14       0.8691    0.8729\n"
     ]
    }
   ],
   "source": [
    "remote_run = experiment.submit(automl_config, show_output = True)"
   ]
  },
  {
   "cell_type": "markdown",
   "metadata": {},
   "source": [
    "## Run Details"
   ]
  },
  {
   "cell_type": "code",
   "execution_count": 12,
   "metadata": {
    "gather": {
     "logged": 1609064958780
    },
    "scrolled": true
   },
   "outputs": [
    {
     "data": {
      "text/html": [
       "<table style=\"width:100%\"><tr><th>Experiment</th><th>Id</th><th>Type</th><th>Status</th><th>Details Page</th><th>Docs Page</th></tr><tr><td>automl-experiment</td><td>AutoML_b48ee273-85c3-4a8f-ada1-31a8ebc61c6c</td><td>automl</td><td>Completed</td><td><a href=\"https://ml.azure.com/experiments/automl-experiment/runs/AutoML_b48ee273-85c3-4a8f-ada1-31a8ebc61c6c?wsid=/subscriptions/f9d5a085-54dc-4215-9ba6-dad5d86e60a0/resourcegroups/aml-quickstarts-140708/workspaces/quick-starts-ws-140708\" target=\"_blank\" rel=\"noopener\">Link to Azure Machine Learning studio</a></td><td><a href=\"https://docs.microsoft.com/en-us/python/api/overview/azure/ml/intro?view=azure-ml-py\" target=\"_blank\" rel=\"noopener\">Link to Documentation</a></td></tr></table>"
      ],
      "text/plain": [
       "Run(Experiment: automl-experiment,\n",
       "Id: AutoML_b48ee273-85c3-4a8f-ada1-31a8ebc61c6c,\n",
       "Type: automl,\n",
       "Status: Completed)"
      ]
     },
     "execution_count": 12,
     "metadata": {},
     "output_type": "execute_result"
    }
   ],
   "source": [
    "remote_run"
   ]
  },
  {
   "cell_type": "code",
   "execution_count": 13,
   "metadata": {
    "gather": {
     "logged": 1609057313573
    },
    "scrolled": true
   },
   "outputs": [
    {
     "data": {
      "application/vnd.jupyter.widget-view+json": {
       "model_id": "d4944a30e778472aa023dc4ec3b24b94",
       "version_major": 2,
       "version_minor": 0
      },
      "text/plain": [
       "_AutoMLWidget(widget_settings={'childWidgetDisplay': 'popup', 'send_telemetry': False, 'log_level': 'INFO', 's…"
      ]
     },
     "metadata": {},
     "output_type": "display_data"
    },
    {
     "data": {
      "application/aml.mini.widget.v1": "{\"status\": \"Completed\", \"workbench_run_details_uri\": \"https://ml.azure.com/experiments/automl-experiment/runs/AutoML_b48ee273-85c3-4a8f-ada1-31a8ebc61c6c?wsid=/subscriptions/f9d5a085-54dc-4215-9ba6-dad5d86e60a0/resourcegroups/aml-quickstarts-140708/workspaces/quick-starts-ws-140708\", \"run_id\": \"AutoML_b48ee273-85c3-4a8f-ada1-31a8ebc61c6c\", \"run_properties\": {\"run_id\": \"AutoML_b48ee273-85c3-4a8f-ada1-31a8ebc61c6c\", \"created_utc\": \"2021-03-16T16:17:49.404523Z\", \"properties\": {\"num_iterations\": \"1000\", \"training_type\": \"TrainFull\", \"acquisition_function\": \"EI\", \"primary_metric\": \"accuracy\", \"train_split\": \"0\", \"acquisition_parameter\": \"0\", \"num_cross_validation\": \"5\", \"target\": \"cpu-cluster\", \"AMLSettingsJsonString\": \"{\\\"path\\\":null,\\\"name\\\":\\\"automl-experiment\\\",\\\"subscription_id\\\":\\\"f9d5a085-54dc-4215-9ba6-dad5d86e60a0\\\",\\\"resource_group\\\":\\\"aml-quickstarts-140708\\\",\\\"workspace_name\\\":\\\"quick-starts-ws-140708\\\",\\\"region\\\":\\\"southcentralus\\\",\\\"compute_target\\\":\\\"cpu-cluster\\\",\\\"spark_service\\\":null,\\\"azure_service\\\":\\\"remote\\\",\\\"many_models\\\":false,\\\"pipeline_fetch_max_batch_size\\\":1,\\\"iterations\\\":1000,\\\"primary_metric\\\":\\\"accuracy\\\",\\\"task_type\\\":\\\"classification\\\",\\\"data_script\\\":null,\\\"validation_size\\\":0.0,\\\"n_cross_validations\\\":5,\\\"y_min\\\":null,\\\"y_max\\\":null,\\\"num_classes\\\":null,\\\"featurization\\\":\\\"auto\\\",\\\"_ignore_package_version_incompatibilities\\\":false,\\\"is_timeseries\\\":false,\\\"max_cores_per_iteration\\\":1,\\\"max_concurrent_iterations\\\":4,\\\"iteration_timeout_minutes\\\":null,\\\"mem_in_mb\\\":null,\\\"enforce_time_on_windows\\\":false,\\\"experiment_timeout_minutes\\\":30,\\\"experiment_exit_score\\\":null,\\\"whitelist_models\\\":null,\\\"blacklist_algos\\\":[\\\"TensorFlowLinearClassifier\\\",\\\"TensorFlowDNN\\\"],\\\"supported_models\\\":[\\\"GradientBoosting\\\",\\\"AveragedPerceptronClassifier\\\",\\\"SVM\\\",\\\"LinearSVM\\\",\\\"KNN\\\",\\\"LightGBM\\\",\\\"BernoulliNaiveBayes\\\",\\\"MultinomialNaiveBayes\\\",\\\"ExtremeRandomTrees\\\",\\\"SGD\\\",\\\"XGBoostClassifier\\\",\\\"LogisticRegression\\\",\\\"TensorFlowDNN\\\",\\\"DecisionTree\\\",\\\"RandomForest\\\",\\\"TensorFlowLinearClassifier\\\"],\\\"private_models\\\":[],\\\"auto_blacklist\\\":true,\\\"blacklist_samples_reached\\\":false,\\\"exclude_nan_labels\\\":true,\\\"verbosity\\\":20,\\\"_debug_log\\\":\\\"azureml_automl.log\\\",\\\"show_warnings\\\":false,\\\"model_explainability\\\":true,\\\"service_url\\\":null,\\\"sdk_url\\\":null,\\\"sdk_packages\\\":null,\\\"enable_onnx_compatible_models\\\":false,\\\"enable_split_onnx_featurizer_estimator_models\\\":false,\\\"vm_type\\\":\\\"STANDARD_D12_V2\\\",\\\"telemetry_verbosity\\\":20,\\\"send_telemetry\\\":true,\\\"enable_dnn\\\":false,\\\"scenario\\\":\\\"SDK-1.13.0\\\",\\\"environment_label\\\":null,\\\"force_text_dnn\\\":false,\\\"enable_feature_sweeping\\\":true,\\\"enable_early_stopping\\\":true,\\\"early_stopping_n_iters\\\":10,\\\"metrics\\\":null,\\\"enable_ensembling\\\":true,\\\"enable_stack_ensembling\\\":true,\\\"ensemble_iterations\\\":15,\\\"enable_tf\\\":false,\\\"enable_subsampling\\\":null,\\\"subsample_seed\\\":null,\\\"enable_nimbusml\\\":false,\\\"enable_streaming\\\":false,\\\"force_streaming\\\":false,\\\"track_child_runs\\\":true,\\\"allowed_private_models\\\":[],\\\"label_column_name\\\":\\\"DEATH_EVENT\\\",\\\"weight_column_name\\\":null,\\\"cv_split_column_names\\\":null,\\\"enable_local_managed\\\":false,\\\"_local_managed_run_id\\\":null,\\\"cost_mode\\\":1,\\\"lag_length\\\":0,\\\"metric_operation\\\":\\\"maximize\\\",\\\"preprocess\\\":true}\", \"DataPrepJsonString\": \"{\\\\\\\"training_data\\\\\\\": \\\\\\\"{\\\\\\\\\\\\\\\"blocks\\\\\\\\\\\\\\\": [{\\\\\\\\\\\\\\\"id\\\\\\\\\\\\\\\": \\\\\\\\\\\\\\\"6c6cf30a-6f46-46f5-ad10-35e57304580f\\\\\\\\\\\\\\\", \\\\\\\\\\\\\\\"type\\\\\\\\\\\\\\\": \\\\\\\\\\\\\\\"Microsoft.DPrep.GetDatastoreFilesBlock\\\\\\\\\\\\\\\", \\\\\\\\\\\\\\\"arguments\\\\\\\\\\\\\\\": {\\\\\\\\\\\\\\\"datastores\\\\\\\\\\\\\\\": [{\\\\\\\\\\\\\\\"datastoreName\\\\\\\\\\\\\\\": \\\\\\\\\\\\\\\"workspaceblobstore\\\\\\\\\\\\\\\", \\\\\\\\\\\\\\\"path\\\\\\\\\\\\\\\": \\\\\\\\\\\\\\\"UI/03-16-2021_033752_UTC/heart-disease-kaggle.csv\\\\\\\\\\\\\\\", \\\\\\\\\\\\\\\"resourceGroup\\\\\\\\\\\\\\\": \\\\\\\\\\\\\\\"aml-quickstarts-140708\\\\\\\\\\\\\\\", \\\\\\\\\\\\\\\"subscription\\\\\\\\\\\\\\\": \\\\\\\\\\\\\\\"f9d5a085-54dc-4215-9ba6-dad5d86e60a0\\\\\\\\\\\\\\\", \\\\\\\\\\\\\\\"workspaceName\\\\\\\\\\\\\\\": \\\\\\\\\\\\\\\"quick-starts-ws-140708\\\\\\\\\\\\\\\"}]}, \\\\\\\\\\\\\\\"localData\\\\\\\\\\\\\\\": {}, \\\\\\\\\\\\\\\"isEnabled\\\\\\\\\\\\\\\": true, \\\\\\\\\\\\\\\"name\\\\\\\\\\\\\\\": null, \\\\\\\\\\\\\\\"annotation\\\\\\\\\\\\\\\": null}, {\\\\\\\\\\\\\\\"id\\\\\\\\\\\\\\\": \\\\\\\\\\\\\\\"1af65c66-dfc9-4ace-ae18-be3993001750\\\\\\\\\\\\\\\", \\\\\\\\\\\\\\\"type\\\\\\\\\\\\\\\": \\\\\\\\\\\\\\\"Microsoft.DPrep.ParseDelimitedBlock\\\\\\\\\\\\\\\", \\\\\\\\\\\\\\\"arguments\\\\\\\\\\\\\\\": {\\\\\\\\\\\\\\\"columnHeadersMode\\\\\\\\\\\\\\\": 3, \\\\\\\\\\\\\\\"fileEncoding\\\\\\\\\\\\\\\": 0, \\\\\\\\\\\\\\\"handleQuotedLineBreaks\\\\\\\\\\\\\\\": false, \\\\\\\\\\\\\\\"preview\\\\\\\\\\\\\\\": false, \\\\\\\\\\\\\\\"separator\\\\\\\\\\\\\\\": \\\\\\\\\\\\\\\",\\\\\\\\\\\\\\\", \\\\\\\\\\\\\\\"skipRows\\\\\\\\\\\\\\\": 0, \\\\\\\\\\\\\\\"skipRowsMode\\\\\\\\\\\\\\\": 0}, \\\\\\\\\\\\\\\"localData\\\\\\\\\\\\\\\": {}, \\\\\\\\\\\\\\\"isEnabled\\\\\\\\\\\\\\\": true, \\\\\\\\\\\\\\\"name\\\\\\\\\\\\\\\": null, \\\\\\\\\\\\\\\"annotation\\\\\\\\\\\\\\\": null}, {\\\\\\\\\\\\\\\"id\\\\\\\\\\\\\\\": \\\\\\\\\\\\\\\"581db922-3380-47dd-8cc9-fc0d3e109d12\\\\\\\\\\\\\\\", \\\\\\\\\\\\\\\"type\\\\\\\\\\\\\\\": \\\\\\\\\\\\\\\"Microsoft.DPrep.DropColumnsBlock\\\\\\\\\\\\\\\", \\\\\\\\\\\\\\\"arguments\\\\\\\\\\\\\\\": {\\\\\\\\\\\\\\\"columns\\\\\\\\\\\\\\\": {\\\\\\\\\\\\\\\"type\\\\\\\\\\\\\\\": 0, \\\\\\\\\\\\\\\"details\\\\\\\\\\\\\\\": {\\\\\\\\\\\\\\\"selectedColumns\\\\\\\\\\\\\\\": [\\\\\\\\\\\\\\\"Path\\\\\\\\\\\\\\\"]}}}, \\\\\\\\\\\\\\\"localData\\\\\\\\\\\\\\\": {}, \\\\\\\\\\\\\\\"isEnabled\\\\\\\\\\\\\\\": true, \\\\\\\\\\\\\\\"name\\\\\\\\\\\\\\\": null, \\\\\\\\\\\\\\\"annotation\\\\\\\\\\\\\\\": null}, {\\\\\\\\\\\\\\\"id\\\\\\\\\\\\\\\": \\\\\\\\\\\\\\\"5d290d77-6a8b-4373-9a53-3a135cf79fe5\\\\\\\\\\\\\\\", \\\\\\\\\\\\\\\"type\\\\\\\\\\\\\\\": \\\\\\\\\\\\\\\"Microsoft.DPrep.SetColumnTypesBlock\\\\\\\\\\\\\\\", \\\\\\\\\\\\\\\"arguments\\\\\\\\\\\\\\\": {\\\\\\\\\\\\\\\"columnConversion\\\\\\\\\\\\\\\": [{\\\\\\\\\\\\\\\"column\\\\\\\\\\\\\\\": {\\\\\\\\\\\\\\\"type\\\\\\\\\\\\\\\": 2, \\\\\\\\\\\\\\\"details\\\\\\\\\\\\\\\": {\\\\\\\\\\\\\\\"selectedColumn\\\\\\\\\\\\\\\": \\\\\\\\\\\\\\\"Path\\\\\\\\\\\\\\\"}}, \\\\\\\\\\\\\\\"typeProperty\\\\\\\\\\\\\\\": 0}, {\\\\\\\\\\\\\\\"column\\\\\\\\\\\\\\\": {\\\\\\\\\\\\\\\"type\\\\\\\\\\\\\\\": 2, \\\\\\\\\\\\\\\"details\\\\\\\\\\\\\\\": {\\\\\\\\\\\\\\\"selectedColumn\\\\\\\\\\\\\\\": \\\\\\\\\\\\\\\"age\\\\\\\\\\\\\\\"}}, \\\\\\\\\\\\\\\"typeProperty\\\\\\\\\\\\\\\": 3}, {\\\\\\\\\\\\\\\"column\\\\\\\\\\\\\\\": {\\\\\\\\\\\\\\\"type\\\\\\\\\\\\\\\": 2, \\\\\\\\\\\\\\\"details\\\\\\\\\\\\\\\": {\\\\\\\\\\\\\\\"selectedColumn\\\\\\\\\\\\\\\": \\\\\\\\\\\\\\\"anaemia\\\\\\\\\\\\\\\"}}, \\\\\\\\\\\\\\\"typeProperty\\\\\\\\\\\\\\\": 2}, {\\\\\\\\\\\\\\\"column\\\\\\\\\\\\\\\": {\\\\\\\\\\\\\\\"type\\\\\\\\\\\\\\\": 2, \\\\\\\\\\\\\\\"details\\\\\\\\\\\\\\\": {\\\\\\\\\\\\\\\"selectedColumn\\\\\\\\\\\\\\\": \\\\\\\\\\\\\\\"creatinine_phosphokinase\\\\\\\\\\\\\\\"}}, \\\\\\\\\\\\\\\"typeProperty\\\\\\\\\\\\\\\": 2}, {\\\\\\\\\\\\\\\"column\\\\\\\\\\\\\\\": {\\\\\\\\\\\\\\\"type\\\\\\\\\\\\\\\": 2, \\\\\\\\\\\\\\\"details\\\\\\\\\\\\\\\": {\\\\\\\\\\\\\\\"selectedColumn\\\\\\\\\\\\\\\": \\\\\\\\\\\\\\\"diabetes\\\\\\\\\\\\\\\"}}, \\\\\\\\\\\\\\\"typeProperty\\\\\\\\\\\\\\\": 2}, {\\\\\\\\\\\\\\\"column\\\\\\\\\\\\\\\": {\\\\\\\\\\\\\\\"type\\\\\\\\\\\\\\\": 2, \\\\\\\\\\\\\\\"details\\\\\\\\\\\\\\\": {\\\\\\\\\\\\\\\"selectedColumn\\\\\\\\\\\\\\\": \\\\\\\\\\\\\\\"ejection_fraction\\\\\\\\\\\\\\\"}}, \\\\\\\\\\\\\\\"typeProperty\\\\\\\\\\\\\\\": 2}, {\\\\\\\\\\\\\\\"column\\\\\\\\\\\\\\\": {\\\\\\\\\\\\\\\"type\\\\\\\\\\\\\\\": 2, \\\\\\\\\\\\\\\"details\\\\\\\\\\\\\\\": {\\\\\\\\\\\\\\\"selectedColumn\\\\\\\\\\\\\\\": \\\\\\\\\\\\\\\"high_blood_pressure\\\\\\\\\\\\\\\"}}, \\\\\\\\\\\\\\\"typeProperty\\\\\\\\\\\\\\\": 2}, {\\\\\\\\\\\\\\\"column\\\\\\\\\\\\\\\": {\\\\\\\\\\\\\\\"type\\\\\\\\\\\\\\\": 2, \\\\\\\\\\\\\\\"details\\\\\\\\\\\\\\\": {\\\\\\\\\\\\\\\"selectedColumn\\\\\\\\\\\\\\\": \\\\\\\\\\\\\\\"platelets\\\\\\\\\\\\\\\"}}, \\\\\\\\\\\\\\\"typeProperty\\\\\\\\\\\\\\\": 3}, {\\\\\\\\\\\\\\\"column\\\\\\\\\\\\\\\": {\\\\\\\\\\\\\\\"type\\\\\\\\\\\\\\\": 2, \\\\\\\\\\\\\\\"details\\\\\\\\\\\\\\\": {\\\\\\\\\\\\\\\"selectedColumn\\\\\\\\\\\\\\\": \\\\\\\\\\\\\\\"serum_creatinine\\\\\\\\\\\\\\\"}}, \\\\\\\\\\\\\\\"typeProperty\\\\\\\\\\\\\\\": 3}, {\\\\\\\\\\\\\\\"column\\\\\\\\\\\\\\\": {\\\\\\\\\\\\\\\"type\\\\\\\\\\\\\\\": 2, \\\\\\\\\\\\\\\"details\\\\\\\\\\\\\\\": {\\\\\\\\\\\\\\\"selectedColumn\\\\\\\\\\\\\\\": \\\\\\\\\\\\\\\"serum_sodium\\\\\\\\\\\\\\\"}}, \\\\\\\\\\\\\\\"typeProperty\\\\\\\\\\\\\\\": 2}, {\\\\\\\\\\\\\\\"column\\\\\\\\\\\\\\\": {\\\\\\\\\\\\\\\"type\\\\\\\\\\\\\\\": 2, \\\\\\\\\\\\\\\"details\\\\\\\\\\\\\\\": {\\\\\\\\\\\\\\\"selectedColumn\\\\\\\\\\\\\\\": \\\\\\\\\\\\\\\"sex\\\\\\\\\\\\\\\"}}, \\\\\\\\\\\\\\\"typeProperty\\\\\\\\\\\\\\\": 2}, {\\\\\\\\\\\\\\\"column\\\\\\\\\\\\\\\": {\\\\\\\\\\\\\\\"type\\\\\\\\\\\\\\\": 2, \\\\\\\\\\\\\\\"details\\\\\\\\\\\\\\\": {\\\\\\\\\\\\\\\"selectedColumn\\\\\\\\\\\\\\\": \\\\\\\\\\\\\\\"smoking\\\\\\\\\\\\\\\"}}, \\\\\\\\\\\\\\\"typeProperty\\\\\\\\\\\\\\\": 2}, {\\\\\\\\\\\\\\\"column\\\\\\\\\\\\\\\": {\\\\\\\\\\\\\\\"type\\\\\\\\\\\\\\\": 2, \\\\\\\\\\\\\\\"details\\\\\\\\\\\\\\\": {\\\\\\\\\\\\\\\"selectedColumn\\\\\\\\\\\\\\\": \\\\\\\\\\\\\\\"time\\\\\\\\\\\\\\\"}}, \\\\\\\\\\\\\\\"typeProperty\\\\\\\\\\\\\\\": 2}, {\\\\\\\\\\\\\\\"column\\\\\\\\\\\\\\\": {\\\\\\\\\\\\\\\"type\\\\\\\\\\\\\\\": 2, \\\\\\\\\\\\\\\"details\\\\\\\\\\\\\\\": {\\\\\\\\\\\\\\\"selectedColumn\\\\\\\\\\\\\\\": \\\\\\\\\\\\\\\"DEATH_EVENT\\\\\\\\\\\\\\\"}}, \\\\\\\\\\\\\\\"typeProperty\\\\\\\\\\\\\\\": 2}]}, \\\\\\\\\\\\\\\"localData\\\\\\\\\\\\\\\": {}, \\\\\\\\\\\\\\\"isEnabled\\\\\\\\\\\\\\\": true, \\\\\\\\\\\\\\\"name\\\\\\\\\\\\\\\": null, \\\\\\\\\\\\\\\"annotation\\\\\\\\\\\\\\\": null}, {\\\\\\\\\\\\\\\"id\\\\\\\\\\\\\\\": \\\\\\\\\\\\\\\"f76da665-ce9e-431c-87dd-3d75456df26e\\\\\\\\\\\\\\\", \\\\\\\\\\\\\\\"type\\\\\\\\\\\\\\\": \\\\\\\\\\\\\\\"Microsoft.DPrep.TakeSampleBlock\\\\\\\\\\\\\\\", \\\\\\\\\\\\\\\"arguments\\\\\\\\\\\\\\\": {\\\\\\\\\\\\\\\"probability\\\\\\\\\\\\\\\": 0.9, \\\\\\\\\\\\\\\"probabilityLowerBound\\\\\\\\\\\\\\\": 0.0, \\\\\\\\\\\\\\\"seed\\\\\\\\\\\\\\\": 690004482}, \\\\\\\\\\\\\\\"localData\\\\\\\\\\\\\\\": {}, \\\\\\\\\\\\\\\"isEnabled\\\\\\\\\\\\\\\": true, \\\\\\\\\\\\\\\"name\\\\\\\\\\\\\\\": null, \\\\\\\\\\\\\\\"annotation\\\\\\\\\\\\\\\": null}], \\\\\\\\\\\\\\\"inspectors\\\\\\\\\\\\\\\": [], \\\\\\\\\\\\\\\"meta\\\\\\\\\\\\\\\": {\\\\\\\\\\\\\\\"savedDatasetId\\\\\\\\\\\\\\\": \\\\\\\\\\\\\\\"1223cd0e-f340-46fa-befc-de0fcbf17e95\\\\\\\\\\\\\\\", \\\\\\\\\\\\\\\"datasetType\\\\\\\\\\\\\\\": \\\\\\\\\\\\\\\"tabular\\\\\\\\\\\\\\\", \\\\\\\\\\\\\\\"subscriptionId\\\\\\\\\\\\\\\": \\\\\\\\\\\\\\\"f9d5a085-54dc-4215-9ba6-dad5d86e60a0\\\\\\\\\\\\\\\", \\\\\\\\\\\\\\\"workspaceId\\\\\\\\\\\\\\\": \\\\\\\\\\\\\\\"8626ffad-a5ea-4e59-b6e3-038de50b076a\\\\\\\\\\\\\\\", \\\\\\\\\\\\\\\"workspaceLocation\\\\\\\\\\\\\\\": \\\\\\\\\\\\\\\"southcentralus\\\\\\\\\\\\\\\"}}\\\\\\\", \\\\\\\"activities\\\\\\\": 0}\", \"EnableSubsampling\": null, \"runTemplate\": \"AutoML\", \"azureml.runsource\": \"automl\", \"display_task_type\": \"classification\", \"dependencies_versions\": \"{\\\"azureml-widgets\\\": \\\"1.22.0\\\", \\\"azureml-train\\\": \\\"1.22.0\\\", \\\"azureml-train-restclients-hyperdrive\\\": \\\"1.22.0\\\", \\\"azureml-train-core\\\": \\\"1.22.0\\\", \\\"azureml-train-automl\\\": \\\"1.22.0\\\", \\\"azureml-train-automl-runtime\\\": \\\"1.22.0\\\", \\\"azureml-train-automl-client\\\": \\\"1.22.0\\\", \\\"azureml-tensorboard\\\": \\\"1.22.0\\\", \\\"azureml-telemetry\\\": \\\"1.22.0\\\", \\\"azureml-sdk\\\": \\\"1.22.0\\\", \\\"azureml-samples\\\": \\\"0+unknown\\\", \\\"azureml-pipeline\\\": \\\"1.22.0\\\", \\\"azureml-pipeline-steps\\\": \\\"1.22.0\\\", \\\"azureml-pipeline-core\\\": \\\"1.22.0\\\", \\\"azureml-opendatasets\\\": \\\"1.22.0\\\", \\\"azureml-model-management-sdk\\\": \\\"1.0.1b6.post1\\\", \\\"azureml-mlflow\\\": \\\"1.22.0\\\", \\\"azureml-interpret\\\": \\\"1.22.0\\\", \\\"azureml-explain-model\\\": \\\"1.22.0\\\", \\\"azureml-defaults\\\": \\\"1.22.0\\\", \\\"azureml-dataset-runtime\\\": \\\"1.22.0\\\", \\\"azureml-dataprep\\\": \\\"2.9.1\\\", \\\"azureml-dataprep-rslex\\\": \\\"1.7.0\\\", \\\"azureml-dataprep-native\\\": \\\"29.0.0\\\", \\\"azureml-datadrift\\\": \\\"1.22.0\\\", \\\"azureml-core\\\": \\\"1.22.0\\\", \\\"azureml-contrib-services\\\": \\\"1.22.0\\\", \\\"azureml-contrib-server\\\": \\\"1.22.0\\\", \\\"azureml-contrib-reinforcementlearning\\\": \\\"1.22.0\\\", \\\"azureml-contrib-pipeline-steps\\\": \\\"1.22.0\\\", \\\"azureml-contrib-notebook\\\": \\\"1.22.0\\\", \\\"azureml-contrib-interpret\\\": \\\"1.22.0\\\", \\\"azureml-contrib-gbdt\\\": \\\"1.22.0\\\", \\\"azureml-contrib-fairness\\\": \\\"1.22.0\\\", \\\"azureml-contrib-dataset\\\": \\\"1.22.0\\\", \\\"azureml-cli-common\\\": \\\"1.22.0\\\", \\\"azureml-automl-runtime\\\": \\\"1.22.0\\\", \\\"azureml-automl-core\\\": \\\"1.22.0\\\", \\\"azureml-accel-models\\\": \\\"1.22.0\\\"}\", \"_aml_system_scenario_identification\": \"Remote.Parent\", \"ClientType\": \"SDK\", \"environment_cpu_name\": \"AzureML-AutoML\", \"environment_cpu_label\": \"prod\", \"environment_gpu_name\": \"AzureML-AutoML-GPU\", \"environment_gpu_label\": \"prod\", \"root_attribution\": \"automl\", \"attribution\": \"AutoML\", \"Orchestrator\": \"AutoML\", \"CancelUri\": \"https://southcentralus.experiments.azureml.net/jasmine/v1.0/subscriptions/f9d5a085-54dc-4215-9ba6-dad5d86e60a0/resourceGroups/aml-quickstarts-140708/providers/Microsoft.MachineLearningServices/workspaces/quick-starts-ws-140708/experimentids/fdc6e343-68c4-4c12-a787-e025c43fab56/cancel/AutoML_b48ee273-85c3-4a8f-ada1-31a8ebc61c6c\", \"ClientSdkVersion\": \"1.23.0\", \"snapshotId\": \"00000000-0000-0000-0000-000000000000\", \"SetupRunId\": \"AutoML_b48ee273-85c3-4a8f-ada1-31a8ebc61c6c_setup\", \"SetupRunContainerId\": \"dcid.AutoML_b48ee273-85c3-4a8f-ada1-31a8ebc61c6c_setup\", \"FeaturizationRunJsonPath\": \"featurizer_container.json\", \"FeaturizationRunId\": \"AutoML_b48ee273-85c3-4a8f-ada1-31a8ebc61c6c_featurize\", \"ProblemInfoJsonString\": \"{\\\"dataset_num_categorical\\\": 0, \\\"is_sparse\\\": false, \\\"subsampling\\\": false, \\\"dataset_classes\\\": 2, \\\"dataset_features\\\": 12, \\\"dataset_samples\\\": 267, \\\"single_frequency_class_detected\\\": false}\", \"ModelExplainRunId\": \"AutoML_b48ee273-85c3-4a8f-ada1-31a8ebc61c6c_ModelExplain\"}, \"tags\": {\"model_explain_run\": \"best_run\", \"_aml_system_azureml.automlComponent\": \"AutoML\", \"pipeline_id\": \"\", \"score\": \"\", \"predicted_cost\": \"\", \"fit_time\": \"\", \"training_percent\": \"\", \"iteration\": \"\", \"run_preprocessor\": \"\", \"run_algorithm\": \"\", \"dynamic_whitelisting_iterations\": \"<25>;<30>;<35>;<40>;\", \"automl_best_child_run_id\": \"AutoML_b48ee273-85c3-4a8f-ada1-31a8ebc61c6c_41\", \"model_explain_best_run_child_id\": \"AutoML_b48ee273-85c3-4a8f-ada1-31a8ebc61c6c_41\"}, \"end_time_utc\": \"2021-03-16T16:44:49.037705Z\", \"status\": \"Completed\", \"log_files\": {}, \"log_groups\": [], \"run_duration\": \"0:26:59\", \"run_number\": \"1\", \"run_queued_details\": {\"status\": \"Completed\", \"details\": null}}, \"child_runs\": [{\"run_id\": \"AutoML_b48ee273-85c3-4a8f-ada1-31a8ebc61c6c_1\", \"run_number\": 5, \"metric\": null, \"status\": \"Completed\", \"run_type\": \"azureml.scriptrun\", \"training_percent\": \"100\", \"start_time\": \"2021-03-16T16:30:02.829273Z\", \"end_time\": \"2021-03-16T16:30:49.635141Z\", \"created_time\": \"2021-03-16T16:27:32.233153Z\", \"created_time_dt\": \"2021-03-16T16:27:32.233153Z\", \"duration\": \"0:03:17\", \"iteration\": \"1\", \"goal\": \"accuracy_max\", \"run_name\": \"MaxAbsScaler, XGBoostClassifier\", \"run_properties\": \"copy=True\", \"primary_metric\": 0.81621244, \"best_metric\": 0.81621244}, {\"run_id\": \"AutoML_b48ee273-85c3-4a8f-ada1-31a8ebc61c6c_0\", \"run_number\": 6, \"metric\": null, \"status\": \"Completed\", \"run_type\": \"azureml.scriptrun\", \"training_percent\": \"100\", \"start_time\": \"2021-03-16T16:28:57.228006Z\", \"end_time\": \"2021-03-16T16:29:45.24338Z\", \"created_time\": \"2021-03-16T16:27:32.240822Z\", \"created_time_dt\": \"2021-03-16T16:27:32.240822Z\", \"duration\": \"0:02:13\", \"iteration\": \"0\", \"goal\": \"accuracy_max\", \"run_name\": \"MaxAbsScaler, LightGBM\", \"run_properties\": \"copy=True\", \"primary_metric\": 0.81278826, \"best_metric\": 0.81278826}, {\"run_id\": \"AutoML_b48ee273-85c3-4a8f-ada1-31a8ebc61c6c_3\", \"run_number\": 7, \"metric\": null, \"status\": \"Completed\", \"run_type\": \"azureml.scriptrun\", \"training_percent\": \"100\", \"start_time\": \"2021-03-16T16:31:00.833323Z\", \"end_time\": \"2021-03-16T16:31:51.431291Z\", \"created_time\": \"2021-03-16T16:27:32.285634Z\", \"created_time_dt\": \"2021-03-16T16:27:32.285634Z\", \"duration\": \"0:04:19\", \"iteration\": \"3\", \"goal\": \"accuracy_max\", \"run_name\": \"MinMaxScaler, RandomForest\", \"run_properties\": \"copy=True, feature_range=(0, 1\", \"primary_metric\": 0.85024458, \"best_metric\": 0.85024458}, {\"run_id\": \"AutoML_b48ee273-85c3-4a8f-ada1-31a8ebc61c6c_2\", \"run_number\": 8, \"metric\": null, \"status\": \"Completed\", \"run_type\": \"azureml.scriptrun\", \"training_percent\": \"100\", \"start_time\": \"2021-03-16T16:27:43.620257Z\", \"end_time\": \"2021-03-16T16:28:42.693956Z\", \"created_time\": \"2021-03-16T16:27:32.282721Z\", \"created_time_dt\": \"2021-03-16T16:27:32.282721Z\", \"duration\": \"0:01:10\", \"iteration\": \"2\", \"goal\": \"accuracy_max\", \"run_name\": \"MinMaxScaler, RandomForest\", \"run_properties\": \"copy=True, feature_range=(0, 1\", \"primary_metric\": 0.84661076, \"best_metric\": 0.84661076}, {\"run_id\": \"AutoML_b48ee273-85c3-4a8f-ada1-31a8ebc61c6c_4\", \"run_number\": 9, \"metric\": null, \"status\": \"Completed\", \"run_type\": \"azureml.scriptrun\", \"training_percent\": \"100\", \"start_time\": \"2021-03-16T16:31:30.506858Z\", \"end_time\": \"2021-03-16T16:34:23.091599Z\", \"created_time\": \"2021-03-16T16:28:45.795458Z\", \"created_time_dt\": \"2021-03-16T16:28:45.795458Z\", \"duration\": \"0:05:37\", \"iteration\": \"4\", \"goal\": \"accuracy_max\", \"run_name\": \"MinMaxScaler, RandomForest\", \"run_properties\": \"copy=True, feature_range=(0, 1\", \"primary_metric\": 0.83179595, \"best_metric\": 0.85024458}, {\"run_id\": \"AutoML_b48ee273-85c3-4a8f-ada1-31a8ebc61c6c_5\", \"run_number\": 10, \"metric\": null, \"status\": \"Completed\", \"run_type\": \"azureml.scriptrun\", \"training_percent\": \"100\", \"start_time\": \"2021-03-16T16:31:32.713596Z\", \"end_time\": \"2021-03-16T16:34:33.860195Z\", \"created_time\": \"2021-03-16T16:29:47.756508Z\", \"created_time_dt\": \"2021-03-16T16:29:47.756508Z\", \"duration\": \"0:04:46\", \"iteration\": \"5\", \"goal\": \"accuracy_max\", \"run_name\": \"RobustScaler, KNN\", \"run_properties\": \"copy=True, quantile_range=[10, 90], with_centering=True,\\n             with_scaling=True\", \"primary_metric\": 0.71900769, \"best_metric\": 0.85024458}, {\"run_id\": \"AutoML_b48ee273-85c3-4a8f-ada1-31a8ebc61c6c_6\", \"run_number\": 11, \"metric\": null, \"status\": \"Completed\", \"run_type\": \"azureml.scriptrun\", \"training_percent\": \"100\", \"start_time\": \"2021-03-16T16:31:29.484772Z\", \"end_time\": \"2021-03-16T16:34:28.361902Z\", \"created_time\": \"2021-03-16T16:30:52.842963Z\", \"created_time_dt\": \"2021-03-16T16:30:52.842963Z\", \"duration\": \"0:03:35\", \"iteration\": \"6\", \"goal\": \"accuracy_max\", \"run_name\": \"SparseNormalizer, XGBoostClassifier\", \"run_properties\": \"<azureml.automl.runtime.shared.model_wrappers.SparseNormalizer object at 0x7fa60c4a3240\", \"primary_metric\": 0.8241789, \"best_metric\": 0.85024458}, {\"run_id\": \"AutoML_b48ee273-85c3-4a8f-ada1-31a8ebc61c6c_7\", \"run_number\": 12, \"metric\": null, \"status\": \"Completed\", \"run_type\": \"azureml.scriptrun\", \"training_percent\": \"100\", \"start_time\": \"2021-03-16T16:32:09.354262Z\", \"end_time\": \"2021-03-16T16:33:13.636084Z\", \"created_time\": \"2021-03-16T16:31:53.468103Z\", \"created_time_dt\": \"2021-03-16T16:31:53.468103Z\", \"duration\": \"0:01:20\", \"iteration\": \"7\", \"goal\": \"accuracy_max\", \"run_name\": \"MinMaxScaler, SVM\", \"run_properties\": \"copy=True, feature_range=(0, 1\", \"primary_metric\": 0.69273235, \"best_metric\": 0.85024458}, {\"run_id\": \"AutoML_b48ee273-85c3-4a8f-ada1-31a8ebc61c6c_8\", \"run_number\": 13, \"metric\": null, \"status\": \"Completed\", \"run_type\": \"azureml.scriptrun\", \"training_percent\": \"100\", \"start_time\": \"2021-03-16T16:33:31.34602Z\", \"end_time\": \"2021-03-16T16:34:29.126415Z\", \"created_time\": \"2021-03-16T16:33:18.328407Z\", \"created_time_dt\": \"2021-03-16T16:33:18.328407Z\", \"duration\": \"0:01:10\", \"iteration\": \"8\", \"goal\": \"accuracy_max\", \"run_name\": \"MaxAbsScaler, GradientBoosting\", \"run_properties\": \"copy=True\", \"primary_metric\": 0.84269741, \"best_metric\": 0.85024458}, {\"run_id\": \"AutoML_b48ee273-85c3-4a8f-ada1-31a8ebc61c6c_9\", \"run_number\": 14, \"metric\": null, \"status\": \"Completed\", \"run_type\": \"azureml.scriptrun\", \"training_percent\": \"100\", \"start_time\": \"2021-03-16T16:34:34.334121Z\", \"end_time\": \"2021-03-16T16:35:30.109809Z\", \"created_time\": \"2021-03-16T16:34:25.352853Z\", \"created_time_dt\": \"2021-03-16T16:34:25.352853Z\", \"duration\": \"0:01:04\", \"iteration\": \"9\", \"goal\": \"accuracy_max\", \"run_name\": \"SparseNormalizer, XGBoostClassifier\", \"run_properties\": \"<azureml.automl.runtime.shared.model_wrappers.SparseNormalizer object at 0x7fc403483320\", \"primary_metric\": 0.81663173, \"best_metric\": 0.85024458}, {\"run_id\": \"AutoML_b48ee273-85c3-4a8f-ada1-31a8ebc61c6c_10\", \"run_number\": 15, \"metric\": null, \"status\": \"Completed\", \"run_type\": \"azureml.scriptrun\", \"training_percent\": \"100\", \"start_time\": \"2021-03-16T16:34:41.083191Z\", \"end_time\": \"2021-03-16T16:35:34.075214Z\", \"created_time\": \"2021-03-16T16:34:30.407563Z\", \"created_time_dt\": \"2021-03-16T16:34:30.407563Z\", \"duration\": \"0:01:03\", \"iteration\": \"10\", \"goal\": \"accuracy_max\", \"run_name\": \"SparseNormalizer, GradientBoosting\", \"run_properties\": \"<azureml.automl.runtime.shared.model_wrappers.SparseNormalizer object at 0x7f35d8333470\", \"primary_metric\": 0.84668064, \"best_metric\": 0.85024458}, {\"run_id\": \"AutoML_b48ee273-85c3-4a8f-ada1-31a8ebc61c6c_11\", \"run_number\": 16, \"metric\": null, \"status\": \"Completed\", \"run_type\": \"azureml.scriptrun\", \"training_percent\": \"100\", \"start_time\": \"2021-03-16T16:34:44.039432Z\", \"end_time\": \"2021-03-16T16:35:37.485678Z\", \"created_time\": \"2021-03-16T16:34:33.712324Z\", \"created_time_dt\": \"2021-03-16T16:34:33.712324Z\", \"duration\": \"0:01:03\", \"iteration\": \"11\", \"goal\": \"accuracy_max\", \"run_name\": \"RobustScaler, GradientBoosting\", \"run_properties\": \"copy=True, quantile_range=[25, 75], with_centering=False,\\n             with_scaling=False\", \"primary_metric\": 0.84290706, \"best_metric\": 0.85024458}, {\"run_id\": \"AutoML_b48ee273-85c3-4a8f-ada1-31a8ebc61c6c_12\", \"run_number\": 17, \"metric\": null, \"status\": \"Completed\", \"run_type\": \"azureml.scriptrun\", \"training_percent\": \"100\", \"start_time\": \"2021-03-16T16:34:47.050733Z\", \"end_time\": \"2021-03-16T16:35:36.999394Z\", \"created_time\": \"2021-03-16T16:34:36.820808Z\", \"created_time_dt\": \"2021-03-16T16:34:36.820808Z\", \"duration\": \"0:01:00\", \"iteration\": \"12\", \"goal\": \"accuracy_max\", \"run_name\": \"SparseNormalizer, LightGBM\", \"run_properties\": \"<azureml.automl.runtime.shared.model_wrappers.SparseNormalizer object at 0x7f8a38d09828\", \"primary_metric\": 0.7152341, \"best_metric\": 0.85024458}, {\"run_id\": \"AutoML_b48ee273-85c3-4a8f-ada1-31a8ebc61c6c_13\", \"run_number\": 18, \"metric\": null, \"status\": \"Completed\", \"run_type\": \"azureml.scriptrun\", \"training_percent\": \"100\", \"start_time\": \"2021-03-16T16:35:47.590966Z\", \"end_time\": \"2021-03-16T16:36:42.85343Z\", \"created_time\": \"2021-03-16T16:35:33.632591Z\", \"created_time_dt\": \"2021-03-16T16:35:33.632591Z\", \"duration\": \"0:01:09\", \"iteration\": \"13\", \"goal\": \"accuracy_max\", \"run_name\": \"StandardScalerWrapper, XGBoostClassifier\", \"run_properties\": \"<azureml.automl.runtime.shared.model_wrappers.StandardScalerWrapper object at 0x7f6a7b90ffd0\", \"primary_metric\": 0.8278826, \"best_metric\": 0.85024458}, {\"run_id\": \"AutoML_b48ee273-85c3-4a8f-ada1-31a8ebc61c6c_14\", \"run_number\": 19, \"metric\": null, \"status\": \"Completed\", \"run_type\": \"azureml.scriptrun\", \"training_percent\": \"100\", \"start_time\": \"2021-03-16T16:35:54.519125Z\", \"end_time\": \"2021-03-16T16:36:40.533021Z\", \"created_time\": \"2021-03-16T16:35:40.576523Z\", \"created_time_dt\": \"2021-03-16T16:35:40.576523Z\", \"duration\": \"0:00:59\", \"iteration\": \"14\", \"goal\": \"accuracy_max\", \"run_name\": \"StandardScalerWrapper, ExtremeRandomTrees\", \"run_properties\": \"<azureml.automl.runtime.shared.model_wrappers.StandardScalerWrapper object at 0x7f7550a22128\", \"primary_metric\": 0.84668064, \"best_metric\": 0.85024458}, {\"run_id\": \"AutoML_b48ee273-85c3-4a8f-ada1-31a8ebc61c6c_16\", \"run_number\": 20, \"metric\": null, \"status\": \"Completed\", \"run_type\": \"azureml.scriptrun\", \"training_percent\": \"100\", \"start_time\": \"2021-03-16T16:35:53.812736Z\", \"end_time\": \"2021-03-16T16:36:45.526699Z\", \"created_time\": \"2021-03-16T16:35:40.61138Z\", \"created_time_dt\": \"2021-03-16T16:35:40.61138Z\", \"duration\": \"0:01:04\", \"iteration\": \"16\", \"goal\": \"accuracy_max\", \"run_name\": \"RobustScaler, ExtremeRandomTrees\", \"run_properties\": \"copy=True, quantile_range=[25, 75], with_centering=True,\\n             with_scaling=False\", \"primary_metric\": 0.84661076, \"best_metric\": 0.85024458}, {\"run_id\": \"AutoML_b48ee273-85c3-4a8f-ada1-31a8ebc61c6c_15\", \"run_number\": 21, \"metric\": null, \"status\": \"Completed\", \"run_type\": \"azureml.scriptrun\", \"training_percent\": \"100\", \"start_time\": \"2021-03-16T16:35:53.166149Z\", \"end_time\": \"2021-03-16T16:36:46.513845Z\", \"created_time\": \"2021-03-16T16:35:40.993933Z\", \"created_time_dt\": \"2021-03-16T16:35:40.993933Z\", \"duration\": \"0:01:05\", \"iteration\": \"15\", \"goal\": \"accuracy_max\", \"run_name\": \"SparseNormalizer, XGBoostClassifier\", \"run_properties\": \"<azureml.automl.runtime.shared.model_wrappers.SparseNormalizer object at 0x7efff18dbe48\", \"primary_metric\": 0.82410901, \"best_metric\": 0.85024458}, {\"run_id\": \"AutoML_b48ee273-85c3-4a8f-ada1-31a8ebc61c6c_17\", \"run_number\": 22, \"metric\": null, \"status\": \"Completed\", \"run_type\": \"azureml.scriptrun\", \"training_percent\": \"100\", \"start_time\": \"2021-03-16T16:36:56.135531Z\", \"end_time\": \"2021-03-16T16:37:46.644408Z\", \"created_time\": \"2021-03-16T16:36:43.508211Z\", \"created_time_dt\": \"2021-03-16T16:36:43.508211Z\", \"duration\": \"0:01:03\", \"iteration\": \"17\", \"goal\": \"accuracy_max\", \"run_name\": \"SparseNormalizer, XGBoostClassifier\", \"run_properties\": \"<azureml.automl.runtime.shared.model_wrappers.SparseNormalizer object at 0x7f118229c0f0\", \"primary_metric\": 0.82040531, \"best_metric\": 0.85024458}, {\"run_id\": \"AutoML_b48ee273-85c3-4a8f-ada1-31a8ebc61c6c_18\", \"run_number\": 23, \"metric\": null, \"status\": \"Completed\", \"run_type\": \"azureml.scriptrun\", \"training_percent\": \"100\", \"start_time\": \"2021-03-16T16:36:59.105564Z\", \"end_time\": \"2021-03-16T16:37:52.313008Z\", \"created_time\": \"2021-03-16T16:36:48.440867Z\", \"created_time_dt\": \"2021-03-16T16:36:48.440867Z\", \"duration\": \"0:01:03\", \"iteration\": \"18\", \"goal\": \"accuracy_max\", \"run_name\": \"RobustScaler, ExtremeRandomTrees\", \"run_properties\": \"copy=True, quantile_range=[25, 75], with_centering=True,\\n             with_scaling=False\", \"primary_metric\": 0.85415793, \"best_metric\": 0.85415793}, {\"run_id\": \"AutoML_b48ee273-85c3-4a8f-ada1-31a8ebc61c6c_19\", \"run_number\": 24, \"metric\": null, \"status\": \"Completed\", \"run_type\": \"azureml.scriptrun\", \"training_percent\": \"100\", \"start_time\": \"2021-03-16T16:36:59.054824Z\", \"end_time\": \"2021-03-16T16:37:52.174887Z\", \"created_time\": \"2021-03-16T16:36:48.656825Z\", \"created_time_dt\": \"2021-03-16T16:36:48.656825Z\", \"duration\": \"0:01:03\", \"iteration\": \"19\", \"goal\": \"accuracy_max\", \"run_name\": \"StandardScalerWrapper, GradientBoosting\", \"run_properties\": \"<azureml.automl.runtime.shared.model_wrappers.StandardScalerWrapper object at 0x7f65b50c2a90\", \"primary_metric\": 0.82767296, \"best_metric\": 0.85415793}, {\"run_id\": \"AutoML_b48ee273-85c3-4a8f-ada1-31a8ebc61c6c_20\", \"run_number\": 25, \"metric\": null, \"status\": \"Completed\", \"run_type\": \"azureml.scriptrun\", \"training_percent\": \"100\", \"start_time\": \"2021-03-16T16:37:01.698115Z\", \"end_time\": \"2021-03-16T16:37:57.609997Z\", \"created_time\": \"2021-03-16T16:36:53.188961Z\", \"created_time_dt\": \"2021-03-16T16:36:53.188961Z\", \"duration\": \"0:01:04\", \"iteration\": \"20\", \"goal\": \"accuracy_max\", \"run_name\": \"RobustScaler, RandomForest\", \"run_properties\": \"copy=True, quantile_range=[10, 90], with_centering=True,\\n             with_scaling=True\", \"primary_metric\": 0.84668064, \"best_metric\": 0.85415793}, {\"run_id\": \"AutoML_b48ee273-85c3-4a8f-ada1-31a8ebc61c6c_21\", \"run_number\": 26, \"metric\": null, \"status\": \"Completed\", \"run_type\": \"azureml.scriptrun\", \"training_percent\": \"100\", \"start_time\": \"2021-03-16T16:38:03.078126Z\", \"end_time\": \"2021-03-16T16:38:54.041433Z\", \"created_time\": \"2021-03-16T16:37:50.218496Z\", \"created_time_dt\": \"2021-03-16T16:37:50.218496Z\", \"duration\": \"0:01:03\", \"iteration\": \"21\", \"goal\": \"accuracy_max\", \"run_name\": \"StandardScalerWrapper, RandomForest\", \"run_properties\": \"<azureml.automl.runtime.shared.model_wrappers.StandardScalerWrapper object at 0x7fad54295f28\", \"primary_metric\": 0.85038435, \"best_metric\": 0.85415793}, {\"run_id\": \"AutoML_b48ee273-85c3-4a8f-ada1-31a8ebc61c6c_22\", \"run_number\": 27, \"metric\": null, \"status\": \"Completed\", \"run_type\": \"azureml.scriptrun\", \"training_percent\": \"100\", \"start_time\": \"2021-03-16T16:38:08.739802Z\", \"end_time\": \"2021-03-16T16:39:00.394974Z\", \"created_time\": \"2021-03-16T16:37:56.278376Z\", \"created_time_dt\": \"2021-03-16T16:37:56.278376Z\", \"duration\": \"0:01:04\", \"iteration\": \"22\", \"goal\": \"accuracy_max\", \"run_name\": \"StandardScalerWrapper, LightGBM\", \"run_properties\": \"<azureml.automl.runtime.shared.model_wrappers.StandardScalerWrapper object at 0x7f627bfdcef0\", \"primary_metric\": 0.82012579, \"best_metric\": 0.85415793}, {\"run_id\": \"AutoML_b48ee273-85c3-4a8f-ada1-31a8ebc61c6c_23\", \"run_number\": 28, \"metric\": null, \"status\": \"Completed\", \"run_type\": \"azureml.scriptrun\", \"training_percent\": \"100\", \"start_time\": \"2021-03-16T16:38:08.717759Z\", \"end_time\": \"2021-03-16T16:38:59.91189Z\", \"created_time\": \"2021-03-16T16:37:56.32256Z\", \"created_time_dt\": \"2021-03-16T16:37:56.32256Z\", \"duration\": \"0:01:03\", \"iteration\": \"23\", \"goal\": \"accuracy_max\", \"run_name\": \"RobustScaler, LightGBM\", \"run_properties\": \"copy=True, quantile_range=[25, 75], with_centering=False,\\n             with_scaling=False\", \"primary_metric\": 0.81257862, \"best_metric\": 0.85415793}, {\"run_id\": \"AutoML_b48ee273-85c3-4a8f-ada1-31a8ebc61c6c_24\", \"run_number\": 29, \"metric\": null, \"status\": \"Completed\", \"run_type\": \"azureml.scriptrun\", \"training_percent\": \"100\", \"start_time\": \"2021-03-16T16:38:14.020529Z\", \"end_time\": \"2021-03-16T16:39:15.905568Z\", \"created_time\": \"2021-03-16T16:38:04.821837Z\", \"created_time_dt\": \"2021-03-16T16:38:04.821837Z\", \"duration\": \"0:01:11\", \"iteration\": \"24\", \"goal\": \"accuracy_max\", \"run_name\": \"RobustScaler, RandomForest\", \"run_properties\": \"copy=True, quantile_range=[25, 75], with_centering=False,\\n             with_scaling=True\", \"primary_metric\": 0.85786164, \"best_metric\": 0.85786164}, {\"run_id\": \"AutoML_b48ee273-85c3-4a8f-ada1-31a8ebc61c6c_25\", \"run_number\": 30, \"metric\": null, \"status\": \"Completed\", \"run_type\": \"azureml.scriptrun\", \"training_percent\": \"100\", \"start_time\": \"2021-03-16T16:39:12.733789Z\", \"end_time\": \"2021-03-16T16:40:00.978086Z\", \"created_time\": \"2021-03-16T16:38:58.661023Z\", \"created_time_dt\": \"2021-03-16T16:38:58.661023Z\", \"duration\": \"0:01:02\", \"iteration\": \"25\", \"goal\": \"accuracy_max\", \"run_name\": \"TruncatedSVDWrapper, ExtremeRandomTrees\", \"run_properties\": \"n_components=0.01, random_state=None\", \"primary_metric\": 0.39811321, \"best_metric\": 0.85786164}, {\"run_id\": \"AutoML_b48ee273-85c3-4a8f-ada1-31a8ebc61c6c_26\", \"run_number\": 31, \"metric\": null, \"status\": \"Completed\", \"run_type\": \"azureml.scriptrun\", \"training_percent\": \"100\", \"start_time\": \"2021-03-16T16:39:14.565617Z\", \"end_time\": \"2021-03-16T16:40:04.584974Z\", \"created_time\": \"2021-03-16T16:39:04.162686Z\", \"created_time_dt\": \"2021-03-16T16:39:04.162686Z\", \"duration\": \"0:01:00\", \"iteration\": \"26\", \"goal\": \"accuracy_max\", \"run_name\": \"SparseNormalizer, ExtremeRandomTrees\", \"run_properties\": \"<azureml.automl.runtime.shared.model_wrappers.SparseNormalizer object at 0x7f71e6ab1550\", \"primary_metric\": 0.80510133, \"best_metric\": 0.85786164}, {\"run_id\": \"AutoML_b48ee273-85c3-4a8f-ada1-31a8ebc61c6c_27\", \"run_number\": 32, \"metric\": null, \"status\": \"Completed\", \"run_type\": \"azureml.scriptrun\", \"training_percent\": \"100\", \"start_time\": \"2021-03-16T16:39:16.112624Z\", \"end_time\": \"2021-03-16T16:40:11.458389Z\", \"created_time\": \"2021-03-16T16:39:04.309116Z\", \"created_time_dt\": \"2021-03-16T16:39:04.309116Z\", \"duration\": \"0:01:07\", \"iteration\": \"27\", \"goal\": \"accuracy_max\", \"run_name\": \"StandardScalerWrapper, RandomForest\", \"run_properties\": \"<azureml.automl.runtime.shared.model_wrappers.StandardScalerWrapper object at 0x7fda888e1ef0\", \"primary_metric\": 0.846471, \"best_metric\": 0.85786164}, {\"run_id\": \"AutoML_b48ee273-85c3-4a8f-ada1-31a8ebc61c6c_28\", \"run_number\": 33, \"metric\": null, \"status\": \"Completed\", \"run_type\": \"azureml.scriptrun\", \"training_percent\": \"100\", \"start_time\": \"2021-03-16T16:39:33.568081Z\", \"end_time\": \"2021-03-16T16:40:20.085126Z\", \"created_time\": \"2021-03-16T16:39:18.180937Z\", \"created_time_dt\": \"2021-03-16T16:39:18.180937Z\", \"duration\": \"0:01:01\", \"iteration\": \"28\", \"goal\": \"accuracy_max\", \"run_name\": \"StandardScalerWrapper, ExtremeRandomTrees\", \"run_properties\": \"<azureml.automl.runtime.shared.model_wrappers.StandardScalerWrapper object at 0x7f94a2d25438\", \"primary_metric\": 0.82403913, \"best_metric\": 0.85786164}, {\"run_id\": \"AutoML_b48ee273-85c3-4a8f-ada1-31a8ebc61c6c_29\", \"run_number\": 34, \"metric\": null, \"status\": \"Completed\", \"run_type\": \"azureml.scriptrun\", \"training_percent\": \"100\", \"start_time\": \"2021-03-16T16:40:14.23083Z\", \"end_time\": \"2021-03-16T16:41:05.332016Z\", \"created_time\": \"2021-03-16T16:40:03.487597Z\", \"created_time_dt\": \"2021-03-16T16:40:03.487597Z\", \"duration\": \"0:01:01\", \"iteration\": \"29\", \"goal\": \"accuracy_max\", \"run_name\": \"MaxAbsScaler, LightGBM\", \"run_properties\": \"copy=True\", \"primary_metric\": 0.8427673, \"best_metric\": 0.85786164}, {\"run_id\": \"AutoML_b48ee273-85c3-4a8f-ada1-31a8ebc61c6c_30\", \"run_number\": 35, \"metric\": null, \"status\": \"Completed\", \"run_type\": \"azureml.scriptrun\", \"training_percent\": \"100\", \"start_time\": \"2021-03-16T16:40:20.554881Z\", \"end_time\": \"2021-03-16T16:41:15.397045Z\", \"created_time\": \"2021-03-16T16:40:09.654804Z\", \"created_time_dt\": \"2021-03-16T16:40:09.654804Z\", \"duration\": \"0:01:05\", \"iteration\": \"30\", \"goal\": \"accuracy_max\", \"run_name\": \"SparseNormalizer, RandomForest\", \"run_properties\": \"<azureml.automl.runtime.shared.model_wrappers.SparseNormalizer object at 0x7f398bbb4d30\", \"primary_metric\": 0.71509434, \"best_metric\": 0.85786164}, {\"run_id\": \"AutoML_b48ee273-85c3-4a8f-ada1-31a8ebc61c6c_31\", \"run_number\": 36, \"metric\": null, \"status\": \"Completed\", \"run_type\": \"azureml.scriptrun\", \"training_percent\": \"100\", \"start_time\": \"2021-03-16T16:40:26.712697Z\", \"end_time\": \"2021-03-16T16:41:21.242697Z\", \"created_time\": \"2021-03-16T16:40:15.174964Z\", \"created_time_dt\": \"2021-03-16T16:40:15.174964Z\", \"duration\": \"0:01:06\", \"iteration\": \"31\", \"goal\": \"accuracy_max\", \"run_name\": \"RobustScaler, LightGBM\", \"run_properties\": \"copy=True, quantile_range=[10, 90], with_centering=False,\\n             with_scaling=False\", \"primary_metric\": 0.8427673, \"best_metric\": 0.85786164}, {\"run_id\": \"AutoML_b48ee273-85c3-4a8f-ada1-31a8ebc61c6c_32\", \"run_number\": 37, \"metric\": null, \"status\": \"Completed\", \"run_type\": \"azureml.scriptrun\", \"training_percent\": \"100\", \"start_time\": \"2021-03-16T16:40:36.785576Z\", \"end_time\": \"2021-03-16T16:41:26.395585Z\", \"created_time\": \"2021-03-16T16:40:22.370131Z\", \"created_time_dt\": \"2021-03-16T16:40:22.370131Z\", \"duration\": \"0:01:04\", \"iteration\": \"32\", \"goal\": \"accuracy_max\", \"run_name\": \"StandardScalerWrapper, ExtremeRandomTrees\", \"run_properties\": \"<azureml.automl.runtime.shared.model_wrappers.StandardScalerWrapper object at 0x7f8880099a58\", \"primary_metric\": 0.71509434, \"best_metric\": 0.85786164}, {\"run_id\": \"AutoML_b48ee273-85c3-4a8f-ada1-31a8ebc61c6c_33\", \"run_number\": 38, \"metric\": null, \"status\": \"Completed\", \"run_type\": \"azureml.scriptrun\", \"training_percent\": \"100\", \"start_time\": \"2021-03-16T16:41:18.199069Z\", \"end_time\": \"2021-03-16T16:42:02.971993Z\", \"created_time\": \"2021-03-16T16:41:07.902248Z\", \"created_time_dt\": \"2021-03-16T16:41:07.902248Z\", \"duration\": \"0:00:55\", \"iteration\": \"33\", \"goal\": \"accuracy_max\", \"run_name\": \"StandardScalerWrapper, LightGBM\", \"run_properties\": \"<azureml.automl.runtime.shared.model_wrappers.StandardScalerWrapper object at 0x7f3969a78cf8\", \"primary_metric\": 0.82396925, \"best_metric\": 0.85786164}, {\"run_id\": \"AutoML_b48ee273-85c3-4a8f-ada1-31a8ebc61c6c_34\", \"run_number\": 39, \"metric\": null, \"status\": \"Completed\", \"run_type\": \"azureml.scriptrun\", \"training_percent\": \"100\", \"start_time\": \"2021-03-16T16:41:28.902428Z\", \"end_time\": \"2021-03-16T16:42:20.041003Z\", \"created_time\": \"2021-03-16T16:41:17.822232Z\", \"created_time_dt\": \"2021-03-16T16:41:17.822232Z\", \"duration\": \"0:01:02\", \"iteration\": \"34\", \"goal\": \"accuracy_max\", \"run_name\": \"SparseNormalizer, XGBoostClassifier\", \"run_properties\": \"<azureml.automl.runtime.shared.model_wrappers.SparseNormalizer object at 0x7f4372624a20\", \"primary_metric\": 0.80153739, \"best_metric\": 0.85786164}, {\"run_id\": \"AutoML_b48ee273-85c3-4a8f-ada1-31a8ebc61c6c_35\", \"run_number\": 40, \"metric\": null, \"status\": \"Completed\", \"run_type\": \"azureml.scriptrun\", \"training_percent\": \"100\", \"start_time\": \"2021-03-16T16:41:35.528193Z\", \"end_time\": \"2021-03-16T16:42:23.563323Z\", \"created_time\": \"2021-03-16T16:41:24.663623Z\", \"created_time_dt\": \"2021-03-16T16:41:24.663623Z\", \"duration\": \"0:00:58\", \"iteration\": \"35\", \"goal\": \"accuracy_max\", \"run_name\": \"SparseNormalizer, RandomForest\", \"run_properties\": \"<azureml.automl.runtime.shared.model_wrappers.SparseNormalizer object at 0x7fc8a6520f28\", \"primary_metric\": 0.80510133, \"best_metric\": 0.85786164}, {\"run_id\": \"AutoML_b48ee273-85c3-4a8f-ada1-31a8ebc61c6c_36\", \"run_number\": 41, \"metric\": null, \"status\": \"Completed\", \"run_type\": \"azureml.scriptrun\", \"training_percent\": \"100\", \"start_time\": \"2021-03-16T16:41:46.469076Z\", \"end_time\": \"2021-03-16T16:42:39.896574Z\", \"created_time\": \"2021-03-16T16:41:29.214641Z\", \"created_time_dt\": \"2021-03-16T16:41:29.214641Z\", \"duration\": \"0:01:10\", \"iteration\": \"36\", \"goal\": \"accuracy_max\", \"run_name\": \"MaxAbsScaler, LightGBM\", \"run_properties\": \"copy=True\", \"primary_metric\": 0.83151642, \"best_metric\": 0.85786164}, {\"run_id\": \"AutoML_b48ee273-85c3-4a8f-ada1-31a8ebc61c6c_37\", \"run_number\": 42, \"metric\": null, \"status\": \"Completed\", \"run_type\": \"azureml.scriptrun\", \"training_percent\": \"100\", \"start_time\": \"2021-03-16T16:42:17.565609Z\", \"end_time\": \"2021-03-16T16:43:04.493101Z\", \"created_time\": \"2021-03-16T16:42:05.249208Z\", \"created_time_dt\": \"2021-03-16T16:42:05.249208Z\", \"duration\": \"0:00:59\", \"iteration\": \"37\", \"goal\": \"accuracy_max\", \"run_name\": \"MaxAbsScaler, LightGBM\", \"run_properties\": \"copy=True\", \"primary_metric\": 0.83522013, \"best_metric\": 0.85786164}, {\"run_id\": \"AutoML_b48ee273-85c3-4a8f-ada1-31a8ebc61c6c_38\", \"run_number\": 43, \"metric\": null, \"status\": \"Canceled\", \"run_type\": \"azureml.scriptrun\", \"training_percent\": \"100\", \"start_time\": \"2021-03-16T16:42:36.607556Z\", \"end_time\": \"2021-03-16T16:43:13.854289Z\", \"created_time\": \"2021-03-16T16:42:23.041343Z\", \"created_time_dt\": \"2021-03-16T16:42:23.041343Z\", \"duration\": \"0:00:50\", \"iteration\": \"38\", \"goal\": \"accuracy_max\", \"run_name\": \"StandardScalerWrapper, RandomForest\", \"run_properties\": \"<azureml.automl.runtime.shared.model_wrappers.StandardScalerWrapper object at 0x7fd6194b6c50\", \"primary_metric\": 0.85786164, \"best_metric\": 0.85786164}, {\"run_id\": \"AutoML_b48ee273-85c3-4a8f-ada1-31a8ebc61c6c_39\", \"run_number\": 44, \"metric\": null, \"status\": \"Canceled\", \"run_type\": \"azureml.scriptrun\", \"training_percent\": \"100\", \"start_time\": \"2021-03-16T16:42:44.467222Z\", \"end_time\": \"2021-03-16T16:43:12.060078Z\", \"created_time\": \"2021-03-16T16:42:29.469264Z\", \"created_time_dt\": \"2021-03-16T16:42:29.469264Z\", \"duration\": \"0:00:42\", \"iteration\": \"39\", \"goal\": null, \"run_name\": \"SparseNormalizer, RandomForest\", \"run_properties\": null}, {\"run_id\": \"AutoML_b48ee273-85c3-4a8f-ada1-31a8ebc61c6c_40\", \"run_number\": 45, \"metric\": null, \"status\": \"Canceled\", \"run_type\": \"azureml.scriptrun\", \"training_percent\": \"100\", \"start_time\": \"2021-03-16T16:42:55.447159Z\", \"end_time\": \"2021-03-16T16:43:11.993295Z\", \"created_time\": \"2021-03-16T16:42:43.978117Z\", \"created_time_dt\": \"2021-03-16T16:42:43.978117Z\", \"duration\": \"0:00:28\", \"iteration\": \"40\", \"goal\": null, \"run_name\": \"Canceled\", \"run_properties\": null}, {\"run_id\": \"AutoML_b48ee273-85c3-4a8f-ada1-31a8ebc61c6c_41\", \"run_number\": 46, \"metric\": null, \"status\": \"Completed\", \"run_type\": \"azureml.scriptrun\", \"training_percent\": \"100\", \"start_time\": \"2021-03-16T16:43:24.013035Z\", \"end_time\": \"2021-03-16T16:44:41.562353Z\", \"created_time\": \"2021-03-16T16:43:15.798155Z\", \"created_time_dt\": \"2021-03-16T16:43:15.798155Z\", \"duration\": \"0:01:25\", \"iteration\": \"41\", \"goal\": \"accuracy_max\", \"run_name\": \"VotingEnsemble\", \"run_properties\": \"classification_labels=None,\\n                              estimators=[('38',\\n                                           Pipeline(memory=None,\\n                                                    steps=[('standardscalerwrapper',\\n                                                            <azureml.automl.runtime.shared.model_wrappers.StandardScalerWrapper object at 0x7f71d42809b0>\", \"primary_metric\": 0.87288609, \"best_metric\": 0.87288609}, {\"run_id\": \"AutoML_b48ee273-85c3-4a8f-ada1-31a8ebc61c6c_42\", \"run_number\": 47, \"metric\": null, \"status\": \"Completed\", \"run_type\": \"azureml.scriptrun\", \"training_percent\": \"100\", \"start_time\": \"2021-03-16T16:43:28.103072Z\", \"end_time\": \"2021-03-16T16:44:41.82458Z\", \"created_time\": \"2021-03-16T16:43:16.007335Z\", \"created_time_dt\": \"2021-03-16T16:43:16.007335Z\", \"duration\": \"0:01:25\", \"iteration\": \"42\", \"goal\": \"accuracy_max\", \"run_name\": \"StackEnsemble\", \"run_properties\": \"base_learners=[('38',\\n                                        Pipeline(memory=None,\\n                                                 steps=[('standardscalerwrapper',\\n                                                         <azureml.automl.runtime.shared.model_wrappers.StandardScalerWrapper object at 0x7fab7c1ef2e8>\", \"primary_metric\": 0.86911251, \"best_metric\": 0.87288609}], \"children_metrics\": {\"categories\": [0], \"series\": {\"average_precision_score_weighted\": [{\"categories\": [\"0\", \"1\", \"2\", \"3\", \"4\", \"5\", \"6\", \"7\", \"8\", \"9\", \"10\", \"11\", \"12\", \"13\", \"14\", \"15\", \"16\", \"17\", \"18\", \"19\", \"20\", \"21\", \"22\", \"23\", \"24\", \"25\", \"26\", \"27\", \"28\", \"29\", \"30\", \"31\", \"32\", \"33\", \"34\", \"35\", \"36\", \"37\", \"38\", \"41\", \"42\"], \"mode\": \"markers\", \"name\": \"average_precision_score_weighted\", \"stepped\": false, \"type\": \"scatter\", \"data\": [0.8817020308381217, 0.8974058253549833, 0.914976629426994, 0.9075221712860528, 0.9040157770168868, 0.8084991836882616, 0.8614083468556389, 0.757263689732562, 0.9168666438028353, 0.8820324998457781, 0.89154265748899, 0.9248717202900789, 0.8342557896234212, 0.9117557593350429, 0.9095996057989012, 0.8936896892450219, 0.8987583941510199, 0.8905234262250519, 0.9181796995544118, 0.9082030385964138, 0.9124842763737909, 0.9295918523033295, 0.9042825709637698, 0.9100149030699551, 0.9275700542735608, 0.5552059980654727, 0.8617869238582226, 0.9149340735963616, 0.9041227352900648, 0.9138249192103366, 0.8735748740103302, 0.9187946758245206, 0.9048396997894775, 0.8998998381132649, 0.8797523103900462, 0.8769458376004063, 0.9173742895673362, 0.9120287894655681, 0.9316741525205259, 0.9232218235936909, 0.9245671281353489]}, {\"categories\": [\"0\", \"1\", \"2\", \"3\", \"4\", \"5\", \"6\", \"7\", \"8\", \"9\", \"10\", \"11\", \"12\", \"13\", \"14\", \"15\", \"16\", \"17\", \"18\", \"19\", \"20\", \"21\", \"22\", \"23\", \"24\", \"25\", \"26\", \"27\", \"28\", \"29\", \"30\", \"31\", \"32\", \"33\", \"34\", \"35\", \"36\", \"37\", \"38\", \"41\", \"42\"], \"mode\": \"lines\", \"name\": \"average_precision_score_weighted_max\", \"stepped\": true, \"type\": \"scatter\", \"data\": [0.8817020308381217, 0.8974058253549833, 0.914976629426994, 0.914976629426994, 0.914976629426994, 0.914976629426994, 0.914976629426994, 0.914976629426994, 0.9168666438028353, 0.9168666438028353, 0.9168666438028353, 0.9248717202900789, 0.9248717202900789, 0.9248717202900789, 0.9248717202900789, 0.9248717202900789, 0.9248717202900789, 0.9248717202900789, 0.9248717202900789, 0.9248717202900789, 0.9248717202900789, 0.9295918523033295, 0.9295918523033295, 0.9295918523033295, 0.9295918523033295, 0.9295918523033295, 0.9295918523033295, 0.9295918523033295, 0.9295918523033295, 0.9295918523033295, 0.9295918523033295, 0.9295918523033295, 0.9295918523033295, 0.9295918523033295, 0.9295918523033295, 0.9295918523033295, 0.9295918523033295, 0.9295918523033295, 0.9316741525205259, 0.9316741525205259, 0.9316741525205259]}], \"precision_score_weighted\": [{\"categories\": [\"0\", \"1\", \"2\", \"3\", \"4\", \"5\", \"6\", \"7\", \"8\", \"9\", \"10\", \"11\", \"12\", \"13\", \"14\", \"15\", \"16\", \"17\", \"18\", \"19\", \"20\", \"21\", \"22\", \"23\", \"24\", \"25\", \"26\", \"27\", \"28\", \"29\", \"30\", \"31\", \"32\", \"33\", \"34\", \"35\", \"36\", \"37\", \"38\", \"41\", \"42\"], \"mode\": \"markers\", \"name\": \"precision_score_weighted\", \"stepped\": false, \"type\": \"scatter\", \"data\": [0.8093479362758883, 0.8140885711584934, 0.848466963735963, 0.8488698934875961, 0.8356852829827301, 0.7697694226860233, 0.8275668169541177, 0.6954598499584281, 0.840486236318019, 0.8130333741369788, 0.8447708525223568, 0.8391800046170077, 0.7024941073747568, 0.8313900753841518, 0.8542081442530132, 0.8190989016626895, 0.8545211095682793, 0.8144435868967997, 0.8607665576108673, 0.8262432007229267, 0.8453828352098556, 0.8507084993811983, 0.8180733494828945, 0.8185354957075901, 0.8587699151739756, 0.35044476531885477, 0.8123302654731124, 0.8469657817858351, 0.823218714459928, 0.8418332733266212, 0.7761760038389471, 0.8402932306709003, 0.7918671390289169, 0.820398020739175, 0.80303706286625, 0.801957996876393, 0.8307866853343864, 0.8378406768995639, 0.8585565932575641, 0.8749434647521614, 0.8703269360181647]}, {\"categories\": [\"0\", \"1\", \"2\", \"3\", \"4\", \"5\", \"6\", \"7\", \"8\", \"9\", \"10\", \"11\", \"12\", \"13\", \"14\", \"15\", \"16\", \"17\", \"18\", \"19\", \"20\", \"21\", \"22\", \"23\", \"24\", \"25\", \"26\", \"27\", \"28\", \"29\", \"30\", \"31\", \"32\", \"33\", \"34\", \"35\", \"36\", \"37\", \"38\", \"41\", \"42\"], \"mode\": \"lines\", \"name\": \"precision_score_weighted_max\", \"stepped\": true, \"type\": \"scatter\", \"data\": [0.8093479362758883, 0.8140885711584934, 0.848466963735963, 0.8488698934875961, 0.8488698934875961, 0.8488698934875961, 0.8488698934875961, 0.8488698934875961, 0.8488698934875961, 0.8488698934875961, 0.8488698934875961, 0.8488698934875961, 0.8488698934875961, 0.8488698934875961, 0.8542081442530132, 0.8542081442530132, 0.8545211095682793, 0.8545211095682793, 0.8607665576108673, 0.8607665576108673, 0.8607665576108673, 0.8607665576108673, 0.8607665576108673, 0.8607665576108673, 0.8607665576108673, 0.8607665576108673, 0.8607665576108673, 0.8607665576108673, 0.8607665576108673, 0.8607665576108673, 0.8607665576108673, 0.8607665576108673, 0.8607665576108673, 0.8607665576108673, 0.8607665576108673, 0.8607665576108673, 0.8607665576108673, 0.8607665576108673, 0.8607665576108673, 0.8749434647521614, 0.8749434647521614]}], \"AUC_weighted\": [{\"categories\": [\"0\", \"1\", \"2\", \"3\", \"4\", \"5\", \"6\", \"7\", \"8\", \"9\", \"10\", \"11\", \"12\", \"13\", \"14\", \"15\", \"16\", \"17\", \"18\", \"19\", \"20\", \"21\", \"22\", \"23\", \"24\", \"25\", \"26\", \"27\", \"28\", \"29\", \"30\", \"31\", \"32\", \"33\", \"34\", \"35\", \"36\", \"37\", \"38\", \"41\", \"42\"], \"mode\": \"markers\", \"name\": \"AUC_weighted\", \"stepped\": false, \"type\": \"scatter\", \"data\": [0.8628055724897831, 0.8870813746076903, 0.9049677685204001, 0.8909255571360835, 0.8897290184921763, 0.8054206405653774, 0.8503554720133668, 0.7300494705231548, 0.8999492424755584, 0.8708882228092755, 0.8727162275057012, 0.908530459030459, 0.8117842805211225, 0.8999636252794149, 0.8937000722527039, 0.8868268305899886, 0.8874328388538915, 0.8786260922576712, 0.9052536295694191, 0.8915032175032174, 0.8983173812910655, 0.916548059337533, 0.8888888324414641, 0.9022052033236243, 0.9132114181851024, 0.4370071293097609, 0.8471855201065728, 0.902610275689223, 0.8893361895730317, 0.8981875522138679, 0.8421202781729097, 0.9008542188805346, 0.8883269321953533, 0.8839853349590191, 0.8540128022759601, 0.8539267876899455, 0.8999289326920905, 0.9001787238366186, 0.9166187766714081, 0.9101524306261147, 0.9111816703921967]}, {\"categories\": [\"0\", \"1\", \"2\", \"3\", \"4\", \"5\", \"6\", \"7\", \"8\", \"9\", \"10\", \"11\", \"12\", \"13\", \"14\", \"15\", \"16\", \"17\", \"18\", \"19\", \"20\", \"21\", \"22\", \"23\", \"24\", \"25\", \"26\", \"27\", \"28\", \"29\", \"30\", \"31\", \"32\", \"33\", \"34\", \"35\", \"36\", \"37\", \"38\", \"41\", \"42\"], \"mode\": \"lines\", \"name\": \"AUC_weighted_max\", \"stepped\": true, \"type\": \"scatter\", \"data\": [0.8628055724897831, 0.8870813746076903, 0.9049677685204001, 0.9049677685204001, 0.9049677685204001, 0.9049677685204001, 0.9049677685204001, 0.9049677685204001, 0.9049677685204001, 0.9049677685204001, 0.9049677685204001, 0.908530459030459, 0.908530459030459, 0.908530459030459, 0.908530459030459, 0.908530459030459, 0.908530459030459, 0.908530459030459, 0.908530459030459, 0.908530459030459, 0.908530459030459, 0.916548059337533, 0.916548059337533, 0.916548059337533, 0.916548059337533, 0.916548059337533, 0.916548059337533, 0.916548059337533, 0.916548059337533, 0.916548059337533, 0.916548059337533, 0.916548059337533, 0.916548059337533, 0.916548059337533, 0.916548059337533, 0.916548059337533, 0.916548059337533, 0.916548059337533, 0.9166187766714081, 0.9166187766714081, 0.9166187766714081]}], \"recall_score_macro\": [{\"categories\": [\"0\", \"1\", \"2\", \"3\", \"4\", \"5\", \"6\", \"7\", \"8\", \"9\", \"10\", \"11\", \"12\", \"13\", \"14\", \"15\", \"16\", \"17\", \"18\", \"19\", \"20\", \"21\", \"22\", \"23\", \"24\", \"25\", \"26\", \"27\", \"28\", \"29\", \"30\", \"31\", \"32\", \"33\", \"34\", \"35\", \"36\", \"37\", \"38\", \"41\", \"42\"], \"mode\": \"markers\", \"name\": \"recall_score_macro\", \"stepped\": false, \"type\": \"scatter\", \"data\": [0.7582148953464743, 0.7666437715911399, 0.8081453464742939, 0.8033116913906388, 0.8073458307931991, 0.573218045112782, 0.7416547449705344, 0.5960472803630699, 0.7999313655761023, 0.7574417123890808, 0.7712042437174016, 0.7890378818668292, 0.5939238467791099, 0.7550363239179028, 0.7738217333875228, 0.7566810607600081, 0.7728348912822598, 0.7522866287339971, 0.7861550667208562, 0.7794664532954005, 0.7980262819210189, 0.8059905676353045, 0.7670259771049244, 0.7492621926437716, 0.8110623179570549, 0.4457909130935446, 0.7845203380071801, 0.8166822969586127, 0.7858580573054258, 0.8027891349996613, 0.5776697825645194, 0.7926318668292351, 0.5655034376481745, 0.7720378818668292, 0.7145350707850708, 0.7316196572512361, 0.7795131240262819, 0.7728336212152002, 0.8078724683329946, 0.8268010397615659, 0.8232296111901375]}, {\"categories\": [\"0\", \"1\", \"2\", \"3\", \"4\", \"5\", \"6\", \"7\", \"8\", \"9\", \"10\", \"11\", \"12\", \"13\", \"14\", \"15\", \"16\", \"17\", \"18\", \"19\", \"20\", \"21\", \"22\", \"23\", \"24\", \"25\", \"26\", \"27\", \"28\", \"29\", \"30\", \"31\", \"32\", \"33\", \"34\", \"35\", \"36\", \"37\", \"38\", \"41\", \"42\"], \"mode\": \"lines\", \"name\": \"recall_score_macro_max\", \"stepped\": true, \"type\": \"scatter\", \"data\": [0.7582148953464743, 0.7666437715911399, 0.8081453464742939, 0.8081453464742939, 0.8081453464742939, 0.8081453464742939, 0.8081453464742939, 0.8081453464742939, 0.8081453464742939, 0.8081453464742939, 0.8081453464742939, 0.8081453464742939, 0.8081453464742939, 0.8081453464742939, 0.8081453464742939, 0.8081453464742939, 0.8081453464742939, 0.8081453464742939, 0.8081453464742939, 0.8081453464742939, 0.8081453464742939, 0.8081453464742939, 0.8081453464742939, 0.8081453464742939, 0.8110623179570549, 0.8110623179570549, 0.8110623179570549, 0.8166822969586127, 0.8166822969586127, 0.8166822969586127, 0.8166822969586127, 0.8166822969586127, 0.8166822969586127, 0.8166822969586127, 0.8166822969586127, 0.8166822969586127, 0.8166822969586127, 0.8166822969586127, 0.8166822969586127, 0.8268010397615659, 0.8268010397615659]}], \"log_loss\": [{\"categories\": [\"0\", \"1\", \"2\", \"3\", \"4\", \"5\", \"6\", \"7\", \"8\", \"9\", \"10\", \"11\", \"12\", \"13\", \"14\", \"15\", \"16\", \"17\", \"18\", \"19\", \"20\", \"21\", \"22\", \"23\", \"24\", \"25\", \"26\", \"27\", \"28\", \"29\", \"30\", \"31\", \"32\", \"33\", \"34\", \"35\", \"36\", \"37\", \"38\", \"41\", \"42\"], \"mode\": \"markers\", \"name\": \"log_loss\", \"stepped\": false, \"type\": \"scatter\", \"data\": [0.5287462903147576, 0.4166167518219366, 0.3694318814563652, 0.39901158152072674, 0.38834883672426485, 0.8651409634071605, 0.4517912645681931, 0.5872475127570521, 0.35737495385912715, 0.4860139921484164, 0.40338757783329926, 0.3613854463460645, 0.5121509265439264, 0.4865333752181765, 0.42186215201294497, 0.3969353094687522, 0.41048066045906495, 0.4058278762101148, 0.3931038076758609, 0.40699166461846514, 0.35932011532468955, 0.36084697344323535, 0.37855179096975894, 0.4627399364778796, 0.3830201036740958, 0.6939338649178055, 0.5991135671161292, 0.431809873827069, 0.45022837554727235, 0.3658622118636122, 0.5371160670874293, 0.36055105303568347, 0.5254305604638008, 0.40397744435013594, 0.5324347864979624, 0.47471819572003937, 0.38807823386425555, 0.4312969220597382, 0.37451704996489676, 0.383027073222474, 0.35304141408467843]}, {\"categories\": [\"0\", \"1\", \"2\", \"3\", \"4\", \"5\", \"6\", \"7\", \"8\", \"9\", \"10\", \"11\", \"12\", \"13\", \"14\", \"15\", \"16\", \"17\", \"18\", \"19\", \"20\", \"21\", \"22\", \"23\", \"24\", \"25\", \"26\", \"27\", \"28\", \"29\", \"30\", \"31\", \"32\", \"33\", \"34\", \"35\", \"36\", \"37\", \"38\", \"41\", \"42\"], \"mode\": \"lines\", \"name\": \"log_loss_min\", \"stepped\": true, \"type\": \"scatter\", \"data\": [0.5287462903147576, 0.4166167518219366, 0.3694318814563652, 0.3694318814563652, 0.3694318814563652, 0.3694318814563652, 0.3694318814563652, 0.3694318814563652, 0.35737495385912715, 0.35737495385912715, 0.35737495385912715, 0.35737495385912715, 0.35737495385912715, 0.35737495385912715, 0.35737495385912715, 0.35737495385912715, 0.35737495385912715, 0.35737495385912715, 0.35737495385912715, 0.35737495385912715, 0.35737495385912715, 0.35737495385912715, 0.35737495385912715, 0.35737495385912715, 0.35737495385912715, 0.35737495385912715, 0.35737495385912715, 0.35737495385912715, 0.35737495385912715, 0.35737495385912715, 0.35737495385912715, 0.35737495385912715, 0.35737495385912715, 0.35737495385912715, 0.35737495385912715, 0.35737495385912715, 0.35737495385912715, 0.35737495385912715, 0.35737495385912715, 0.35737495385912715, 0.35304141408467843]}], \"matthews_correlation\": [{\"categories\": [\"0\", \"1\", \"2\", \"3\", \"4\", \"5\", \"6\", \"7\", \"8\", \"9\", \"10\", \"11\", \"12\", \"13\", \"14\", \"15\", \"16\", \"17\", \"18\", \"19\", \"20\", \"21\", \"22\", \"23\", \"24\", \"25\", \"26\", \"27\", \"28\", \"29\", \"30\", \"31\", \"32\", \"33\", \"34\", \"35\", \"36\", \"37\", \"38\", \"41\", \"42\"], \"mode\": \"markers\", \"name\": \"matthews_correlation\", \"stepped\": false, \"type\": \"scatter\", \"data\": [0.5447628747637918, 0.5616706626730483, 0.6331757359054778, 0.635865479873168, 0.6057749304954377, 0.2837797044869245, 0.5584688751186343, 0.238176162595165, 0.6210907528104349, 0.5502370084473012, 0.6024806170305677, 0.6094329789576228, 0.25083322594135493, 0.5730878122801579, 0.627064624271996, 0.5564156068509621, 0.6266139725267842, 0.5455699986183409, 0.6476361446688741, 0.5900750557193619, 0.6260636232354762, 0.6375388438584424, 0.566841681972614, 0.5572611464182083, 0.6569818661453348, -0.10777113795221183, 0.5634963298067657, 0.6376927614011613, 0.5848971071231708, 0.6271697740443134, 0.29436243606286894, 0.6184790488307883, 0.28789419679231204, 0.5728935282041826, 0.5025064385248564, 0.5191647290301611, 0.5930671818879129, 0.6005652920791489, 0.656630607220326, 0.692529144253744, 0.6841446544827636]}, {\"categories\": [\"0\", \"1\", \"2\", \"3\", \"4\", \"5\", \"6\", \"7\", \"8\", \"9\", \"10\", \"11\", \"12\", \"13\", \"14\", \"15\", \"16\", \"17\", \"18\", \"19\", \"20\", \"21\", \"22\", \"23\", \"24\", \"25\", \"26\", \"27\", \"28\", \"29\", \"30\", \"31\", \"32\", \"33\", \"34\", \"35\", \"36\", \"37\", \"38\", \"41\", \"42\"], \"mode\": \"lines\", \"name\": \"matthews_correlation_max\", \"stepped\": true, \"type\": \"scatter\", \"data\": [0.5447628747637918, 0.5616706626730483, 0.6331757359054778, 0.635865479873168, 0.635865479873168, 0.635865479873168, 0.635865479873168, 0.635865479873168, 0.635865479873168, 0.635865479873168, 0.635865479873168, 0.635865479873168, 0.635865479873168, 0.635865479873168, 0.635865479873168, 0.635865479873168, 0.635865479873168, 0.635865479873168, 0.6476361446688741, 0.6476361446688741, 0.6476361446688741, 0.6476361446688741, 0.6476361446688741, 0.6476361446688741, 0.6569818661453348, 0.6569818661453348, 0.6569818661453348, 0.6569818661453348, 0.6569818661453348, 0.6569818661453348, 0.6569818661453348, 0.6569818661453348, 0.6569818661453348, 0.6569818661453348, 0.6569818661453348, 0.6569818661453348, 0.6569818661453348, 0.6569818661453348, 0.6569818661453348, 0.692529144253744, 0.692529144253744]}], \"f1_score_weighted\": [{\"categories\": [\"0\", \"1\", \"2\", \"3\", \"4\", \"5\", \"6\", \"7\", \"8\", \"9\", \"10\", \"11\", \"12\", \"13\", \"14\", \"15\", \"16\", \"17\", \"18\", \"19\", \"20\", \"21\", \"22\", \"23\", \"24\", \"25\", \"26\", \"27\", \"28\", \"29\", \"30\", \"31\", \"32\", \"33\", \"34\", \"35\", \"36\", \"37\", \"38\", \"41\", \"42\"], \"mode\": \"markers\", \"name\": \"f1_score_weighted\", \"stepped\": false, \"type\": \"scatter\", \"data\": [0.8082346954586643, 0.8113365836353372, 0.8446944515745531, 0.8459135100308149, 0.8330424349932155, 0.6470370328124359, 0.8110098828221689, 0.6644751462484281, 0.8399150764956665, 0.81041334742693, 0.8351382639766507, 0.8379579229842766, 0.6755433131031298, 0.8168558025062355, 0.8364016271132844, 0.8159573444966306, 0.8364424093397268, 0.8121385608961251, 0.8454264846996606, 0.8237145859306809, 0.8431776333563821, 0.8473400418387275, 0.8152317063717582, 0.802555302474833, 0.854382652642253, 0.34333548493993055, 0.8064911898023777, 0.8459935474289487, 0.8222276468592312, 0.8405517934670126, 0.6436052317752633, 0.8386580719157879, 0.6359360677902062, 0.8197551520805488, 0.7860175300833256, 0.7952731572341237, 0.8270748385167138, 0.827655239049428, 0.854108154487248, 0.8694326916439288, 0.8657173384801293]}, {\"categories\": [\"0\", \"1\", \"2\", \"3\", \"4\", \"5\", \"6\", \"7\", \"8\", \"9\", \"10\", \"11\", \"12\", \"13\", \"14\", \"15\", \"16\", \"17\", \"18\", \"19\", \"20\", \"21\", \"22\", \"23\", \"24\", \"25\", \"26\", \"27\", \"28\", \"29\", \"30\", \"31\", \"32\", \"33\", \"34\", \"35\", \"36\", \"37\", \"38\", \"41\", \"42\"], \"mode\": \"lines\", \"name\": \"f1_score_weighted_max\", \"stepped\": true, \"type\": \"scatter\", \"data\": [0.8082346954586643, 0.8113365836353372, 0.8446944515745531, 0.8459135100308149, 0.8459135100308149, 0.8459135100308149, 0.8459135100308149, 0.8459135100308149, 0.8459135100308149, 0.8459135100308149, 0.8459135100308149, 0.8459135100308149, 0.8459135100308149, 0.8459135100308149, 0.8459135100308149, 0.8459135100308149, 0.8459135100308149, 0.8459135100308149, 0.8459135100308149, 0.8459135100308149, 0.8459135100308149, 0.8473400418387275, 0.8473400418387275, 0.8473400418387275, 0.854382652642253, 0.854382652642253, 0.854382652642253, 0.854382652642253, 0.854382652642253, 0.854382652642253, 0.854382652642253, 0.854382652642253, 0.854382652642253, 0.854382652642253, 0.854382652642253, 0.854382652642253, 0.854382652642253, 0.854382652642253, 0.854382652642253, 0.8694326916439288, 0.8694326916439288]}], \"AUC_micro\": [{\"categories\": [\"0\", \"1\", \"2\", \"3\", \"4\", \"5\", \"6\", \"7\", \"8\", \"9\", \"10\", \"11\", \"12\", \"13\", \"14\", \"15\", \"16\", \"17\", \"18\", \"19\", \"20\", \"21\", \"22\", \"23\", \"24\", \"25\", \"26\", \"27\", \"28\", \"29\", \"30\", \"31\", \"32\", \"33\", \"34\", \"35\", \"36\", \"37\", \"38\", \"41\", \"42\"], \"mode\": \"markers\", \"name\": \"AUC_micro\", \"stepped\": false, \"type\": \"scatter\", \"data\": [0.8923262773341223, 0.9061632192428707, 0.9201262012510248, 0.9114940415409807, 0.9123164031349361, 0.820671540770627, 0.879882002831385, 0.776942804848808, 0.9211367195683481, 0.8910387979847257, 0.9029324222895152, 0.9242381557222743, 0.8328868700986101, 0.9086068637892801, 0.906956182874857, 0.9039958520550005, 0.9058248252603697, 0.9050142082010547, 0.9192391348404427, 0.9084200744129809, 0.9248809065120392, 0.9295487364003906, 0.9127952431948845, 0.8828162319723833, 0.9261285374611588, 0.3621514913117302, 0.8662279680099386, 0.9221511445915809, 0.9068451347593787, 0.9196735361206704, 0.8261745145063315, 0.9203437315194499, 0.8450940563864631, 0.9083710696707282, 0.8763017632428785, 0.875802058931682, 0.9186310072318008, 0.9088171910686842, 0.9279483787414644, 0.9282932676225399, 0.9306062816900995]}, {\"categories\": [\"0\", \"1\", \"2\", \"3\", \"4\", \"5\", \"6\", \"7\", \"8\", \"9\", \"10\", \"11\", \"12\", \"13\", \"14\", \"15\", \"16\", \"17\", \"18\", \"19\", \"20\", \"21\", \"22\", \"23\", \"24\", \"25\", \"26\", \"27\", \"28\", \"29\", \"30\", \"31\", \"32\", \"33\", \"34\", \"35\", \"36\", \"37\", \"38\", \"41\", \"42\"], \"mode\": \"lines\", \"name\": \"AUC_micro_max\", \"stepped\": true, \"type\": \"scatter\", \"data\": [0.8923262773341223, 0.9061632192428707, 0.9201262012510248, 0.9201262012510248, 0.9201262012510248, 0.9201262012510248, 0.9201262012510248, 0.9201262012510248, 0.9211367195683481, 0.9211367195683481, 0.9211367195683481, 0.9242381557222743, 0.9242381557222743, 0.9242381557222743, 0.9242381557222743, 0.9242381557222743, 0.9242381557222743, 0.9242381557222743, 0.9242381557222743, 0.9242381557222743, 0.9248809065120392, 0.9295487364003906, 0.9295487364003906, 0.9295487364003906, 0.9295487364003906, 0.9295487364003906, 0.9295487364003906, 0.9295487364003906, 0.9295487364003906, 0.9295487364003906, 0.9295487364003906, 0.9295487364003906, 0.9295487364003906, 0.9295487364003906, 0.9295487364003906, 0.9295487364003906, 0.9295487364003906, 0.9295487364003906, 0.9295487364003906, 0.9295487364003906, 0.9306062816900995]}], \"recall_score_weighted\": [{\"categories\": [\"0\", \"1\", \"2\", \"3\", \"4\", \"5\", \"6\", \"7\", \"8\", \"9\", \"10\", \"11\", \"12\", \"13\", \"14\", \"15\", \"16\", \"17\", \"18\", \"19\", \"20\", \"21\", \"22\", \"23\", \"24\", \"25\", \"26\", \"27\", \"28\", \"29\", \"30\", \"31\", \"32\", \"33\", \"34\", \"35\", \"36\", \"37\", \"38\", \"41\", \"42\"], \"mode\": \"markers\", \"name\": \"recall_score_weighted\", \"stepped\": false, \"type\": \"scatter\", \"data\": [0.8127882599580714, 0.8162124388539483, 0.8466107617051012, 0.8502445842068482, 0.8317959468902864, 0.7190076869322153, 0.8241788958770091, 0.692732354996506, 0.8426974143955277, 0.8166317260656882, 0.846680642907058, 0.8429070580013978, 0.7152341020265548, 0.8278825995807129, 0.846680642907058, 0.8241090146750525, 0.8466107617051014, 0.8204053109713486, 0.854157931516422, 0.8276729559748428, 0.846680642907058, 0.8503843466107618, 0.820125786163522, 0.8125786163522012, 0.8578616352201257, 0.3981132075471698, 0.8051013277428372, 0.846470999301188, 0.8240391334730959, 0.8427672955974842, 0.7150943396226415, 0.8427672955974843, 0.7150943396226416, 0.823969252271139, 0.8015373864430468, 0.8051013277428372, 0.8315164220824599, 0.8352201257861637, 0.8578616352201257, 0.8728860936408107, 0.8691125087351501]}, {\"categories\": [\"0\", \"1\", \"2\", \"3\", \"4\", \"5\", \"6\", \"7\", \"8\", \"9\", \"10\", \"11\", \"12\", \"13\", \"14\", \"15\", \"16\", \"17\", \"18\", \"19\", \"20\", \"21\", \"22\", \"23\", \"24\", \"25\", \"26\", \"27\", \"28\", \"29\", \"30\", \"31\", \"32\", \"33\", \"34\", \"35\", \"36\", \"37\", \"38\", \"41\", \"42\"], \"mode\": \"lines\", \"name\": \"recall_score_weighted_max\", \"stepped\": true, \"type\": \"scatter\", \"data\": [0.8127882599580714, 0.8162124388539483, 0.8466107617051012, 0.8502445842068482, 0.8502445842068482, 0.8502445842068482, 0.8502445842068482, 0.8502445842068482, 0.8502445842068482, 0.8502445842068482, 0.8502445842068482, 0.8502445842068482, 0.8502445842068482, 0.8502445842068482, 0.8502445842068482, 0.8502445842068482, 0.8502445842068482, 0.8502445842068482, 0.854157931516422, 0.854157931516422, 0.854157931516422, 0.854157931516422, 0.854157931516422, 0.854157931516422, 0.8578616352201257, 0.8578616352201257, 0.8578616352201257, 0.8578616352201257, 0.8578616352201257, 0.8578616352201257, 0.8578616352201257, 0.8578616352201257, 0.8578616352201257, 0.8578616352201257, 0.8578616352201257, 0.8578616352201257, 0.8578616352201257, 0.8578616352201257, 0.8578616352201257, 0.8728860936408107, 0.8728860936408107]}], \"balanced_accuracy\": [{\"categories\": [\"0\", \"1\", \"2\", \"3\", \"4\", \"5\", \"6\", \"7\", \"8\", \"9\", \"10\", \"11\", \"12\", \"13\", \"14\", \"15\", \"16\", \"17\", \"18\", \"19\", \"20\", \"21\", \"22\", \"23\", \"24\", \"25\", \"26\", \"27\", \"28\", \"29\", \"30\", \"31\", \"32\", \"33\", \"34\", \"35\", \"36\", \"37\", \"38\", \"41\", \"42\"], \"mode\": \"markers\", \"name\": \"balanced_accuracy\", \"stepped\": false, \"type\": \"scatter\", \"data\": [0.7582148953464743, 0.7666437715911399, 0.8081453464742939, 0.8033116913906388, 0.8073458307931991, 0.573218045112782, 0.7416547449705344, 0.5960472803630699, 0.7999313655761023, 0.7574417123890808, 0.7712042437174016, 0.7890378818668292, 0.5939238467791099, 0.7550363239179028, 0.7738217333875228, 0.7566810607600081, 0.7728348912822598, 0.7522866287339971, 0.7861550667208562, 0.7794664532954005, 0.7980262819210189, 0.8059905676353045, 0.7670259771049244, 0.7492621926437716, 0.8110623179570549, 0.4457909130935446, 0.7845203380071801, 0.8166822969586127, 0.7858580573054258, 0.8027891349996613, 0.5776697825645194, 0.7926318668292351, 0.5655034376481745, 0.7720378818668292, 0.7145350707850708, 0.7316196572512361, 0.7795131240262819, 0.7728336212152002, 0.8078724683329946, 0.8268010397615659, 0.8232296111901375]}, {\"categories\": [\"0\", \"1\", \"2\", \"3\", \"4\", \"5\", \"6\", \"7\", \"8\", \"9\", \"10\", \"11\", \"12\", \"13\", \"14\", \"15\", \"16\", \"17\", \"18\", \"19\", \"20\", \"21\", \"22\", \"23\", \"24\", \"25\", \"26\", \"27\", \"28\", \"29\", \"30\", \"31\", \"32\", \"33\", \"34\", \"35\", \"36\", \"37\", \"38\", \"41\", \"42\"], \"mode\": \"lines\", \"name\": \"balanced_accuracy_max\", \"stepped\": true, \"type\": \"scatter\", \"data\": [0.7582148953464743, 0.7666437715911399, 0.8081453464742939, 0.8081453464742939, 0.8081453464742939, 0.8081453464742939, 0.8081453464742939, 0.8081453464742939, 0.8081453464742939, 0.8081453464742939, 0.8081453464742939, 0.8081453464742939, 0.8081453464742939, 0.8081453464742939, 0.8081453464742939, 0.8081453464742939, 0.8081453464742939, 0.8081453464742939, 0.8081453464742939, 0.8081453464742939, 0.8081453464742939, 0.8081453464742939, 0.8081453464742939, 0.8081453464742939, 0.8110623179570549, 0.8110623179570549, 0.8110623179570549, 0.8166822969586127, 0.8166822969586127, 0.8166822969586127, 0.8166822969586127, 0.8166822969586127, 0.8166822969586127, 0.8166822969586127, 0.8166822969586127, 0.8166822969586127, 0.8166822969586127, 0.8166822969586127, 0.8166822969586127, 0.8268010397615659, 0.8268010397615659]}], \"average_precision_score_macro\": [{\"categories\": [\"0\", \"1\", \"2\", \"3\", \"4\", \"5\", \"6\", \"7\", \"8\", \"9\", \"10\", \"11\", \"12\", \"13\", \"14\", \"15\", \"16\", \"17\", \"18\", \"19\", \"20\", \"21\", \"22\", \"23\", \"24\", \"25\", \"26\", \"27\", \"28\", \"29\", \"30\", \"31\", \"32\", \"33\", \"34\", \"35\", \"36\", \"37\", \"38\", \"41\", \"42\"], \"mode\": \"markers\", \"name\": \"average_precision_score_macro\", \"stepped\": false, \"type\": \"scatter\", \"data\": [0.8515034558592882, 0.8685472805069553, 0.8836978692501505, 0.8775258098643084, 0.87151215722357, 0.757775826914311, 0.8210571374937012, 0.7085306135181695, 0.89028621564528, 0.8485575123091099, 0.8597649486668921, 0.9009726858303179, 0.7820090351775604, 0.8847699380504841, 0.8805403954820044, 0.867615731751809, 0.8648859613699788, 0.8625422522211045, 0.8893646972531883, 0.8811111191152803, 0.8893188789232683, 0.9050095221072285, 0.8773551012753462, 0.8830290317286359, 0.9061663577227449, 0.4805778081146418, 0.8275401887204616, 0.8892469752644713, 0.8723569034609845, 0.8910173515899309, 0.8381908230059576, 0.8955214845704964, 0.8760536868147891, 0.8736751842609733, 0.8430733571178246, 0.8421239930993435, 0.8914263084839249, 0.8901719581469141, 0.9085256414618688, 0.897783903235499, 0.8988626994195243]}, {\"categories\": [\"0\", \"1\", \"2\", \"3\", \"4\", \"5\", \"6\", \"7\", \"8\", \"9\", \"10\", \"11\", \"12\", \"13\", \"14\", \"15\", \"16\", \"17\", \"18\", \"19\", \"20\", \"21\", \"22\", \"23\", \"24\", \"25\", \"26\", \"27\", \"28\", \"29\", \"30\", \"31\", \"32\", \"33\", \"34\", \"35\", \"36\", \"37\", \"38\", \"41\", \"42\"], \"mode\": \"lines\", \"name\": \"average_precision_score_macro_max\", \"stepped\": true, \"type\": \"scatter\", \"data\": [0.8515034558592882, 0.8685472805069553, 0.8836978692501505, 0.8836978692501505, 0.8836978692501505, 0.8836978692501505, 0.8836978692501505, 0.8836978692501505, 0.89028621564528, 0.89028621564528, 0.89028621564528, 0.9009726858303179, 0.9009726858303179, 0.9009726858303179, 0.9009726858303179, 0.9009726858303179, 0.9009726858303179, 0.9009726858303179, 0.9009726858303179, 0.9009726858303179, 0.9009726858303179, 0.9050095221072285, 0.9050095221072285, 0.9050095221072285, 0.9061663577227449, 0.9061663577227449, 0.9061663577227449, 0.9061663577227449, 0.9061663577227449, 0.9061663577227449, 0.9061663577227449, 0.9061663577227449, 0.9061663577227449, 0.9061663577227449, 0.9061663577227449, 0.9061663577227449, 0.9061663577227449, 0.9061663577227449, 0.9085256414618688, 0.9085256414618688, 0.9085256414618688]}], \"f1_score_micro\": [{\"categories\": [\"0\", \"1\", \"2\", \"3\", \"4\", \"5\", \"6\", \"7\", \"8\", \"9\", \"10\", \"11\", \"12\", \"13\", \"14\", \"15\", \"16\", \"17\", \"18\", \"19\", \"20\", \"21\", \"22\", \"23\", \"24\", \"25\", \"26\", \"27\", \"28\", \"29\", \"30\", \"31\", \"32\", \"33\", \"34\", \"35\", \"36\", \"37\", \"38\", \"41\", \"42\"], \"mode\": \"markers\", \"name\": \"f1_score_micro\", \"stepped\": false, \"type\": \"scatter\", \"data\": [0.8127882599580711, 0.8162124388539483, 0.8466107617051012, 0.8502445842068482, 0.8317959468902867, 0.7190076869322153, 0.8241788958770091, 0.692732354996506, 0.8426974143955277, 0.8166317260656882, 0.846680642907058, 0.8429070580013978, 0.7152341020265548, 0.8278825995807129, 0.846680642907058, 0.8241090146750525, 0.8466107617051014, 0.8204053109713486, 0.854157931516422, 0.8276729559748428, 0.846680642907058, 0.8503843466107618, 0.820125786163522, 0.8125786163522012, 0.8578616352201258, 0.3981132075471698, 0.8051013277428372, 0.846470999301188, 0.8240391334730959, 0.8427672955974842, 0.7150943396226415, 0.8427672955974843, 0.7150943396226415, 0.823969252271139, 0.8015373864430468, 0.8051013277428372, 0.8315164220824599, 0.8352201257861637, 0.8578616352201258, 0.8728860936408107, 0.8691125087351501]}, {\"categories\": [\"0\", \"1\", \"2\", \"3\", \"4\", \"5\", \"6\", \"7\", \"8\", \"9\", \"10\", \"11\", \"12\", \"13\", \"14\", \"15\", \"16\", \"17\", \"18\", \"19\", \"20\", \"21\", \"22\", \"23\", \"24\", \"25\", \"26\", \"27\", \"28\", \"29\", \"30\", \"31\", \"32\", \"33\", \"34\", \"35\", \"36\", \"37\", \"38\", \"41\", \"42\"], \"mode\": \"lines\", \"name\": \"f1_score_micro_max\", \"stepped\": true, \"type\": \"scatter\", \"data\": [0.8127882599580711, 0.8162124388539483, 0.8466107617051012, 0.8502445842068482, 0.8502445842068482, 0.8502445842068482, 0.8502445842068482, 0.8502445842068482, 0.8502445842068482, 0.8502445842068482, 0.8502445842068482, 0.8502445842068482, 0.8502445842068482, 0.8502445842068482, 0.8502445842068482, 0.8502445842068482, 0.8502445842068482, 0.8502445842068482, 0.854157931516422, 0.854157931516422, 0.854157931516422, 0.854157931516422, 0.854157931516422, 0.854157931516422, 0.8578616352201258, 0.8578616352201258, 0.8578616352201258, 0.8578616352201258, 0.8578616352201258, 0.8578616352201258, 0.8578616352201258, 0.8578616352201258, 0.8578616352201258, 0.8578616352201258, 0.8578616352201258, 0.8578616352201258, 0.8578616352201258, 0.8578616352201258, 0.8578616352201258, 0.8728860936408107, 0.8728860936408107]}], \"weighted_accuracy\": [{\"categories\": [\"0\", \"1\", \"2\", \"3\", \"4\", \"5\", \"6\", \"7\", \"8\", \"9\", \"10\", \"11\", \"12\", \"13\", \"14\", \"15\", \"16\", \"17\", \"18\", \"19\", \"20\", \"21\", \"22\", \"23\", \"24\", \"25\", \"26\", \"27\", \"28\", \"29\", \"30\", \"31\", \"32\", \"33\", \"34\", \"35\", \"36\", \"37\", \"38\", \"41\", \"42\"], \"mode\": \"markers\", \"name\": \"weighted_accuracy\", \"stepped\": false, \"type\": \"scatter\", \"data\": [0.8485839903331456, 0.84968061104853, 0.8710095420186817, 0.8803707149165163, 0.8473829253523013, 0.8174929601995602, 0.878317717866711, 0.7567216070412408, 0.8696532383040635, 0.8544354621187464, 0.8938539329493924, 0.8764747467796138, 0.7955160818361857, 0.8749705178608561, 0.8944396336867401, 0.8662576335538459, 0.8948663676085559, 0.863282272673467, 0.8992461113617047, 0.8590240724034945, 0.8770391313042826, 0.8789056775548822, 0.855268461555643, 0.8556314969904614, 0.8881161261106051, 0.3747926079661059, 0.8185104810141043, 0.8648573492235393, 0.8474709072679107, 0.8678703642986111, 0.8087570001383841, 0.8756620249639127, 0.8162374021277268, 0.857351480287952, 0.8589256966053049, 0.8525744133583706, 0.8659131884490888, 0.8773490271536979, 0.8902746863417098, 0.9026012170124028, 0.8986267670478888]}, {\"categories\": [\"0\", \"1\", \"2\", \"3\", \"4\", \"5\", \"6\", \"7\", \"8\", \"9\", \"10\", \"11\", \"12\", \"13\", \"14\", \"15\", \"16\", \"17\", \"18\", \"19\", \"20\", \"21\", \"22\", \"23\", \"24\", \"25\", \"26\", \"27\", \"28\", \"29\", \"30\", \"31\", \"32\", \"33\", \"34\", \"35\", \"36\", \"37\", \"38\", \"41\", \"42\"], \"mode\": \"lines\", \"name\": \"weighted_accuracy_max\", \"stepped\": true, \"type\": \"scatter\", \"data\": [0.8485839903331456, 0.84968061104853, 0.8710095420186817, 0.8803707149165163, 0.8803707149165163, 0.8803707149165163, 0.8803707149165163, 0.8803707149165163, 0.8803707149165163, 0.8803707149165163, 0.8938539329493924, 0.8938539329493924, 0.8938539329493924, 0.8938539329493924, 0.8944396336867401, 0.8944396336867401, 0.8948663676085559, 0.8948663676085559, 0.8992461113617047, 0.8992461113617047, 0.8992461113617047, 0.8992461113617047, 0.8992461113617047, 0.8992461113617047, 0.8992461113617047, 0.8992461113617047, 0.8992461113617047, 0.8992461113617047, 0.8992461113617047, 0.8992461113617047, 0.8992461113617047, 0.8992461113617047, 0.8992461113617047, 0.8992461113617047, 0.8992461113617047, 0.8992461113617047, 0.8992461113617047, 0.8992461113617047, 0.8992461113617047, 0.9026012170124028, 0.9026012170124028]}], \"recall_score_micro\": [{\"categories\": [\"0\", \"1\", \"2\", \"3\", \"4\", \"5\", \"6\", \"7\", \"8\", \"9\", \"10\", \"11\", \"12\", \"13\", \"14\", \"15\", \"16\", \"17\", \"18\", \"19\", \"20\", \"21\", \"22\", \"23\", \"24\", \"25\", \"26\", \"27\", \"28\", \"29\", \"30\", \"31\", \"32\", \"33\", \"34\", \"35\", \"36\", \"37\", \"38\", \"41\", \"42\"], \"mode\": \"markers\", \"name\": \"recall_score_micro\", \"stepped\": false, \"type\": \"scatter\", \"data\": [0.8127882599580714, 0.8162124388539483, 0.8466107617051012, 0.8502445842068482, 0.8317959468902864, 0.7190076869322153, 0.8241788958770091, 0.692732354996506, 0.8426974143955277, 0.8166317260656882, 0.846680642907058, 0.8429070580013978, 0.7152341020265548, 0.8278825995807129, 0.846680642907058, 0.8241090146750525, 0.8466107617051014, 0.8204053109713486, 0.854157931516422, 0.8276729559748428, 0.846680642907058, 0.8503843466107618, 0.820125786163522, 0.8125786163522012, 0.8578616352201257, 0.3981132075471698, 0.8051013277428372, 0.846470999301188, 0.8240391334730959, 0.8427672955974842, 0.7150943396226415, 0.8427672955974843, 0.7150943396226416, 0.823969252271139, 0.8015373864430468, 0.8051013277428372, 0.8315164220824599, 0.8352201257861637, 0.8578616352201257, 0.8728860936408107, 0.8691125087351501]}, {\"categories\": [\"0\", \"1\", \"2\", \"3\", \"4\", \"5\", \"6\", \"7\", \"8\", \"9\", \"10\", \"11\", \"12\", \"13\", \"14\", \"15\", \"16\", \"17\", \"18\", \"19\", \"20\", \"21\", \"22\", \"23\", \"24\", \"25\", \"26\", \"27\", \"28\", \"29\", \"30\", \"31\", \"32\", \"33\", \"34\", \"35\", \"36\", \"37\", \"38\", \"41\", \"42\"], \"mode\": \"lines\", \"name\": \"recall_score_micro_max\", \"stepped\": true, \"type\": \"scatter\", \"data\": [0.8127882599580714, 0.8162124388539483, 0.8466107617051012, 0.8502445842068482, 0.8502445842068482, 0.8502445842068482, 0.8502445842068482, 0.8502445842068482, 0.8502445842068482, 0.8502445842068482, 0.8502445842068482, 0.8502445842068482, 0.8502445842068482, 0.8502445842068482, 0.8502445842068482, 0.8502445842068482, 0.8502445842068482, 0.8502445842068482, 0.854157931516422, 0.854157931516422, 0.854157931516422, 0.854157931516422, 0.854157931516422, 0.854157931516422, 0.8578616352201257, 0.8578616352201257, 0.8578616352201257, 0.8578616352201257, 0.8578616352201257, 0.8578616352201257, 0.8578616352201257, 0.8578616352201257, 0.8578616352201257, 0.8578616352201257, 0.8578616352201257, 0.8578616352201257, 0.8578616352201257, 0.8578616352201257, 0.8578616352201257, 0.8728860936408107, 0.8728860936408107]}], \"norm_macro_recall\": [{\"categories\": [\"0\", \"1\", \"2\", \"3\", \"4\", \"5\", \"6\", \"7\", \"8\", \"9\", \"10\", \"11\", \"12\", \"13\", \"14\", \"15\", \"16\", \"17\", \"18\", \"19\", \"20\", \"21\", \"22\", \"23\", \"24\", \"25\", \"26\", \"27\", \"28\", \"29\", \"30\", \"31\", \"32\", \"33\", \"34\", \"35\", \"36\", \"37\", \"38\", \"41\", \"42\"], \"mode\": \"markers\", \"name\": \"norm_macro_recall\", \"stepped\": false, \"type\": \"scatter\", \"data\": [0.5164297906929485, 0.53328754318228, 0.6162906929485877, 0.6066233827812775, 0.6146916615863984, 0.14643609022556386, 0.4833094899410689, 0.19209456072613967, 0.5998627311522047, 0.5148834247781616, 0.5424084874348033, 0.5780757637336584, 0.1878476935582199, 0.5100726478358057, 0.5476434667750457, 0.5133621215200163, 0.5456697825645194, 0.5045732574679942, 0.5723101334417123, 0.5589329065908013, 0.5960525638420375, 0.611981135270609, 0.5340519542098489, 0.4985243852875431, 0.6221246359141095, 0.006418918918918948, 0.5690406760143601, 0.6333645939172255, 0.5717161146108515, 0.6055782699993226, 0.15533956512903885, 0.5852637336584705, 0.131006875296349, 0.5440757637336584, 0.4290701415701415, 0.46323931450247235, 0.5590262480525638, 0.5456672424304003, 0.6157449366659893, 0.6536020795231321, 0.646459222380275]}, {\"categories\": [\"0\", \"1\", \"2\", \"3\", \"4\", \"5\", \"6\", \"7\", \"8\", \"9\", \"10\", \"11\", \"12\", \"13\", \"14\", \"15\", \"16\", \"17\", \"18\", \"19\", \"20\", \"21\", \"22\", \"23\", \"24\", \"25\", \"26\", \"27\", \"28\", \"29\", \"30\", \"31\", \"32\", \"33\", \"34\", \"35\", \"36\", \"37\", \"38\", \"41\", \"42\"], \"mode\": \"lines\", \"name\": \"norm_macro_recall_max\", \"stepped\": true, \"type\": \"scatter\", \"data\": [0.5164297906929485, 0.53328754318228, 0.6162906929485877, 0.6162906929485877, 0.6162906929485877, 0.6162906929485877, 0.6162906929485877, 0.6162906929485877, 0.6162906929485877, 0.6162906929485877, 0.6162906929485877, 0.6162906929485877, 0.6162906929485877, 0.6162906929485877, 0.6162906929485877, 0.6162906929485877, 0.6162906929485877, 0.6162906929485877, 0.6162906929485877, 0.6162906929485877, 0.6162906929485877, 0.6162906929485877, 0.6162906929485877, 0.6162906929485877, 0.6221246359141095, 0.6221246359141095, 0.6221246359141095, 0.6333645939172255, 0.6333645939172255, 0.6333645939172255, 0.6333645939172255, 0.6333645939172255, 0.6333645939172255, 0.6333645939172255, 0.6333645939172255, 0.6333645939172255, 0.6333645939172255, 0.6333645939172255, 0.6333645939172255, 0.6536020795231321, 0.6536020795231321]}], \"precision_score_micro\": [{\"categories\": [\"0\", \"1\", \"2\", \"3\", \"4\", \"5\", \"6\", \"7\", \"8\", \"9\", \"10\", \"11\", \"12\", \"13\", \"14\", \"15\", \"16\", \"17\", \"18\", \"19\", \"20\", \"21\", \"22\", \"23\", \"24\", \"25\", \"26\", \"27\", \"28\", \"29\", \"30\", \"31\", \"32\", \"33\", \"34\", \"35\", \"36\", \"37\", \"38\", \"41\", \"42\"], \"mode\": \"markers\", \"name\": \"precision_score_micro\", \"stepped\": false, \"type\": \"scatter\", \"data\": [0.8127882599580714, 0.8162124388539483, 0.8466107617051012, 0.8502445842068482, 0.8317959468902864, 0.7190076869322153, 0.8241788958770091, 0.692732354996506, 0.8426974143955277, 0.8166317260656882, 0.846680642907058, 0.8429070580013978, 0.7152341020265548, 0.8278825995807129, 0.846680642907058, 0.8241090146750525, 0.8466107617051014, 0.8204053109713486, 0.854157931516422, 0.8276729559748428, 0.846680642907058, 0.8503843466107618, 0.820125786163522, 0.8125786163522012, 0.8578616352201257, 0.3981132075471698, 0.8051013277428372, 0.846470999301188, 0.8240391334730959, 0.8427672955974842, 0.7150943396226415, 0.8427672955974843, 0.7150943396226416, 0.823969252271139, 0.8015373864430468, 0.8051013277428372, 0.8315164220824599, 0.8352201257861637, 0.8578616352201257, 0.8728860936408107, 0.8691125087351501]}, {\"categories\": [\"0\", \"1\", \"2\", \"3\", \"4\", \"5\", \"6\", \"7\", \"8\", \"9\", \"10\", \"11\", \"12\", \"13\", \"14\", \"15\", \"16\", \"17\", \"18\", \"19\", \"20\", \"21\", \"22\", \"23\", \"24\", \"25\", \"26\", \"27\", \"28\", \"29\", \"30\", \"31\", \"32\", \"33\", \"34\", \"35\", \"36\", \"37\", \"38\", \"41\", \"42\"], \"mode\": \"lines\", \"name\": \"precision_score_micro_max\", \"stepped\": true, \"type\": \"scatter\", \"data\": [0.8127882599580714, 0.8162124388539483, 0.8466107617051012, 0.8502445842068482, 0.8502445842068482, 0.8502445842068482, 0.8502445842068482, 0.8502445842068482, 0.8502445842068482, 0.8502445842068482, 0.8502445842068482, 0.8502445842068482, 0.8502445842068482, 0.8502445842068482, 0.8502445842068482, 0.8502445842068482, 0.8502445842068482, 0.8502445842068482, 0.854157931516422, 0.854157931516422, 0.854157931516422, 0.854157931516422, 0.854157931516422, 0.854157931516422, 0.8578616352201257, 0.8578616352201257, 0.8578616352201257, 0.8578616352201257, 0.8578616352201257, 0.8578616352201257, 0.8578616352201257, 0.8578616352201257, 0.8578616352201257, 0.8578616352201257, 0.8578616352201257, 0.8578616352201257, 0.8578616352201257, 0.8578616352201257, 0.8578616352201257, 0.8728860936408107, 0.8728860936408107]}], \"precision_score_macro\": [{\"categories\": [\"0\", \"1\", \"2\", \"3\", \"4\", \"5\", \"6\", \"7\", \"8\", \"9\", \"10\", \"11\", \"12\", \"13\", \"14\", \"15\", \"16\", \"17\", \"18\", \"19\", \"20\", \"21\", \"22\", \"23\", \"24\", \"25\", \"26\", \"27\", \"28\", \"29\", \"30\", \"31\", \"32\", \"33\", \"34\", \"35\", \"36\", \"37\", \"38\", \"41\", \"42\"], \"mode\": \"markers\", \"name\": \"precision_score_macro\", \"stepped\": false, \"type\": \"scatter\", \"data\": [0.7875311233068283, 0.7961784479431537, 0.825459076527188, 0.8344481521931766, 0.7986716224951519, 0.7790090189922123, 0.8243181441990292, 0.6518730727850395, 0.8221816041098705, 0.7946695407884666, 0.8409200748462977, 0.8227466654016146, 0.6690056964998825, 0.8234562977876931, 0.8611443400772669, 0.8039300672227501, 0.8618957431457431, 0.7972168148537315, 0.8679039735685882, 0.8118386220825246, 0.8301351319730944, 0.8331557443728134, 0.8010735528382587, 0.8115923885152473, 0.8475184172552593, 0.32121627737518116, 0.7792322287580908, 0.8212470542326903, 0.7998910675381263, 0.8252873897965278, 0.7877229870671674, 0.827143538822076, 0.8268519256759308, 0.8019431081452648, 0.7957324040537814, 0.7936469712317538, 0.8152765469434687, 0.8307987377215966, 0.8511252896474202, 0.8680481188389875, 0.8632150822519187]}, {\"categories\": [\"0\", \"1\", \"2\", \"3\", \"4\", \"5\", \"6\", \"7\", \"8\", \"9\", \"10\", \"11\", \"12\", \"13\", \"14\", \"15\", \"16\", \"17\", \"18\", \"19\", \"20\", \"21\", \"22\", \"23\", \"24\", \"25\", \"26\", \"27\", \"28\", \"29\", \"30\", \"31\", \"32\", \"33\", \"34\", \"35\", \"36\", \"37\", \"38\", \"41\", \"42\"], \"mode\": \"lines\", \"name\": \"precision_score_macro_max\", \"stepped\": true, \"type\": \"scatter\", \"data\": [0.7875311233068283, 0.7961784479431537, 0.825459076527188, 0.8344481521931766, 0.8344481521931766, 0.8344481521931766, 0.8344481521931766, 0.8344481521931766, 0.8344481521931766, 0.8344481521931766, 0.8409200748462977, 0.8409200748462977, 0.8409200748462977, 0.8409200748462977, 0.8611443400772669, 0.8611443400772669, 0.8618957431457431, 0.8618957431457431, 0.8679039735685882, 0.8679039735685882, 0.8679039735685882, 0.8679039735685882, 0.8679039735685882, 0.8679039735685882, 0.8679039735685882, 0.8679039735685882, 0.8679039735685882, 0.8679039735685882, 0.8679039735685882, 0.8679039735685882, 0.8679039735685882, 0.8679039735685882, 0.8679039735685882, 0.8679039735685882, 0.8679039735685882, 0.8679039735685882, 0.8679039735685882, 0.8679039735685882, 0.8679039735685882, 0.8680481188389875, 0.8680481188389875]}], \"f1_score_macro\": [{\"categories\": [\"0\", \"1\", \"2\", \"3\", \"4\", \"5\", \"6\", \"7\", \"8\", \"9\", \"10\", \"11\", \"12\", \"13\", \"14\", \"15\", \"16\", \"17\", \"18\", \"19\", \"20\", \"21\", \"22\", \"23\", \"24\", \"25\", \"26\", \"27\", \"28\", \"29\", \"30\", \"31\", \"32\", \"33\", \"34\", \"35\", \"36\", \"37\", \"38\", \"41\", \"42\"], \"mode\": \"markers\", \"name\": \"f1_score_macro\", \"stepped\": false, \"type\": \"scatter\", \"data\": [0.7690713325606063, 0.77649591175525, 0.8135833435043993, 0.813438908199038, 0.8020134770166175, 0.5428893748040485, 0.7615493011729988, 0.5868188410810097, 0.8083606267473632, 0.7697720317263027, 0.7872679250890788, 0.8005229002286361, 0.5876336717665998, 0.7717101726835397, 0.7967232938469915, 0.7706564334029122, 0.7963469612324843, 0.7656844874941842, 0.809480256233425, 0.7912179700045018, 0.8092331364699785, 0.8149101891611685, 0.7789749818734135, 0.764594317648701, 0.823876135215796, 0.33885372179212947, 0.7792523213121806, 0.8179843445977, 0.7906120025577421, 0.8113903517332751, 0.5486016159454772, 0.8057407837418307, 0.5283407877738044, 0.7834582222410766, 0.7320527532698051, 0.7489088953755758, 0.7917569430011047, 0.7902279689678781, 0.8232741564157131, 0.8408795971133551, 0.8371650515732872]}, {\"categories\": [\"0\", \"1\", \"2\", \"3\", \"4\", \"5\", \"6\", \"7\", \"8\", \"9\", \"10\", \"11\", \"12\", \"13\", \"14\", \"15\", \"16\", \"17\", \"18\", \"19\", \"20\", \"21\", \"22\", \"23\", \"24\", \"25\", \"26\", \"27\", \"28\", \"29\", \"30\", \"31\", \"32\", \"33\", \"34\", \"35\", \"36\", \"37\", \"38\", \"41\", \"42\"], \"mode\": \"lines\", \"name\": \"f1_score_macro_max\", \"stepped\": true, \"type\": \"scatter\", \"data\": [0.7690713325606063, 0.77649591175525, 0.8135833435043993, 0.8135833435043993, 0.8135833435043993, 0.8135833435043993, 0.8135833435043993, 0.8135833435043993, 0.8135833435043993, 0.8135833435043993, 0.8135833435043993, 0.8135833435043993, 0.8135833435043993, 0.8135833435043993, 0.8135833435043993, 0.8135833435043993, 0.8135833435043993, 0.8135833435043993, 0.8135833435043993, 0.8135833435043993, 0.8135833435043993, 0.8149101891611685, 0.8149101891611685, 0.8149101891611685, 0.823876135215796, 0.823876135215796, 0.823876135215796, 0.823876135215796, 0.823876135215796, 0.823876135215796, 0.823876135215796, 0.823876135215796, 0.823876135215796, 0.823876135215796, 0.823876135215796, 0.823876135215796, 0.823876135215796, 0.823876135215796, 0.823876135215796, 0.8408795971133551, 0.8408795971133551]}], \"average_precision_score_micro\": [{\"categories\": [\"0\", \"1\", \"2\", \"3\", \"4\", \"5\", \"6\", \"7\", \"8\", \"9\", \"10\", \"11\", \"12\", \"13\", \"14\", \"15\", \"16\", \"17\", \"18\", \"19\", \"20\", \"21\", \"22\", \"23\", \"24\", \"25\", \"26\", \"27\", \"28\", \"29\", \"30\", \"31\", \"32\", \"33\", \"34\", \"35\", \"36\", \"37\", \"38\", \"41\", \"42\"], \"mode\": \"markers\", \"name\": \"average_precision_score_micro\", \"stepped\": false, \"type\": \"scatter\", \"data\": [0.8928841729496089, 0.9074370081801281, 0.9237326954208166, 0.9111913925891633, 0.9156776972601474, 0.8046366753053211, 0.871870524422403, 0.7564981112843846, 0.9240478076639539, 0.8933603193712087, 0.9038144687614581, 0.9274313175453566, 0.8422687004657631, 0.9069205199017075, 0.9095644511238351, 0.9011786854671936, 0.908446968544877, 0.9031204805125924, 0.9232857557811881, 0.9145932939278051, 0.9232874836741061, 0.9327805172808562, 0.9152285347022584, 0.8868724303084825, 0.926288315879454, 0.4579938770633162, 0.8604963627213429, 0.9226287812156746, 0.9069155348389156, 0.9219581267972569, 0.838559383195203, 0.9238529556616992, 0.8592333203984467, 0.9101604536064588, 0.8765340851715623, 0.8761406620495629, 0.9225485948880804, 0.9043086315399427, 0.9303366141766837, 0.929664593922993, 0.9328011210707945]}, {\"categories\": [\"0\", \"1\", \"2\", \"3\", \"4\", \"5\", \"6\", \"7\", \"8\", \"9\", \"10\", \"11\", \"12\", \"13\", \"14\", \"15\", \"16\", \"17\", \"18\", \"19\", \"20\", \"21\", \"22\", \"23\", \"24\", \"25\", \"26\", \"27\", \"28\", \"29\", \"30\", \"31\", \"32\", \"33\", \"34\", \"35\", \"36\", \"37\", \"38\", \"41\", \"42\"], \"mode\": \"lines\", \"name\": \"average_precision_score_micro_max\", \"stepped\": true, \"type\": \"scatter\", \"data\": [0.8928841729496089, 0.9074370081801281, 0.9237326954208166, 0.9237326954208166, 0.9237326954208166, 0.9237326954208166, 0.9237326954208166, 0.9237326954208166, 0.9240478076639539, 0.9240478076639539, 0.9240478076639539, 0.9274313175453566, 0.9274313175453566, 0.9274313175453566, 0.9274313175453566, 0.9274313175453566, 0.9274313175453566, 0.9274313175453566, 0.9274313175453566, 0.9274313175453566, 0.9274313175453566, 0.9327805172808562, 0.9327805172808562, 0.9327805172808562, 0.9327805172808562, 0.9327805172808562, 0.9327805172808562, 0.9327805172808562, 0.9327805172808562, 0.9327805172808562, 0.9327805172808562, 0.9327805172808562, 0.9327805172808562, 0.9327805172808562, 0.9327805172808562, 0.9327805172808562, 0.9327805172808562, 0.9327805172808562, 0.9327805172808562, 0.9327805172808562, 0.9328011210707945]}], \"AUC_macro\": [{\"categories\": [\"0\", \"1\", \"2\", \"3\", \"4\", \"5\", \"6\", \"7\", \"8\", \"9\", \"10\", \"11\", \"12\", \"13\", \"14\", \"15\", \"16\", \"17\", \"18\", \"19\", \"20\", \"21\", \"22\", \"23\", \"24\", \"25\", \"26\", \"27\", \"28\", \"29\", \"30\", \"31\", \"32\", \"33\", \"34\", \"35\", \"36\", \"37\", \"38\", \"41\", \"42\"], \"mode\": \"markers\", \"name\": \"AUC_macro\", \"stepped\": false, \"type\": \"scatter\", \"data\": [0.8628055724897831, 0.8870813746076903, 0.9049677685204001, 0.8909255571360835, 0.8897290184921764, 0.8054206405653772, 0.8503554720133668, 0.7300494705231548, 0.8999492424755584, 0.8708882228092755, 0.8727162275057012, 0.908530459030459, 0.8117842805211225, 0.8999636252794148, 0.8937000722527039, 0.8868268305899886, 0.8874328388538913, 0.8786260922576712, 0.9052536295694191, 0.8915032175032176, 0.8983173812910655, 0.916548059337533, 0.8888888324414641, 0.9022052033236244, 0.9132114181851024, 0.4370071293097609, 0.8471855201065728, 0.902610275689223, 0.8893361895730317, 0.8981875522138679, 0.8421202781729097, 0.9008542188805346, 0.8883269321953533, 0.8839853349590191, 0.8540128022759603, 0.8539267876899455, 0.8999289326920905, 0.9001787238366186, 0.9166187766714081, 0.9101524306261147, 0.9111816703921967]}, {\"categories\": [\"0\", \"1\", \"2\", \"3\", \"4\", \"5\", \"6\", \"7\", \"8\", \"9\", \"10\", \"11\", \"12\", \"13\", \"14\", \"15\", \"16\", \"17\", \"18\", \"19\", \"20\", \"21\", \"22\", \"23\", \"24\", \"25\", \"26\", \"27\", \"28\", \"29\", \"30\", \"31\", \"32\", \"33\", \"34\", \"35\", \"36\", \"37\", \"38\", \"41\", \"42\"], \"mode\": \"lines\", \"name\": \"AUC_macro_max\", \"stepped\": true, \"type\": \"scatter\", \"data\": [0.8628055724897831, 0.8870813746076903, 0.9049677685204001, 0.9049677685204001, 0.9049677685204001, 0.9049677685204001, 0.9049677685204001, 0.9049677685204001, 0.9049677685204001, 0.9049677685204001, 0.9049677685204001, 0.908530459030459, 0.908530459030459, 0.908530459030459, 0.908530459030459, 0.908530459030459, 0.908530459030459, 0.908530459030459, 0.908530459030459, 0.908530459030459, 0.908530459030459, 0.916548059337533, 0.916548059337533, 0.916548059337533, 0.916548059337533, 0.916548059337533, 0.916548059337533, 0.916548059337533, 0.916548059337533, 0.916548059337533, 0.916548059337533, 0.916548059337533, 0.916548059337533, 0.916548059337533, 0.916548059337533, 0.916548059337533, 0.916548059337533, 0.916548059337533, 0.9166187766714081, 0.9166187766714081, 0.9166187766714081]}], \"accuracy\": [{\"categories\": [\"0\", \"1\", \"2\", \"3\", \"4\", \"5\", \"6\", \"7\", \"8\", \"9\", \"10\", \"11\", \"12\", \"13\", \"14\", \"15\", \"16\", \"17\", \"18\", \"19\", \"20\", \"21\", \"22\", \"23\", \"24\", \"25\", \"26\", \"27\", \"28\", \"29\", \"30\", \"31\", \"32\", \"33\", \"34\", \"35\", \"36\", \"37\", \"38\", \"41\", \"42\"], \"mode\": \"markers\", \"name\": \"accuracy\", \"stepped\": false, \"type\": \"scatter\", \"data\": [0.8127882599580714, 0.8162124388539483, 0.8466107617051012, 0.8502445842068482, 0.8317959468902864, 0.7190076869322153, 0.8241788958770091, 0.692732354996506, 0.8426974143955277, 0.8166317260656882, 0.846680642907058, 0.8429070580013978, 0.7152341020265548, 0.8278825995807129, 0.846680642907058, 0.8241090146750525, 0.8466107617051014, 0.8204053109713486, 0.854157931516422, 0.8276729559748428, 0.846680642907058, 0.8503843466107618, 0.820125786163522, 0.8125786163522012, 0.8578616352201257, 0.3981132075471698, 0.8051013277428372, 0.846470999301188, 0.8240391334730959, 0.8427672955974842, 0.7150943396226415, 0.8427672955974843, 0.7150943396226416, 0.823969252271139, 0.8015373864430468, 0.8051013277428372, 0.8315164220824599, 0.8352201257861637, 0.8578616352201257, 0.8728860936408107, 0.8691125087351501]}, {\"categories\": [\"0\", \"1\", \"2\", \"3\", \"4\", \"5\", \"6\", \"7\", \"8\", \"9\", \"10\", \"11\", \"12\", \"13\", \"14\", \"15\", \"16\", \"17\", \"18\", \"19\", \"20\", \"21\", \"22\", \"23\", \"24\", \"25\", \"26\", \"27\", \"28\", \"29\", \"30\", \"31\", \"32\", \"33\", \"34\", \"35\", \"36\", \"37\", \"38\", \"41\", \"42\"], \"mode\": \"lines\", \"name\": \"accuracy_max\", \"stepped\": true, \"type\": \"scatter\", \"data\": [0.8127882599580714, 0.8162124388539483, 0.8466107617051012, 0.8502445842068482, 0.8502445842068482, 0.8502445842068482, 0.8502445842068482, 0.8502445842068482, 0.8502445842068482, 0.8502445842068482, 0.8502445842068482, 0.8502445842068482, 0.8502445842068482, 0.8502445842068482, 0.8502445842068482, 0.8502445842068482, 0.8502445842068482, 0.8502445842068482, 0.854157931516422, 0.854157931516422, 0.854157931516422, 0.854157931516422, 0.854157931516422, 0.854157931516422, 0.8578616352201257, 0.8578616352201257, 0.8578616352201257, 0.8578616352201257, 0.8578616352201257, 0.8578616352201257, 0.8578616352201257, 0.8578616352201257, 0.8578616352201257, 0.8578616352201257, 0.8578616352201257, 0.8578616352201257, 0.8578616352201257, 0.8578616352201257, 0.8578616352201257, 0.8728860936408107, 0.8728860936408107]}]}, \"metricName\": null, \"primaryMetricName\": \"accuracy\", \"showLegend\": false}, \"run_metrics\": [{\"name\": \"experiment_status\", \"run_id\": \"AutoML_b48ee273-85c3-4a8f-ada1-31a8ebc61c6c\", \"categories\": [0, 1, 2, 3, 4, 5, 6, 7, 8, 9, 10, 11, 12, 13], \"series\": [{\"data\": [\"DatasetEvaluation\", \"FeaturesGeneration\", \"DatasetFeaturization\", \"DatasetFeaturizationCompleted\", \"DatasetCrossValidationSplit\", \"ModelSelection\", \"BestRunExplainModel\", \"ModelExplanationDataSetSetup\", \"PickSurrogateModel\", \"EngineeredFeatureExplanations\", \"EngineeredFeatureExplanations\", \"RawFeaturesExplanations\", \"RawFeaturesExplanations\", \"BestRunExplainModel\"]}]}, {\"name\": \"experiment_status_description\", \"run_id\": \"AutoML_b48ee273-85c3-4a8f-ada1-31a8ebc61c6c\", \"categories\": [0, 1, 2, 3, 4, 5, 6, 7, 8, 9, 10, 11, 12, 13], \"series\": [{\"data\": [\"Gathering dataset statistics.\", \"Generating features for the dataset.\", \"Beginning to fit featurizers and featurize the dataset.\", \"Completed fit featurizers and featurizing the dataset.\", \"Generating individually featurized CV splits.\", \"Beginning model selection.\", \"Best run model explanations started\", \"Model explanations data setup completed\", \"Choosing LightGBM as the surrogate model for explanations\", \"Computation of engineered features started\", \"Computation of engineered features completed\", \"Computation of raw features started\", \"Computation of raw features completed\", \"Best run model explanations completed\"]}]}, {\"name\": \"recall_score_weighted\", \"run_id\": \"AutoML_b48ee273-85c3-4a8f-ada1-31a8ebc61c6c\", \"categories\": [0], \"series\": [{\"data\": [0.8728860936408107]}]}, {\"name\": \"f1_score_weighted\", \"run_id\": \"AutoML_b48ee273-85c3-4a8f-ada1-31a8ebc61c6c\", \"categories\": [0], \"series\": [{\"data\": [0.8694326916439288]}]}, {\"name\": \"recall_score_micro\", \"run_id\": \"AutoML_b48ee273-85c3-4a8f-ada1-31a8ebc61c6c\", \"categories\": [0], \"series\": [{\"data\": [0.8728860936408107]}]}, {\"name\": \"f1_score_micro\", \"run_id\": \"AutoML_b48ee273-85c3-4a8f-ada1-31a8ebc61c6c\", \"categories\": [0], \"series\": [{\"data\": [0.8728860936408107]}]}, {\"name\": \"AUC_weighted\", \"run_id\": \"AutoML_b48ee273-85c3-4a8f-ada1-31a8ebc61c6c\", \"categories\": [0], \"series\": [{\"data\": [0.9101524306261147]}]}, {\"name\": \"matthews_correlation\", \"run_id\": \"AutoML_b48ee273-85c3-4a8f-ada1-31a8ebc61c6c\", \"categories\": [0], \"series\": [{\"data\": [0.692529144253744]}]}, {\"name\": \"log_loss\", \"run_id\": \"AutoML_b48ee273-85c3-4a8f-ada1-31a8ebc61c6c\", \"categories\": [0], \"series\": [{\"data\": [0.383027073222474]}]}, {\"name\": \"average_precision_score_weighted\", \"run_id\": \"AutoML_b48ee273-85c3-4a8f-ada1-31a8ebc61c6c\", \"categories\": [0], \"series\": [{\"data\": [0.9232218235936909]}]}, {\"name\": \"precision_score_macro\", \"run_id\": \"AutoML_b48ee273-85c3-4a8f-ada1-31a8ebc61c6c\", \"categories\": [0], \"series\": [{\"data\": [0.8680481188389875]}]}, {\"name\": \"average_precision_score_micro\", \"run_id\": \"AutoML_b48ee273-85c3-4a8f-ada1-31a8ebc61c6c\", \"categories\": [0], \"series\": [{\"data\": [0.929664593922993]}]}, {\"name\": \"norm_macro_recall\", \"run_id\": \"AutoML_b48ee273-85c3-4a8f-ada1-31a8ebc61c6c\", \"categories\": [0], \"series\": [{\"data\": [0.6536020795231321]}]}, {\"name\": \"balanced_accuracy\", \"run_id\": \"AutoML_b48ee273-85c3-4a8f-ada1-31a8ebc61c6c\", \"categories\": [0], \"series\": [{\"data\": [0.8268010397615659]}]}, {\"name\": \"f1_score_macro\", \"run_id\": \"AutoML_b48ee273-85c3-4a8f-ada1-31a8ebc61c6c\", \"categories\": [0], \"series\": [{\"data\": [0.8408795971133551]}]}, {\"name\": \"AUC_micro\", \"run_id\": \"AutoML_b48ee273-85c3-4a8f-ada1-31a8ebc61c6c\", \"categories\": [0], \"series\": [{\"data\": [0.9282932676225399]}]}, {\"name\": \"weighted_accuracy\", \"run_id\": \"AutoML_b48ee273-85c3-4a8f-ada1-31a8ebc61c6c\", \"categories\": [0], \"series\": [{\"data\": [0.9026012170124028]}]}, {\"name\": \"average_precision_score_macro\", \"run_id\": \"AutoML_b48ee273-85c3-4a8f-ada1-31a8ebc61c6c\", \"categories\": [0], \"series\": [{\"data\": [0.897783903235499]}]}, {\"name\": \"accuracy\", \"run_id\": \"AutoML_b48ee273-85c3-4a8f-ada1-31a8ebc61c6c\", \"categories\": [0], \"series\": [{\"data\": [0.8728860936408107]}]}, {\"name\": \"AUC_macro\", \"run_id\": \"AutoML_b48ee273-85c3-4a8f-ada1-31a8ebc61c6c\", \"categories\": [0], \"series\": [{\"data\": [0.9101524306261147]}]}, {\"name\": \"precision_score_weighted\", \"run_id\": \"AutoML_b48ee273-85c3-4a8f-ada1-31a8ebc61c6c\", \"categories\": [0], \"series\": [{\"data\": [0.8749434647521614]}]}, {\"name\": \"recall_score_macro\", \"run_id\": \"AutoML_b48ee273-85c3-4a8f-ada1-31a8ebc61c6c\", \"categories\": [0], \"series\": [{\"data\": [0.8268010397615659]}]}, {\"name\": \"precision_score_micro\", \"run_id\": \"AutoML_b48ee273-85c3-4a8f-ada1-31a8ebc61c6c\", \"categories\": [0], \"series\": [{\"data\": [0.8728860936408107]}]}], \"run_logs\": \"\\nRun is completed.\", \"graph\": {}, \"widget_settings\": {\"childWidgetDisplay\": \"popup\", \"send_telemetry\": false, \"log_level\": \"INFO\", \"sdk_version\": \"1.22.0\"}, \"loading\": false}"
     },
     "metadata": {},
     "output_type": "display_data"
    }
   ],
   "source": [
    "RunDetails(remote_run).show()"
   ]
  },
  {
   "cell_type": "code",
   "execution_count": 14,
   "metadata": {
    "gather": {
     "logged": 1609057322041
    }
   },
   "outputs": [
    {
     "data": {
      "text/plain": [
       "{'runId': 'AutoML_b48ee273-85c3-4a8f-ada1-31a8ebc61c6c',\n",
       " 'target': 'cpu-cluster',\n",
       " 'status': 'Completed',\n",
       " 'startTimeUtc': '2021-03-16T16:18:08.321013Z',\n",
       " 'endTimeUtc': '2021-03-16T16:44:49.037705Z',\n",
       " 'properties': {'num_iterations': '1000',\n",
       "  'training_type': 'TrainFull',\n",
       "  'acquisition_function': 'EI',\n",
       "  'primary_metric': 'accuracy',\n",
       "  'train_split': '0',\n",
       "  'acquisition_parameter': '0',\n",
       "  'num_cross_validation': '5',\n",
       "  'target': 'cpu-cluster',\n",
       "  'AMLSettingsJsonString': '{\"path\":null,\"name\":\"automl-experiment\",\"subscription_id\":\"f9d5a085-54dc-4215-9ba6-dad5d86e60a0\",\"resource_group\":\"aml-quickstarts-140708\",\"workspace_name\":\"quick-starts-ws-140708\",\"region\":\"southcentralus\",\"compute_target\":\"cpu-cluster\",\"spark_service\":null,\"azure_service\":\"remote\",\"many_models\":false,\"pipeline_fetch_max_batch_size\":1,\"iterations\":1000,\"primary_metric\":\"accuracy\",\"task_type\":\"classification\",\"data_script\":null,\"validation_size\":0.0,\"n_cross_validations\":5,\"y_min\":null,\"y_max\":null,\"num_classes\":null,\"featurization\":\"auto\",\"_ignore_package_version_incompatibilities\":false,\"is_timeseries\":false,\"max_cores_per_iteration\":1,\"max_concurrent_iterations\":4,\"iteration_timeout_minutes\":null,\"mem_in_mb\":null,\"enforce_time_on_windows\":false,\"experiment_timeout_minutes\":30,\"experiment_exit_score\":null,\"whitelist_models\":null,\"blacklist_algos\":[\"TensorFlowLinearClassifier\",\"TensorFlowDNN\"],\"supported_models\":[\"GradientBoosting\",\"AveragedPerceptronClassifier\",\"SVM\",\"LinearSVM\",\"KNN\",\"LightGBM\",\"BernoulliNaiveBayes\",\"MultinomialNaiveBayes\",\"ExtremeRandomTrees\",\"SGD\",\"XGBoostClassifier\",\"LogisticRegression\",\"TensorFlowDNN\",\"DecisionTree\",\"RandomForest\",\"TensorFlowLinearClassifier\"],\"private_models\":[],\"auto_blacklist\":true,\"blacklist_samples_reached\":false,\"exclude_nan_labels\":true,\"verbosity\":20,\"_debug_log\":\"azureml_automl.log\",\"show_warnings\":false,\"model_explainability\":true,\"service_url\":null,\"sdk_url\":null,\"sdk_packages\":null,\"enable_onnx_compatible_models\":false,\"enable_split_onnx_featurizer_estimator_models\":false,\"vm_type\":\"STANDARD_D12_V2\",\"telemetry_verbosity\":20,\"send_telemetry\":true,\"enable_dnn\":false,\"scenario\":\"SDK-1.13.0\",\"environment_label\":null,\"force_text_dnn\":false,\"enable_feature_sweeping\":true,\"enable_early_stopping\":true,\"early_stopping_n_iters\":10,\"metrics\":null,\"enable_ensembling\":true,\"enable_stack_ensembling\":true,\"ensemble_iterations\":15,\"enable_tf\":false,\"enable_subsampling\":null,\"subsample_seed\":null,\"enable_nimbusml\":false,\"enable_streaming\":false,\"force_streaming\":false,\"track_child_runs\":true,\"allowed_private_models\":[],\"label_column_name\":\"DEATH_EVENT\",\"weight_column_name\":null,\"cv_split_column_names\":null,\"enable_local_managed\":false,\"_local_managed_run_id\":null,\"cost_mode\":1,\"lag_length\":0,\"metric_operation\":\"maximize\",\"preprocess\":true}',\n",
       "  'DataPrepJsonString': '{\\\\\"training_data\\\\\": \\\\\"{\\\\\\\\\\\\\"blocks\\\\\\\\\\\\\": [{\\\\\\\\\\\\\"id\\\\\\\\\\\\\": \\\\\\\\\\\\\"6c6cf30a-6f46-46f5-ad10-35e57304580f\\\\\\\\\\\\\", \\\\\\\\\\\\\"type\\\\\\\\\\\\\": \\\\\\\\\\\\\"Microsoft.DPrep.GetDatastoreFilesBlock\\\\\\\\\\\\\", \\\\\\\\\\\\\"arguments\\\\\\\\\\\\\": {\\\\\\\\\\\\\"datastores\\\\\\\\\\\\\": [{\\\\\\\\\\\\\"datastoreName\\\\\\\\\\\\\": \\\\\\\\\\\\\"workspaceblobstore\\\\\\\\\\\\\", \\\\\\\\\\\\\"path\\\\\\\\\\\\\": \\\\\\\\\\\\\"UI/03-16-2021_033752_UTC/heart-disease-kaggle.csv\\\\\\\\\\\\\", \\\\\\\\\\\\\"resourceGroup\\\\\\\\\\\\\": \\\\\\\\\\\\\"aml-quickstarts-140708\\\\\\\\\\\\\", \\\\\\\\\\\\\"subscription\\\\\\\\\\\\\": \\\\\\\\\\\\\"f9d5a085-54dc-4215-9ba6-dad5d86e60a0\\\\\\\\\\\\\", \\\\\\\\\\\\\"workspaceName\\\\\\\\\\\\\": \\\\\\\\\\\\\"quick-starts-ws-140708\\\\\\\\\\\\\"}]}, \\\\\\\\\\\\\"localData\\\\\\\\\\\\\": {}, \\\\\\\\\\\\\"isEnabled\\\\\\\\\\\\\": true, \\\\\\\\\\\\\"name\\\\\\\\\\\\\": null, \\\\\\\\\\\\\"annotation\\\\\\\\\\\\\": null}, {\\\\\\\\\\\\\"id\\\\\\\\\\\\\": \\\\\\\\\\\\\"1af65c66-dfc9-4ace-ae18-be3993001750\\\\\\\\\\\\\", \\\\\\\\\\\\\"type\\\\\\\\\\\\\": \\\\\\\\\\\\\"Microsoft.DPrep.ParseDelimitedBlock\\\\\\\\\\\\\", \\\\\\\\\\\\\"arguments\\\\\\\\\\\\\": {\\\\\\\\\\\\\"columnHeadersMode\\\\\\\\\\\\\": 3, \\\\\\\\\\\\\"fileEncoding\\\\\\\\\\\\\": 0, \\\\\\\\\\\\\"handleQuotedLineBreaks\\\\\\\\\\\\\": false, \\\\\\\\\\\\\"preview\\\\\\\\\\\\\": false, \\\\\\\\\\\\\"separator\\\\\\\\\\\\\": \\\\\\\\\\\\\",\\\\\\\\\\\\\", \\\\\\\\\\\\\"skipRows\\\\\\\\\\\\\": 0, \\\\\\\\\\\\\"skipRowsMode\\\\\\\\\\\\\": 0}, \\\\\\\\\\\\\"localData\\\\\\\\\\\\\": {}, \\\\\\\\\\\\\"isEnabled\\\\\\\\\\\\\": true, \\\\\\\\\\\\\"name\\\\\\\\\\\\\": null, \\\\\\\\\\\\\"annotation\\\\\\\\\\\\\": null}, {\\\\\\\\\\\\\"id\\\\\\\\\\\\\": \\\\\\\\\\\\\"581db922-3380-47dd-8cc9-fc0d3e109d12\\\\\\\\\\\\\", \\\\\\\\\\\\\"type\\\\\\\\\\\\\": \\\\\\\\\\\\\"Microsoft.DPrep.DropColumnsBlock\\\\\\\\\\\\\", \\\\\\\\\\\\\"arguments\\\\\\\\\\\\\": {\\\\\\\\\\\\\"columns\\\\\\\\\\\\\": {\\\\\\\\\\\\\"type\\\\\\\\\\\\\": 0, \\\\\\\\\\\\\"details\\\\\\\\\\\\\": {\\\\\\\\\\\\\"selectedColumns\\\\\\\\\\\\\": [\\\\\\\\\\\\\"Path\\\\\\\\\\\\\"]}}}, \\\\\\\\\\\\\"localData\\\\\\\\\\\\\": {}, \\\\\\\\\\\\\"isEnabled\\\\\\\\\\\\\": true, \\\\\\\\\\\\\"name\\\\\\\\\\\\\": null, \\\\\\\\\\\\\"annotation\\\\\\\\\\\\\": null}, {\\\\\\\\\\\\\"id\\\\\\\\\\\\\": \\\\\\\\\\\\\"5d290d77-6a8b-4373-9a53-3a135cf79fe5\\\\\\\\\\\\\", \\\\\\\\\\\\\"type\\\\\\\\\\\\\": \\\\\\\\\\\\\"Microsoft.DPrep.SetColumnTypesBlock\\\\\\\\\\\\\", \\\\\\\\\\\\\"arguments\\\\\\\\\\\\\": {\\\\\\\\\\\\\"columnConversion\\\\\\\\\\\\\": [{\\\\\\\\\\\\\"column\\\\\\\\\\\\\": {\\\\\\\\\\\\\"type\\\\\\\\\\\\\": 2, \\\\\\\\\\\\\"details\\\\\\\\\\\\\": {\\\\\\\\\\\\\"selectedColumn\\\\\\\\\\\\\": \\\\\\\\\\\\\"Path\\\\\\\\\\\\\"}}, \\\\\\\\\\\\\"typeProperty\\\\\\\\\\\\\": 0}, {\\\\\\\\\\\\\"column\\\\\\\\\\\\\": {\\\\\\\\\\\\\"type\\\\\\\\\\\\\": 2, \\\\\\\\\\\\\"details\\\\\\\\\\\\\": {\\\\\\\\\\\\\"selectedColumn\\\\\\\\\\\\\": \\\\\\\\\\\\\"age\\\\\\\\\\\\\"}}, \\\\\\\\\\\\\"typeProperty\\\\\\\\\\\\\": 3}, {\\\\\\\\\\\\\"column\\\\\\\\\\\\\": {\\\\\\\\\\\\\"type\\\\\\\\\\\\\": 2, \\\\\\\\\\\\\"details\\\\\\\\\\\\\": {\\\\\\\\\\\\\"selectedColumn\\\\\\\\\\\\\": \\\\\\\\\\\\\"anaemia\\\\\\\\\\\\\"}}, \\\\\\\\\\\\\"typeProperty\\\\\\\\\\\\\": 2}, {\\\\\\\\\\\\\"column\\\\\\\\\\\\\": {\\\\\\\\\\\\\"type\\\\\\\\\\\\\": 2, \\\\\\\\\\\\\"details\\\\\\\\\\\\\": {\\\\\\\\\\\\\"selectedColumn\\\\\\\\\\\\\": \\\\\\\\\\\\\"creatinine_phosphokinase\\\\\\\\\\\\\"}}, \\\\\\\\\\\\\"typeProperty\\\\\\\\\\\\\": 2}, {\\\\\\\\\\\\\"column\\\\\\\\\\\\\": {\\\\\\\\\\\\\"type\\\\\\\\\\\\\": 2, \\\\\\\\\\\\\"details\\\\\\\\\\\\\": {\\\\\\\\\\\\\"selectedColumn\\\\\\\\\\\\\": \\\\\\\\\\\\\"diabetes\\\\\\\\\\\\\"}}, \\\\\\\\\\\\\"typeProperty\\\\\\\\\\\\\": 2}, {\\\\\\\\\\\\\"column\\\\\\\\\\\\\": {\\\\\\\\\\\\\"type\\\\\\\\\\\\\": 2, \\\\\\\\\\\\\"details\\\\\\\\\\\\\": {\\\\\\\\\\\\\"selectedColumn\\\\\\\\\\\\\": \\\\\\\\\\\\\"ejection_fraction\\\\\\\\\\\\\"}}, \\\\\\\\\\\\\"typeProperty\\\\\\\\\\\\\": 2}, {\\\\\\\\\\\\\"column\\\\\\\\\\\\\": {\\\\\\\\\\\\\"type\\\\\\\\\\\\\": 2, \\\\\\\\\\\\\"details\\\\\\\\\\\\\": {\\\\\\\\\\\\\"selectedColumn\\\\\\\\\\\\\": \\\\\\\\\\\\\"high_blood_pressure\\\\\\\\\\\\\"}}, \\\\\\\\\\\\\"typeProperty\\\\\\\\\\\\\": 2}, {\\\\\\\\\\\\\"column\\\\\\\\\\\\\": {\\\\\\\\\\\\\"type\\\\\\\\\\\\\": 2, \\\\\\\\\\\\\"details\\\\\\\\\\\\\": {\\\\\\\\\\\\\"selectedColumn\\\\\\\\\\\\\": \\\\\\\\\\\\\"platelets\\\\\\\\\\\\\"}}, \\\\\\\\\\\\\"typeProperty\\\\\\\\\\\\\": 3}, {\\\\\\\\\\\\\"column\\\\\\\\\\\\\": {\\\\\\\\\\\\\"type\\\\\\\\\\\\\": 2, \\\\\\\\\\\\\"details\\\\\\\\\\\\\": {\\\\\\\\\\\\\"selectedColumn\\\\\\\\\\\\\": \\\\\\\\\\\\\"serum_creatinine\\\\\\\\\\\\\"}}, \\\\\\\\\\\\\"typeProperty\\\\\\\\\\\\\": 3}, {\\\\\\\\\\\\\"column\\\\\\\\\\\\\": {\\\\\\\\\\\\\"type\\\\\\\\\\\\\": 2, \\\\\\\\\\\\\"details\\\\\\\\\\\\\": {\\\\\\\\\\\\\"selectedColumn\\\\\\\\\\\\\": \\\\\\\\\\\\\"serum_sodium\\\\\\\\\\\\\"}}, \\\\\\\\\\\\\"typeProperty\\\\\\\\\\\\\": 2}, {\\\\\\\\\\\\\"column\\\\\\\\\\\\\": {\\\\\\\\\\\\\"type\\\\\\\\\\\\\": 2, \\\\\\\\\\\\\"details\\\\\\\\\\\\\": {\\\\\\\\\\\\\"selectedColumn\\\\\\\\\\\\\": \\\\\\\\\\\\\"sex\\\\\\\\\\\\\"}}, \\\\\\\\\\\\\"typeProperty\\\\\\\\\\\\\": 2}, {\\\\\\\\\\\\\"column\\\\\\\\\\\\\": {\\\\\\\\\\\\\"type\\\\\\\\\\\\\": 2, \\\\\\\\\\\\\"details\\\\\\\\\\\\\": {\\\\\\\\\\\\\"selectedColumn\\\\\\\\\\\\\": \\\\\\\\\\\\\"smoking\\\\\\\\\\\\\"}}, \\\\\\\\\\\\\"typeProperty\\\\\\\\\\\\\": 2}, {\\\\\\\\\\\\\"column\\\\\\\\\\\\\": {\\\\\\\\\\\\\"type\\\\\\\\\\\\\": 2, \\\\\\\\\\\\\"details\\\\\\\\\\\\\": {\\\\\\\\\\\\\"selectedColumn\\\\\\\\\\\\\": \\\\\\\\\\\\\"time\\\\\\\\\\\\\"}}, \\\\\\\\\\\\\"typeProperty\\\\\\\\\\\\\": 2}, {\\\\\\\\\\\\\"column\\\\\\\\\\\\\": {\\\\\\\\\\\\\"type\\\\\\\\\\\\\": 2, \\\\\\\\\\\\\"details\\\\\\\\\\\\\": {\\\\\\\\\\\\\"selectedColumn\\\\\\\\\\\\\": \\\\\\\\\\\\\"DEATH_EVENT\\\\\\\\\\\\\"}}, \\\\\\\\\\\\\"typeProperty\\\\\\\\\\\\\": 2}]}, \\\\\\\\\\\\\"localData\\\\\\\\\\\\\": {}, \\\\\\\\\\\\\"isEnabled\\\\\\\\\\\\\": true, \\\\\\\\\\\\\"name\\\\\\\\\\\\\": null, \\\\\\\\\\\\\"annotation\\\\\\\\\\\\\": null}, {\\\\\\\\\\\\\"id\\\\\\\\\\\\\": \\\\\\\\\\\\\"f76da665-ce9e-431c-87dd-3d75456df26e\\\\\\\\\\\\\", \\\\\\\\\\\\\"type\\\\\\\\\\\\\": \\\\\\\\\\\\\"Microsoft.DPrep.TakeSampleBlock\\\\\\\\\\\\\", \\\\\\\\\\\\\"arguments\\\\\\\\\\\\\": {\\\\\\\\\\\\\"probability\\\\\\\\\\\\\": 0.9, \\\\\\\\\\\\\"probabilityLowerBound\\\\\\\\\\\\\": 0.0, \\\\\\\\\\\\\"seed\\\\\\\\\\\\\": 690004482}, \\\\\\\\\\\\\"localData\\\\\\\\\\\\\": {}, \\\\\\\\\\\\\"isEnabled\\\\\\\\\\\\\": true, \\\\\\\\\\\\\"name\\\\\\\\\\\\\": null, \\\\\\\\\\\\\"annotation\\\\\\\\\\\\\": null}], \\\\\\\\\\\\\"inspectors\\\\\\\\\\\\\": [], \\\\\\\\\\\\\"meta\\\\\\\\\\\\\": {\\\\\\\\\\\\\"savedDatasetId\\\\\\\\\\\\\": \\\\\\\\\\\\\"1223cd0e-f340-46fa-befc-de0fcbf17e95\\\\\\\\\\\\\", \\\\\\\\\\\\\"datasetType\\\\\\\\\\\\\": \\\\\\\\\\\\\"tabular\\\\\\\\\\\\\", \\\\\\\\\\\\\"subscriptionId\\\\\\\\\\\\\": \\\\\\\\\\\\\"f9d5a085-54dc-4215-9ba6-dad5d86e60a0\\\\\\\\\\\\\", \\\\\\\\\\\\\"workspaceId\\\\\\\\\\\\\": \\\\\\\\\\\\\"8626ffad-a5ea-4e59-b6e3-038de50b076a\\\\\\\\\\\\\", \\\\\\\\\\\\\"workspaceLocation\\\\\\\\\\\\\": \\\\\\\\\\\\\"southcentralus\\\\\\\\\\\\\"}}\\\\\", \\\\\"activities\\\\\": 0}',\n",
       "  'EnableSubsampling': None,\n",
       "  'runTemplate': 'AutoML',\n",
       "  'azureml.runsource': 'automl',\n",
       "  'display_task_type': 'classification',\n",
       "  'dependencies_versions': '{\"azureml-widgets\": \"1.22.0\", \"azureml-train\": \"1.22.0\", \"azureml-train-restclients-hyperdrive\": \"1.22.0\", \"azureml-train-core\": \"1.22.0\", \"azureml-train-automl\": \"1.22.0\", \"azureml-train-automl-runtime\": \"1.22.0\", \"azureml-train-automl-client\": \"1.22.0\", \"azureml-tensorboard\": \"1.22.0\", \"azureml-telemetry\": \"1.22.0\", \"azureml-sdk\": \"1.22.0\", \"azureml-samples\": \"0+unknown\", \"azureml-pipeline\": \"1.22.0\", \"azureml-pipeline-steps\": \"1.22.0\", \"azureml-pipeline-core\": \"1.22.0\", \"azureml-opendatasets\": \"1.22.0\", \"azureml-model-management-sdk\": \"1.0.1b6.post1\", \"azureml-mlflow\": \"1.22.0\", \"azureml-interpret\": \"1.22.0\", \"azureml-explain-model\": \"1.22.0\", \"azureml-defaults\": \"1.22.0\", \"azureml-dataset-runtime\": \"1.22.0\", \"azureml-dataprep\": \"2.9.1\", \"azureml-dataprep-rslex\": \"1.7.0\", \"azureml-dataprep-native\": \"29.0.0\", \"azureml-datadrift\": \"1.22.0\", \"azureml-core\": \"1.22.0\", \"azureml-contrib-services\": \"1.22.0\", \"azureml-contrib-server\": \"1.22.0\", \"azureml-contrib-reinforcementlearning\": \"1.22.0\", \"azureml-contrib-pipeline-steps\": \"1.22.0\", \"azureml-contrib-notebook\": \"1.22.0\", \"azureml-contrib-interpret\": \"1.22.0\", \"azureml-contrib-gbdt\": \"1.22.0\", \"azureml-contrib-fairness\": \"1.22.0\", \"azureml-contrib-dataset\": \"1.22.0\", \"azureml-cli-common\": \"1.22.0\", \"azureml-automl-runtime\": \"1.22.0\", \"azureml-automl-core\": \"1.22.0\", \"azureml-accel-models\": \"1.22.0\"}',\n",
       "  '_aml_system_scenario_identification': 'Remote.Parent',\n",
       "  'ClientType': 'SDK',\n",
       "  'environment_cpu_name': 'AzureML-AutoML',\n",
       "  'environment_cpu_label': 'prod',\n",
       "  'environment_gpu_name': 'AzureML-AutoML-GPU',\n",
       "  'environment_gpu_label': 'prod',\n",
       "  'root_attribution': 'automl',\n",
       "  'attribution': 'AutoML',\n",
       "  'Orchestrator': 'AutoML',\n",
       "  'CancelUri': 'https://southcentralus.experiments.azureml.net/jasmine/v1.0/subscriptions/f9d5a085-54dc-4215-9ba6-dad5d86e60a0/resourceGroups/aml-quickstarts-140708/providers/Microsoft.MachineLearningServices/workspaces/quick-starts-ws-140708/experimentids/fdc6e343-68c4-4c12-a787-e025c43fab56/cancel/AutoML_b48ee273-85c3-4a8f-ada1-31a8ebc61c6c',\n",
       "  'ClientSdkVersion': '1.23.0',\n",
       "  'snapshotId': '00000000-0000-0000-0000-000000000000',\n",
       "  'SetupRunId': 'AutoML_b48ee273-85c3-4a8f-ada1-31a8ebc61c6c_setup',\n",
       "  'SetupRunContainerId': 'dcid.AutoML_b48ee273-85c3-4a8f-ada1-31a8ebc61c6c_setup',\n",
       "  'FeaturizationRunJsonPath': 'featurizer_container.json',\n",
       "  'FeaturizationRunId': 'AutoML_b48ee273-85c3-4a8f-ada1-31a8ebc61c6c_featurize',\n",
       "  'ProblemInfoJsonString': '{\"dataset_num_categorical\": 0, \"is_sparse\": false, \"subsampling\": false, \"dataset_classes\": 2, \"dataset_features\": 12, \"dataset_samples\": 267, \"single_frequency_class_detected\": false}',\n",
       "  'ModelExplainRunId': 'AutoML_b48ee273-85c3-4a8f-ada1-31a8ebc61c6c_ModelExplain'},\n",
       " 'inputDatasets': [{'dataset': {'id': '1223cd0e-f340-46fa-befc-de0fcbf17e95'}, 'consumptionDetails': {'type': 'RunInput', 'inputName': 'training_data', 'mechanism': 'Direct'}}],\n",
       " 'outputDatasets': [],\n",
       " 'logFiles': {},\n",
       " 'submittedBy': 'ODL_User 140708'}"
      ]
     },
     "execution_count": 14,
     "metadata": {},
     "output_type": "execute_result"
    }
   ],
   "source": [
    "remote_run.wait_for_completion()"
   ]
  },
  {
   "cell_type": "markdown",
   "metadata": {},
   "source": [
    "## Best Model "
   ]
  },
  {
   "cell_type": "code",
   "execution_count": 15,
   "metadata": {
    "gather": {
     "logged": 1609057494229
    }
   },
   "outputs": [
    {
     "name": "stderr",
     "output_type": "stream",
     "text": [
      "WARNING:root:The version of the SDK does not match the version the model was trained on.\n",
      "WARNING:root:The consistency in the result may not be guaranteed.\n",
      "WARNING:root:Package:azureml-automl-core, training version:1.23.0, current version:1.22.0\n",
      "Package:azureml-automl-runtime, training version:1.23.0, current version:1.22.0\n",
      "Package:azureml-core, training version:1.23.0, current version:1.22.0\n",
      "Package:azureml-dataprep, training version:2.10.1, current version:2.9.1\n",
      "Package:azureml-dataprep-native, training version:30.0.0, current version:29.0.0\n",
      "Package:azureml-dataprep-rslex, training version:1.8.0, current version:1.7.0\n",
      "Package:azureml-dataset-runtime, training version:1.23.0, current version:1.22.0\n",
      "Package:azureml-defaults, training version:1.23.0, current version:1.22.0\n",
      "Package:azureml-interpret, training version:1.23.0, current version:1.22.0\n",
      "Package:azureml-mlflow, training version:1.23.0, current version:1.22.0\n",
      "Package:azureml-pipeline-core, training version:1.23.0, current version:1.22.0\n",
      "Package:azureml-telemetry, training version:1.23.0, current version:1.22.0\n",
      "Package:azureml-train-automl-client, training version:1.23.0, current version:1.22.0\n",
      "Package:azureml-train-automl-runtime, training version:1.23.0, current version:1.22.0\n",
      "WARNING:root:Please ensure the version of your local conda dependencies match the version on which your model was trained in order to properly retrieve your model.\n"
     ]
    }
   ],
   "source": [
    "best_run, fitted_model = remote_run.get_output()\n",
    "best_run_metrics = best_run.get_metrics()"
   ]
  },
  {
   "cell_type": "code",
   "execution_count": 16,
   "metadata": {
    "gather": {
     "logged": 1609057496313
    }
   },
   "outputs": [
    {
     "data": {
      "text/html": [
       "<table style=\"width:100%\"><tr><th>Experiment</th><th>Id</th><th>Type</th><th>Status</th><th>Details Page</th><th>Docs Page</th></tr><tr><td>automl-experiment</td><td>AutoML_b48ee273-85c3-4a8f-ada1-31a8ebc61c6c_41</td><td>azureml.scriptrun</td><td>Completed</td><td><a href=\"https://ml.azure.com/experiments/automl-experiment/runs/AutoML_b48ee273-85c3-4a8f-ada1-31a8ebc61c6c_41?wsid=/subscriptions/f9d5a085-54dc-4215-9ba6-dad5d86e60a0/resourcegroups/aml-quickstarts-140708/workspaces/quick-starts-ws-140708\" target=\"_blank\" rel=\"noopener\">Link to Azure Machine Learning studio</a></td><td><a href=\"https://docs.microsoft.com/en-us/python/api/azureml-core/azureml.core.run.Run?view=azure-ml-py\" target=\"_blank\" rel=\"noopener\">Link to Documentation</a></td></tr></table>"
      ],
      "text/plain": [
       "Run(Experiment: automl-experiment,\n",
       "Id: AutoML_b48ee273-85c3-4a8f-ada1-31a8ebc61c6c_41,\n",
       "Type: azureml.scriptrun,\n",
       "Status: Completed)"
      ]
     },
     "execution_count": 16,
     "metadata": {},
     "output_type": "execute_result"
    }
   ],
   "source": [
    "best_run"
   ]
  },
  {
   "cell_type": "code",
   "execution_count": 17,
   "metadata": {
    "gather": {
     "logged": 1609057496796
    }
   },
   "outputs": [
    {
     "data": {
      "text/plain": [
       "Pipeline(memory=None,\n",
       "         steps=[('datatransformer',\n",
       "                 DataTransformer(enable_dnn=None, enable_feature_sweeping=None,\n",
       "                                 feature_sweeping_config=None,\n",
       "                                 feature_sweeping_timeout=None,\n",
       "                                 featurization_config=None, force_text_dnn=None,\n",
       "                                 is_cross_validation=None,\n",
       "                                 is_onnx_compatible=None, logger=None,\n",
       "                                 observer=None, task=None, working_dir=None)),\n",
       "                ('prefittedsoftvotingclassifier',...\n",
       "                                                                                                    min_samples_leaf=0.035789473684210524,\n",
       "                                                                                                    min_samples_split=0.19736842105263158,\n",
       "                                                                                                    min_weight_fraction_leaf=0.0,\n",
       "                                                                                                    n_estimators=50,\n",
       "                                                                                                    n_jobs=1,\n",
       "                                                                                                    oob_score=True,\n",
       "                                                                                                    random_state=None,\n",
       "                                                                                                    verbose=0,\n",
       "                                                                                                    warm_start=False))],\n",
       "                                                                     verbose=False))],\n",
       "                                               flatten_transform=None,\n",
       "                                               weights=[0.16666666666666666,\n",
       "                                                        0.16666666666666666,\n",
       "                                                        0.16666666666666666,\n",
       "                                                        0.16666666666666666,\n",
       "                                                        0.16666666666666666,\n",
       "                                                        0.16666666666666666]))],\n",
       "         verbose=False)"
      ]
     },
     "execution_count": 17,
     "metadata": {},
     "output_type": "execute_result"
    }
   ],
   "source": [
    "fitted_model"
   ]
  },
  {
   "cell_type": "code",
   "execution_count": 18,
   "metadata": {
    "nteract": {
     "transient": {
      "deleting": false
     }
    }
   },
   "outputs": [
    {
     "name": "stdout",
     "output_type": "stream",
     "text": [
      "Best Run Id:  AutoML_b48ee273-85c3-4a8f-ada1-31a8ebc61c6c_41\n",
      "\n",
      " Accuracy: 0.8728860936408107\n",
      "PreFittedSoftVotingClassifier(classification_labels=None,\n",
      "                              estimators=[('38',\n",
      "                                           Pipeline(memory=None,\n",
      "                                                    steps=[('standardscalerwrapper',\n",
      "                                                            <azureml.automl.runtime.shared.model_wrappers.StandardScalerWrapper object at 0x7f5d5f8f2978>),\n",
      "                                                           ('randomforestclassifier',\n",
      "                                                            RandomForestClassifier(bootstrap=False,\n",
      "                                                                                   ccp_alpha=0.0,\n",
      "                                                                                   class_weight=None,\n",
      "                                                                                   criterion='entropy',\n",
      "                                                                                   max_depth=Non...\n",
      "                                                                                   min_samples_leaf=0.035789473684210524,\n",
      "                                                                                   min_samples_split=0.19736842105263158,\n",
      "                                                                                   min_weight_fraction_leaf=0.0,\n",
      "                                                                                   n_estimators=50,\n",
      "                                                                                   n_jobs=1,\n",
      "                                                                                   oob_score=True,\n",
      "                                                                                   random_state=None,\n",
      "                                                                                   verbose=0,\n",
      "                                                                                   warm_start=False))],\n",
      "                                                    verbose=False))],\n",
      "                              flatten_transform=None,\n",
      "                              weights=[0.16666666666666666, 0.16666666666666666,\n",
      "                                       0.16666666666666666, 0.16666666666666666,\n",
      "                                       0.16666666666666666,\n",
      "                                       0.16666666666666666])\n",
      "{'_aml_system_azureml.automlComponent': 'AutoML', '_aml_system_ComputeTargetStatus': '{\"AllocationState\":\"steady\",\"PreparingNodeCount\":0,\"RunningNodeCount\":4,\"CurrentNodeCount\":4}', 'mlflow.source.type': 'JOB', 'mlflow.source.name': 'automl_driver.py', 'ensembled_iterations': '[38, 24, 18, 21, 3, 27]', 'ensembled_algorithms': \"['RandomForest', 'RandomForest', 'ExtremeRandomTrees', 'RandomForest', 'RandomForest', 'RandomForest']\", 'ensemble_weights': '[0.16666666666666666, 0.16666666666666666, 0.16666666666666666, 0.16666666666666666, 0.16666666666666666, 0.16666666666666666]', 'best_individual_pipeline_score': '0.8578616352201257', 'best_individual_iteration': '38', '_aml_system_automl_is_child_run_end_telemetry_event_logged': 'True', 'model_explain_run_id': 'AutoML_b48ee273-85c3-4a8f-ada1-31a8ebc61c6c_ModelExplain', 'model_explanation': 'True'}\n"
     ]
    }
   ],
   "source": [
    "print('Best Run Id: ', best_run.id)\n",
    "print('\\n Accuracy:', best_run_metrics['accuracy'])\n",
    "print(fitted_model._final_estimator)\n",
    "print(best_run.get_tags())"
   ]
  },
  {
   "cell_type": "code",
   "execution_count": 19,
   "metadata": {
    "gather": {
     "logged": 1609058285285
    }
   },
   "outputs": [
    {
     "data": {
      "text/plain": [
       "'AutoMLb48ee273841'"
      ]
     },
     "execution_count": 19,
     "metadata": {},
     "output_type": "execute_result"
    }
   ],
   "source": [
    "os.makedirs('./outputs', exist_ok=True)\n",
    "\n",
    "joblib.dump(fitted_model, filename='outputs/automl.joblib')\n",
    "\n",
    "model_name = best_run.properties['model_name']\n",
    "model_name"
   ]
  },
  {
   "cell_type": "code",
   "execution_count": 20,
   "metadata": {
    "gather": {
     "logged": 1609061282639
    },
    "nteract": {
     "transient": {
      "deleting": false
     }
    }
   },
   "outputs": [],
   "source": [
    "env = best_run.get_environment()\n",
    "\n",
    "script_file = 'score.py'\n",
    "\n",
    "best_run.download_file('outputs/scoring_file_v_1_0_0.py', script_file)"
   ]
  },
  {
   "cell_type": "markdown",
   "metadata": {},
   "source": [
    "## Model Deployment"
   ]
  },
  {
   "cell_type": "code",
   "execution_count": 21,
   "metadata": {
    "gather": {
     "logged": 1609057825294
    }
   },
   "outputs": [],
   "source": [
    "#Register the fitted model\n",
    "model = remote_run.register_model(model_name = model_name,\n",
    "                                  description = 'AutoML model')"
   ]
  },
  {
   "cell_type": "code",
   "execution_count": 22,
   "metadata": {
    "gather": {
     "logged": 1609058832201
    }
   },
   "outputs": [
    {
     "name": "stdout",
     "output_type": "stream",
     "text": [
      "automl-heart-disease\n"
     ]
    }
   ],
   "source": [
    "inference_config = InferenceConfig(entry_script = script_file, environment = env)\n",
    "\n",
    "aci_config = AciWebservice.deploy_configuration(cpu_cores = 1, memory_gb = 1)\n",
    "\n",
    "aci_service_name = 'automl-heart-disease'\n",
    "print(aci_service_name)"
   ]
  },
  {
   "cell_type": "code",
   "execution_count": 23,
   "metadata": {
    "gather": {
     "logged": 1609059066228
    }
   },
   "outputs": [
    {
     "name": "stdout",
     "output_type": "stream",
     "text": [
      "Tips: You can try get_logs(): https://aka.ms/debugimage#dockerlog or local deployment: https://aka.ms/debugimage#debug-locally to debug if deployment takes longer than 10 minutes.\n",
      "Running.................................................\n",
      "Succeeded\n",
      "ACI service creation operation finished, operation \"Succeeded\"\n",
      "State: Healthy\n",
      "Scoring URI: http://8f709d24-ea2c-4701-93cb-bf7697570596.southcentralus.azurecontainer.io/score\n"
     ]
    }
   ],
   "source": [
    "service = Model.deploy(ws, aci_service_name, [model], inference_config, aci_config)\n",
    "service.wait_for_deployment(True)\n",
    "print(\"State: \" + service.state)\n",
    "print(\"Scoring URI: \" + service.scoring_uri)"
   ]
  },
  {
   "cell_type": "markdown",
   "metadata": {},
   "source": [
    "## Testing using 2 different methods"
   ]
  },
  {
   "cell_type": "code",
   "execution_count": 25,
   "metadata": {
    "nteract": {
     "transient": {
      "deleting": false
     }
    }
   },
   "outputs": [
    {
     "name": "stdout",
     "output_type": "stream",
     "text": [
      "{\"result\": [1, 1]}\n"
     ]
    }
   ],
   "source": [
    "%run endpoint.py"
   ]
  },
  {
   "cell_type": "code",
   "execution_count": 26,
   "metadata": {
    "gather": {
     "logged": 1609062759579
    },
    "nteract": {
     "transient": {
      "deleting": false
     }
    }
   },
   "outputs": [
    {
     "name": "stdout",
     "output_type": "stream",
     "text": [
      "{\"data\": [{\"age\": 52.0, \"anaemia\": 1, \"creatinine_phosphokinase\": 191, \"diabetes\": 1, \"ejection_fraction\": 30, \"high_blood_pressure\": 1, \"platelets\": 334000.0, \"serum_creatinine\": 1.0, \"serum_sodium\": 142, \"sex\": 1, \"smoking\": 1, \"time\": 216}, {\"age\": 70.0, \"anaemia\": 0, \"creatinine_phosphokinase\": 122, \"diabetes\": 1, \"ejection_fraction\": 45, \"high_blood_pressure\": 1, \"platelets\": 284000.0, \"serum_creatinine\": 1.3, \"serum_sodium\": 136, \"sex\": 1, \"smoking\": 1, \"time\": 26}, {\"age\": 75.0, \"anaemia\": 0, \"creatinine_phosphokinase\": 582, \"diabetes\": 0, \"ejection_fraction\": 45, \"high_blood_pressure\": 1, \"platelets\": 263358.03, \"serum_creatinine\": 1.18, \"serum_sodium\": 137, \"sex\": 1, \"smoking\": 0, \"time\": 87}]}\n"
     ]
    }
   ],
   "source": [
    "data_test = data_test.to_pandas_dataframe().dropna()\n",
    "data_sample = data_test.sample(3)\n",
    "y_true = data_sample.pop('DEATH_EVENT')\n",
    "sample_json = json.dumps({'data':data_sample.to_dict(orient='records')})\n",
    "print(sample_json)"
   ]
  },
  {
   "cell_type": "code",
   "execution_count": 27,
   "metadata": {
    "gather": {
     "logged": 1609062767514
    },
    "nteract": {
     "transient": {
      "deleting": false
     }
    }
   },
   "outputs": [
    {
     "name": "stdout",
     "output_type": "stream",
     "text": [
      "Prediction:  {\"result\": [0, 1, 0]}\n",
      "True Values:  [0 1 0]\n"
     ]
    }
   ],
   "source": [
    "output = service.run(sample_json)\n",
    "print('Prediction: ', output)\n",
    "print('True Values: ', y_true.values)"
   ]
  },
  {
   "cell_type": "code",
   "execution_count": 28,
   "metadata": {
    "gather": {
     "logged": 1609062829772
    }
   },
   "outputs": [
    {
     "data": {
      "text/plain": [
       "'2021-03-16T16:58:07,517663300+00:00 - rsyslog/run \\n2021-03-16T16:58:07,532821800+00:00 - iot-server/run \\n2021-03-16T16:58:07,543908800+00:00 - gunicorn/run \\nrsyslogd: /azureml-envs/azureml_661474bbe74e96b5d8added5888dfc85/lib/libuuid.so.1: no version information available (required by rsyslogd)\\n2021-03-16T16:58:07,591613600+00:00 - nginx/run \\n/usr/sbin/nginx: /azureml-envs/azureml_661474bbe74e96b5d8added5888dfc85/lib/libcrypto.so.1.0.0: no version information available (required by /usr/sbin/nginx)\\n/usr/sbin/nginx: /azureml-envs/azureml_661474bbe74e96b5d8added5888dfc85/lib/libcrypto.so.1.0.0: no version information available (required by /usr/sbin/nginx)\\n/usr/sbin/nginx: /azureml-envs/azureml_661474bbe74e96b5d8added5888dfc85/lib/libssl.so.1.0.0: no version information available (required by /usr/sbin/nginx)\\n/usr/sbin/nginx: /azureml-envs/azureml_661474bbe74e96b5d8added5888dfc85/lib/libssl.so.1.0.0: no version information available (required by /usr/sbin/nginx)\\n/usr/sbin/nginx: /azureml-envs/azureml_661474bbe74e96b5d8added5888dfc85/lib/libssl.so.1.0.0: no version information available (required by /usr/sbin/nginx)\\nEdgeHubConnectionString and IOTEDGE_IOTHUBHOSTNAME are not set. Exiting...\\n2021-03-16T16:58:08,752452900+00:00 - iot-server/finish 1 0\\n2021-03-16T16:58:08,757316800+00:00 - Exit code 1 is normal. Not restarting iot-server.\\nStarting gunicorn 19.9.0\\nListening at: http://127.0.0.1:31311 (66)\\nUsing worker: sync\\nworker timeout is set to 300\\nBooting worker with pid: 97\\nSPARK_HOME not set. Skipping PySpark Initialization.\\nGenerating new fontManager, this may take some time...\\nInitializing logger\\n2021-03-16 16:58:15,121 | root | INFO | Starting up app insights client\\n2021-03-16 16:58:15,123 | root | INFO | Starting up request id generator\\n2021-03-16 16:58:15,123 | root | INFO | Starting up app insight hooks\\n2021-03-16 16:58:15,123 | root | INFO | Invoking user\\'s init function\\n2021-03-16 16:58:26,159 | azureml.core | WARNING | Failure while loading azureml_run_type_providers. Failed to load entrypoint automl = azureml.train.automl.run:AutoMLRun._from_run_dto with exception (cryptography 3.2 (/azureml-envs/azureml_661474bbe74e96b5d8added5888dfc85/lib/python3.6/site-packages), Requirement.parse(\\'cryptography<4.0.0,>=3.3.1; extra == \"crypto\"\\'), {\\'PyJWT\\'}).\\nFailure while loading azureml_run_type_providers. Failed to load entrypoint automl = azureml.train.automl.run:AutoMLRun._from_run_dto with exception (cryptography 3.2 (/azureml-envs/azureml_661474bbe74e96b5d8added5888dfc85/lib/python3.6/site-packages), Requirement.parse(\\'cryptography<4.0.0,>=3.3.1; extra == \"crypto\"\\'), {\\'PyJWT\\'}).\\n2021-03-16 16:58:27,053 | root | INFO | Users\\'s init has completed successfully\\n2021-03-16 16:58:27,079 | root | INFO | Skipping middleware: dbg_model_info as it\\'s not enabled.\\n2021-03-16 16:58:27,079 | root | INFO | Skipping middleware: dbg_resource_usage as it\\'s not enabled.\\n2021-03-16 16:58:27,082 | root | INFO | Scoring timeout is found from os.environ: 60000 ms\\n2021-03-16 16:58:27,860 | root | INFO | 200\\n127.0.0.1 - - [16/Mar/2021:16:58:27 +0000] \"GET /swagger.json HTTP/1.0\" 200 2852 \"-\" \"Go-http-client/1.1\"\\n2021-03-16 16:58:34,491 | root | INFO | 200\\n127.0.0.1 - - [16/Mar/2021:16:58:34 +0000] \"GET /swagger.json HTTP/1.0\" 200 2852 \"-\" \"Go-http-client/1.1\"\\n2021-03-16 17:01:37,215 | root | INFO | Scoring Timer is set to 60.0 seconds\\n2021-03-16 17:01:37,220 | root | ERROR | Encountered Exception: Traceback (most recent call last):\\n  File \"/var/azureml-server/synchronous/routes.py\", line 64, in run_scoring\\n    response = invoke_user_with_timer(service_input, request_headers)\\n  File \"/var/azureml-server/synchronous/routes.py\", line 97, in invoke_user_with_timer\\n    result = user_main.run(**params)\\n  File \"/azureml-envs/azureml_661474bbe74e96b5d8added5888dfc85/lib/python3.6/site-packages/wrapt/wrappers.py\", line 564, in __call__\\n    args, kwargs)\\n  File \"/azureml-envs/azureml_661474bbe74e96b5d8added5888dfc85/lib/python3.6/site-packages/inference_schema/schema_decorators.py\", line 55, in decorator_input\\n    args[param_position] = _deserialize_input_argument(args[param_position], param_type, param_name)\\nIndexError: list index out of range\\n\\nDuring handling of the above exception, another exception occurred:\\n\\nTraceback (most recent call last):\\n  File \"/azureml-envs/azureml_661474bbe74e96b5d8added5888dfc85/lib/python3.6/site-packages/flask/app.py\", line 1832, in full_dispatch_request\\n    rv = self.dispatch_request()\\n  File \"/azureml-envs/azureml_661474bbe74e96b5d8added5888dfc85/lib/python3.6/site-packages/flask/app.py\", line 1818, in dispatch_request\\n    return self.view_functions[rule.endpoint](**req.view_args)\\n  File \"/var/azureml-server/synchronous/routes.py\", line 20, in get_prediction_realtime\\n    return run_scoring(service_input, request.headers, request.environ.get(\\'REQUEST_ID\\', \\'00000000-0000-0000-0000-000000000000\\'))\\n  File \"/var/azureml-server/synchronous/routes.py\", line 77, in run_scoring\\n    raise RunFunctionException(str(exc))\\nrun_function_exception.RunFunctionException\\n\\n2021-03-16 17:01:37,220 | root | INFO | 500\\n127.0.0.1 - - [16/Mar/2021:17:01:37 +0000] \"GET /score HTTP/1.0\" 500 23 \"-\" \"Mozilla/5.0 (Windows NT 10.0; Win64; x64) AppleWebKit/537.36 (KHTML, like Gecko) Chrome/86.0.4240.75 Safari/537.36\"\\n127.0.0.1 - - [16/Mar/2021:17:01:37 +0000] \"GET /favicon.ico HTTP/1.0\" 404 232 \"http://8f709d24-ea2c-4701-93cb-bf7697570596.southcentralus.azurecontainer.io/score\" \"Mozilla/5.0 (Windows NT 10.0; Win64; x64) AppleWebKit/537.36 (KHTML, like Gecko) Chrome/86.0.4240.75 Safari/537.36\"\\nException in worker process\\nTraceback (most recent call last):\\n  File \"/azureml-envs/azureml_661474bbe74e96b5d8added5888dfc85/lib/python3.6/site-packages/gunicorn/arbiter.py\", line 583, in spawn_worker\\n    worker.init_process()\\n  File \"/azureml-envs/azureml_661474bbe74e96b5d8added5888dfc85/lib/python3.6/site-packages/gunicorn/workers/base.py\", line 134, in init_process\\n    self.run()\\n  File \"/azureml-envs/azureml_661474bbe74e96b5d8added5888dfc85/lib/python3.6/site-packages/gunicorn/workers/sync.py\", line 124, in run\\n    self.run_for_one(timeout)\\n  File \"/azureml-envs/azureml_661474bbe74e96b5d8added5888dfc85/lib/python3.6/site-packages/gunicorn/workers/sync.py\", line 83, in run_for_one\\n    self.wait(timeout)\\n  File \"/azureml-envs/azureml_661474bbe74e96b5d8added5888dfc85/lib/python3.6/site-packages/gunicorn/workers/sync.py\", line 35, in wait\\n    ret = select.select(self.wait_fds, [], [], timeout)\\n  File \"/var/azureml-server/routes_common.py\", line 162, in alarm_handler\\n    raise TimeoutException(error_message)\\ntimeout_exception.TimeoutException\\nWorker exiting (pid: 97)\\nworker timeout is set to 300\\nBooting worker with pid: 178\\nSPARK_HOME not set. Skipping PySpark Initialization.\\nInitializing logger\\n2021-03-16 17:02:39,235 | root | INFO | Starting up app insights client\\n2021-03-16 17:02:39,235 | root | INFO | Starting up request id generator\\n2021-03-16 17:02:39,235 | root | INFO | Starting up app insight hooks\\n2021-03-16 17:02:39,236 | root | INFO | Invoking user\\'s init function\\n2021-03-16 17:02:43,024 | azureml.core | WARNING | Failure while loading azureml_run_type_providers. Failed to load entrypoint automl = azureml.train.automl.run:AutoMLRun._from_run_dto with exception (cryptography 3.2 (/azureml-envs/azureml_661474bbe74e96b5d8added5888dfc85/lib/python3.6/site-packages), Requirement.parse(\\'cryptography<4.0.0,>=3.3.1; extra == \"crypto\"\\'), {\\'PyJWT\\'}).\\nFailure while loading azureml_run_type_providers. Failed to load entrypoint automl = azureml.train.automl.run:AutoMLRun._from_run_dto with exception (cryptography 3.2 (/azureml-envs/azureml_661474bbe74e96b5d8added5888dfc85/lib/python3.6/site-packages), Requirement.parse(\\'cryptography<4.0.0,>=3.3.1; extra == \"crypto\"\\'), {\\'PyJWT\\'}).\\n2021-03-16 17:02:43,557 | root | INFO | Users\\'s init has completed successfully\\n2021-03-16 17:02:43,565 | root | INFO | Skipping middleware: dbg_model_info as it\\'s not enabled.\\n2021-03-16 17:02:43,565 | root | INFO | Skipping middleware: dbg_resource_usage as it\\'s not enabled.\\n2021-03-16 17:02:43,567 | root | INFO | Scoring timeout is found from os.environ: 60000 ms\\n2021-03-16 17:12:21,538 | root | INFO | Validation Request Content-Type\\n2021-03-16 17:12:21,539 | root | INFO | Scoring Timer is set to 60.0 seconds\\n2021-03-16 17:12:21,837 | root | INFO | 200\\n127.0.0.1 - - [16/Mar/2021:17:12:21 +0000] \"POST /score HTTP/1.0\" 200 22 \"-\" \"python-requests/2.25.1\"\\n2021-03-16 17:12:38,452 | root | INFO | Validation Request Content-Type\\n2021-03-16 17:12:38,453 | root | INFO | Scoring Timer is set to 60.0 seconds\\n2021-03-16 17:12:38,706 | root | INFO | 200\\n127.0.0.1 - - [16/Mar/2021:17:12:38 +0000] \"POST /score HTTP/1.0\" 200 25 \"-\" \"python-requests/2.25.1\"\\n'"
      ]
     },
     "execution_count": 28,
     "metadata": {},
     "output_type": "execute_result"
    }
   ],
   "source": [
    "service.get_logs()"
   ]
  },
  {
   "cell_type": "code",
   "execution_count": 29,
   "metadata": {},
   "outputs": [],
   "source": [
    "service.delete()"
   ]
  },
  {
   "cell_type": "code",
   "execution_count": null,
   "metadata": {},
   "outputs": [],
   "source": []
  },
  {
   "cell_type": "code",
   "execution_count": null,
   "metadata": {},
   "outputs": [],
   "source": []
  },
  {
   "cell_type": "code",
   "execution_count": null,
   "metadata": {},
   "outputs": [],
   "source": []
  }
 ],
 "metadata": {
  "kernel_info": {
   "name": "python3"
  },
  "kernelspec": {
   "display_name": "Python 3",
   "language": "python",
   "name": "python3"
  },
  "language_info": {
   "codemirror_mode": {
    "name": "ipython",
    "version": 3
   },
   "file_extension": ".py",
   "mimetype": "text/x-python",
   "name": "python",
   "nbconvert_exporter": "python",
   "pygments_lexer": "ipython3",
   "version": "3.6.9"
  },
  "microsoft": {
   "host": {
    "AzureML": {
     "notebookHasBeenCompleted": true
    }
   }
  },
  "nteract": {
   "version": "nteract-front-end@1.0.0"
  }
 },
 "nbformat": 4,
 "nbformat_minor": 4
}
