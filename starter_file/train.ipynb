{
 "cells": [
  {
   "cell_type": "code",
   "execution_count": null,
   "id": "smoking-chambers",
   "metadata": {},
   "outputs": [],
   "source": [
    "from sklearn.linear_model import LogisticRegression\n",
    "import argparse\n",
    "import os\n",
    "import numpy as np\n",
    "from sklearn.metrics import mean_squared_error\n",
    "import joblib\n",
    "from sklearn.model_selection import train_test_split\n",
    "import pandas as pd\n",
    "from azureml.core.run import Run\n",
    "from azureml.data.dataset_factory import TabularDatasetFactory"
   ]
  },
  {
   "cell_type": "markdown",
   "id": "infectious-insurance",
   "metadata": {},
   "source": [
    "Retrive current run's information"
   ]
  },
  {
   "cell_type": "code",
   "execution_count": null,
   "id": "worldwide-lemon",
   "metadata": {},
   "outputs": [],
   "source": [
    "run = Run.get_context()\n",
    "ws = run.experiment.workspace\n",
    "found = False\n",
    "key = \"heart-disease-kaggle.csv\"\n",
    "description_text = \"Heart failure dataset ::: to predict Death event\""
   ]
  },
  {
   "cell_type": "code",
   "execution_count": null,
   "id": "mexican-length",
   "metadata": {
    "lines_to_next_cell": 1
   },
   "outputs": [],
   "source": [
    "if key in ws.datasets.keys(): \n",
    "        found = True\n",
    "        dataset = ws.datasets[key] "
   ]
  },
  {
   "cell_type": "markdown",
   "id": "balanced-priest",
   "metadata": {},
   "source": [
    "Split data into train and test set"
   ]
  },
  {
   "cell_type": "code",
   "execution_count": null,
   "id": "simplified-smile",
   "metadata": {
    "lines_to_next_cell": 1
   },
   "outputs": [],
   "source": [
    "def clean_data(data):\n",
    "\n",
    "    x_df = data.to_pandas_dataframe().dropna()\n",
    "    y_df = x_df.pop(\"DEATH_EVENT\")\n",
    "    return x_df, y_df"
   ]
  },
  {
   "cell_type": "code",
   "execution_count": null,
   "id": "acute-phrase",
   "metadata": {},
   "outputs": [],
   "source": [
    "X, y = clean_data(dataset)"
   ]
  },
  {
   "cell_type": "code",
   "execution_count": null,
   "id": "balanced-alliance",
   "metadata": {},
   "outputs": [],
   "source": [
    "x_train, x_test, y_train, y_test = train_test_split(X, y, test_size = 0.2, random_state = 42)"
   ]
  },
  {
   "cell_type": "code",
   "execution_count": null,
   "id": "thrown-aquatic",
   "metadata": {},
   "outputs": [],
   "source": [
    "def main():\n",
    "    # Add arguments to script\n",
    "    parser = argparse.ArgumentParser()\n",
    "\n",
    "    parser.add_argument('--C', type=float, default=1.0, help=\"Inverse of regularization strength. Smaller values cause stronger regularization\")\n",
    "    parser.add_argument('--max_iter', type=int, default=100, help=\"Maximum number of iterations to converge\")\n",
    "\n",
    "    args = parser.parse_args()\n",
    "\n",
    "    run.log(\"Regularization Strength: \", np.float(args.C))\n",
    "    run.log(\"Max iterations: \", np.int(args.max_iter))\n",
    "\n",
    "    model = LogisticRegression(C=args.C, max_iter=args.max_iter).fit(x_train, y_train)\n",
    "\n",
    "    accuracy = model.score(x_test, y_test)\n",
    "    run.log(\"Accuracy\", np.float(accuracy))\n",
    "    \n",
    "    os.makedirs('outputs', exist_ok=True)\n",
    "    joblib.dump(model, 'outputs/model.joblib')"
   ]
  },
  {
   "cell_type": "code",
   "execution_count": null,
   "id": "curious-protein",
   "metadata": {},
   "outputs": [],
   "source": [
    "if __name__ == '__main__':\n",
    "    main()"
   ]
  }
 ],
 "metadata": {
  "jupytext": {
   "cell_metadata_filter": "-all",
   "notebook_metadata_filter": "-all",
   "text_representation": {
    "extension": ".py",
    "format_name": "light"
   }
  },
  "kernelspec": {
   "display_name": "Python 3.6 - AzureML",
   "language": "python",
   "name": "python3-azureml"
  }
 },
 "nbformat": 4,
 "nbformat_minor": 5
}
